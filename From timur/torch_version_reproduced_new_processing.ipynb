{
 "cells": [
  {
   "cell_type": "code",
   "execution_count": 1,
   "id": "4e99fbf5-62eb-49b8-a9a4-5a7426db85ed",
   "metadata": {},
   "outputs": [],
   "source": [
    "import os\n",
    "os.environ[\"CUDA_VISIBLE_DEVICES\"] = \"1\"\n",
    "# os.environ['http_proxy'] = \"http://127.0.0.1:3128\"\n",
    "# os.environ['https_proxy'] = \"http://127.0.0.1:3128\""
   ]
  },
  {
   "cell_type": "code",
   "execution_count": 2,
   "id": "291f3e76-0ab5-4463-b9b3-7519125f86fe",
   "metadata": {},
   "outputs": [],
   "source": [
    "import matplotlib.pyplot as plt\n",
    "from torch.utils.data import Dataset\n",
    "\n",
    "import numpy as np\n",
    "import pandas as pd\n",
    "import os\n",
    "from sklearn.metrics import  precision_recall_fscore_support, accuracy_score\n",
    "from sklearn import preprocessing"
   ]
  },
  {
   "cell_type": "code",
   "execution_count": 3,
   "id": "f0330a3c-5cab-4743-9a9b-9b043b2066aa",
   "metadata": {},
   "outputs": [],
   "source": [
    "from torch.utils.tensorboard import SummaryWriter"
   ]
  },
  {
   "cell_type": "code",
   "execution_count": 4,
   "id": "218e9313-7cdf-452a-9a85-ec820778fb2d",
   "metadata": {},
   "outputs": [],
   "source": [
    "import torch"
   ]
  },
  {
   "cell_type": "code",
   "execution_count": 5,
   "id": "6051b089-9d90-4620-8bb5-86007cbe1327",
   "metadata": {},
   "outputs": [],
   "source": [
    "import transformers"
   ]
  },
  {
   "cell_type": "code",
   "execution_count": 6,
   "id": "4e3c200d-8d31-4403-be77-aaec252c5197",
   "metadata": {},
   "outputs": [],
   "source": [
    "exclude_user = [10]\n",
    "exclude_demo_user = [310]"
   ]
  },
  {
   "cell_type": "code",
   "execution_count": null,
   "id": "9469ffce-d0c6-4fb6-8ca0-255381797bdd",
   "metadata": {},
   "outputs": [],
   "source": []
  },
  {
   "cell_type": "code",
   "execution_count": 7,
   "id": "ff4fc5ac-3195-4186-9b33-abea9a24c7b1",
   "metadata": {},
   "outputs": [],
   "source": [
    "train_paths_X = []\n",
    "train_excl_paths_X = []\n",
    "test_paths_X = []\n",
    "test_excl_paths_X = []\n",
    "test_excl_demo_paths_X = []\n",
    "\n",
    "train_paths_Y = []\n",
    "train_excl_paths_Y = []\n",
    "test_paths_Y = []\n",
    "test_excl_paths_Y = []\n",
    "test_excl_demo_paths_Y = []"
   ]
  },
  {
   "cell_type": "code",
   "execution_count": 8,
   "id": "5cdcd18f-d648-47eb-9b68-c36c31e7bce3",
   "metadata": {},
   "outputs": [],
   "source": [
    "all_paths = ['/home/data/HSE_math_exp_2/processing_internal.v2/sliced.limited_ch/' + j for j in os.listdir('/home/data/HSE_math_exp_2/processing_internal.v2/sliced.limited_ch') if '.npy' in j and 'y.npy' not in j]"
   ]
  },
  {
   "cell_type": "code",
   "execution_count": 9,
   "id": "0eb8d224-4767-4021-a06a-0dcb580ffe67",
   "metadata": {
    "scrolled": true,
    "tags": []
   },
   "outputs": [
    {
     "data": {
      "text/plain": [
       "['/home/data/HSE_math_exp_2/processing_internal.v2/sliced.limited_ch/x_74_4.npy',\n",
       " '/home/data/HSE_math_exp_2/processing_internal.v2/sliced.limited_ch/x_74_61.npy',\n",
       " '/home/data/HSE_math_exp_2/processing_internal.v2/sliced.limited_ch/x_74_18.npy',\n",
       " '/home/data/HSE_math_exp_2/processing_internal.v2/sliced.limited_ch/x_74_46.npy',\n",
       " '/home/data/HSE_math_exp_2/processing_internal.v2/sliced.limited_ch/x_74_5.npy',\n",
       " '/home/data/HSE_math_exp_2/processing_internal.v2/sliced.limited_ch/x_74_9.npy',\n",
       " '/home/data/HSE_math_exp_2/processing_internal.v2/sliced.limited_ch/x_74_39.npy',\n",
       " '/home/data/HSE_math_exp_2/processing_internal.v2/sliced.limited_ch/x_74_10.npy',\n",
       " '/home/data/HSE_math_exp_2/processing_internal.v2/sliced.limited_ch/x_74_28.npy',\n",
       " '/home/data/HSE_math_exp_2/processing_internal.v2/sliced.limited_ch/x_74_59.npy',\n",
       " '/home/data/HSE_math_exp_2/processing_internal.v2/sliced.limited_ch/x_74_1.npy',\n",
       " '/home/data/HSE_math_exp_2/processing_internal.v2/sliced.limited_ch/x_74_54.npy',\n",
       " '/home/data/HSE_math_exp_2/processing_internal.v2/sliced.limited_ch/x_74_53.npy',\n",
       " '/home/data/HSE_math_exp_2/processing_internal.v2/sliced.limited_ch/x_74_23.npy',\n",
       " '/home/data/HSE_math_exp_2/processing_internal.v2/sliced.limited_ch/x_74_36.npy',\n",
       " '/home/data/HSE_math_exp_2/processing_internal.v2/sliced.limited_ch/x_74_30.npy',\n",
       " '/home/data/HSE_math_exp_2/processing_internal.v2/sliced.limited_ch/x_74_0.npy',\n",
       " '/home/data/HSE_math_exp_2/processing_internal.v2/sliced.limited_ch/x_74_2.npy',\n",
       " '/home/data/HSE_math_exp_2/processing_internal.v2/sliced.limited_ch/x_74_51.npy',\n",
       " '/home/data/HSE_math_exp_2/processing_internal.v2/sliced.limited_ch/x_74_50.npy',\n",
       " '/home/data/HSE_math_exp_2/processing_internal.v2/sliced.limited_ch/x_74_35.npy',\n",
       " '/home/data/HSE_math_exp_2/processing_internal.v2/sliced.limited_ch/x_74_43.npy',\n",
       " '/home/data/HSE_math_exp_2/processing_internal.v2/sliced.limited_ch/x_74_26.npy',\n",
       " '/home/data/HSE_math_exp_2/processing_internal.v2/sliced.limited_ch/x_74_45.npy',\n",
       " '/home/data/HSE_math_exp_2/processing_internal.v2/sliced.limited_ch/x_74_8.npy',\n",
       " '/home/data/HSE_math_exp_2/processing_internal.v2/sliced.limited_ch/x_74_38.npy',\n",
       " '/home/data/HSE_math_exp_2/processing_internal.v2/sliced.limited_ch/x_74_56.npy',\n",
       " '/home/data/HSE_math_exp_2/processing_internal.v2/sliced.limited_ch/x_74_42.npy',\n",
       " '/home/data/HSE_math_exp_2/processing_internal.v2/sliced.limited_ch/x_74_21.npy',\n",
       " '/home/data/HSE_math_exp_2/processing_internal.v2/sliced.limited_ch/x_74_22.npy',\n",
       " '/home/data/HSE_math_exp_2/processing_internal.v2/sliced.limited_ch/x_74_49.npy',\n",
       " '/home/data/HSE_math_exp_2/processing_internal.v2/sliced.limited_ch/x_74_20.npy',\n",
       " '/home/data/HSE_math_exp_2/processing_internal.v2/sliced.limited_ch/x_74_31.npy',\n",
       " '/home/data/HSE_math_exp_2/processing_internal.v2/sliced.limited_ch/x_74_33.npy',\n",
       " '/home/data/HSE_math_exp_2/processing_internal.v2/sliced.limited_ch/x_74_55.npy',\n",
       " '/home/data/HSE_math_exp_2/processing_internal.v2/sliced.limited_ch/x_74_29.npy',\n",
       " '/home/data/HSE_math_exp_2/processing_internal.v2/sliced.limited_ch/x_74_17.npy',\n",
       " '/home/data/HSE_math_exp_2/processing_internal.v2/sliced.limited_ch/x_74_37.npy',\n",
       " '/home/data/HSE_math_exp_2/processing_internal.v2/sliced.limited_ch/x_74_7.npy',\n",
       " '/home/data/HSE_math_exp_2/processing_internal.v2/sliced.limited_ch/x_74_3.npy',\n",
       " '/home/data/HSE_math_exp_2/processing_internal.v2/sliced.limited_ch/x_74_58.npy',\n",
       " '/home/data/HSE_math_exp_2/processing_internal.v2/sliced.limited_ch/x_74_40.npy',\n",
       " '/home/data/HSE_math_exp_2/processing_internal.v2/sliced.limited_ch/x_74_57.npy',\n",
       " '/home/data/HSE_math_exp_2/processing_internal.v2/sliced.limited_ch/x_74_47.npy',\n",
       " '/home/data/HSE_math_exp_2/processing_internal.v2/sliced.limited_ch/x_74_15.npy',\n",
       " '/home/data/HSE_math_exp_2/processing_internal.v2/sliced.limited_ch/x_74_25.npy',\n",
       " '/home/data/HSE_math_exp_2/processing_internal.v2/sliced.limited_ch/x_74_52.npy',\n",
       " '/home/data/HSE_math_exp_2/processing_internal.v2/sliced.limited_ch/x_74_6.npy',\n",
       " '/home/data/HSE_math_exp_2/processing_internal.v2/sliced.limited_ch/x_74_24.npy',\n",
       " '/home/data/HSE_math_exp_2/processing_internal.v2/sliced.limited_ch/x_74_44.npy',\n",
       " '/home/data/HSE_math_exp_2/processing_internal.v2/sliced.limited_ch/x_74_19.npy',\n",
       " '/home/data/HSE_math_exp_2/processing_internal.v2/sliced.limited_ch/x_74_14.npy',\n",
       " '/home/data/HSE_math_exp_2/processing_internal.v2/sliced.limited_ch/x_74_32.npy',\n",
       " '/home/data/HSE_math_exp_2/processing_internal.v2/sliced.limited_ch/x_74_48.npy',\n",
       " '/home/data/HSE_math_exp_2/processing_internal.v2/sliced.limited_ch/x_74_13.npy',\n",
       " '/home/data/HSE_math_exp_2/processing_internal.v2/sliced.limited_ch/x_74_12.npy',\n",
       " '/home/data/HSE_math_exp_2/processing_internal.v2/sliced.limited_ch/x_74_11.npy',\n",
       " '/home/data/HSE_math_exp_2/processing_internal.v2/sliced.limited_ch/x_74_16.npy',\n",
       " '/home/data/HSE_math_exp_2/processing_internal.v2/sliced.limited_ch/x_74_60.npy',\n",
       " '/home/data/HSE_math_exp_2/processing_internal.v2/sliced.limited_ch/x_74_34.npy',\n",
       " '/home/data/HSE_math_exp_2/processing_internal.v2/sliced.limited_ch/x_74_27.npy',\n",
       " '/home/data/HSE_math_exp_2/processing_internal.v2/sliced.limited_ch/x_74_41.npy']"
      ]
     },
     "execution_count": 9,
     "metadata": {},
     "output_type": "execute_result"
    }
   ],
   "source": [
    "[i for i in all_paths if 'x_74_' in i]"
   ]
  },
  {
   "cell_type": "code",
   "execution_count": null,
   "id": "6fcc312d-c0b1-4d8c-ab4f-554b25b81890",
   "metadata": {},
   "outputs": [],
   "source": []
  },
  {
   "cell_type": "code",
   "execution_count": null,
   "id": "7e120824-1fd8-4cf9-95fb-2b43a89e9075",
   "metadata": {},
   "outputs": [],
   "source": []
  },
  {
   "cell_type": "code",
   "execution_count": 10,
   "id": "0e2ab34f-01ca-49ab-a481-cf8de9f315a0",
   "metadata": {},
   "outputs": [],
   "source": [
    "for user in range(23, 104):\n",
    "    user_paths_x = [i for i in all_paths if int(i.split('/')[-1].split('_')[1]) == user]\n",
    "    user_paths_x = sorted(user_paths_x, key=lambda x: int(x.split('/')[-1].split('_')[2].split('.')[0]))\n",
    "    user_paths_y = ['/home/data/HSE_math_exp_2/processing_internal.v2/sliced.limited_ch/{}_y.npy'.format(user)] * len(user_paths_x)\n",
    "\n",
    "    user_paths = list(zip(user_paths_x, user_paths_y))\n",
    "\n",
    "    length = len(user_paths)\n",
    "    if user in exclude_user:\n",
    "        continue\n",
    "    #     train_excl_paths_X.extend(user_paths[:int(length * 0.66)])\n",
    "    #     test_excl_paths_X.extend(user_paths[int(length * 0.66):])\n",
    "    # else:\n",
    "    else:\n",
    "        t1 = user_paths[:int(length * 0.66)][::3]\n",
    "        train_paths_X.extend(t1)\n",
    "        test_paths_X.extend(user_paths[int(length * 0.66):])\n",
    "        \n",
    "for user in exclude_user:\n",
    "    user_paths_x = [i for i in all_paths if int(i.split('/')[-1].split('_')[1]) == user]\n",
    "    user_paths_x = sorted(user_paths_x, key=lambda x: int(x.split('/')[-1].split('_')[2].split('.')[0]))\n",
    "    user_paths_y = ['/home/data/HSE_math_exp_2/processing_internal.v2/sliced.limited_ch/{}_y.npy'.format(user)] * len(user_paths_x)\n",
    "\n",
    "    user_paths = list(zip(user_paths_x, user_paths_y))\n",
    "\n",
    "    length = len(user_paths)\n",
    "    train_excl_paths_X.extend(user_paths[:int(length * 0.5)])\n",
    "    test_excl_paths_X.extend(user_paths[int(length * 0.5):])\n",
    "    \n",
    "for user in exclude_demo_user:\n",
    "    user_paths_x = [i for i in all_paths if int(i.split('/')[-1].split('_')[1]) == user]\n",
    "    user_paths_x = sorted(user_paths_x, key=lambda x: int(x.split('/')[-1].split('_')[2].split('.')[0]))\n",
    "    user_paths_y = ['/home/data/HSE_math_exp_2/processing_internal.v2/sliced.limited_ch/{}_y.npy'.format(user)] * len(user_paths_x)\n",
    "\n",
    "    user_paths = list(zip(user_paths_x, user_paths_y))\n",
    "\n",
    "    length = len(user_paths)\n",
    "    test_excl_demo_paths_X.extend(user_paths)"
   ]
  },
  {
   "cell_type": "code",
   "execution_count": null,
   "id": "6f721610-d664-43cf-a1ad-39bc57fa5a7d",
   "metadata": {},
   "outputs": [],
   "source": []
  },
  {
   "cell_type": "code",
   "execution_count": null,
   "id": "c5c6cd41-6d03-4491-8ab0-624918c9e5cc",
   "metadata": {},
   "outputs": [],
   "source": []
  },
  {
   "cell_type": "code",
   "execution_count": 11,
   "id": "dc3390ef-91bd-4676-ad18-b978a18e1c9c",
   "metadata": {
    "scrolled": true,
    "tags": []
   },
   "outputs": [
    {
     "data": {
      "text/plain": [
       "(122, 122)"
      ]
     },
     "execution_count": 11,
     "metadata": {},
     "output_type": "execute_result"
    }
   ],
   "source": [
    "len(train_excl_paths_X), len(test_excl_paths_X)"
   ]
  },
  {
   "cell_type": "code",
   "execution_count": 12,
   "id": "229477a4-7d0d-4bac-a52d-2cdcb878bfda",
   "metadata": {},
   "outputs": [
    {
     "data": {
      "text/plain": [
       "(19469, 30115)"
      ]
     },
     "execution_count": 12,
     "metadata": {},
     "output_type": "execute_result"
    }
   ],
   "source": [
    "len(train_paths_X), len(test_paths_X)"
   ]
  },
  {
   "cell_type": "code",
   "execution_count": 13,
   "id": "3b9cc5e4-3c0c-4013-ab7c-115e767b3025",
   "metadata": {},
   "outputs": [
    {
     "data": {
      "text/plain": [
       "(1500, 15)"
      ]
     },
     "execution_count": 13,
     "metadata": {},
     "output_type": "execute_result"
    }
   ],
   "source": [
    "np.load(train_excl_paths_X[0][0]).shape"
   ]
  },
  {
   "cell_type": "code",
   "execution_count": 14,
   "id": "88504d50-e605-4ad1-80d7-d82669c081bc",
   "metadata": {},
   "outputs": [],
   "source": [
    "channels = ['time', 'Fp1', 'Fz', 'F3', 'F7', 'HEOG', 'FC5', 'FC1', 'C3', 'T7',\n",
    "        'CP5', 'CP1', 'Pz', 'P3', 'P7', 'O1', 'Oz', 'O2', 'P4', 'P8', 'CP6',\n",
    "        'CP2', 'Cz', 'C4', 'T8', 'VEOG', 'FC6', 'FC2', 'F4', 'F8', 'Fp2',\n",
    "        'Photosensor', 'skinconductance', 'heartrate', 'respiratory', 'Sync',\n",
    "        'zygomaticus', 'corrugator']"
   ]
  },
  {
   "cell_type": "code",
   "execution_count": 15,
   "id": "0665aa27-1eff-4cec-965e-4e6e1a5b9eff",
   "metadata": {},
   "outputs": [
    {
     "data": {
      "text/plain": [
       "38"
      ]
     },
     "execution_count": 15,
     "metadata": {},
     "output_type": "execute_result"
    }
   ],
   "source": [
    "len(channels)"
   ]
  },
  {
   "cell_type": "code",
   "execution_count": 16,
   "id": "fcb48550-3a99-4f11-99cd-2ce20ebbd970",
   "metadata": {},
   "outputs": [],
   "source": [
    "channels = ['Fp1', 'FP2', 'F7', 'F3', 'Fz', 'F4', 'F8', 'C3', 'Cz', 'C4', \\\n",
    "            'P3', 'Pz', 'P4', 'O1', 'O2']"
   ]
  },
  {
   "cell_type": "code",
   "execution_count": 17,
   "id": "f7b8ed58-a36b-48a7-b096-ddddab055edb",
   "metadata": {},
   "outputs": [],
   "source": [
    "channels_selected_indexes = [channels.index(i) for i in channels]"
   ]
  },
  {
   "cell_type": "code",
   "execution_count": 18,
   "id": "441122ad-8506-4abb-8805-6526196c980d",
   "metadata": {},
   "outputs": [],
   "source": [
    "class TEST(torch.utils.data.Dataset):\n",
    "    def __init__(self, paths):\n",
    "        super(TEST, self).__init__()\n",
    "        self.paths = paths\n",
    "#         for p in self.paths[:5]:\n",
    "#             data = np.load(p[0])\n",
    "#             self.data.extend(data)\n",
    "#             slice_num = int(p[0].split('/')[-1].split('_')[2].split('.')[0])\n",
    "            \n",
    "#             label = np.load(p[1])\n",
    "        \n",
    "#             self.labels.append(label[slice_num])\n",
    "        \n",
    "            # s['data'] = np.clip(preprocessing.scale(s['data'][:, channels_selected_indexes]), -3, 3)\n",
    "        # self.paths = ['{}/{}'.format(self.main_path, i) for i in os.listdir(self.main_path)]\n",
    "\n",
    "    def __len__(self):\n",
    "        return len(self.paths)\n",
    "    \n",
    "    def __getitem__(self, idx):\n",
    "        path = self.paths[idx]\n",
    "        data = np.load(path[0])\n",
    "        data = np.clip(preprocessing.scale(data[:, channels_selected_indexes]), -3, 3)\n",
    "        slice_num = int(path[0].split('/')[-1].split('_')[2].split('.')[0])\n",
    "\n",
    "        label = np.load(path[1])[slice_num]\n",
    "        \n",
    "        return {\n",
    "            'eeg': torch.from_numpy(data).float().T,\n",
    "            'label': torch.tensor(label).long()\n",
    "        }"
   ]
  },
  {
   "cell_type": "code",
   "execution_count": 19,
   "id": "61ee27d7-1c18-4eef-b8d0-4821f9b97b06",
   "metadata": {
    "scrolled": true,
    "tags": []
   },
   "outputs": [],
   "source": [
    "train_dataset = TEST(train_paths_X)\n",
    "test_dataset = TEST(test_paths_X)\n",
    "\n",
    "train_excl_dataset = TEST(train_excl_paths_X)\n",
    "test_excl_dataset = TEST(test_excl_paths_X)"
   ]
  },
  {
   "cell_type": "code",
   "execution_count": null,
   "id": "e0b61678-6c4e-41d6-8dea-8dd10782e473",
   "metadata": {},
   "outputs": [],
   "source": []
  },
  {
   "cell_type": "code",
   "execution_count": 20,
   "id": "89c1c435-922a-4f85-ba9e-e8e999bb9fc6",
   "metadata": {},
   "outputs": [],
   "source": [
    "class ResBlock(torch.nn.Module):\n",
    "    def __init__(self, input_filters, n_filters):\n",
    "        super().__init__()\n",
    "        self.model1 = torch.nn.Sequential(\n",
    "            torch.nn.Conv1d(input_filters, n_filters, 3, 1, padding='same'),\n",
    "            torch.nn.BatchNorm1d(n_filters),\n",
    "            torch.nn.ReLU(),\n",
    "            \n",
    "            torch.nn.Conv1d(n_filters, n_filters, 3, padding='same'),\n",
    "            torch.nn.BatchNorm1d(n_filters),\n",
    "            torch.nn.ReLU()\n",
    "        )\n",
    "        \n",
    "        self.model2 = torch.nn.Sequential(\n",
    "            torch.nn.Conv1d(input_filters, n_filters, 3, 1, padding='same'),\n",
    "            torch.nn.BatchNorm1d(n_filters),\n",
    "            torch.nn.ReLU(),\n",
    "        )\n",
    "        \n",
    "    def forward(self, x):\n",
    "        p = self.model1(x)\n",
    "        o = self.model2(x)\n",
    "        \n",
    "        o = p + o\n",
    "        o = torch.nn.functional.relu(o)\n",
    "        \n",
    "        return o"
   ]
  },
  {
   "cell_type": "code",
   "execution_count": 21,
   "id": "36b26ee1-066e-40e5-b1ad-09a637edd63e",
   "metadata": {},
   "outputs": [],
   "source": [
    "class IdenBlock(torch.nn.Module):\n",
    "    def __init__(self, input_filters, n_filters):\n",
    "        super().__init__()\n",
    "        self.model = torch.nn.Sequential(\n",
    "            torch.nn.Conv1d(input_filters, n_filters, 3, 1, padding='same'),\n",
    "            torch.nn.BatchNorm1d(n_filters),\n",
    "            torch.nn.ReLU(),\n",
    "            \n",
    "            torch.nn.Conv1d(n_filters, n_filters, 3, padding='same'),\n",
    "            torch.nn.BatchNorm1d(n_filters)\n",
    "        )\n",
    "        \n",
    "    def forward(self, x):\n",
    "        p = self.model(x)\n",
    "        \n",
    "        o = p + x\n",
    "        o = torch.nn.functional.relu(o)\n",
    "        \n",
    "        return o"
   ]
  },
  {
   "cell_type": "code",
   "execution_count": 22,
   "id": "87eae388-eac2-426b-b166-210f86e1aed9",
   "metadata": {},
   "outputs": [],
   "source": [
    "class Embedder(torch.nn.Module):\n",
    "    def __init__(self, length):\n",
    "        super().__init__()\n",
    "        self.length = length\n",
    "        \n",
    "        self.embedding = torch.nn.Sequential(\n",
    "            torch.nn.Conv1d(15, 64, 7, padding='same'),\n",
    "            torch.nn.BatchNorm1d(64),\n",
    "            torch.nn.ReLU(),\n",
    "            torch.nn.MaxPool1d(2),\n",
    "            \n",
    "            IdenBlock(64, 64),\n",
    "            IdenBlock(64, 64),\n",
    "            \n",
    "            ResBlock(64, 128),\n",
    "            ResBlock(128, 128),\n",
    "            \n",
    "            # ResBlock(128, 256),\n",
    "            # ResBlock(256, 256),\n",
    "        )\n",
    "        \n",
    "        self.rnn_block1 = torch.nn.Sequential(\n",
    "            torch.nn.LSTM(128, 80, 1, bidirectional=True, batch_first=True)\n",
    "        )\n",
    "        self.norm = torch.nn.BatchNorm1d(80)\n",
    "        self.rnn_block2 = torch.nn.Sequential(\n",
    "            torch.nn.LSTM(160, 32, 1, bidirectional=True, batch_first=True)\n",
    "        )\n",
    "        \n",
    "        # self.output = torch.nn.Sequential(\n",
    "        #     torch.nn.Linear(64, 3),\n",
    "        #     torch.nn.Softmax(-1)\n",
    "        # )\n",
    "        \n",
    "    def forward(self, x):\n",
    "        x = self.embedding(x)\n",
    "        x = x.transpose(1, 2)\n",
    "        \n",
    "        x = x[:, ::10]\n",
    "        \n",
    "        x, _ = self.rnn_block1(x)\n",
    "        x = torch.nn.functional.dropout1d(x, 0.1)\n",
    "        _, (x, _) = self.rnn_block2(x)\n",
    "        x = x.transpose(0, 1)\n",
    "        x = x.reshape(x.shape[0], -1)\n",
    "        \n",
    "        return x"
   ]
  },
  {
   "cell_type": "code",
   "execution_count": 23,
   "id": "3e0c1e1f-4533-410a-86fe-dad34a247dbe",
   "metadata": {},
   "outputs": [],
   "source": [
    "class RESLSTM(torch.nn.Module):\n",
    "    def __init__(self, length):\n",
    "        super().__init__()\n",
    "        self.length = length\n",
    "        \n",
    "        self.embedding = Embedder(length)\n",
    "        \n",
    "        self.output = torch.nn.Sequential(\n",
    "            torch.nn.Linear(64, 3),\n",
    "            torch.nn.Softmax(-1)\n",
    "        )\n",
    "        \n",
    "    def forward(self, x):\n",
    "        x = self.embedding(x)\n",
    "        x = self.output(x)\n",
    "        \n",
    "        return x"
   ]
  },
  {
   "cell_type": "code",
   "execution_count": 24,
   "id": "1bbfb1d4-34bc-4dc3-ac5a-e08822115f31",
   "metadata": {},
   "outputs": [],
   "source": [
    "model = RESLSTM(200)"
   ]
  },
  {
   "cell_type": "code",
   "execution_count": 25,
   "id": "a11836ac-b64e-4bde-abdc-bfafed876a65",
   "metadata": {},
   "outputs": [],
   "source": [
    "model = model.cuda()"
   ]
  },
  {
   "cell_type": "code",
   "execution_count": 26,
   "id": "6d64e6f5-f18c-4542-bb72-3c329917799d",
   "metadata": {},
   "outputs": [],
   "source": [
    "optimizer = torch.optim.AdamW(model.parameters(), lr=1e-5, weight_decay=0.00001)"
   ]
  },
  {
   "cell_type": "code",
   "execution_count": 27,
   "id": "d85564f9-7170-421d-8990-a9530a3b1a0f",
   "metadata": {},
   "outputs": [],
   "source": [
    "loss_fnc = torch.nn.CrossEntropyLoss()"
   ]
  },
  {
   "cell_type": "code",
   "execution_count": null,
   "id": "c788780e-7365-4634-9a94-89e0417f14d5",
   "metadata": {},
   "outputs": [],
   "source": []
  },
  {
   "cell_type": "code",
   "execution_count": 28,
   "id": "5eca15f7-92da-4a02-ac2a-1fefe40fe799",
   "metadata": {},
   "outputs": [],
   "source": [
    "train_dataloader = torch.utils.data.DataLoader(\n",
    "    train_dataset, \n",
    "    batch_size=32, \n",
    "    shuffle=True,\n",
    "    num_workers=1\n",
    ")\n",
    "test_dataloader = torch.utils.data.DataLoader(\n",
    "    test_dataset, \n",
    "    batch_size=32, \n",
    "    shuffle=True,\n",
    "    num_workers=1\n",
    ")\n",
    "\n",
    "train_excl_dataloader = torch.utils.data.DataLoader(\n",
    "    train_excl_dataset, \n",
    "    batch_size=32, \n",
    "    shuffle=True,\n",
    "    num_workers=1\n",
    ")\n",
    "test_excl_dataloader = torch.utils.data.DataLoader(\n",
    "    test_excl_dataset, \n",
    "    batch_size=32, \n",
    "    shuffle=True,\n",
    "    num_workers=1\n",
    ")\n"
   ]
  },
  {
   "cell_type": "code",
   "execution_count": null,
   "id": "0630c163-46b0-4486-9957-80774afe9bfe",
   "metadata": {},
   "outputs": [],
   "source": []
  },
  {
   "cell_type": "code",
   "execution_count": 29,
   "id": "ae6b8179-e878-48e6-b271-167f6f8e49ed",
   "metadata": {
    "scrolled": true,
    "tags": []
   },
   "outputs": [
    {
     "name": "stdout",
     "output_type": "stream",
     "text": [
      "Epoch:  0\n",
      "Test scores\n",
      "(array([0.43879509, 0.35859207, 0.37141925]), array([0.23565173, 0.22933255, 0.66748071]), array([0.30663002, 0.27975298, 0.47726479]), array([ 9705, 10173, 10237]))\n",
      "Val scores\n",
      "(array([0.45454545, 0.34375   , 0.44303797]), array([0.25      , 0.22      , 0.67307692]), array([0.32258065, 0.26829268, 0.53435115]), array([20, 50, 52]))\n",
      "Epoch:  1\n",
      "Test scores\n",
      "(array([0.43905773, 0.38621746, 0.38671357]), array([0.43019062, 0.12395557, 0.65507473]), array([0.43457895, 0.18767674, 0.48632968]), array([ 9705, 10173, 10237]))\n",
      "Val scores\n",
      "(array([0.24137931, 0.35714286, 0.46835443]), array([0.35      , 0.1       , 0.71153846]), array([0.28571429, 0.15625   , 0.5648855 ]), array([20, 50, 52]))\n",
      "Epoch:  2\n",
      "Test scores\n",
      "(array([0.44551363, 0.41282443, 0.41519376]), array([0.54384338, 0.13290082, 0.60808831]), array([0.48979213, 0.20107079, 0.49346017]), array([ 9705, 10173, 10237]))\n",
      "Val scores\n",
      "(array([0.21621622, 0.35      , 0.44615385]), array([0.4       , 0.14      , 0.55769231]), array([0.28070175, 0.2       , 0.4957265 ]), array([20, 50, 52]))\n",
      "Epoch:  3\n",
      "Test scores\n",
      "(array([0.47606859, 0.43645867, 0.43872693]), array([0.57496136, 0.13132803, 0.65712611]), array([0.5208625 , 0.20190419, 0.52616347]), array([ 9705, 10173, 10237]))\n",
      "Val scores\n",
      "(array([0.33333333, 0.4       , 0.53968254]), array([0.65      , 0.16      , 0.65384615]), array([0.44067797, 0.22857143, 0.59130435]), array([20, 50, 52]))\n",
      "Epoch:  4\n",
      "Test scores\n",
      "(array([0.48442303, 0.45167118, 0.46791209]), array([0.60082432, 0.19659884, 0.62391326]), array([0.5363812 , 0.27395384, 0.53476787]), array([ 9705, 10173, 10237]))\n",
      "Val scores\n",
      "(array([0.30952381, 0.4137931 , 0.56862745]), array([0.65      , 0.24      , 0.55769231]), array([0.41935484, 0.30379747, 0.5631068 ]), array([20, 50, 52]))\n",
      "Epoch:  5\n",
      "Test scores\n",
      "(array([0.52972561, 0.448127  , 0.48349091]), array([0.501288  , 0.31632753, 0.64940901]), array([0.51511462, 0.37086551, 0.55430025]), array([ 9705, 10173, 10237]))\n",
      "Val scores\n",
      "(array([0.36666667, 0.425     , 0.5       ]), array([0.55, 0.34, 0.5 ]), array([0.44      , 0.37777778, 0.5       ]), array([20, 50, 52]))\n",
      "Epoch:  6\n",
      "Test scores\n",
      "(array([0.51349373, 0.45499224, 0.51632903]), array([0.57836167, 0.34581736, 0.57761063]), array([0.54400078, 0.39296286, 0.54525335]), array([ 9705, 10173, 10237]))\n",
      "Val scores\n",
      "(array([0.33333333, 0.44186047, 0.55882353]), array([0.75      , 0.38      , 0.36538462]), array([0.46153846, 0.40860215, 0.44186047]), array([20, 50, 52]))\n",
      "Epoch:  7\n",
      "Test scores\n",
      "(array([0.53597122, 0.46081361, 0.52236435]), array([0.52199897, 0.39418067, 0.61033506]), array([0.52889283, 0.42490066, 0.5629336 ]), array([ 9705, 10173, 10237]))\n",
      "Val scores\n",
      "(array([0.33333333, 0.375     , 0.55263158]), array([0.6       , 0.36      , 0.40384615]), array([0.42857143, 0.36734694, 0.46666667]), array([20, 50, 52]))\n",
      "Epoch:  8\n",
      "Test scores\n",
      "(array([0.53830428, 0.45276498, 0.54022105]), array([0.51550747, 0.46358006, 0.54908665]), array([0.5266593 , 0.4581087 , 0.54461777]), array([ 9705, 10173, 10237]))\n",
      "Val scores\n",
      "(array([0.34285714, 0.35714286, 0.51612903]), array([0.6       , 0.4       , 0.30769231]), array([0.43636364, 0.37735849, 0.38554217]), array([20, 50, 52]))\n",
      "Epoch:  9\n",
      "Test scores\n",
      "(array([0.54135499, 0.46654313, 0.53527121]), array([0.52199897, 0.44549297, 0.57741526]), array([0.53150081, 0.45577513, 0.55554511]), array([ 9705, 10173, 10237]))\n",
      "Val scores\n",
      "(array([0.32432432, 0.40425532, 0.57894737]), array([0.6       , 0.38      , 0.42307692]), array([0.42105263, 0.39175258, 0.48888889]), array([20, 50, 52]))\n",
      "Epoch:  10\n",
      "Test scores\n",
      "(array([0.54524764, 0.46055328, 0.53675413]), array([0.51839258, 0.44185589, 0.58347172]), array([0.53148109, 0.45101089, 0.55913878]), array([ 9705, 10173, 10237]))\n",
      "Val scores\n",
      "(array([0.37837838, 0.34042553, 0.47368421]), array([0.7       , 0.32      , 0.34615385]), array([0.49122807, 0.32989691, 0.4       ]), array([20, 50, 52]))\n",
      "Epoch:  11\n",
      "Test scores\n",
      "(array([0.53502144, 0.46308377, 0.54482371]), array([0.53992787, 0.43959501, 0.56754909]), array([0.53746346, 0.45103379, 0.55595426]), array([ 9705, 10173, 10237]))\n",
      "Val scores\n",
      "(array([0.35135135, 0.3877551 , 0.52777778]), array([0.65      , 0.38      , 0.36538462]), array([0.45614035, 0.38383838, 0.43181818]), array([20, 50, 52]))\n",
      "Epoch:  12\n",
      "Test scores\n",
      "(array([0.53053053, 0.46526721, 0.55163679]), array([0.54611025, 0.45099774, 0.55309173]), array([0.53820767, 0.45802136, 0.5523633 ]), array([ 9705, 10173, 10237]))\n",
      "Val scores\n",
      "(array([0.35897436, 0.38297872, 0.5       ]), array([0.7       , 0.36      , 0.34615385]), array([0.47457627, 0.37113402, 0.40909091]), array([20, 50, 52]))\n",
      "Epoch:  13\n",
      "Test scores\n",
      "(array([0.55692076, 0.4527027 , 0.5339271 ]), array([0.45770222, 0.50054065, 0.56803751]), array([0.50246027, 0.47542132, 0.55045437]), array([ 9705, 10173, 10237]))\n",
      "Val scores\n",
      "(array([0.36363636, 0.375     , 0.48780488]), array([0.6       , 0.36      , 0.38461538]), array([0.45283019, 0.36734694, 0.43010753]), array([20, 50, 52]))\n",
      "Epoch:  14\n",
      "Test scores\n",
      "(array([0.54363078, 0.46992992, 0.53385234]), array([0.51097372, 0.44165929, 0.59617075]), array([0.52679662, 0.45535624, 0.56329318]), array([ 9705, 10173, 10237]))\n",
      "Val scores\n",
      "(array([0.37142857, 0.42553191, 0.5       ]), array([0.65      , 0.4       , 0.38461538]), array([0.47272727, 0.41237113, 0.43478261]), array([20, 50, 52]))\n",
      "Epoch:  15\n",
      "Test scores\n",
      "(array([0.5280086 , 0.46126665, 0.57034693]), array([0.55651726, 0.50044235, 0.49301553]), array([0.54188823, 0.48005658, 0.52886933]), array([ 9705, 10173, 10237]))\n",
      "Val scores\n",
      "(array([0.34883721, 0.40816327, 0.53333333]), array([0.75      , 0.4       , 0.30769231]), array([0.47619048, 0.4040404 , 0.3902439 ]), array([20, 50, 52]))\n",
      "Epoch:  16\n",
      "Test scores\n",
      "(array([0.55195376, 0.45056783, 0.5313513 ]), array([0.45265327, 0.50309643, 0.56041809]), array([0.49739583, 0.47538547, 0.54549777]), array([ 9705, 10173, 10237]))\n",
      "Val scores\n",
      "(array([0.41935484, 0.42      , 0.51219512]), array([0.65      , 0.42      , 0.40384615]), array([0.50980392, 0.42      , 0.4516129 ]), array([20, 50, 52]))\n",
      "Epoch:  17\n",
      "Test scores\n",
      "(array([0.53386982, 0.46329542, 0.55958174]), array([0.54003091, 0.48451784, 0.52798671]), array([0.53693269, 0.47366904, 0.54332529]), array([ 9705, 10173, 10237]))\n",
      "Val scores\n",
      "(array([0.35897436, 0.35714286, 0.46341463]), array([0.7       , 0.3       , 0.36538462]), array([0.47457627, 0.32608696, 0.40860215]), array([20, 50, 52]))\n",
      "Epoch:  18\n",
      "Test scores\n",
      "(array([0.52918886, 0.45853749, 0.5591567 ]), array([0.53240598, 0.48756512, 0.52075803]), array([0.53079254, 0.472606  , 0.5392747 ]), array([ 9705, 10173, 10237]))\n",
      "Val scores\n",
      "(array([0.33333333, 0.375     , 0.53488372]), array([0.65      , 0.3       , 0.44230769]), array([0.44067797, 0.33333333, 0.48421053]), array([20, 50, 52]))\n",
      "Epoch:  19\n",
      "Test scores\n",
      "(array([0.55107393, 0.4483028 , 0.54174537]), array([0.45471406, 0.50761821, 0.56032041]), array([0.4982781 , 0.47612023, 0.55087635]), array([ 9705, 10173, 10237]))\n",
      "Val scores\n",
      "(array([0.37931034, 0.3877551 , 0.47727273]), array([0.55      , 0.38      , 0.40384615]), array([0.44897959, 0.38383838, 0.4375    ]), array([20, 50, 52]))\n",
      "Epoch:  20\n",
      "Test scores\n",
      "(array([0.52801135, 0.45598895, 0.57116451]), array([0.53704276, 0.51941414, 0.48295399]), array([0.53248876, 0.48563945, 0.52336844]), array([ 9705, 10173, 10237]))\n",
      "Val scores\n",
      "(array([0.33333333, 0.39583333, 0.54285714]), array([0.65      , 0.38      , 0.36538462]), array([0.44067797, 0.3877551 , 0.43678161]), array([20, 50, 52]))\n",
      "Epoch:  21\n",
      "Test scores\n",
      "(array([0.50562794, 0.46120936, 0.57421217]), array([0.58784132, 0.47685049, 0.46634756]), array([0.54364399, 0.46889952, 0.51468924]), array([ 9705, 10173, 10237]))\n",
      "Val scores\n",
      "(array([0.31914894, 0.4       , 0.5       ]), array([0.75      , 0.36      , 0.28846154]), array([0.44776119, 0.37894737, 0.36585366]), array([20, 50, 52]))\n",
      "Epoch:  22\n",
      "Test scores\n",
      "(array([0.51664255, 0.4558514 , 0.56841628]), array([0.55177743, 0.48972771, 0.48979193]), array([0.53363229, 0.47218273, 0.52618323]), array([ 9705, 10173, 10237]))\n",
      "Val scores\n",
      "(array([0.34883721, 0.44444444, 0.52941176]), array([0.75      , 0.4       , 0.34615385]), array([0.47619048, 0.42105263, 0.41860465]), array([20, 50, 52]))\n",
      "Epoch:  23\n",
      "Test scores\n",
      "(array([0.53354134, 0.44869877, 0.53032757]), array([0.49335394, 0.44234739, 0.57565693]), array([0.51266128, 0.44550045, 0.55206333]), array([ 9705, 10173, 10237]))\n",
      "Val scores\n",
      "(array([0.33333333, 0.36363636, 0.51111111]), array([0.55      , 0.32      , 0.44230769]), array([0.41509434, 0.34042553, 0.4742268 ]), array([20, 50, 52]))\n",
      "Epoch:  24\n",
      "Test scores\n",
      "(array([0.51571483, 0.46418366, 0.55351522]), array([0.55455951, 0.46308857, 0.51528768]), array([0.53443225, 0.46363547, 0.53371781]), array([ 9705, 10173, 10237]))\n",
      "Val scores\n",
      "(array([0.33333333, 0.42553191, 0.51515152]), array([0.7       , 0.4       , 0.32692308]), array([0.4516129 , 0.41237113, 0.4       ]), array([20, 50, 52]))\n"
     ]
    }
   ],
   "source": [
    "for epoch in range(25):\n",
    "    print('Epoch: ', epoch)\n",
    "    for batch in train_dataloader:\n",
    "        optimizer.zero_grad()\n",
    "        predict = model(batch['eeg'].cuda())\n",
    "        \n",
    "        loss = loss_fnc(predict, batch['label'].cuda())\n",
    "        loss.backward()\n",
    "        \n",
    "        optimizer.step()\n",
    "    \n",
    "    test_predicts = []\n",
    "    test_reals = []\n",
    "    for test_batch in test_dataloader:\n",
    "        with torch.no_grad():\n",
    "            predict = model(test_batch['eeg'].cuda())\n",
    "            test_predicts.extend(predict.cpu().tolist())\n",
    "            test_reals.extend(test_batch['label'].tolist())\n",
    "            \n",
    "    test_predicts = np.array(test_predicts)\n",
    "    test_reals = np.array(test_reals)\n",
    "    \n",
    "    print('Test scores')\n",
    "    print(precision_recall_fscore_support(test_reals, test_predicts.argmax(-1)))\n",
    "    \n",
    "    val_predicts = []\n",
    "    val_reals = []\n",
    "    for val_batch in test_excl_dataloader:\n",
    "        with torch.no_grad():\n",
    "            predict = model(val_batch['eeg'].cuda())\n",
    "            val_predicts.extend(predict.cpu().tolist())\n",
    "            val_reals.extend(val_batch['label'].tolist())\n",
    "            \n",
    "    val_predicts = np.array(val_predicts)\n",
    "    val_reals = np.array(val_reals)\n",
    "    \n",
    "    print('Val scores')\n",
    "    print(precision_recall_fscore_support(val_reals, val_predicts.argmax(-1)))"
   ]
  },
  {
   "cell_type": "code",
   "execution_count": 30,
   "id": "96b3bbd1-33b9-4569-a748-59f37fe38357",
   "metadata": {},
   "outputs": [
    {
     "name": "stdout",
     "output_type": "stream",
     "text": [
      "0.5103104765067242\n"
     ]
    }
   ],
   "source": [
    "print(accuracy_score(test_reals, test_predicts.argmax(-1)))"
   ]
  },
  {
   "cell_type": "code",
   "execution_count": 31,
   "id": "f78180ea-6ad7-42f4-9bc2-388eaaa790c0",
   "metadata": {},
   "outputs": [
    {
     "data": {
      "text/plain": [
       "(array([0.51571483, 0.46418366, 0.55351522]),\n",
       " array([0.55455951, 0.46308857, 0.51528768]),\n",
       " array([0.53443225, 0.46363547, 0.53371781]),\n",
       " array([ 9705, 10173, 10237]))"
      ]
     },
     "execution_count": 31,
     "metadata": {},
     "output_type": "execute_result"
    }
   ],
   "source": [
    "precision_recall_fscore_support(test_reals, test_predicts.argmax(-1))"
   ]
  },
  {
   "cell_type": "code",
   "execution_count": 32,
   "id": "c20ce64b-2b87-4491-9ba1-b100cc411409",
   "metadata": {},
   "outputs": [],
   "source": [
    "class TEST(torch.utils.data.Dataset):\n",
    "    def __init__(self, paths):\n",
    "        super(TEST, self).__init__()\n",
    "        self.paths = paths\n",
    "\n",
    "    def __len__(self):\n",
    "        return len(self.paths)\n",
    "    \n",
    "    def __getitem__(self, idx):\n",
    "        path = self.paths[idx]\n",
    "        slice_num = int(path[0].split('/')[-1].split('_')[2].split('.')[0])\n",
    "        user = int(path[0].split('/')[-1].split('_')[1])\n",
    "        prev_paths = ['/home/data/HSE_math_exp_2/processing_internal.v2/sliced.limited_ch/x_{}_{}.npy'.format(user, i) for \n",
    "                      i in range(slice_num-5, slice_num+1)]\n",
    "        \n",
    "        data = [np.load(p) for p in prev_paths]\n",
    "        data = [np.clip(preprocessing.scale(d[:, channels_selected_indexes]), -3, 3) for d in data]\n",
    "        data = np.array(data)\n",
    "\n",
    "        label = np.load(path[1])[slice_num]\n",
    "        \n",
    "        return {\n",
    "            'eeg': torch.from_numpy(data).float().T,\n",
    "            'label': (torch.tensor(label).long() > 0).float()\n",
    "        }"
   ]
  },
  {
   "cell_type": "code",
   "execution_count": 33,
   "id": "7953d33b-93f0-44d6-8a7a-73b179c0305e",
   "metadata": {
    "scrolled": true,
    "tags": []
   },
   "outputs": [],
   "source": [
    "train_dataset_F = TEST([i for i in train_paths_X if int(i[0].split('/')[-1].split('_')[2].split('.')[0]) >= 5])\n",
    "test_dataset_F = TEST([i for i in test_paths_X if int(i[0].split('/')[-1].split('_')[2].split('.')[0]) >= 5])\n",
    "\n",
    "train_excl_dataset_F = TEST([i for i in train_excl_paths_X if int(i[0].split('/')[-1].split('_')[2].split('.')[0]) >= 5])\n",
    "test_excl_dataset_F = TEST([i for i in test_excl_paths_X if int(i[0].split('/')[-1].split('_')[2].split('.')[0]) >= 5])\n",
    "                            \n",
    "test_excl_demo_dataset_F = TEST([i for i in test_excl_demo_paths_X if int(i[0].split('/')[-1].split('_')[2].split('.')[0]) >= 5])"
   ]
  },
  {
   "cell_type": "code",
   "execution_count": 34,
   "id": "cd53ddee-5949-4a59-8e06-6f03e077895f",
   "metadata": {},
   "outputs": [],
   "source": [
    "train_dataloader_F = torch.utils.data.DataLoader(\n",
    "    train_dataset_F, \n",
    "    batch_size=32, \n",
    "    shuffle=True,\n",
    "    num_workers=1\n",
    ")\n",
    "test_dataloader_F = torch.utils.data.DataLoader(\n",
    "    test_dataset_F, \n",
    "    batch_size=32, \n",
    "    shuffle=False,\n",
    "    num_workers=1\n",
    ")\n",
    "\n",
    "train_excl_dataloader_F = torch.utils.data.DataLoader(\n",
    "    train_excl_dataset_F, \n",
    "    batch_size=32, \n",
    "    shuffle=True,\n",
    "    num_workers=1\n",
    ")\n",
    "test_excl_dataloader_F = torch.utils.data.DataLoader(\n",
    "    test_excl_dataset_F, \n",
    "    batch_size=32, \n",
    "    shuffle=False,\n",
    "    num_workers=1\n",
    ")\n",
    "test_excl_demo_dataloader_F = torch.utils.data.DataLoader(\n",
    "    test_excl_demo_dataset_F, \n",
    "    batch_size=32, \n",
    "    shuffle=False,\n",
    "    num_workers=1\n",
    ")\n"
   ]
  },
  {
   "cell_type": "code",
   "execution_count": 35,
   "id": "ef050563-6d34-4aac-86fb-13b009c825c6",
   "metadata": {},
   "outputs": [],
   "source": [
    "class SecondSimpleModel(torch.nn.Module):\n",
    "    def __init__(self, embedder):\n",
    "        super().__init__()\n",
    "        \n",
    "        self.embedder = embedder\n",
    "        \n",
    "        self.model = torch.nn.Sequential(\n",
    "            torch.nn.Conv1d(64, 128, 1, padding='same'),\n",
    "            torch.nn.BatchNorm1d(128),\n",
    "            torch.nn.ReLU()\n",
    "        )\n",
    "        self.rnn = torch.nn.LSTM(128, 64, batch_first=True)\n",
    "        self.predict = torch.nn.Sequential(\n",
    "            torch.nn.Linear(64, 1)\n",
    "        )\n",
    "        \n",
    "    def forward(self, x):\n",
    "        x = [self.embedder(x[:, :, :, i])[:, :, None] for i in range(6)]\n",
    "        x = torch.cat(x, -1)\n",
    "        \n",
    "        x = self.model(x)\n",
    "        x = x.transpose(1, 2)\n",
    "        _, (x, _) = self.rnn(x)\n",
    "        x = x.transpose(0, 1)\n",
    "        x = self.predict(x)\n",
    "        \n",
    "        return x"
   ]
  },
  {
   "cell_type": "code",
   "execution_count": 36,
   "id": "5d5a4e03-b0aa-4ff3-9fa5-292f0f7b7dd5",
   "metadata": {},
   "outputs": [],
   "source": [
    "model2 = SecondSimpleModel(model.embedding).cuda()"
   ]
  },
  {
   "cell_type": "code",
   "execution_count": 37,
   "id": "44aa1506-a30e-4db9-a3f8-c640b9b25c3f",
   "metadata": {},
   "outputs": [],
   "source": [
    "optimizer2 = torch.optim.AdamW(model2.parameters(), lr=1e-5, weight_decay=0.00001)"
   ]
  },
  {
   "cell_type": "code",
   "execution_count": 38,
   "id": "1fdaded8-547d-460b-81a4-35ffc5d13cf3",
   "metadata": {},
   "outputs": [],
   "source": [
    "loss_fnc2 = torch.nn.BCEWithLogitsLoss()"
   ]
  },
  {
   "cell_type": "code",
   "execution_count": null,
   "id": "e24ea8a4-748a-4de1-9fa1-556217484183",
   "metadata": {
    "scrolled": true,
    "tags": []
   },
   "outputs": [
    {
     "name": "stdout",
     "output_type": "stream",
     "text": [
      "Epoch:  0\n"
     ]
    },
    {
     "name": "stderr",
     "output_type": "stream",
     "text": [
      "/tmp/ipykernel_3339018/700437237.py:23: UserWarning: The use of `x.T` on tensors of dimension other than 2 to reverse their shape is deprecated and it will throw an error in a future release. Consider `x.mT` to transpose batches of matrices or `x.permute(*torch.arange(x.ndim - 1, -1, -1))` to reverse the dimensions of a tensor. (Triggered internally at ../aten/src/ATen/native/TensorShape.cpp:3277.)\n",
      "  'eeg': torch.from_numpy(data).float().T,\n"
     ]
    }
   ],
   "source": [
    "for epoch in range(7):\n",
    "    print('Epoch: ', epoch)\n",
    "    for batch in train_dataloader_F:\n",
    "        optimizer2.zero_grad()\n",
    "        predict = model2(batch['eeg'].cuda()).view(-1)\n",
    "        \n",
    "        loss = loss_fnc(predict, batch['label'].cuda())\n",
    "        loss.backward()\n",
    "        \n",
    "        optimizer2.step()\n",
    "    \n",
    "    if epoch % 5 == 0:\n",
    "        test_predicts = []\n",
    "        test_reals = []\n",
    "        for test_batch in test_dataloader_F:\n",
    "            with torch.no_grad():\n",
    "                predict = model2(test_batch['eeg'].cuda())\n",
    "                test_predicts.extend(predict.cpu().tolist())\n",
    "                test_reals.extend(test_batch['label'].tolist())\n",
    "\n",
    "        test_predicts = np.array(test_predicts)\n",
    "        test_reals = np.array(test_reals)\n",
    "\n",
    "        print('Test scores')\n",
    "        print(precision_recall_fscore_support(test_reals, (test_predicts > 0).astype(int).reshape(-1)))\n",
    "\n",
    "        val_predicts = []\n",
    "        val_reals = []\n",
    "        for val_batch in test_excl_dataloader_F:\n",
    "            with torch.no_grad():\n",
    "                predict = model2(val_batch['eeg'].cuda())\n",
    "                val_predicts.extend(predict.cpu().tolist())\n",
    "                val_reals.extend(val_batch['label'].tolist())\n",
    "\n",
    "        val_predicts = np.array(val_predicts)\n",
    "        val_reals = np.array(val_reals)\n",
    "\n",
    "        print('Val scores')\n",
    "        print(precision_recall_fscore_support(val_reals, (val_predicts > 0).astype(int).reshape(-1)))\n",
    "    \n",
    "        val_predicts = []\n",
    "        val_reals = []\n",
    "        for val_batch in test_excl_demo_dataloader_F:\n",
    "            with torch.no_grad():\n",
    "                predict = model2(val_batch['eeg'].cuda())\n",
    "                val_predicts.extend(predict.cpu().tolist())\n",
    "                val_reals.extend(val_batch['label'].tolist())\n",
    "\n",
    "        val_predicts = np.array(val_predicts)\n",
    "        val_reals = np.array(val_reals)\n",
    "\n",
    "        print('Val demo scores')\n",
    "        print(precision_recall_fscore_support(val_reals, (val_predicts > 0).astype(int).reshape(-1)))\n",
    "    "
   ]
  },
  {
   "cell_type": "code",
   "execution_count": null,
   "id": "0ab5a8c9-e44b-47d6-b514-7561c1b48a3a",
   "metadata": {
    "scrolled": true,
    "tags": []
   },
   "outputs": [],
   "source": [
    "\n",
    "for epoch in range(7):\n",
    "    print('Epoch: ', epoch)\n",
    "    for batch in train_excl_dataloader_F:\n",
    "        optimizer2.zero_grad()\n",
    "        predict = model2(batch['eeg'].cuda()).view(-1)\n",
    "        \n",
    "        loss = loss_fnc(predict, batch['label'].cuda())\n",
    "        loss.backward()\n",
    "        \n",
    "        optimizer2.step()\n",
    "    \n",
    "    if epoch % 5 == 0:\n",
    "        test_predicts = []\n",
    "        test_reals = []\n",
    "        for test_batch in test_dataloader_F:\n",
    "            with torch.no_grad():\n",
    "                predict = model2(test_batch['eeg'].cuda())\n",
    "                test_predicts.extend(predict.cpu().tolist())\n",
    "                test_reals.extend(test_batch['label'].tolist())\n",
    "\n",
    "        test_predicts = np.array(test_predicts)\n",
    "        test_reals = np.array(test_reals)\n",
    "\n",
    "        print('Test scores')\n",
    "        print(precision_recall_fscore_support(test_reals, (test_predicts > 0).astype(int).reshape(-1)))\n",
    "\n",
    "        val_predicts = []\n",
    "        val_reals = []\n",
    "        for val_batch in test_excl_dataloader_F:\n",
    "            with torch.no_grad():\n",
    "                predict = model2(val_batch['eeg'].cuda())\n",
    "                val_predicts.extend(predict.cpu().tolist())\n",
    "                val_reals.extend(val_batch['label'].tolist())\n",
    "\n",
    "        val_predicts = np.array(val_predicts)\n",
    "        val_reals = np.array(val_reals)\n",
    "\n",
    "        print('Val scores')\n",
    "        print(precision_recall_fscore_support(val_reals, (val_predicts > 0).astype(int).reshape(-1)))"
   ]
  },
  {
   "cell_type": "code",
   "execution_count": null,
   "id": "0728b6ad-0290-484e-9807-21fbb4610991",
   "metadata": {},
   "outputs": [],
   "source": [
    "val_predicts = []\n",
    "val_reals = []\n",
    "for val_batch in test_excl_demo_dataloader_F:\n",
    "    with torch.no_grad():\n",
    "        predict = model2(val_batch['eeg'].cuda())\n",
    "        val_predicts.extend(predict.cpu().tolist())\n",
    "        val_reals.extend(val_batch['label'].tolist())\n",
    "\n",
    "val_predicts = np.array(val_predicts)\n",
    "val_reals = np.array(val_reals)\n",
    "\n",
    "print('Val demo scores')\n",
    "print(precision_recall_fscore_support(val_reals, (val_predicts > 0.5).astype(int).reshape(-1)))\n"
   ]
  },
  {
   "cell_type": "code",
   "execution_count": null,
   "id": "91f4fe58-1d57-4a40-ace5-2dc616b9839f",
   "metadata": {},
   "outputs": [],
   "source": [
    "predicted_results = {\n",
    "    'second_model_finetune_metrics_on_val': precision_recall_fscore_support(val_reals, (val_predicts > 0).astype(int).reshape(-1))\n",
    "}"
   ]
  },
  {
   "cell_type": "code",
   "execution_count": 45,
   "id": "f8d2e2d2-2213-4a45-8f2e-0eef70695020",
   "metadata": {},
   "outputs": [
    {
     "data": {
      "text/plain": [
       "array([0., 0., 0., 0., 0., 0., 0., 0., 0., 0., 0., 0., 0., 0., 0., 0., 0.,\n",
       "       0., 0., 0., 0., 0., 0., 0., 0., 0., 0., 0., 0., 0., 0., 0., 0., 0.,\n",
       "       1., 1., 1., 1., 1., 1., 1., 1., 1., 1., 1., 1., 1., 1., 1., 1., 1.,\n",
       "       1., 1., 1., 1., 1., 1., 1., 1., 1., 1., 1., 1., 1., 1., 1., 1., 1.,\n",
       "       1., 1., 1., 1., 1.])"
      ]
     },
     "execution_count": 45,
     "metadata": {},
     "output_type": "execute_result"
    }
   ],
   "source": [
    "val_reals"
   ]
  },
  {
   "cell_type": "code",
   "execution_count": 46,
   "id": "15ae6f3f-8092-4ecd-858d-f83f71cfc9b6",
   "metadata": {},
   "outputs": [
    {
     "data": {
      "text/plain": [
       "{'second_model_finetune_metrics_on_val': (array([0.42857143, 0.53030303]),\n",
       "  array([0.08823529, 0.8974359 ]),\n",
       "  array([0.14634146, 0.66666667]),\n",
       "  array([34, 39]))}"
      ]
     },
     "execution_count": 46,
     "metadata": {},
     "output_type": "execute_result"
    }
   ],
   "source": [
    "predicted_results"
   ]
  },
  {
   "cell_type": "code",
   "execution_count": 52,
   "id": "0942d7ae-ecdb-4451-bac4-200433bbfa31",
   "metadata": {},
   "outputs": [
    {
     "ename": "TypeError",
     "evalue": "Object of type ndarray is not JSON serializable",
     "output_type": "error",
     "traceback": [
      "\u001b[0;31m---------------------------------------------------------------------------\u001b[0m",
      "\u001b[0;31mTypeError\u001b[0m                                 Traceback (most recent call last)",
      "Input \u001b[0;32mIn [52]\u001b[0m, in \u001b[0;36m<cell line: 2>\u001b[0;34m()\u001b[0m\n\u001b[1;32m      1\u001b[0m \u001b[38;5;28;01mimport\u001b[39;00m \u001b[38;5;21;01mjson\u001b[39;00m\n\u001b[1;32m      2\u001b[0m \u001b[38;5;28;01mwith\u001b[39;00m \u001b[38;5;28mopen\u001b[39m(\u001b[38;5;124m'\u001b[39m\u001b[38;5;124m../results/torch.results_\u001b[39m\u001b[38;5;132;01m{}\u001b[39;00m\u001b[38;5;124m.inner.our_data.json\u001b[39m\u001b[38;5;124m'\u001b[39m\u001b[38;5;241m.\u001b[39mformat(exclude_user[\u001b[38;5;241m0\u001b[39m]), \u001b[38;5;124m'\u001b[39m\u001b[38;5;124mw\u001b[39m\u001b[38;5;124m'\u001b[39m) \u001b[38;5;28;01mas\u001b[39;00m f:\n\u001b[0;32m----> 3\u001b[0m     \u001b[43mjson\u001b[49m\u001b[38;5;241;43m.\u001b[39;49m\u001b[43mdump\u001b[49m\u001b[43m(\u001b[49m\u001b[43mpredicted_results\u001b[49m\u001b[43m,\u001b[49m\u001b[43m \u001b[49m\u001b[43mf\u001b[49m\u001b[43m)\u001b[49m\n",
      "File \u001b[0;32m/usr/lib/python3.8/json/__init__.py:179\u001b[0m, in \u001b[0;36mdump\u001b[0;34m(obj, fp, skipkeys, ensure_ascii, check_circular, allow_nan, cls, indent, separators, default, sort_keys, **kw)\u001b[0m\n\u001b[1;32m    173\u001b[0m     iterable \u001b[38;5;241m=\u001b[39m \u001b[38;5;28mcls\u001b[39m(skipkeys\u001b[38;5;241m=\u001b[39mskipkeys, ensure_ascii\u001b[38;5;241m=\u001b[39mensure_ascii,\n\u001b[1;32m    174\u001b[0m         check_circular\u001b[38;5;241m=\u001b[39mcheck_circular, allow_nan\u001b[38;5;241m=\u001b[39mallow_nan, indent\u001b[38;5;241m=\u001b[39mindent,\n\u001b[1;32m    175\u001b[0m         separators\u001b[38;5;241m=\u001b[39mseparators,\n\u001b[1;32m    176\u001b[0m         default\u001b[38;5;241m=\u001b[39mdefault, sort_keys\u001b[38;5;241m=\u001b[39msort_keys, \u001b[38;5;241m*\u001b[39m\u001b[38;5;241m*\u001b[39mkw)\u001b[38;5;241m.\u001b[39miterencode(obj)\n\u001b[1;32m    177\u001b[0m \u001b[38;5;66;03m# could accelerate with writelines in some versions of Python, at\u001b[39;00m\n\u001b[1;32m    178\u001b[0m \u001b[38;5;66;03m# a debuggability cost\u001b[39;00m\n\u001b[0;32m--> 179\u001b[0m \u001b[38;5;28;01mfor\u001b[39;00m chunk \u001b[38;5;129;01min\u001b[39;00m iterable:\n\u001b[1;32m    180\u001b[0m     fp\u001b[38;5;241m.\u001b[39mwrite(chunk)\n",
      "File \u001b[0;32m/usr/lib/python3.8/json/encoder.py:431\u001b[0m, in \u001b[0;36m_make_iterencode.<locals>._iterencode\u001b[0;34m(o, _current_indent_level)\u001b[0m\n\u001b[1;32m    429\u001b[0m     \u001b[38;5;28;01myield from\u001b[39;00m _iterencode_list(o, _current_indent_level)\n\u001b[1;32m    430\u001b[0m \u001b[38;5;28;01melif\u001b[39;00m \u001b[38;5;28misinstance\u001b[39m(o, \u001b[38;5;28mdict\u001b[39m):\n\u001b[0;32m--> 431\u001b[0m     \u001b[38;5;28;01myield from\u001b[39;00m _iterencode_dict(o, _current_indent_level)\n\u001b[1;32m    432\u001b[0m \u001b[38;5;28;01melse\u001b[39;00m:\n\u001b[1;32m    433\u001b[0m     \u001b[38;5;28;01mif\u001b[39;00m markers \u001b[38;5;129;01mis\u001b[39;00m \u001b[38;5;129;01mnot\u001b[39;00m \u001b[38;5;28;01mNone\u001b[39;00m:\n",
      "File \u001b[0;32m/usr/lib/python3.8/json/encoder.py:405\u001b[0m, in \u001b[0;36m_make_iterencode.<locals>._iterencode_dict\u001b[0;34m(dct, _current_indent_level)\u001b[0m\n\u001b[1;32m    403\u001b[0m         \u001b[38;5;28;01melse\u001b[39;00m:\n\u001b[1;32m    404\u001b[0m             chunks \u001b[38;5;241m=\u001b[39m _iterencode(value, _current_indent_level)\n\u001b[0;32m--> 405\u001b[0m         \u001b[38;5;28;01myield from\u001b[39;00m chunks\n\u001b[1;32m    406\u001b[0m \u001b[38;5;28;01mif\u001b[39;00m newline_indent \u001b[38;5;129;01mis\u001b[39;00m \u001b[38;5;129;01mnot\u001b[39;00m \u001b[38;5;28;01mNone\u001b[39;00m:\n\u001b[1;32m    407\u001b[0m     _current_indent_level \u001b[38;5;241m-\u001b[39m\u001b[38;5;241m=\u001b[39m \u001b[38;5;241m1\u001b[39m\n",
      "File \u001b[0;32m/usr/lib/python3.8/json/encoder.py:325\u001b[0m, in \u001b[0;36m_make_iterencode.<locals>._iterencode_list\u001b[0;34m(lst, _current_indent_level)\u001b[0m\n\u001b[1;32m    323\u001b[0m         \u001b[38;5;28;01melse\u001b[39;00m:\n\u001b[1;32m    324\u001b[0m             chunks \u001b[38;5;241m=\u001b[39m _iterencode(value, _current_indent_level)\n\u001b[0;32m--> 325\u001b[0m         \u001b[38;5;28;01myield from\u001b[39;00m chunks\n\u001b[1;32m    326\u001b[0m \u001b[38;5;28;01mif\u001b[39;00m newline_indent \u001b[38;5;129;01mis\u001b[39;00m \u001b[38;5;129;01mnot\u001b[39;00m \u001b[38;5;28;01mNone\u001b[39;00m:\n\u001b[1;32m    327\u001b[0m     _current_indent_level \u001b[38;5;241m-\u001b[39m\u001b[38;5;241m=\u001b[39m \u001b[38;5;241m1\u001b[39m\n",
      "File \u001b[0;32m/usr/lib/python3.8/json/encoder.py:438\u001b[0m, in \u001b[0;36m_make_iterencode.<locals>._iterencode\u001b[0;34m(o, _current_indent_level)\u001b[0m\n\u001b[1;32m    436\u001b[0m         \u001b[38;5;28;01mraise\u001b[39;00m \u001b[38;5;167;01mValueError\u001b[39;00m(\u001b[38;5;124m\"\u001b[39m\u001b[38;5;124mCircular reference detected\u001b[39m\u001b[38;5;124m\"\u001b[39m)\n\u001b[1;32m    437\u001b[0m     markers[markerid] \u001b[38;5;241m=\u001b[39m o\n\u001b[0;32m--> 438\u001b[0m o \u001b[38;5;241m=\u001b[39m \u001b[43m_default\u001b[49m\u001b[43m(\u001b[49m\u001b[43mo\u001b[49m\u001b[43m)\u001b[49m\n\u001b[1;32m    439\u001b[0m \u001b[38;5;28;01myield from\u001b[39;00m _iterencode(o, _current_indent_level)\n\u001b[1;32m    440\u001b[0m \u001b[38;5;28;01mif\u001b[39;00m markers \u001b[38;5;129;01mis\u001b[39;00m \u001b[38;5;129;01mnot\u001b[39;00m \u001b[38;5;28;01mNone\u001b[39;00m:\n",
      "File \u001b[0;32m/usr/lib/python3.8/json/encoder.py:179\u001b[0m, in \u001b[0;36mJSONEncoder.default\u001b[0;34m(self, o)\u001b[0m\n\u001b[1;32m    160\u001b[0m \u001b[38;5;28;01mdef\u001b[39;00m \u001b[38;5;21mdefault\u001b[39m(\u001b[38;5;28mself\u001b[39m, o):\n\u001b[1;32m    161\u001b[0m     \u001b[38;5;124;03m\"\"\"Implement this method in a subclass such that it returns\u001b[39;00m\n\u001b[1;32m    162\u001b[0m \u001b[38;5;124;03m    a serializable object for ``o``, or calls the base implementation\u001b[39;00m\n\u001b[1;32m    163\u001b[0m \u001b[38;5;124;03m    (to raise a ``TypeError``).\u001b[39;00m\n\u001b[0;32m   (...)\u001b[0m\n\u001b[1;32m    177\u001b[0m \n\u001b[1;32m    178\u001b[0m \u001b[38;5;124;03m    \"\"\"\u001b[39;00m\n\u001b[0;32m--> 179\u001b[0m     \u001b[38;5;28;01mraise\u001b[39;00m \u001b[38;5;167;01mTypeError\u001b[39;00m(\u001b[38;5;124mf\u001b[39m\u001b[38;5;124m'\u001b[39m\u001b[38;5;124mObject of type \u001b[39m\u001b[38;5;132;01m{\u001b[39;00mo\u001b[38;5;241m.\u001b[39m\u001b[38;5;18m__class__\u001b[39m\u001b[38;5;241m.\u001b[39m\u001b[38;5;18m__name__\u001b[39m\u001b[38;5;132;01m}\u001b[39;00m\u001b[38;5;124m \u001b[39m\u001b[38;5;124m'\u001b[39m\n\u001b[1;32m    180\u001b[0m                     \u001b[38;5;124mf\u001b[39m\u001b[38;5;124m'\u001b[39m\u001b[38;5;124mis not JSON serializable\u001b[39m\u001b[38;5;124m'\u001b[39m)\n",
      "\u001b[0;31mTypeError\u001b[0m: Object of type ndarray is not JSON serializable"
     ]
    }
   ],
   "source": [
    "# import json\n",
    "# with open('../results/torch.results_{}.inner.our_data.json'.format(exclude_user[0]), 'w') as f:\n",
    "#     json.dump(predicted_results, f)"
   ]
  },
  {
   "cell_type": "code",
   "execution_count": null,
   "id": "baf0e87a-382f-4645-95fa-f33156e8d8b7",
   "metadata": {},
   "outputs": [],
   "source": []
  },
  {
   "cell_type": "code",
   "execution_count": null,
   "id": "e7e8f38c-8cf7-413d-978c-282da2c301b6",
   "metadata": {},
   "outputs": [],
   "source": []
  },
  {
   "cell_type": "code",
   "execution_count": null,
   "id": "44454d2c-0cf4-4864-9cbd-94894e401360",
   "metadata": {},
   "outputs": [],
   "source": []
  },
  {
   "cell_type": "code",
   "execution_count": null,
   "id": "ba579b58-9827-49c2-a430-8cd52ea1b573",
   "metadata": {},
   "outputs": [],
   "source": []
  },
  {
   "cell_type": "code",
   "execution_count": null,
   "id": "6469f22a-6d46-463f-b7a8-da6ba13acdff",
   "metadata": {},
   "outputs": [],
   "source": []
  },
  {
   "cell_type": "code",
   "execution_count": null,
   "id": "0f9d41bc-399c-4bf8-adcc-001add3eb0ba",
   "metadata": {},
   "outputs": [],
   "source": []
  },
  {
   "cell_type": "code",
   "execution_count": null,
   "id": "6feba12b-f690-469e-83d8-bfe2f26ee28e",
   "metadata": {},
   "outputs": [],
   "source": []
  },
  {
   "cell_type": "code",
   "execution_count": null,
   "id": "2bcb3407-7e31-43bf-8658-bb689d9675c1",
   "metadata": {},
   "outputs": [],
   "source": []
  },
  {
   "cell_type": "code",
   "execution_count": null,
   "id": "a40e7a60-2939-4bb6-bfd4-c127956b0c70",
   "metadata": {},
   "outputs": [],
   "source": []
  },
  {
   "cell_type": "code",
   "execution_count": null,
   "id": "6b8ea720-ba79-471b-8a9c-5c7cdf8a0980",
   "metadata": {},
   "outputs": [],
   "source": []
  },
  {
   "cell_type": "code",
   "execution_count": null,
   "id": "f042f2d9-73a2-4d07-9cdc-ac9f4d874484",
   "metadata": {},
   "outputs": [],
   "source": []
  },
  {
   "cell_type": "code",
   "execution_count": null,
   "id": "a30a8a6d-1b86-4341-8327-713b086a88f4",
   "metadata": {},
   "outputs": [],
   "source": []
  }
 ],
 "metadata": {
  "kernelspec": {
   "display_name": "Python 3 (ipykernel)",
   "language": "python",
   "name": "python3"
  },
  "language_info": {
   "codemirror_mode": {
    "name": "ipython",
    "version": 3
   },
   "file_extension": ".py",
   "mimetype": "text/x-python",
   "name": "python",
   "nbconvert_exporter": "python",
   "pygments_lexer": "ipython3",
   "version": "3.8.10"
  }
 },
 "nbformat": 4,
 "nbformat_minor": 5
}
