{
 "cells": [
  {
   "cell_type": "code",
   "execution_count": 1,
   "id": "0c215d9f-bc7a-4cef-9421-fdb79cb553c5",
   "metadata": {
    "execution": {
     "iopub.execute_input": "2023-09-08T15:18:04.034471Z",
     "iopub.status.busy": "2023-09-08T15:18:04.032673Z",
     "iopub.status.idle": "2023-09-08T15:18:04.198727Z",
     "shell.execute_reply": "2023-09-08T15:18:04.196909Z",
     "shell.execute_reply.started": "2023-09-08T15:18:04.034421Z"
    },
    "tags": []
   },
   "outputs": [
    {
     "name": "stdout",
     "output_type": "stream",
     "text": [
      "Fri Sep  8 18:18:04 2023       \n",
      "+-----------------------------------------------------------------------------+\n",
      "| NVIDIA-SMI 470.199.02   Driver Version: 470.199.02   CUDA Version: 11.4     |\n",
      "|-------------------------------+----------------------+----------------------+\n",
      "| GPU  Name        Persistence-M| Bus-Id        Disp.A | Volatile Uncorr. ECC |\n",
      "| Fan  Temp  Perf  Pwr:Usage/Cap|         Memory-Usage | GPU-Util  Compute M. |\n",
      "|                               |                      |               MIG M. |\n",
      "|===============================+======================+======================|\n",
      "|   0  NVIDIA GeForce ...  Off  | 00000000:19:00.0 Off |                  N/A |\n",
      "| 30%   26C    P8    22W / 350W |  12108MiB / 24268MiB |      0%      Default |\n",
      "|                               |                      |                  N/A |\n",
      "+-------------------------------+----------------------+----------------------+\n",
      "|   1  NVIDIA GeForce ...  Off  | 00000000:65:00.0 Off |                  N/A |\n",
      "| 30%   27C    P8    23W / 350W |   9785MiB / 24268MiB |      0%      Default |\n",
      "|                               |                      |                  N/A |\n",
      "+-------------------------------+----------------------+----------------------+\n",
      "                                                                               \n",
      "+-----------------------------------------------------------------------------+\n",
      "| Processes:                                                                  |\n",
      "|  GPU   GI   CI        PID   Type   Process name                  GPU Memory |\n",
      "|        ID   ID                                                   Usage      |\n",
      "|=============================================================================|\n",
      "|    0   N/A  N/A      1362      G   /usr/lib/xorg/Xorg                  4MiB |\n",
      "|    0   N/A  N/A    910571      C   ...nda3/envs/meta/bin/python     1195MiB |\n",
      "|    0   N/A  N/A   2792645      C   ...ore/miniconda3/bin/python    10905MiB |\n",
      "|    1   N/A  N/A      1362      G   /usr/lib/xorg/Xorg                  4MiB |\n",
      "|    1   N/A  N/A   2792645      C   ...ore/miniconda3/bin/python     9777MiB |\n",
      "+-----------------------------------------------------------------------------+\n"
     ]
    }
   ],
   "source": [
    "!nvidia-smi\n",
    "# !export 'PYTORCH_CUDA_ALLOC_CONF=max_split_size_mb:512'"
   ]
  },
  {
   "cell_type": "code",
   "execution_count": 2,
   "id": "96120462-71cf-4905-a845-7db008d252df",
   "metadata": {
    "execution": {
     "iopub.execute_input": "2023-09-08T15:18:04.202690Z",
     "iopub.status.busy": "2023-09-08T15:18:04.202038Z",
     "iopub.status.idle": "2023-09-08T15:18:04.211017Z",
     "shell.execute_reply": "2023-09-08T15:18:04.209257Z",
     "shell.execute_reply.started": "2023-09-08T15:18:04.202625Z"
    },
    "tags": []
   },
   "outputs": [],
   "source": [
    "import os\n",
    "os.environ[\"CUDA_VISIBLE_DEVICES\"] = \"0,1\"\n",
    "# os.environ['http_proxy'] = \"http://127.0.0.1:3128\"\n",
    "# os.environ['https_proxy'] = \"http://127.0.0.1:3128\""
   ]
  },
  {
   "cell_type": "code",
   "execution_count": 3,
   "id": "dcca46cf-27bf-4759-8a1c-f55b61a5def5",
   "metadata": {
    "execution": {
     "iopub.execute_input": "2023-09-08T15:18:04.233718Z",
     "iopub.status.busy": "2023-09-08T15:18:04.233090Z",
     "iopub.status.idle": "2023-09-08T15:18:06.359392Z",
     "shell.execute_reply": "2023-09-08T15:18:06.358442Z",
     "shell.execute_reply.started": "2023-09-08T15:18:04.233659Z"
    },
    "tags": []
   },
   "outputs": [],
   "source": [
    "import torch\n",
    "from transformers import BertConfig\n",
    "from transformers.models.bert.modeling_bert import BertEncoder\n",
    "\n",
    "import matplotlib.pyplot as plt\n",
    "from torch.utils.data import Dataset\n",
    "torch.cuda.empty_cache()\n",
    "import numpy as np\n",
    "import pandas as pd\n",
    "import os\n",
    "import math\n",
    "\n",
    "from typing import Callable\n",
    "import functools\n",
    "from pathlib import Path\n",
    "import random\n",
    "\n",
    "\n",
    "from tqdm.auto import tqdm\n",
    "\n",
    "from scipy import signal\n",
    "import pandas as pd\n",
    "import seaborn as sns"
   ]
  },
  {
   "cell_type": "code",
   "execution_count": 4,
   "id": "a819bae0-8f2e-4a42-aff2-86635ab7484a",
   "metadata": {
    "execution": {
     "iopub.execute_input": "2023-09-08T15:18:06.360426Z",
     "iopub.status.busy": "2023-09-08T15:18:06.360166Z",
     "iopub.status.idle": "2023-09-08T15:18:06.408213Z",
     "shell.execute_reply": "2023-09-08T15:18:06.407337Z",
     "shell.execute_reply.started": "2023-09-08T15:18:06.360408Z"
    },
    "tags": []
   },
   "outputs": [],
   "source": [
    "from torch.utils.tensorboard import SummaryWriter"
   ]
  },
  {
   "cell_type": "code",
   "execution_count": 5,
   "id": "97b3075f-81f7-42de-82bb-ea4c2b6307ba",
   "metadata": {
    "execution": {
     "iopub.execute_input": "2023-09-08T15:18:06.409117Z",
     "iopub.status.busy": "2023-09-08T15:18:06.408884Z",
     "iopub.status.idle": "2023-09-08T15:18:06.414617Z",
     "shell.execute_reply": "2023-09-08T15:18:06.413730Z",
     "shell.execute_reply.started": "2023-09-08T15:18:06.409101Z"
    },
    "tags": []
   },
   "outputs": [
    {
     "name": "stdout",
     "output_type": "stream",
     "text": [
      "['FP1', 'FP2', 'FZ', 'FCZ', 'CZ', 'PZ', 'O1', 'O2', 'F3', 'F4', 'F7', 'F8', 'C3', 'C4', 'T3', 'T4', 'P3', 'P4', 'T5', 'T6', 'A1', 'A2']\n"
     ]
    }
   ],
   "source": [
    "channels = ['Fp1', 'Fp2', 'FZ', 'FCz', 'Cz', 'Pz', 'O1', 'O2', 'F3', 'F4', \n",
    "               'F7', 'F8', 'C3', 'C4', 'T3', 'T4', 'P3', 'P4', 'T5', 'T6', 'A1', 'A2']\n",
    "channels = [i.upper() for i in channels]\n",
    "print(channels)\n",
    "\n",
    "\n",
    "path10 = Path('/media/hdd/pretraining/synt_data/data_10')\n",
    "path12 = Path('/media/hdd/pretraining/synt_data/data_12')"
   ]
  },
  {
   "cell_type": "code",
   "execution_count": 6,
   "id": "dbee1e09-4225-496d-a145-a055dede7501",
   "metadata": {
    "execution": {
     "iopub.execute_input": "2023-09-08T15:18:06.415241Z",
     "iopub.status.busy": "2023-09-08T15:18:06.415090Z",
     "iopub.status.idle": "2023-09-08T15:18:06.440951Z",
     "shell.execute_reply": "2023-09-08T15:18:06.440080Z",
     "shell.execute_reply.started": "2023-09-08T15:18:06.415227Z"
    },
    "tags": []
   },
   "outputs": [],
   "source": [
    "class PositionalEncoding(torch.nn.Module):\n",
    "\n",
    "    def __init__(self, d_model: int, dropout: float = 0.1, max_len: int = 5000):\n",
    "        super().__init__()\n",
    "        self.dropout = torch.nn.Dropout(p=dropout)\n",
    "        \n",
    "        position = torch.arange(max_len).unsqueeze(1)\n",
    "        position = (position.T - position).T / max_len\n",
    "        self.register_buffer('rel_position', position)\n",
    "        \n",
    "        self.conv = torch.nn.Conv1d(max_len, d_model, 25, padding=25 // 2, groups=16)\n",
    "\n",
    "    def forward(self, x):\n",
    "        \"\"\"\n",
    "        Args:\n",
    "            x: Tensor, shape [batch_size, seq_len, embedding_dim]\n",
    "        \"\"\"\n",
    "        rel_pos = self.conv(self.rel_position[:x.size(1), :x.size(1)][None])[0].T\n",
    "        # print(rel_pos.shape)\n",
    "        x = x + rel_pos\n",
    "        return self.dropout(x)\n",
    "    \n",
    "class TransposeCustom(torch.nn.Module):\n",
    "    def __init__(self):\n",
    "        super(TransposeCustom, self).__init__()\n",
    "        \n",
    "    def forward(self, x):\n",
    "        return torch.transpose(x, 1, 2)\n",
    "    \n",
    "def _make_span_from_seeds(seeds, span, total=None):\n",
    "    inds = list()\n",
    "    for seed in seeds:\n",
    "        for i in range(seed, seed + span):\n",
    "            if total is not None and i >= total:\n",
    "                break\n",
    "            elif i not in inds:\n",
    "                inds.append(int(i))\n",
    "    return np.array(inds)\n",
    "\n",
    "def _make_mask(shape, p, total, span, allow_no_inds=False):\n",
    "    # num_mask_spans = np.sum(np.random.rand(total) < p)\n",
    "    # num_mask_spans = int(p * total)\n",
    "    mask = torch.zeros(shape, requires_grad=False, dtype=torch.bool)\n",
    "\n",
    "    for i in range(shape[0]):\n",
    "        mask_seeds = list()\n",
    "        while not allow_no_inds and len(mask_seeds) == 0 and p > 0:\n",
    "            mask_seeds = np.nonzero(np.random.rand(total) < p)[0]\n",
    "\n",
    "        mask[i, _make_span_from_seeds(mask_seeds, span, total=total)] = True\n",
    "\n",
    "    return mask"
   ]
  },
  {
   "cell_type": "code",
   "execution_count": 7,
   "id": "2b55add4-7bc4-4cfa-bac8-f884ef1be44b",
   "metadata": {
    "execution": {
     "iopub.execute_input": "2023-09-08T15:18:06.441959Z",
     "iopub.status.busy": "2023-09-08T15:18:06.441798Z",
     "iopub.status.idle": "2023-09-08T15:18:06.474584Z",
     "shell.execute_reply": "2023-09-08T15:18:06.473611Z",
     "shell.execute_reply.started": "2023-09-08T15:18:06.441945Z"
    },
    "tags": []
   },
   "outputs": [],
   "source": [
    "class EEGEmbedder(torch.nn.Module):\n",
    "    def __init__(self, num_labels=2, channels=None, clf=True):\n",
    "        super(EEGEmbedder, self).__init__()\n",
    "        self.config = BertConfig(is_decoder=False, \n",
    "                    add_cross_attention=False,\n",
    "                    ff_layer='linear',\n",
    "                    hidden_size=512,\n",
    "                    num_attention_heads=8,\n",
    "                    num_hidden_layers=8,\n",
    "                    conv_kernel=1,\n",
    "                    conv_kernel_num=1)\n",
    "        self.channels = channels\n",
    "        self.model = BertEncoder(self.config)\n",
    "\n",
    "        self.clf = clf\n",
    "        self.masking = True\n",
    "        \n",
    "        \n",
    "        self.pos_e = PositionalEncoding(512, max_len=6000)\n",
    "        self.ch_embedder = torch.nn.Embedding(22, 512)\n",
    "        self.ch_norm = torch.nn.LayerNorm(512)\n",
    "        \n",
    "        self.input_norm = torch.nn.LayerNorm(2)\n",
    "        self.input_embedder = torch.nn.Sequential(\n",
    "            TransposeCustom(),\n",
    "            torch.nn.Conv1d(21, 32, 5, 2, padding=0),\n",
    "            torch.nn.Conv1d(32, 64, 5, 2, padding=0),\n",
    "            # TransposeCustom(),\n",
    "            torch.nn.GroupNorm(64 // 2, 64),\n",
    "            torch.nn.GELU(),\n",
    "            # TransposeCustom(),\n",
    "            torch.nn.Conv1d(64, 128, 3, 2, padding=0),\n",
    "            torch.nn.Conv1d(128, 196, 3, 2, padding=0),\n",
    "            # TransposeCustom(),\n",
    "            torch.nn.GroupNorm(196 // 2, 196),\n",
    "            torch.nn.GELU(),\n",
    "            # TransposeCustom(),\n",
    "            torch.nn.Conv1d(196, 256, 5, 1, padding=0),\n",
    "            torch.nn.Conv1d(256, 384, 5, 1, padding=0),\n",
    "            # TransposeCustom(),\n",
    "            torch.nn.GroupNorm(384 // 2, 384),\n",
    "            torch.nn.GELU(),\n",
    "            # TransposeCustom(),\n",
    "            torch.nn.Conv1d(384, 512, 5, 1, padding=0),\n",
    "            torch.nn.Conv1d(512, 512, 1, 1, padding=0),\n",
    "            torch.nn.GroupNorm(512 // 2, 512),\n",
    "            torch.nn.GELU(),\n",
    "            TransposeCustom(),\n",
    "        # torch.nn.LeakyReLU(),\n",
    "        )\n",
    "        \n",
    "        self.output_embedder = torch.nn.Linear(512, 512)\n",
    "        self.transpose = TransposeCustom()\n",
    "        \n",
    "        self.mask_embedding = torch.nn.Parameter(torch.normal(0, 512**(-0.5), size=(512,)),\n",
    "                                                   requires_grad=True)\n",
    "        self.placeholder = torch.nn.Parameter(torch.normal(0, 512**(-0.5), size=(512,)),\n",
    "                                                   requires_grad=True)\n",
    "        # self.classifier = torch.nn.Linear()\n",
    "        \n",
    "        self.classifier = torch.nn.Sequential(\n",
    "            # torch.nn.Linear(768, 256),\n",
    "            torch.nn.Linear(self.config.hidden_size, self.config.num_labels),\n",
    "            # torch.nn.Linear(256, 2),\n",
    "            torch.nn.Sigmoid()\n",
    "        )\n",
    "        \n",
    "    def forward(self, inputs, attention_mask, ch_vector, clf=False):\n",
    "        embedding = self.input_embedder(inputs)\n",
    "        # create embedding for two channel indexes and sumup them to a single one\n",
    "        ch_embedding = self.ch_embedder(ch_vector).sum(1)\n",
    "        ch_embedding = ch_embedding[:, None]\n",
    "        embedding += ch_embedding\n",
    "        embedding_unmasked = embedding.clone() # keep for loss calculation\n",
    "        # perform masking\n",
    "        if self.masking:\n",
    "            mask = _make_mask((embedding.shape[0], embedding.shape[1]), 0.05, embedding.shape[1], 10)\n",
    "            embedding[mask] = self.mask_embedding\n",
    "        \n",
    "        # additional vector for classification tasks later\n",
    "        placeholder = torch.zeros((embedding.shape[0], 1, embedding.shape[2]), device=embedding.device)\n",
    "        placeholder += self.placeholder\n",
    "        embedding = torch.cat([placeholder, embedding], 1)\n",
    "        encoder_output = self.model(embedding, output_hidden_states=True,\n",
    "                               output_attentions=True)[0]\n",
    "    \n",
    "        encoder_output = self.output_embedder(encoder_output)\n",
    "\n",
    "        if clf:\n",
    "            logits = self.classifier(encoder_output[:, 0]) #sequence classification\n",
    "            # logits = self.classifier(encoder_output)  # token classification ?\n",
    "            return logits\n",
    "            \n",
    "        \n",
    "        return encoder_output[:, 1:], embedding_unmasked\n",
    "    \n",
    "    \n"
   ]
  },
  {
   "cell_type": "code",
   "execution_count": 8,
   "id": "52e2ce78-ea1f-4386-b6f3-e5c4af5c31f1",
   "metadata": {
    "execution": {
     "iopub.execute_input": "2023-09-08T15:18:06.475703Z",
     "iopub.status.busy": "2023-09-08T15:18:06.475499Z",
     "iopub.status.idle": "2023-09-08T15:18:06.509583Z",
     "shell.execute_reply": "2023-09-08T15:18:06.508595Z",
     "shell.execute_reply.started": "2023-09-08T15:18:06.475685Z"
    },
    "tags": []
   },
   "outputs": [],
   "source": [
    "def worker_init_fn(worker_id):\n",
    "    torch_seed = torch.initial_seed()\n",
    "    random.seed(torch_seed + worker_id)\n",
    "    np.random.seed((torch_seed + worker_id) % 2**30)\n",
    "    \n",
    "    \n",
    "def _SelectChannels(sample, channels=channels):\n",
    "    signal = sample['value_pure']\n",
    "    channels_ids = [i for i, val in enumerate(sample['channels']) if i != 3 and val in channels]\n",
    "    channels_to_train = channels_ids\n",
    "    # print(signal.shape)\n",
    "    signal = signal[:, channels_to_train]\n",
    "    # print(signal.shape)\n",
    "    \n",
    "    return signal, channels_to_train\n",
    "\n",
    "\n",
    "def SleepEdf():\n",
    "    sample_ch = sample['channels']\n",
    "    return\n",
    "    \n",
    "\n",
    "class TEST(torch.utils.data.Dataset):\n",
    "    def __init__(self, paths, labels=None, return_label=False, masking=True, preprocess_montage:Callable=_SelectChannels) :\n",
    "        super(TEST, self).__init__()\n",
    "        self.paths = paths\n",
    "        self.labels = labels\n",
    "        self.return_label = return_label\n",
    "        self.masking = masking\n",
    "        self.preprocess_montage=preprocess_montage\n",
    "        \n",
    "    def __len__(self):\n",
    "        return len(self.paths)\n",
    "    \n",
    "    def __getitem__(self, idx):\n",
    "        path = self.paths[idx]\n",
    "        # take 60s of recording with specified shift\n",
    "        sample = np.load(path, allow_pickle=True).item()\n",
    "        return self.process_sample(sample, label=self.labels[idx])\n",
    "        \n",
    "    def process_sample(self, sample, label=None):\n",
    "        signal, channels_to_train = self.preprocess_montage(sample)\n",
    "        real_len = signal.shape[0]\n",
    "\n",
    "        channels_vector = torch.tensor((channels_to_train))\n",
    "\n",
    "        sample_norm_mean = signal.mean()\n",
    "        sample_norm_std = np.std(signal)\n",
    "        \n",
    "        signal_norm = (signal - sample_norm_mean) / (sample_norm_std)\n",
    "        attention_mask=np.arange(1)\n",
    "        if self.masking:\n",
    "            if signal_norm.shape[0] < 6000:\n",
    "                signal_norm = np.pad(signal_norm, ((0, 6000 - signal_norm.shape[0]), (0, 0)))\n",
    "\n",
    "            attention_mask = torch.ones(6000)\n",
    "            attention_mask[real_len:] = 0\n",
    "        output =  {'anchor': torch.from_numpy(signal_norm).float(), \n",
    "                # 'anchor_masked': torch.from_numpy(sample_masked).float(), \n",
    "                # 'mask': torch.tensor(mask),\n",
    "                'channels': channels_vector,\n",
    "                'attention_mask': attention_mask}\n",
    "        if label is not None:\n",
    "            output['label'] = label\n",
    "        return output\n",
    "            \n",
    "    \n",
    "class SYNT(TEST):\n",
    "    def __init__(self, paths, labels, return_label=True, masking=True, preprocess_montage:Callable=_SelectChannels) :\n",
    "        super(SYNT, self).__init__(paths, labels, return_label=True, masking=True, preprocess_montage=preprocess_montage)\n",
    "# \n",
    "    def __len__(self):\n",
    "        return len(self.paths)\n",
    "    \n",
    "    def __getitem__(self, idx):\n",
    "        path = self.paths[idx]\n",
    "        # take 60s of recording with specified shift\n",
    "        sample = np.load(path, allow_pickle=True).T\n",
    "        sample = {'value_pure':sample, 'channels':channels}\n",
    "        \n",
    "        return self.process_sample(sample, label=self.labels[idx])\n",
    "\n",
    "    \n",
    "#     def process_sample(self, sample, label=None):\n",
    "#         signal, channels_to_train = self.preprocess_montage(sample)\n",
    "#         real_len = signal.shape[0]\n",
    "\n",
    "#         channels_vector = torch.tensor((channels_to_train))\n",
    "\n",
    "#         sample_norm_mean = signal.mean()\n",
    "#         sample_norm_std = np.std(signal)\n",
    "        \n",
    "#         signal_norm = (signal - sample_norm_mean) / (sample_norm_std)\n",
    "#         attention_mask=np.arange(1)\n",
    "# #         if signal_norm.shape[0] < 6000:\n",
    "# #             signal_norm = np.pad(signal_norm, ((0, 6000 - signal_norm.shape[0]), (0, 0)))\n",
    "        \n",
    "# #         attention_mask = torch.ones(6000)\n",
    "# #         attention_mask[real_len:] = 0\n",
    "#         output =  {'anchor': torch.from_numpy(signal_norm).float(), \n",
    "#                 # 'anchor_masked': torch.from_numpy(sample_masked).float(), \n",
    "#                 # 'mask': torch.tensor(mask),\n",
    "#                 'channels': channels_vector,\n",
    "#                 'attention_mask': attention_mask}\n",
    "#         if label is not None:\n",
    "#             output['label'] = label\n",
    "#         return output"
   ]
  },
  {
   "cell_type": "code",
   "execution_count": 9,
   "id": "c54382b0-6f08-49ad-b324-7e339266f70c",
   "metadata": {
    "execution": {
     "iopub.execute_input": "2023-09-08T15:18:06.512388Z",
     "iopub.status.busy": "2023-09-08T15:18:06.512092Z",
     "iopub.status.idle": "2023-09-08T15:18:06.580095Z",
     "shell.execute_reply": "2023-09-08T15:18:06.579046Z",
     "shell.execute_reply.started": "2023-09-08T15:18:06.512361Z"
    },
    "tags": []
   },
   "outputs": [],
   "source": [
    "device = \"cuda:0\" if torch.cuda.is_available() else \"cpu\"\n",
    "device='cpu'"
   ]
  },
  {
   "cell_type": "code",
   "execution_count": 10,
   "id": "1cbfcd56-4ce4-4def-bd16-ed087243b54d",
   "metadata": {
    "execution": {
     "iopub.execute_input": "2023-09-08T15:18:06.584702Z",
     "iopub.status.busy": "2023-09-08T15:18:06.584395Z",
     "iopub.status.idle": "2023-09-08T15:18:08.001079Z",
     "shell.execute_reply": "2023-09-08T15:18:08.000495Z",
     "shell.execute_reply.started": "2023-09-08T15:18:06.584674Z"
    },
    "tags": []
   },
   "outputs": [],
   "source": [
    "class_size = 1000\n",
    "batch_size = 10\n",
    "\n",
    "paths_train = list(path10.glob(\"*.npy\"))[:class_size] + list(path12.glob(\"*.npy\"))[:class_size] # first n samples\n",
    "labels = np.r_[np.ones(class_size), np.zeros(class_size)]\n",
    "labels = torch.tensor(labels).cuda()\n",
    "if 'cuda' in device:\n",
    "    labels = labels.cuda()\n",
    "    \n",
    "synt_dataset_train = SYNT(paths_train, labels=labels, masking=False)\n",
    "synt_loader_train = torch.utils.data.DataLoader(synt_dataset_train, batch_size=batch_size, shuffle=False, num_workers=0, drop_last=True, worker_init_fn=worker_init_fn)\n",
    "\n",
    "paths_test = list(path10.glob(\"*.npy\"))[-class_size:] + list(path12.glob(\"*.npy\"))[-class_size:] # last n samples\n",
    "labels = np.r_[np.ones(class_size), np.zeros(class_size)]\n",
    "labels = torch.tensor(labels)\n",
    "if 'cuda' in device:\n",
    "    labels = labels.cuda()\n",
    "\n",
    "synt_dataset_test = SYNT(paths_test, labels=labels, masking=False)\n",
    "synt_loader_test = torch.utils.data.DataLoader(synt_dataset_test, batch_size=batch_size, shuffle=False, num_workers=0, drop_last=True, worker_init_fn=worker_init_fn)\n",
    "\n",
    "\n",
    "\n",
    "splitted_paths = ['/media/hdd/data/TUH_pretrain.filtered_1_40.v2.splited/{}'.format(i) for i in os.listdir('/media/hdd/data/TUH_pretrain.filtered_1_40.v2.splited/')]\n",
    "train_dataset = TEST(splitted_paths[-1000:], labels=np.ones(1000), masking=False)\n",
    "train_loader = torch.utils.data.DataLoader(train_dataset, batch_size=batch_size, shuffle=True, num_workers=0, drop_last=True, worker_init_fn=worker_init_fn)\n"
   ]
  },
  {
   "cell_type": "code",
   "execution_count": 11,
   "id": "cd8693a3-b943-4fd3-bc4b-778e5a46507d",
   "metadata": {
    "execution": {
     "iopub.execute_input": "2023-09-08T15:18:08.001972Z",
     "iopub.status.busy": "2023-09-08T15:18:08.001797Z",
     "iopub.status.idle": "2023-09-08T15:18:08.505555Z",
     "shell.execute_reply": "2023-09-08T15:18:08.504650Z",
     "shell.execute_reply.started": "2023-09-08T15:18:08.001957Z"
    },
    "tags": []
   },
   "outputs": [
    {
     "data": {
      "text/plain": [
       "_IncompatibleKeys(missing_keys=['classifier.0.weight', 'classifier.0.bias'], unexpected_keys=[])"
      ]
     },
     "execution_count": 11,
     "metadata": {},
     "output_type": "execute_result"
    }
   ],
   "source": [
    "model = EEGEmbedder()\n",
    "model.masking=False\n",
    "model.clf=True\n",
    "model.load_state_dict(torch.load('/media/hdd/pretraining/models/step.pt'), strict=False)"
   ]
  },
  {
   "cell_type": "code",
   "execution_count": 50,
   "id": "be1bd7b3-2a28-419d-9d78-498a6e4ff558",
   "metadata": {
    "execution": {
     "iopub.execute_input": "2023-09-08T15:46:35.743996Z",
     "iopub.status.busy": "2023-09-08T15:46:35.743250Z",
     "iopub.status.idle": "2023-09-08T15:46:36.237666Z",
     "shell.execute_reply": "2023-09-08T15:46:36.235997Z",
     "shell.execute_reply.started": "2023-09-08T15:46:35.743932Z"
    },
    "tags": []
   },
   "outputs": [
    {
     "data": {
      "application/vnd.jupyter.widget-view+json": {
       "model_id": "298e8d7dbe3842b3a38aaa0fe4f841a7",
       "version_major": 2,
       "version_minor": 0
      },
      "text/plain": [
       "  0%|          | 0/200 [00:00<?, ?it/s]"
      ]
     },
     "metadata": {},
     "output_type": "display_data"
    },
    {
     "ename": "RuntimeError",
     "evalue": "Input type (torch.FloatTensor) and weight type (torch.cuda.FloatTensor) should be the same or input should be a MKLDNN tensor and weight is a dense tensor",
     "output_type": "error",
     "traceback": [
      "\u001b[0;31m---------------------------------------------------------------------------\u001b[0m",
      "\u001b[0;31mRuntimeError\u001b[0m                              Traceback (most recent call last)",
      "Cell \u001b[0;32mIn[50], line 8\u001b[0m\n\u001b[1;32m      5\u001b[0m     sample\u001b[38;5;241m=\u001b[39mbatch\n\u001b[1;32m      6\u001b[0m     labels_ \u001b[38;5;241m=\u001b[39m np\u001b[38;5;241m.\u001b[39mr_[labels_, sample[\u001b[38;5;124m'\u001b[39m\u001b[38;5;124mlabel\u001b[39m\u001b[38;5;124m'\u001b[39m]\u001b[38;5;241m.\u001b[39mcpu()\u001b[38;5;241m.\u001b[39mdetach()\u001b[38;5;241m.\u001b[39mnumpy()]\n\u001b[0;32m----> 8\u001b[0m     output \u001b[38;5;241m=\u001b[39m \u001b[43mmodel\u001b[49m\u001b[43m(\u001b[49m\u001b[43msample\u001b[49m\u001b[43m[\u001b[49m\u001b[38;5;124;43m'\u001b[39;49m\u001b[38;5;124;43manchor\u001b[39;49m\u001b[38;5;124;43m'\u001b[39;49m\u001b[43m]\u001b[49m\u001b[38;5;241;43m.\u001b[39;49m\u001b[43mto\u001b[49m\u001b[43m(\u001b[49m\u001b[43mdevice\u001b[49m\u001b[43m)\u001b[49m\u001b[43m,\u001b[49m\u001b[43m \u001b[49m\n\u001b[1;32m      9\u001b[0m \u001b[43m           \u001b[49m\u001b[38;5;28;43;01mNone\u001b[39;49;00m\u001b[43m,\u001b[49m\u001b[43m \u001b[49m\n\u001b[1;32m     10\u001b[0m \u001b[43m           \u001b[49m\u001b[43msample\u001b[49m\u001b[43m[\u001b[49m\u001b[38;5;124;43m'\u001b[39;49m\u001b[38;5;124;43mchannels\u001b[39;49m\u001b[38;5;124;43m'\u001b[39;49m\u001b[43m]\u001b[49m\u001b[38;5;241;43m.\u001b[39;49m\u001b[43mto\u001b[49m\u001b[43m(\u001b[49m\u001b[43mdevice\u001b[49m\u001b[43m)\u001b[49m\n\u001b[1;32m     11\u001b[0m \u001b[43m          \u001b[49m\u001b[43m)\u001b[49m\n\u001b[1;32m     12\u001b[0m     output_ \u001b[38;5;241m=\u001b[39m np\u001b[38;5;241m.\u001b[39mr_[output_, output\u001b[38;5;241m.\u001b[39mdetach()\u001b[38;5;241m.\u001b[39mnumpy()]\n\u001b[1;32m     14\u001b[0m df \u001b[38;5;241m=\u001b[39m pd\u001b[38;5;241m.\u001b[39mDataFrame(np\u001b[38;5;241m.\u001b[39mc_[labels_\u001b[38;5;241m.\u001b[39mT, np\u001b[38;5;241m.\u001b[39marray(output_)])\n",
      "File \u001b[0;32m~/.local/lib/python3.10/site-packages/torch/nn/modules/module.py:1190\u001b[0m, in \u001b[0;36mModule._call_impl\u001b[0;34m(self, *input, **kwargs)\u001b[0m\n\u001b[1;32m   1186\u001b[0m \u001b[38;5;66;03m# If we don't have any hooks, we want to skip the rest of the logic in\u001b[39;00m\n\u001b[1;32m   1187\u001b[0m \u001b[38;5;66;03m# this function, and just call forward.\u001b[39;00m\n\u001b[1;32m   1188\u001b[0m \u001b[38;5;28;01mif\u001b[39;00m \u001b[38;5;129;01mnot\u001b[39;00m (\u001b[38;5;28mself\u001b[39m\u001b[38;5;241m.\u001b[39m_backward_hooks \u001b[38;5;129;01mor\u001b[39;00m \u001b[38;5;28mself\u001b[39m\u001b[38;5;241m.\u001b[39m_forward_hooks \u001b[38;5;129;01mor\u001b[39;00m \u001b[38;5;28mself\u001b[39m\u001b[38;5;241m.\u001b[39m_forward_pre_hooks \u001b[38;5;129;01mor\u001b[39;00m _global_backward_hooks\n\u001b[1;32m   1189\u001b[0m         \u001b[38;5;129;01mor\u001b[39;00m _global_forward_hooks \u001b[38;5;129;01mor\u001b[39;00m _global_forward_pre_hooks):\n\u001b[0;32m-> 1190\u001b[0m     \u001b[38;5;28;01mreturn\u001b[39;00m \u001b[43mforward_call\u001b[49m\u001b[43m(\u001b[49m\u001b[38;5;241;43m*\u001b[39;49m\u001b[38;5;28;43minput\u001b[39;49m\u001b[43m,\u001b[49m\u001b[43m \u001b[49m\u001b[38;5;241;43m*\u001b[39;49m\u001b[38;5;241;43m*\u001b[39;49m\u001b[43mkwargs\u001b[49m\u001b[43m)\u001b[49m\n\u001b[1;32m   1191\u001b[0m \u001b[38;5;66;03m# Do not call functions when jit is used\u001b[39;00m\n\u001b[1;32m   1192\u001b[0m full_backward_hooks, non_full_backward_hooks \u001b[38;5;241m=\u001b[39m [], []\n",
      "Cell \u001b[0;32mIn[7], line 69\u001b[0m, in \u001b[0;36mEEGEmbedder.forward\u001b[0;34m(self, inputs, attention_mask, ch_vector, clf)\u001b[0m\n\u001b[1;32m     68\u001b[0m \u001b[38;5;28;01mdef\u001b[39;00m \u001b[38;5;21mforward\u001b[39m(\u001b[38;5;28mself\u001b[39m, inputs, attention_mask, ch_vector, clf\u001b[38;5;241m=\u001b[39m\u001b[38;5;28;01mFalse\u001b[39;00m):\n\u001b[0;32m---> 69\u001b[0m     embedding \u001b[38;5;241m=\u001b[39m \u001b[38;5;28;43mself\u001b[39;49m\u001b[38;5;241;43m.\u001b[39;49m\u001b[43minput_embedder\u001b[49m\u001b[43m(\u001b[49m\u001b[43minputs\u001b[49m\u001b[43m)\u001b[49m\n\u001b[1;32m     70\u001b[0m     \u001b[38;5;66;03m# create embedding for two channel indexes and sumup them to a single one\u001b[39;00m\n\u001b[1;32m     71\u001b[0m     ch_embedding \u001b[38;5;241m=\u001b[39m \u001b[38;5;28mself\u001b[39m\u001b[38;5;241m.\u001b[39mch_embedder(ch_vector)\u001b[38;5;241m.\u001b[39msum(\u001b[38;5;241m1\u001b[39m)\n",
      "File \u001b[0;32m~/.local/lib/python3.10/site-packages/torch/nn/modules/module.py:1190\u001b[0m, in \u001b[0;36mModule._call_impl\u001b[0;34m(self, *input, **kwargs)\u001b[0m\n\u001b[1;32m   1186\u001b[0m \u001b[38;5;66;03m# If we don't have any hooks, we want to skip the rest of the logic in\u001b[39;00m\n\u001b[1;32m   1187\u001b[0m \u001b[38;5;66;03m# this function, and just call forward.\u001b[39;00m\n\u001b[1;32m   1188\u001b[0m \u001b[38;5;28;01mif\u001b[39;00m \u001b[38;5;129;01mnot\u001b[39;00m (\u001b[38;5;28mself\u001b[39m\u001b[38;5;241m.\u001b[39m_backward_hooks \u001b[38;5;129;01mor\u001b[39;00m \u001b[38;5;28mself\u001b[39m\u001b[38;5;241m.\u001b[39m_forward_hooks \u001b[38;5;129;01mor\u001b[39;00m \u001b[38;5;28mself\u001b[39m\u001b[38;5;241m.\u001b[39m_forward_pre_hooks \u001b[38;5;129;01mor\u001b[39;00m _global_backward_hooks\n\u001b[1;32m   1189\u001b[0m         \u001b[38;5;129;01mor\u001b[39;00m _global_forward_hooks \u001b[38;5;129;01mor\u001b[39;00m _global_forward_pre_hooks):\n\u001b[0;32m-> 1190\u001b[0m     \u001b[38;5;28;01mreturn\u001b[39;00m \u001b[43mforward_call\u001b[49m\u001b[43m(\u001b[49m\u001b[38;5;241;43m*\u001b[39;49m\u001b[38;5;28;43minput\u001b[39;49m\u001b[43m,\u001b[49m\u001b[43m \u001b[49m\u001b[38;5;241;43m*\u001b[39;49m\u001b[38;5;241;43m*\u001b[39;49m\u001b[43mkwargs\u001b[49m\u001b[43m)\u001b[49m\n\u001b[1;32m   1191\u001b[0m \u001b[38;5;66;03m# Do not call functions when jit is used\u001b[39;00m\n\u001b[1;32m   1192\u001b[0m full_backward_hooks, non_full_backward_hooks \u001b[38;5;241m=\u001b[39m [], []\n",
      "File \u001b[0;32m~/.local/lib/python3.10/site-packages/torch/nn/modules/container.py:204\u001b[0m, in \u001b[0;36mSequential.forward\u001b[0;34m(self, input)\u001b[0m\n\u001b[1;32m    202\u001b[0m \u001b[38;5;28;01mdef\u001b[39;00m \u001b[38;5;21mforward\u001b[39m(\u001b[38;5;28mself\u001b[39m, \u001b[38;5;28minput\u001b[39m):\n\u001b[1;32m    203\u001b[0m     \u001b[38;5;28;01mfor\u001b[39;00m module \u001b[38;5;129;01min\u001b[39;00m \u001b[38;5;28mself\u001b[39m:\n\u001b[0;32m--> 204\u001b[0m         \u001b[38;5;28minput\u001b[39m \u001b[38;5;241m=\u001b[39m \u001b[43mmodule\u001b[49m\u001b[43m(\u001b[49m\u001b[38;5;28;43minput\u001b[39;49m\u001b[43m)\u001b[49m\n\u001b[1;32m    205\u001b[0m     \u001b[38;5;28;01mreturn\u001b[39;00m \u001b[38;5;28minput\u001b[39m\n",
      "File \u001b[0;32m~/.local/lib/python3.10/site-packages/torch/nn/modules/module.py:1190\u001b[0m, in \u001b[0;36mModule._call_impl\u001b[0;34m(self, *input, **kwargs)\u001b[0m\n\u001b[1;32m   1186\u001b[0m \u001b[38;5;66;03m# If we don't have any hooks, we want to skip the rest of the logic in\u001b[39;00m\n\u001b[1;32m   1187\u001b[0m \u001b[38;5;66;03m# this function, and just call forward.\u001b[39;00m\n\u001b[1;32m   1188\u001b[0m \u001b[38;5;28;01mif\u001b[39;00m \u001b[38;5;129;01mnot\u001b[39;00m (\u001b[38;5;28mself\u001b[39m\u001b[38;5;241m.\u001b[39m_backward_hooks \u001b[38;5;129;01mor\u001b[39;00m \u001b[38;5;28mself\u001b[39m\u001b[38;5;241m.\u001b[39m_forward_hooks \u001b[38;5;129;01mor\u001b[39;00m \u001b[38;5;28mself\u001b[39m\u001b[38;5;241m.\u001b[39m_forward_pre_hooks \u001b[38;5;129;01mor\u001b[39;00m _global_backward_hooks\n\u001b[1;32m   1189\u001b[0m         \u001b[38;5;129;01mor\u001b[39;00m _global_forward_hooks \u001b[38;5;129;01mor\u001b[39;00m _global_forward_pre_hooks):\n\u001b[0;32m-> 1190\u001b[0m     \u001b[38;5;28;01mreturn\u001b[39;00m \u001b[43mforward_call\u001b[49m\u001b[43m(\u001b[49m\u001b[38;5;241;43m*\u001b[39;49m\u001b[38;5;28;43minput\u001b[39;49m\u001b[43m,\u001b[49m\u001b[43m \u001b[49m\u001b[38;5;241;43m*\u001b[39;49m\u001b[38;5;241;43m*\u001b[39;49m\u001b[43mkwargs\u001b[49m\u001b[43m)\u001b[49m\n\u001b[1;32m   1191\u001b[0m \u001b[38;5;66;03m# Do not call functions when jit is used\u001b[39;00m\n\u001b[1;32m   1192\u001b[0m full_backward_hooks, non_full_backward_hooks \u001b[38;5;241m=\u001b[39m [], []\n",
      "File \u001b[0;32m~/.local/lib/python3.10/site-packages/torch/nn/modules/conv.py:313\u001b[0m, in \u001b[0;36mConv1d.forward\u001b[0;34m(self, input)\u001b[0m\n\u001b[1;32m    312\u001b[0m \u001b[38;5;28;01mdef\u001b[39;00m \u001b[38;5;21mforward\u001b[39m(\u001b[38;5;28mself\u001b[39m, \u001b[38;5;28minput\u001b[39m: Tensor) \u001b[38;5;241m-\u001b[39m\u001b[38;5;241m>\u001b[39m Tensor:\n\u001b[0;32m--> 313\u001b[0m     \u001b[38;5;28;01mreturn\u001b[39;00m \u001b[38;5;28;43mself\u001b[39;49m\u001b[38;5;241;43m.\u001b[39;49m\u001b[43m_conv_forward\u001b[49m\u001b[43m(\u001b[49m\u001b[38;5;28;43minput\u001b[39;49m\u001b[43m,\u001b[49m\u001b[43m \u001b[49m\u001b[38;5;28;43mself\u001b[39;49m\u001b[38;5;241;43m.\u001b[39;49m\u001b[43mweight\u001b[49m\u001b[43m,\u001b[49m\u001b[43m \u001b[49m\u001b[38;5;28;43mself\u001b[39;49m\u001b[38;5;241;43m.\u001b[39;49m\u001b[43mbias\u001b[49m\u001b[43m)\u001b[49m\n",
      "File \u001b[0;32m~/.local/lib/python3.10/site-packages/torch/nn/modules/conv.py:309\u001b[0m, in \u001b[0;36mConv1d._conv_forward\u001b[0;34m(self, input, weight, bias)\u001b[0m\n\u001b[1;32m    305\u001b[0m \u001b[38;5;28;01mif\u001b[39;00m \u001b[38;5;28mself\u001b[39m\u001b[38;5;241m.\u001b[39mpadding_mode \u001b[38;5;241m!=\u001b[39m \u001b[38;5;124m'\u001b[39m\u001b[38;5;124mzeros\u001b[39m\u001b[38;5;124m'\u001b[39m:\n\u001b[1;32m    306\u001b[0m     \u001b[38;5;28;01mreturn\u001b[39;00m F\u001b[38;5;241m.\u001b[39mconv1d(F\u001b[38;5;241m.\u001b[39mpad(\u001b[38;5;28minput\u001b[39m, \u001b[38;5;28mself\u001b[39m\u001b[38;5;241m.\u001b[39m_reversed_padding_repeated_twice, mode\u001b[38;5;241m=\u001b[39m\u001b[38;5;28mself\u001b[39m\u001b[38;5;241m.\u001b[39mpadding_mode),\n\u001b[1;32m    307\u001b[0m                     weight, bias, \u001b[38;5;28mself\u001b[39m\u001b[38;5;241m.\u001b[39mstride,\n\u001b[1;32m    308\u001b[0m                     _single(\u001b[38;5;241m0\u001b[39m), \u001b[38;5;28mself\u001b[39m\u001b[38;5;241m.\u001b[39mdilation, \u001b[38;5;28mself\u001b[39m\u001b[38;5;241m.\u001b[39mgroups)\n\u001b[0;32m--> 309\u001b[0m \u001b[38;5;28;01mreturn\u001b[39;00m \u001b[43mF\u001b[49m\u001b[38;5;241;43m.\u001b[39;49m\u001b[43mconv1d\u001b[49m\u001b[43m(\u001b[49m\u001b[38;5;28;43minput\u001b[39;49m\u001b[43m,\u001b[49m\u001b[43m \u001b[49m\u001b[43mweight\u001b[49m\u001b[43m,\u001b[49m\u001b[43m \u001b[49m\u001b[43mbias\u001b[49m\u001b[43m,\u001b[49m\u001b[43m \u001b[49m\u001b[38;5;28;43mself\u001b[39;49m\u001b[38;5;241;43m.\u001b[39;49m\u001b[43mstride\u001b[49m\u001b[43m,\u001b[49m\n\u001b[1;32m    310\u001b[0m \u001b[43m                \u001b[49m\u001b[38;5;28;43mself\u001b[39;49m\u001b[38;5;241;43m.\u001b[39;49m\u001b[43mpadding\u001b[49m\u001b[43m,\u001b[49m\u001b[43m \u001b[49m\u001b[38;5;28;43mself\u001b[39;49m\u001b[38;5;241;43m.\u001b[39;49m\u001b[43mdilation\u001b[49m\u001b[43m,\u001b[49m\u001b[43m \u001b[49m\u001b[38;5;28;43mself\u001b[39;49m\u001b[38;5;241;43m.\u001b[39;49m\u001b[43mgroups\u001b[49m\u001b[43m)\u001b[49m\n",
      "\u001b[0;31mRuntimeError\u001b[0m: Input type (torch.FloatTensor) and weight type (torch.cuda.FloatTensor) should be the same or input should be a MKLDNN tensor and weight is a dense tensor"
     ]
    }
   ],
   "source": [
    "output_ = np.array([[],[]]).T\n",
    "labels_ = np.array([])\n",
    "\n",
    "for batch in tqdm(synt_loader_train):\n",
    "    sample=batch\n",
    "    labels_ = np.r_[labels_, sample['label'].cpu().detach().numpy()]\n",
    "\n",
    "    output = model(sample['anchor'].to(device), \n",
    "           None, \n",
    "           sample['channels'].to(device)\n",
    "          )\n",
    "    output_ = np.r_[output_, output.detach().numpy()]\n",
    "\n",
    "df = pd.DataFrame(np.c_[labels_.T, np.array(output_)])\n",
    "sns.violinplot(df, x=0,  y=1)"
   ]
  },
  {
   "cell_type": "code",
   "execution_count": 13,
   "id": "af1c497f-f611-4b97-85c0-8360bc96b3e1",
   "metadata": {
    "execution": {
     "iopub.execute_input": "2023-09-08T10:01:08.547207Z",
     "iopub.status.busy": "2023-09-08T10:01:08.546945Z",
     "iopub.status.idle": "2023-09-08T10:01:08.668998Z",
     "shell.execute_reply": "2023-09-08T10:01:08.668138Z",
     "shell.execute_reply.started": "2023-09-08T10:01:08.547182Z"
    },
    "tags": []
   },
   "outputs": [
    {
     "data": {
      "image/png": "[encoded data removed]",
      "text/plain": [
       "<Figure size 640x480 with 1 Axes>"
      ]
     },
     "metadata": {},
     "output_type": "display_data"
    },
    {
     "data": {
      "image/png": "[encoded data removed]",
      "text/plain": [
       "<Figure size 640x480 with 1 Axes>"
      ]
     },
     "metadata": {},
     "output_type": "display_data"
    }
   ],
   "source": [
    "plt.imshow(np.load('synt_data/data_12/10.npy', allow_pickle=True))\n",
    "plt.show()\n",
    "plt.imshow(np.load('synt_data/data_10/10.npy', allow_pickle=True))\n",
    "plt.show()\n"
   ]
  },
  {
   "cell_type": "code",
   "execution_count": 14,
   "id": "d4e1c5b3-417b-4169-b967-0e02675cff79",
   "metadata": {
    "execution": {
     "iopub.execute_input": "2023-09-08T10:01:08.670020Z",
     "iopub.status.busy": "2023-09-08T10:01:08.669779Z",
     "iopub.status.idle": "2023-09-08T10:01:08.869586Z",
     "shell.execute_reply": "2023-09-08T10:01:08.868538Z",
     "shell.execute_reply.started": "2023-09-08T10:01:08.669996Z"
    },
    "tags": []
   },
   "outputs": [
    {
     "name": "stdout",
     "output_type": "stream",
     "text": [
      "tensor(1., device='cuda:0', dtype=torch.float64)\n",
      "tensor(1., device='cuda:0', dtype=torch.float64)\n",
      "tensor(0., device='cuda:0', dtype=torch.float64)\n"
     ]
    },
    {
     "data": {
      "text/plain": [
       "[<matplotlib.lines.Line2D at 0x7fe7303f4ac0>]"
      ]
     },
     "execution_count": 14,
     "metadata": {},
     "output_type": "execute_result"
    },
    {
     "data": {
      "image/png": "[encoded data removed]",
      "text/plain": [
       "<Figure size 1800x500 with 2 Axes>"
      ]
     },
     "metadata": {},
     "output_type": "display_data"
    }
   ],
   "source": [
    "fig, ax = plt.subplots(2,1, figsize=(18, 5))\n",
    "\n",
    "\n",
    "i=synt_loader_train.dataset[50]\n",
    "# ax[0].imshow(i['anchor'], interpolation='nearest', aspect='auto')\n",
    "# ax[0].plot(i['anchor'][:,20])\n",
    "print(i['label'])\n",
    "print(i['label'])\n",
    "w = signal.welch(i['anchor'][:,20], fs=250)\n",
    "ax[0].plot(w[0][:20], w[1].T[:20])\n",
    "\n",
    "i=synt_loader_train.dataset[-234]\n",
    "# ax[1].plot(i['anchor'][:,20])\n",
    "\n",
    "# ax[1].imshow(i['anchor'], interpolation='nearest', aspect='auto')\n",
    "w = signal.welch(i['anchor'][:,20], fs=250)\n",
    "print(i['label'])\n",
    "\n",
    "\n",
    "ax[1].plot(w[0][:20], w[1].T[:20])\n",
    "\n"
   ]
  },
  {
   "cell_type": "markdown",
   "id": "b3df5265-a1db-4257-9ead-6b8f009e7c2a",
   "metadata": {},
   "source": [
    "# Fine-tuning the model"
   ]
  },
  {
   "cell_type": "code",
   "execution_count": 12,
   "id": "453091a2-708a-4e1e-a5aa-3c3bc84e3968",
   "metadata": {
    "execution": {
     "iopub.execute_input": "2023-09-08T15:18:15.740310Z",
     "iopub.status.busy": "2023-09-08T15:18:15.739936Z",
     "iopub.status.idle": "2023-09-08T15:18:15.859583Z",
     "shell.execute_reply": "2023-09-08T15:18:15.858404Z",
     "shell.execute_reply.started": "2023-09-08T15:18:15.740279Z"
    },
    "tags": []
   },
   "outputs": [],
   "source": [
    "from transformers import TrainingArguments, Trainer"
   ]
  },
  {
   "cell_type": "code",
   "execution_count": 13,
   "id": "e65dbeec-5ade-41f8-920b-b311977db6ce",
   "metadata": {
    "execution": {
     "iopub.execute_input": "2023-09-08T15:18:16.114275Z",
     "iopub.status.busy": "2023-09-08T15:18:16.113775Z",
     "iopub.status.idle": "2023-09-08T15:18:16.603101Z",
     "shell.execute_reply": "2023-09-08T15:18:16.602181Z",
     "shell.execute_reply.started": "2023-09-08T15:18:16.114239Z"
    },
    "tags": []
   },
   "outputs": [
    {
     "data": {
      "text/plain": [
       "_IncompatibleKeys(missing_keys=['classifier.0.weight', 'classifier.0.bias'], unexpected_keys=[])"
      ]
     },
     "execution_count": 13,
     "metadata": {},
     "output_type": "execute_result"
    }
   ],
   "source": [
    "num_labels = 2\n",
    "model = EEGEmbedder()\n",
    "model.masking=False\n",
    "model.clf=True\n",
    "model.load_state_dict(torch.load('/media/hdd/pretraining/models/step.pt'), strict=False)"
   ]
  },
  {
   "cell_type": "code",
   "execution_count": 14,
   "id": "d1149a5a-a284-4907-846e-88c24ea36006",
   "metadata": {
    "execution": {
     "iopub.execute_input": "2023-09-08T15:18:16.604280Z",
     "iopub.status.busy": "2023-09-08T15:18:16.604107Z",
     "iopub.status.idle": "2023-09-08T15:18:16.609626Z",
     "shell.execute_reply": "2023-09-08T15:18:16.608766Z",
     "shell.execute_reply.started": "2023-09-08T15:18:16.604264Z"
    },
    "tags": []
   },
   "outputs": [],
   "source": [
    "from torch.optim.lr_scheduler import _LRScheduler\n",
    "class NoamLR(_LRScheduler):\n",
    "    def __init__(self, optimizer, warmup_steps, d_model=512):\n",
    "        self.warmup_steps = warmup_steps\n",
    "        self.d_model = d_model\n",
    "        super().__init__(optimizer)\n",
    "\n",
    "    def get_lr(self):\n",
    "        last_epoch = max(1, self.last_epoch)\n",
    "        factor = min(last_epoch ** (-0.5), last_epoch * self.warmup_steps ** (-1.5))\n",
    "        \n",
    "        return [base_lr * self.d_model ** (-0.5) * factor for base_lr in self.base_lrs]"
   ]
  },
  {
   "cell_type": "code",
   "execution_count": 15,
   "id": "1d79f7a0-91b5-419d-91c1-ebee4c30cfa1",
   "metadata": {
    "execution": {
     "iopub.execute_input": "2023-09-08T15:18:22.875328Z",
     "iopub.status.busy": "2023-09-08T15:18:22.874953Z",
     "iopub.status.idle": "2023-09-08T15:18:22.882328Z",
     "shell.execute_reply": "2023-09-08T15:18:22.881202Z",
     "shell.execute_reply.started": "2023-09-08T15:18:22.875299Z"
    },
    "tags": []
   },
   "outputs": [],
   "source": [
    "cossim = torch.nn.CosineSimilarity(dim=-1)\n",
    "\n",
    "def cosloss(anchor, real, negative):\n",
    "    a = torch.exp(cossim(anchor, real)) / 0.1\n",
    "    b = sum([torch.exp(cossim(anchor, negative[:, n])) / 0.1 for n in range(negative.shape[1])]) + 1e-6\n",
    "    return -torch.log(a/b)"
   ]
  },
  {
   "cell_type": "code",
   "execution_count": 16,
   "id": "dd524b2a-5456-497e-990d-fb2f51f17f8e",
   "metadata": {
    "execution": {
     "iopub.execute_input": "2023-09-08T15:18:24.750228Z",
     "iopub.status.busy": "2023-09-08T15:18:24.749642Z",
     "iopub.status.idle": "2023-09-08T15:18:24.757557Z",
     "shell.execute_reply": "2023-09-08T15:18:24.755661Z",
     "shell.execute_reply.started": "2023-09-08T15:18:24.750179Z"
    },
    "tags": []
   },
   "outputs": [],
   "source": [
    "# import random\n",
    "# def worker_init_fn(worker_id):\n",
    "#     torch_seed = torch.initial_seed()\n",
    "#     random.seed(torch_seed + worker_id)\n",
    "#     np.random.seed((torch_seed + worker_id) % 2**30)\n",
    "\n",
    "# train_dataset = TEST(splitted_paths[:-15000])\n",
    "# train_loader = torch.utils.data.DataLoader(train_dataset, batch_size=64, shuffle=True, num_workers=0, drop_last=True, worker_init_fn = worker_init_fn)\n",
    "\n",
    "# test_dataset = TEST(splitted_paths[-15000:])\n",
    "# test_loader = torch.utils.data.DataLoader(test_dataset, batch_size=64, shuffle=False, num_workers=0, drop_last=True, worker_init_fn = worker_init_fn)"
   ]
  },
  {
   "cell_type": "code",
   "execution_count": 17,
   "id": "95e4b7b1-b69b-4dd1-9c73-0b9c1123365e",
   "metadata": {
    "execution": {
     "iopub.execute_input": "2023-09-08T15:18:25.160732Z",
     "iopub.status.busy": "2023-09-08T15:18:25.160068Z",
     "iopub.status.idle": "2023-09-08T15:18:25.170381Z",
     "shell.execute_reply": "2023-09-08T15:18:25.168829Z",
     "shell.execute_reply.started": "2023-09-08T15:18:25.160671Z"
    },
    "tags": []
   },
   "outputs": [],
   "source": [
    "writer = SummaryWriter('logs')"
   ]
  },
  {
   "cell_type": "code",
   "execution_count": null,
   "id": "4ff2fe54-2a0a-4df3-acd9-a9aca83abd0e",
   "metadata": {},
   "outputs": [],
   "source": []
  },
  {
   "cell_type": "code",
   "execution_count": 18,
   "id": "5e122f47-f55e-40b5-9fbf-eb43641026d6",
   "metadata": {
    "execution": {
     "iopub.execute_input": "2023-09-08T15:18:27.597477Z",
     "iopub.status.busy": "2023-09-08T15:18:27.596717Z",
     "iopub.status.idle": "2023-09-08T15:18:27.612456Z",
     "shell.execute_reply": "2023-09-08T15:18:27.610591Z",
     "shell.execute_reply.started": "2023-09-08T15:18:27.597410Z"
    },
    "tags": []
   },
   "outputs": [],
   "source": [
    "def _calculate_similarity( z, c, negatives):\n",
    "    c = c[..., :].permute([0, 2, 1]).unsqueeze(-2)\n",
    "    z = z.permute([0, 2, 1]).unsqueeze(-2)\n",
    "\n",
    "    # In case the contextualizer matches exactly, need to avoid divide by zero errors\n",
    "    negative_in_target = (c == negatives).all(-1)\n",
    "    targets = torch.cat([c, negatives], dim=-2)\n",
    "\n",
    "    logits = torch.nn.functional.cosine_similarity(z, targets, dim=-1) / 0.1\n",
    "    if negative_in_target.any():\n",
    "        logits[1:][negative_in_target] = float(\"-inf\")\n",
    "\n",
    "    return logits.view(-1, logits.shape[-1])\n",
    "\n",
    "def _generate_negatives(z):\n",
    "    \"\"\"Generate negative samples to compare each sequence location against\"\"\"\n",
    "    num_negatives = 20\n",
    "    batch_size, feat, full_len = z.shape\n",
    "    z_k = z.permute([0, 2, 1]).reshape(-1, feat)\n",
    "    with torch.no_grad():\n",
    "        # candidates = torch.arange(full_len).unsqueeze(-1).expand(-1, self.num_negatives).flatten()\n",
    "        negative_inds = torch.randint(0, full_len-1, size=(batch_size, full_len * num_negatives))\n",
    "        # From wav2vec 2.0 implementation, I don't understand\n",
    "        # negative_inds[negative_inds >= candidates] += 1\n",
    "\n",
    "        for i in range(1, batch_size):\n",
    "            negative_inds[i] += i * full_len\n",
    "\n",
    "    z_k = z_k[negative_inds.view(-1)].view(batch_size, full_len, num_negatives, feat)\n",
    "    return z_k, negative_inds"
   ]
  },
  {
   "cell_type": "code",
   "execution_count": 19,
   "id": "2165eae7-f0c5-4f5c-9020-861afe447e03",
   "metadata": {
    "execution": {
     "iopub.execute_input": "2023-09-08T15:18:29.552308Z",
     "iopub.status.busy": "2023-09-08T15:18:29.551604Z",
     "iopub.status.idle": "2023-09-08T15:18:29.658518Z",
     "shell.execute_reply": "2023-09-08T15:18:29.657043Z",
     "shell.execute_reply.started": "2023-09-08T15:18:29.552243Z"
    },
    "tags": []
   },
   "outputs": [],
   "source": [
    "model.train()\n",
    "\n",
    "lr_d = 2e-5\n",
    "acc_size = 8\n",
    "training_epochs1 = 100000 // len(synt_loader_train)\n",
    "\n",
    "optim = torch.optim.AdamW(model.parameters(), lr=lr_d)\n",
    "\n",
    "model_test = torch.nn.DataParallel(model)\n",
    "model_test.to('cuda:0')\n",
    "\n",
    "loss_func = torch.nn.MSELoss()\n",
    "scheduler = NoamLR(optim, 100000, 512)\n",
    "\n",
    "steps = 0"
   ]
  },
  {
   "cell_type": "code",
   "execution_count": 45,
   "id": "a8170548-1397-4978-8d79-7c4b8c0e4a19",
   "metadata": {
    "execution": {
     "iopub.execute_input": "2023-09-08T15:31:38.879742Z",
     "iopub.status.busy": "2023-09-08T15:31:38.879030Z",
     "iopub.status.idle": "2023-09-08T15:31:39.105057Z",
     "shell.execute_reply": "2023-09-08T15:31:39.103431Z",
     "shell.execute_reply.started": "2023-09-08T15:31:38.879694Z"
    },
    "tags": []
   },
   "outputs": [
    {
     "ename": "RuntimeError",
     "evalue": "\"host_softmax\" not implemented for 'Long'",
     "output_type": "error",
     "traceback": [
      "\u001b[0;31m---------------------------------------------------------------------------\u001b[0m",
      "\u001b[0;31mRuntimeError\u001b[0m                              Traceback (most recent call last)",
      "Cell \u001b[0;32mIn[45], line 27\u001b[0m\n\u001b[1;32m     22\u001b[0m         logits \u001b[38;5;241m=\u001b[39m logits\u001b[38;5;241m.\u001b[39mto(torch\u001b[38;5;241m.\u001b[39mint64)\n\u001b[1;32m     24\u001b[0m \u001b[38;5;66;03m#         logits = _calculate_similarity(torch.transpose(label, 1, 2), torch.transpose(logits, 1, 2), _generate_negatives(torch.transpose(label, 1, 2))[0])\u001b[39;00m\n\u001b[1;32m     25\u001b[0m \n\u001b[1;32m     26\u001b[0m \u001b[38;5;66;03m#         labels_ = np.r_[labels_, sample['label'].cpu().detach().numpy()]\u001b[39;00m\n\u001b[0;32m---> 27\u001b[0m         loss \u001b[38;5;241m=\u001b[39m \u001b[43mtorch\u001b[49m\u001b[38;5;241;43m.\u001b[39;49m\u001b[43mnn\u001b[49m\u001b[38;5;241;43m.\u001b[39;49m\u001b[43mCrossEntropyLoss\u001b[49m\u001b[43m(\u001b[49m\u001b[43m)\u001b[49m\u001b[43m(\u001b[49m\u001b[43mlogits\u001b[49m\u001b[43m,\u001b[49m\u001b[43m \u001b[49m\u001b[43mlabel\u001b[49m\u001b[43m)\u001b[49m \u001b[38;5;66;03m#+ 0.001 * label.pow(2).mean()\u001b[39;00m\n\u001b[1;32m     29\u001b[0m         loss \u001b[38;5;241m=\u001b[39m loss\u001b[38;5;241m.\u001b[39mmean()\n\u001b[1;32m     30\u001b[0m         loss\u001b[38;5;241m.\u001b[39mbackward()\n",
      "File \u001b[0;32m~/.local/lib/python3.10/site-packages/torch/nn/modules/module.py:1190\u001b[0m, in \u001b[0;36mModule._call_impl\u001b[0;34m(self, *input, **kwargs)\u001b[0m\n\u001b[1;32m   1186\u001b[0m \u001b[38;5;66;03m# If we don't have any hooks, we want to skip the rest of the logic in\u001b[39;00m\n\u001b[1;32m   1187\u001b[0m \u001b[38;5;66;03m# this function, and just call forward.\u001b[39;00m\n\u001b[1;32m   1188\u001b[0m \u001b[38;5;28;01mif\u001b[39;00m \u001b[38;5;129;01mnot\u001b[39;00m (\u001b[38;5;28mself\u001b[39m\u001b[38;5;241m.\u001b[39m_backward_hooks \u001b[38;5;129;01mor\u001b[39;00m \u001b[38;5;28mself\u001b[39m\u001b[38;5;241m.\u001b[39m_forward_hooks \u001b[38;5;129;01mor\u001b[39;00m \u001b[38;5;28mself\u001b[39m\u001b[38;5;241m.\u001b[39m_forward_pre_hooks \u001b[38;5;129;01mor\u001b[39;00m _global_backward_hooks\n\u001b[1;32m   1189\u001b[0m         \u001b[38;5;129;01mor\u001b[39;00m _global_forward_hooks \u001b[38;5;129;01mor\u001b[39;00m _global_forward_pre_hooks):\n\u001b[0;32m-> 1190\u001b[0m     \u001b[38;5;28;01mreturn\u001b[39;00m \u001b[43mforward_call\u001b[49m\u001b[43m(\u001b[49m\u001b[38;5;241;43m*\u001b[39;49m\u001b[38;5;28;43minput\u001b[39;49m\u001b[43m,\u001b[49m\u001b[43m \u001b[49m\u001b[38;5;241;43m*\u001b[39;49m\u001b[38;5;241;43m*\u001b[39;49m\u001b[43mkwargs\u001b[49m\u001b[43m)\u001b[49m\n\u001b[1;32m   1191\u001b[0m \u001b[38;5;66;03m# Do not call functions when jit is used\u001b[39;00m\n\u001b[1;32m   1192\u001b[0m full_backward_hooks, non_full_backward_hooks \u001b[38;5;241m=\u001b[39m [], []\n",
      "File \u001b[0;32m~/.local/lib/python3.10/site-packages/torch/nn/modules/loss.py:1174\u001b[0m, in \u001b[0;36mCrossEntropyLoss.forward\u001b[0;34m(self, input, target)\u001b[0m\n\u001b[1;32m   1173\u001b[0m \u001b[38;5;28;01mdef\u001b[39;00m \u001b[38;5;21mforward\u001b[39m(\u001b[38;5;28mself\u001b[39m, \u001b[38;5;28minput\u001b[39m: Tensor, target: Tensor) \u001b[38;5;241m-\u001b[39m\u001b[38;5;241m>\u001b[39m Tensor:\n\u001b[0;32m-> 1174\u001b[0m     \u001b[38;5;28;01mreturn\u001b[39;00m \u001b[43mF\u001b[49m\u001b[38;5;241;43m.\u001b[39;49m\u001b[43mcross_entropy\u001b[49m\u001b[43m(\u001b[49m\u001b[38;5;28;43minput\u001b[39;49m\u001b[43m,\u001b[49m\u001b[43m \u001b[49m\u001b[43mtarget\u001b[49m\u001b[43m,\u001b[49m\u001b[43m \u001b[49m\u001b[43mweight\u001b[49m\u001b[38;5;241;43m=\u001b[39;49m\u001b[38;5;28;43mself\u001b[39;49m\u001b[38;5;241;43m.\u001b[39;49m\u001b[43mweight\u001b[49m\u001b[43m,\u001b[49m\n\u001b[1;32m   1175\u001b[0m \u001b[43m                           \u001b[49m\u001b[43mignore_index\u001b[49m\u001b[38;5;241;43m=\u001b[39;49m\u001b[38;5;28;43mself\u001b[39;49m\u001b[38;5;241;43m.\u001b[39;49m\u001b[43mignore_index\u001b[49m\u001b[43m,\u001b[49m\u001b[43m \u001b[49m\u001b[43mreduction\u001b[49m\u001b[38;5;241;43m=\u001b[39;49m\u001b[38;5;28;43mself\u001b[39;49m\u001b[38;5;241;43m.\u001b[39;49m\u001b[43mreduction\u001b[49m\u001b[43m,\u001b[49m\n\u001b[1;32m   1176\u001b[0m \u001b[43m                           \u001b[49m\u001b[43mlabel_smoothing\u001b[49m\u001b[38;5;241;43m=\u001b[39;49m\u001b[38;5;28;43mself\u001b[39;49m\u001b[38;5;241;43m.\u001b[39;49m\u001b[43mlabel_smoothing\u001b[49m\u001b[43m)\u001b[49m\n",
      "File \u001b[0;32m~/.local/lib/python3.10/site-packages/torch/nn/functional.py:3026\u001b[0m, in \u001b[0;36mcross_entropy\u001b[0;34m(input, target, weight, size_average, ignore_index, reduce, reduction, label_smoothing)\u001b[0m\n\u001b[1;32m   3024\u001b[0m \u001b[38;5;28;01mif\u001b[39;00m size_average \u001b[38;5;129;01mis\u001b[39;00m \u001b[38;5;129;01mnot\u001b[39;00m \u001b[38;5;28;01mNone\u001b[39;00m \u001b[38;5;129;01mor\u001b[39;00m reduce \u001b[38;5;129;01mis\u001b[39;00m \u001b[38;5;129;01mnot\u001b[39;00m \u001b[38;5;28;01mNone\u001b[39;00m:\n\u001b[1;32m   3025\u001b[0m     reduction \u001b[38;5;241m=\u001b[39m _Reduction\u001b[38;5;241m.\u001b[39mlegacy_get_string(size_average, reduce)\n\u001b[0;32m-> 3026\u001b[0m \u001b[38;5;28;01mreturn\u001b[39;00m \u001b[43mtorch\u001b[49m\u001b[38;5;241;43m.\u001b[39;49m\u001b[43m_C\u001b[49m\u001b[38;5;241;43m.\u001b[39;49m\u001b[43m_nn\u001b[49m\u001b[38;5;241;43m.\u001b[39;49m\u001b[43mcross_entropy_loss\u001b[49m\u001b[43m(\u001b[49m\u001b[38;5;28;43minput\u001b[39;49m\u001b[43m,\u001b[49m\u001b[43m \u001b[49m\u001b[43mtarget\u001b[49m\u001b[43m,\u001b[49m\u001b[43m \u001b[49m\u001b[43mweight\u001b[49m\u001b[43m,\u001b[49m\u001b[43m \u001b[49m\u001b[43m_Reduction\u001b[49m\u001b[38;5;241;43m.\u001b[39;49m\u001b[43mget_enum\u001b[49m\u001b[43m(\u001b[49m\u001b[43mreduction\u001b[49m\u001b[43m)\u001b[49m\u001b[43m,\u001b[49m\u001b[43m \u001b[49m\u001b[43mignore_index\u001b[49m\u001b[43m,\u001b[49m\u001b[43m \u001b[49m\u001b[43mlabel_smoothing\u001b[49m\u001b[43m)\u001b[49m\n",
      "\u001b[0;31mRuntimeError\u001b[0m: \"host_softmax\" not implemented for 'Long'"
     ]
    }
   ],
   "source": [
    "for epoch in range(training_epochs1):\n",
    "    mean_loss = 0\n",
    "    acc_step = 0\n",
    "    for batch in synt_loader_train:\n",
    "        # print(type(batch['anchor']))\n",
    "        # print(batch['anchor'])\n",
    "        # print()\n",
    "        logits = model_test(\n",
    "            batch['anchor'],#.to('cuda:0'), \n",
    "            None,\n",
    "            batch['channels'].long(),\n",
    "            clf=True)\n",
    "        # ae, label = model_test(\n",
    "        #     batch['anchor'],#.to('cuda:0'), \n",
    "        #     None, \n",
    "        #     batch['channels'].long(),\n",
    "        #     clf=False\n",
    "        # )\n",
    "        # print(logits.shape, ae.shape, label.shape, torch.tensor(labels_).shape)\n",
    "\n",
    "        label = batch['label'].to(torch.int64)#.gpu().detach()\n",
    "        logits = logits.to(torch.int64)\n",
    "        \n",
    "#         logits = _calculate_similarity(torch.transpose(label, 1, 2), torch.transpose(logits, 1, 2), _generate_negatives(torch.transpose(label, 1, 2))[0])\n",
    "\n",
    "#         labels_ = np.r_[labels_, sample['label'].cpu().detach().numpy()]\n",
    "        loss = torch.nn.CrossEntropyLoss()(logits, label) #+ 0.001 * label.pow(2).mean()\n",
    "\n",
    "        loss = loss.mean()\n",
    "        loss.backward()\n",
    "        mean_loss += loss.item()\n",
    "        acc_step += 1\n",
    "        steps += 1\n",
    "        # raise\n",
    "        if acc_step != 0 and acc_step % acc_size == 0:\n",
    "            optim.step()\n",
    "            scheduler.step()\n",
    "            optim.zero_grad()\n",
    "            if steps % 100 == 0:\n",
    "                print('Loss/train\\t{}'.format(mean_loss / acc_size))\n",
    "            writer.add_scalar('Loss/train', mean_loss / acc_size, steps)\n",
    "            mean_loss = 0\n",
    "#         if steps != 0 and steps % 1000 == 0:\n",
    "#             der = 0\n",
    "#             try:\n",
    "#                 with torch.no_grad():\n",
    "#                     for batch in synt_loader_test:\n",
    "#                         logits = model_test(batch['anchor'],#.to('cuda:0'), \n",
    "#                                             None,\n",
    "#                                             batch['channels'].long(),\n",
    "#                                             clf=True)\n",
    "#                         label=batch['labels']\n",
    "                        \n",
    "#                         logits = _calculate_similarity(torch.transpose(label, 1, 2), torch.transpose(logits, 1, 2), _generate_negatives(torch.transpose(label, 1, 2))[0])\n",
    "\n",
    "#                         labels_ = np.r_[labels_, sample['label'].cpu().detach().numpy()]\n",
    "\n",
    "#                         loss = torch.nn.CrossEntropyLoss()(logits, labels_) + 0.001 * label.pow(2).mean()\n",
    "\n",
    "#                         loss = loss.mean() / acc_size\n",
    "#                         der += loss\n",
    "#                 der /= len(test_loader)\n",
    "#                 writer.add_scalar('Loss/test', der, steps)\n",
    "\n",
    "#                 print('Loss: {}\\t'.format(der))\n",
    "#             except:\n",
    "#                 raise\n",
    "            # torch.save(model_test.module.state_dict(), 'models/step.pt'.format(steps))"
   ]
  },
  {
   "cell_type": "code",
   "execution_count": null,
   "id": "296b6f21-5b5b-40e7-9511-40ddcd49524c",
   "metadata": {},
   "outputs": [],
   "source": []
  },
  {
   "cell_type": "code",
   "execution_count": 16,
   "id": "00518b6c-cb5f-4029-845b-4300b498d1e0",
   "metadata": {
    "execution": {
     "iopub.execute_input": "2023-09-08T15:17:50.184540Z",
     "iopub.status.busy": "2023-09-08T15:17:50.183904Z",
     "iopub.status.idle": "2023-09-08T15:17:50.269111Z",
     "shell.execute_reply": "2023-09-08T15:17:50.267272Z",
     "shell.execute_reply.started": "2023-09-08T15:17:50.184487Z"
    },
    "tags": []
   },
   "outputs": [
    {
     "ename": "NameError",
     "evalue": "name 'training_epochs' is not defined",
     "output_type": "error",
     "traceback": [
      "\u001b[0;31m---------------------------------------------------------------------------\u001b[0m",
      "\u001b[0;31mNameError\u001b[0m                                 Traceback (most recent call last)",
      "Cell \u001b[0;32mIn[42], line 1\u001b[0m\n\u001b[0;32m----> 1\u001b[0m \u001b[38;5;28;01mfor\u001b[39;00m epoch \u001b[38;5;129;01min\u001b[39;00m \u001b[38;5;28mrange\u001b[39m(\u001b[43mtraining_epochs\u001b[49m):\n\u001b[1;32m      2\u001b[0m     mean_loss \u001b[38;5;241m=\u001b[39m \u001b[38;5;241m0\u001b[39m\n\u001b[1;32m      3\u001b[0m     acc_step \u001b[38;5;241m=\u001b[39m \u001b[38;5;241m0\u001b[39m\n",
      "\u001b[0;31mNameError\u001b[0m: name 'training_epochs' is not defined"
     ]
    }
   ],
   "source": [
    "for epoch in range(training_epochs):\n",
    "    mean_loss = 0\n",
    "    acc_step = 0\n",
    "    for batch in synt_loader_train:\n",
    "        # print(type(batch['anchor']))\n",
    "        # print(batch['anchor'])\n",
    "        # print()\n",
    "        logits = model_test(\n",
    "            batch['anchor'],#.to('cuda:0'), \n",
    "            None,\n",
    "            batch['channels'].long(),\n",
    "            clf=True)\n",
    "        # ae, label = model_test(\n",
    "        #     batch['anchor'],#.to('cuda:0'), \n",
    "        #     None, \n",
    "        #     batch['channels'].long(),\n",
    "        #     clf=False\n",
    "        # )\n",
    "\n",
    "        label = batch['label']\n",
    "        logits = _calculate_similarity(torch.transpose(label, 1, 2), torch.transpose(logits, 1, 2), _generate_negatives(torch.transpose(label, 1, 2))[0])\n",
    "\n",
    "        labels_ = np.r_[labels_, sample['label'].cpu().detach().numpy()]\n",
    "        loss = torch.nn.CrossEntropyLoss()(logits, torch.tensor(labels_)) + 0.001 * label.pow(2).mean()\n",
    "\n",
    "        loss = loss.mean()\n",
    "        loss.backward()\n",
    "        mean_loss += loss.item()\n",
    "        acc_step += 1\n",
    "        steps += 1\n",
    "        # raise\n",
    "        if acc_step != 0 and acc_step % acc_size == 0:\n",
    "            optim.step()\n",
    "            scheduler.step()\n",
    "            optim.zero_grad()\n",
    "            if steps % 100 == 0:\n",
    "                print('Loss/train\\t{}'.format(mean_loss / acc_size))\n",
    "            writer.add_scalar('Loss/train', mean_loss / acc_size, steps)\n",
    "            mean_loss = 0"
   ]
  },
  {
   "cell_type": "code",
   "execution_count": 49,
   "id": "8402b871-c41f-4336-9eeb-6405d32f3f02",
   "metadata": {
    "execution": {
     "iopub.execute_input": "2023-09-08T15:46:19.504563Z",
     "iopub.status.busy": "2023-09-08T15:46:19.503841Z",
     "iopub.status.idle": "2023-09-08T15:46:19.536638Z",
     "shell.execute_reply": "2023-09-08T15:46:19.535145Z",
     "shell.execute_reply.started": "2023-09-08T15:46:19.504497Z"
    },
    "tags": []
   },
   "outputs": [
    {
     "data": {
      "text/plain": [
       "(tensor([1, 1, 1, 1, 1, 1, 1, 1, 1, 1], device='cuda:0'),\n",
       " tensor([[0, 0],\n",
       "         [0, 0],\n",
       "         [0, 0],\n",
       "         [0, 0],\n",
       "         [0, 0],\n",
       "         [0, 0],\n",
       "         [0, 0],\n",
       "         [0, 0],\n",
       "         [0, 0],\n",
       "         [0, 0]], device='cuda:0'))"
      ]
     },
     "execution_count": 49,
     "metadata": {},
     "output_type": "execute_result"
    }
   ],
   "source": [
    "label, logits"
   ]
  }
 ],
 "metadata": {
  "kernelspec": {
   "display_name": "Python 3 (ipykernel)",
   "language": "python",
   "name": "python3"
  },
  "language_info": {
   "codemirror_mode": {
    "name": "ipython",
    "version": 3
   },
   "file_extension": ".py",
   "mimetype": "text/x-python",
   "name": "python",
   "nbconvert_exporter": "python",
   "pygments_lexer": "ipython3",
   "version": "3.10.12"
  }
 },
 "nbformat": 4,
 "nbformat_minor": 5
}
