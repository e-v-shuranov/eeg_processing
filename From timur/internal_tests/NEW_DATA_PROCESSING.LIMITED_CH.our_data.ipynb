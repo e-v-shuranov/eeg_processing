{
 "cells": [
  {
   "cell_type": "code",
   "execution_count": 1,
   "id": "b40d2a8a-13b7-4a1a-af13-b0ad82d49d36",
   "metadata": {},
   "outputs": [],
   "source": [
    "import os\n",
    "os.environ[\"CUDA_VISIBLE_DEVICES\"] = \"0,1,2,3\""
   ]
  },
  {
   "cell_type": "code",
   "execution_count": null,
   "outputs": [],
   "source": [
    "mitsar_chls"
   ],
   "metadata": {
    "collapsed": false
   }
  },
  {
   "cell_type": "code",
   "execution_count": 2,
   "id": "75eb77b0-fac2-430e-875b-75e4ddc290e9",
   "metadata": {},
   "outputs": [],
   "source": [
    "import matplotlib.pyplot as plt\n",
    "from torch.utils.data import Dataset\n",
    "\n",
    "import numpy as np\n",
    "import pandas as pd\n",
    "import os"
   ]
  },
  {
   "cell_type": "code",
   "execution_count": 3,
   "id": "31b935dc-ee4f-4a9c-b333-5bcc31923c3e",
   "metadata": {},
   "outputs": [],
   "source": [
    "from scipy import signal\n",
    "\n",
    "from scipy.signal import resample\n",
    "from scipy.signal import butter, lfilter\n",
    "from scipy.signal import butter, sosfilt, sosfreqz\n",
    "from scipy.signal import freqz"
   ]
  },
  {
   "cell_type": "code",
   "execution_count": 4,
   "id": "e8467024-7e28-40e5-92e0-f49e96735225",
   "metadata": {},
   "outputs": [],
   "source": [
    "import mne"
   ]
  },
  {
   "cell_type": "code",
   "execution_count": 5,
   "id": "826985b1-e2b2-4418-8fc3-ec41ebb61f0a",
   "metadata": {},
   "outputs": [],
   "source": [
    "annotation_meaning = {\n",
    "    'S  4': 'baseline_start',\n",
    "    'S 44': 'baseline_end',\n",
    "    'S  5': 'rest_start', \n",
    "    'S 50': 'rest_end',\n",
    "    'S  6': 'scroll_start',\n",
    "    'S 60': 'scroll_end',\n",
    "    'S  7': 'math_start',\n",
    "    'S 70': 'math_end',\n",
    "    'S 66': 'scroll_sample_start', \n",
    "    'S 69': 'scroll_sample_end',\n",
    "    'S 77': 'math_sample_start',\n",
    "    'S 79': 'math_sample_end'\n",
    "}"
   ]
  },
  {
   "cell_type": "code",
   "execution_count": 6,
   "id": "a0e8752d-96b9-4cfe-ab1d-97a369c647c0",
   "metadata": {},
   "outputs": [],
   "source": [
    "channels_groups = {\n",
    "    'Fp1': ['Fp1','FP2'],\n",
    "    'FP2': ['Fp1','FP2'],\n",
    "    'F7': ['F7','F3','FC5'],\n",
    "    'F3': ['F7','F3','FC5'],\n",
    "    'FC5': ['F7','F3','FC5'], \n",
    "    'Fz': ['Fz','FC1','FC2'],\n",
    "    'FC1': ['Fz','FC1','FC2'],\n",
    "    'FC2': ['Fz','FC1','FC2'], \n",
    "    'F4': ['F4','F8','FC6'],\n",
    "    'F8': ['F4','F8','FC6'],\n",
    "    'FC6': ['F4','F8','FC6'],\n",
    "    'T7': ['T7','CP5','P7'],\n",
    "    'CP5': ['T7','CP5','P7'],\n",
    "    'P7': ['T7','CP5','P7'], \n",
    "    'T8': ['T8','CP6','P8'],\n",
    "    'CP6': ['T8','CP6','P8'],\n",
    "    'P8': ['T8','CP6','P8'], \n",
    "    'C3': ['C3','Cz','C4'],\n",
    "    'Cz': ['C3','Cz','C4'],\n",
    "    'C4': ['C3','Cz','C4'], \n",
    "    'P3': ['P3','Pz','P4','CP1','CP2'],\n",
    "    'Pz': ['P3','Pz','P4','CP1','CP2'],\n",
    "    'P4': ['P3','Pz','P4','CP1','CP2'],\n",
    "    'CP1': ['P3','Pz','P4','CP1','CP2'],\n",
    "    'CP2': ['P3','Pz','P4','CP1','CP2'], \n",
    "    'O1': ['O1','Oz','O2'],\n",
    "    'Oz': ['O1','Oz','O2'],\n",
    "    'O2': ['O1','Oz','O2']\n",
    "}"
   ]
  },
  {
   "cell_type": "code",
   "execution_count": 7,
   "id": "b36e30a5-7eef-4223-8d58-1a2fc395e364",
   "metadata": {},
   "outputs": [],
   "source": [
    "channels = ['Fp1', 'FP2', 'F7', 'F3', 'Fz', 'F4', 'F8', 'C3', 'Cz', 'C4', \\\n",
    "            'P3', 'Pz', 'P4', 'O1', 'O2']\n"
   ]
  },
  {
   "cell_type": "code",
   "execution_count": 8,
   "id": "dfc7141e-9e01-4e21-9b21-16982370a840",
   "metadata": {},
   "outputs": [],
   "source": [
    "channels_to_interpolate = {\n",
    "    23: [],\n",
    "    24: ['O2', 'F7', 'Fz'],\n",
    "    25: ['Fc2', 'T7', 'C3'],\n",
    "    26: ['T7', 'Fc2', 'C3'],\n",
    "    27: ['C3'],\n",
    "    28: ['Fc2', 'C3', 'T7'],\n",
    "    29: [],\n",
    "    30: ['O2', 'T7', 'Fc2', 'C3'],\n",
    "    31: ['T7', 'Fc2', 'C3'],\n",
    "    32: ['O2'],\n",
    "    33: ['O2', 'Oz', 'P8', 'Fc5', 'T7', 'Fc2'],\n",
    "    34: ['O2'],\n",
    "    35: ['Fc2', 'C3', 'T7'],\n",
    "    36: ['T7', 'C3', 'Fc2'],\n",
    "    37: ['T7'],\n",
    "    38: ['Fz', 'T7', 'C3', 'Fc2'],\n",
    "    39: ['O2'],\n",
    "    40: [],\n",
    "    41: ['T7', 'C3', 'Fc2'],\n",
    "    42: ['O2', 'Fz'],\n",
    "    43: ['T7', 'C3', 'Fc2'],\n",
    "    44: ['F8', 'Fc2', 'T7', 'C4'],\n",
    "    45: ['Oz', 'P4', 'P7'],\n",
    "    46: ['Fc2', 'Fc1', 'O2', 'T7'],\n",
    "    47: ['O2', 'F7', 'Fz'],\n",
    "    48: ['F7', 'Fz', 'Fc1'],\n",
    "    49: ['O2', 'F7', 'Fz'],\n",
    "    50: ['F7', 'Fz'],\n",
    "    51: ['T8'],\n",
    "    52: ['Fp1', 'Fc2']\n",
    "}"
   ]
  },
  {
   "cell_type": "code",
   "execution_count": 9,
   "id": "b3b2d7b6-d991-422d-ab5e-843715eba54f",
   "metadata": {},
   "outputs": [],
   "source": [
    "channels_to_interpolate = {k: [j for j in v if j in channels] for k, v in channels_to_interpolate.items()}"
   ]
  },
  {
   "cell_type": "code",
   "execution_count": 10,
   "id": "6552b88d-4038-4450-a014-c00059be64db",
   "metadata": {},
   "outputs": [],
   "source": [
    "channels_groups = {k: [j for j in v if j in channels] for k, v in channels_groups.items() if k in channels}"
   ]
  },
  {
   "cell_type": "code",
   "execution_count": 11,
   "id": "32b6bd67-b08f-49ac-9980-f709e0766742",
   "metadata": {},
   "outputs": [],
   "source": [
    "# channels = ['Fp1','FP2', 'F7','F3','FC5', 'Fz','FC1','FC2', 'F4','F8','FC6', \\\n",
    "#             'T7','CP5','P7', 'T8','CP6','P8', 'C3','Cz','C4', 'P3','Pz','P4','CP1','CP2', 'O1','Oz','O2']\n"
   ]
  },
  {
   "cell_type": "code",
   "execution_count": null,
   "id": "7cf91bf4-8713-4317-9522-643791f6afcf",
   "metadata": {},
   "outputs": [
    {
     "name": "stdout",
     "output_type": "stream",
     "text": [
      "100_math-edf.edf  39_math-edf.edf  60_math-edf.edf  81_math-edf.edf\n",
      "101_math-edf.edf  40_math-edf.edf  61_math-edf.edf  82_math-edf.edf\n",
      "102_math-edf.edf  41_math-edf.edf  62_math-edf.edf  83_math-edf.edf\n",
      "103_math-edf.edf  42_math-edf.edf  63_math-edf.edf  84_math-edf.edf\n",
      "104_math-edf.edf  43_math-edf.edf  64_math-edf.edf  85_math-edf.edf\n",
      "23_math-edf.edf   44_math-edf.edf  65_math-edf.edf  86_math-edf.edf\n",
      "24_math-edf.edf   45_math-edf.edf  66_math-edf.edf  87_math-edf.edf\n",
      "25_math-edf.edf   46_math-edf.edf  67_math-edf.edf  88_math-edf.edf\n",
      "26_math-edf.edf   47_math-edf.edf  68_math-edf.edf  89_math-edf.edf\n",
      "27_math-edf.edf   48_math-edf.edf  69_math-edf.edf  90_math-edf.edf\n",
      "28_math-edf.edf   49_math-edf.edf  70_math-edf.edf  91_math-edf.edf\n",
      "29_math-edf.edf   50_math-edf.edf  71_math-edf.edf  92_math-edf.edf\n",
      "30_math-edf.edf   51_math-edf.edf  72_math-edf.edf  93_math-edf.edf\n",
      "31_math-edf.edf   52_math-edf.edf  73_math-edf.edf  94_math-edf.edf\n",
      "32_math-edf.edf   53_math-edf.edf  74_math-edf.edf  95_math-edf.edf\n",
      "33_math-edf.edf   54_math-edf.edf  75_math-edf.edf  96_math-edf.edf\n",
      "34_math-edf.edf   55_math-edf.edf  76_math-edf.edf  97_math-edf.edf\n",
      "35_math-edf.edf   56_math-edf.edf  77_math-edf.edf  98_math-edf.edf\n",
      "36_math-edf.edf   57_math-edf.edf  78_math-edf.edf  99_math-edf.edf\n",
      "37_math-edf.edf   58_math-edf.edf  79_math-edf.edf  hse_gr\n",
      "38_math-edf.edf   59_math-edf.edf  80_math-edf.edf\n"
     ]
    }
   ],
   "source": [
    "!ls /home/data/HSE_math_exp_2/raw/"
   ]
  },
  {
   "cell_type": "code",
   "execution_count": 14,
   "id": "0f2abd89-c59f-4dde-a97f-d7b641ff3340",
   "metadata": {},
   "outputs": [],
   "source": [
    "users = range(23, 105)"
   ]
  },
  {
   "cell_type": "code",
   "execution_count": null,
   "id": "7dcfe3d1-743b-4cf4-99fc-ad3ea81c41e6",
   "metadata": {
    "scrolled": true,
    "tags": []
   },
   "outputs": [
    {
     "data": {
      "text/plain": [
       "(array([[ 20440,      0,      1],\n",
       "        [ 20701,      0,      5],\n",
       "        [ 22375,      0,      2],\n",
       "        [ 52290,      0,      6],\n",
       "        [ 52340,      0,      3],\n",
       "        [ 52390,      0,      8],\n",
       "        [ 53381,      0,      9],\n",
       "        [ 54798,      0,      8],\n",
       "        [ 55396,      0,      9],\n",
       "        [ 56554,      0,      8],\n",
       "        [ 57460,      0,      9],\n",
       "        [ 58910,      0,      8],\n",
       "        [ 59700,      0,      9],\n",
       "        [ 60804,      0,      8],\n",
       "        [ 61568,      0,      9],\n",
       "        [ 62418,      0,      8],\n",
       "        [ 63508,      0,      9],\n",
       "        [ 64378,      0,      8],\n",
       "        [ 64634,      0,      9],\n",
       "        [ 65479,      0,      8],\n",
       "        [ 66048,      0,      9],\n",
       "        [ 67027,      0,      8],\n",
       "        [ 67929,      0,      9],\n",
       "        [ 68628,      0,      8],\n",
       "        [ 69506,      0,      9],\n",
       "        [ 71035,      0,      8],\n",
       "        [ 71566,      0,      9],\n",
       "        [ 72653,      0,      8],\n",
       "        [ 73130,      0,      9],\n",
       "        [ 74163,      0,      8],\n",
       "        [ 74448,      0,      9],\n",
       "        [ 75681,      0,      8],\n",
       "        [ 76504,      0,      9],\n",
       "        [ 77396,      0,      8],\n",
       "        [ 78385,      0,      9],\n",
       "        [ 79206,      0,      8],\n",
       "        [ 79791,      0,      9],\n",
       "        [ 81967,      0,      8],\n",
       "        [ 83286,      0,      9],\n",
       "        [ 84006,      0,      8],\n",
       "        [ 84792,      0,      9],\n",
       "        [ 85671,      0,      8],\n",
       "        [ 85968,      0,      9],\n",
       "        [ 88878,      0,      8],\n",
       "        [ 90448,      0,      9],\n",
       "        [ 91205,      0,      8],\n",
       "        [ 92654,      0,      9],\n",
       "        [ 93499,      0,      8],\n",
       "        [ 94197,      0,      9],\n",
       "        [ 95147,      0,      8],\n",
       "        [ 96003,      0,      9],\n",
       "        [ 97420,      0,      8],\n",
       "        [ 98143,      0,      9],\n",
       "        [100477,      0,      8],\n",
       "        [101951,      0,      9],\n",
       "        [102742,      0,      8],\n",
       "        [103899,      0,      9],\n",
       "        [104736,      0,      8],\n",
       "        [105755,      0,      9],\n",
       "        [106546,      0,      8],\n",
       "        [107398,      0,      9],\n",
       "        [109286,      0,      8],\n",
       "        [110589,      0,      9],\n",
       "        [111447,      0,      8],\n",
       "        [112115,      0,      9],\n",
       "        [112994,      0,      8],\n",
       "        [113613,      0,      9],\n",
       "        [114487,      0,      8],\n",
       "        [114981,      0,      9],\n",
       "        [115947,      0,      8],\n",
       "        [116803,      0,      9],\n",
       "        [117532,      0,      8],\n",
       "        [117959,      0,      9],\n",
       "        [119213,      0,      8],\n",
       "        [119544,      0,      9],\n",
       "        [121845,      0,      8],\n",
       "        [122467,      0,      9],\n",
       "        [123279,      0,      8],\n",
       "        [125821,      0,      9],\n",
       "        [126474,      0,      8],\n",
       "        [127527,      0,      9],\n",
       "        [128735,      0,      7],\n",
       "        [128987,      0,      4],\n",
       "        [128996,      0,     11],\n",
       "        [131735,      0,     12],\n",
       "        [133060,      0,     11],\n",
       "        [135222,      0,     12],\n",
       "        [135996,      0,     11],\n",
       "        [138263,      0,     12],\n",
       "        [139988,      0,     11],\n",
       "        [142738,      0,     12],\n",
       "        [143571,      0,     11],\n",
       "        [146275,      0,     12],\n",
       "        [147925,      0,     11],\n",
       "        [150671,      0,     12],\n",
       "        [152521,      0,     11],\n",
       "        [154679,      0,     12],\n",
       "        [155533,      0,     11],\n",
       "        [158283,      0,     12],\n",
       "        [159958,      0,     11],\n",
       "        [162011,      0,     12],\n",
       "        [163695,      0,     11],\n",
       "        [166441,      0,     12],\n",
       "        [168684,      0,     11],\n",
       "        [171433,      0,     12],\n",
       "        [173397,      0,     11],\n",
       "        [175996,      0,     12],\n",
       "        [176779,      0,     11],\n",
       "        [179479,      0,     12],\n",
       "        [180967,      0,     11],\n",
       "        [182445,      0,     12],\n",
       "        [183298,      0,     11],\n",
       "        [186048,      0,     12],\n",
       "        [187115,      0,     11],\n",
       "        [189769,      0,     12],\n",
       "        [191231,      0,     11],\n",
       "        [193981,      0,     12],\n",
       "        [195586,      0,     11],\n",
       "        [198085,      0,     12],\n",
       "        [198801,      0,     11],\n",
       "        [201551,      0,     12],\n",
       "        [203419,      0,     11],\n",
       "        [205368,      0,     12],\n",
       "        [206359,      0,     10],\n",
       "        [206611,      0,      2],\n",
       "        [236625,      0,      6],\n",
       "        [236675,      0,      8],\n",
       "        [236725,      0,      3],\n",
       "        [238543,      0,      9],\n",
       "        [239288,      0,      8],\n",
       "        [240236,      0,      9],\n",
       "        [240981,      0,      8],\n",
       "        [241792,      0,      9],\n",
       "        [242525,      0,      8],\n",
       "        [243060,      0,      9],\n",
       "        [243813,      0,      8],\n",
       "        [245058,      0,      9],\n",
       "        [245761,      0,      8],\n",
       "        [246584,      0,      9],\n",
       "        [247501,      0,      8],\n",
       "        [249137,      0,      9],\n",
       "        [250554,      0,      8],\n",
       "        [251310,      0,      9],\n",
       "        [252918,      0,      8],\n",
       "        [254359,      0,      9],\n",
       "        [255171,      0,      8],\n",
       "        [256332,      0,      9],\n",
       "        [257180,      0,      8],\n",
       "        [258228,      0,      9],\n",
       "        [259058,      0,      8],\n",
       "        [260543,      0,      9],\n",
       "        [261293,      0,      8],\n",
       "        [261591,      0,      9],\n",
       "        [262745,      0,      8],\n",
       "        [264006,      0,      9],\n",
       "        [264822,      0,      8],\n",
       "        [265712,      0,      9],\n",
       "        [266432,      0,      8],\n",
       "        [267301,      0,      9],\n",
       "        [268192,      0,      8],\n",
       "        [269145,      0,      9],\n",
       "        [269819,      0,      8],\n",
       "        [271238,      0,      9],\n",
       "        [272497,      0,      8],\n",
       "        [273103,      0,      9],\n",
       "        [273840,      0,      8],\n",
       "        [274404,      0,      9],\n",
       "        [275133,      0,      8],\n",
       "        [275747,      0,      9],\n",
       "        [276672,      0,      8],\n",
       "        [277278,      0,      9],\n",
       "        [278061,      0,      8],\n",
       "        [279030,      0,      9],\n",
       "        [280038,      0,      8],\n",
       "        [280748,      0,      9],\n",
       "        [281527,      0,      8],\n",
       "        [282879,      0,      9],\n",
       "        [283616,      0,      8],\n",
       "        [285244,      0,      9],\n",
       "        [286014,      0,      8],\n",
       "        [286641,      0,      9],\n",
       "        [287220,      0,      8],\n",
       "        [287959,      0,      9],\n",
       "        [288738,      0,      8],\n",
       "        [289628,      0,      9],\n",
       "        [290573,      0,      8],\n",
       "        [291626,      0,      9],\n",
       "        [292563,      0,      8],\n",
       "        [293619,      0,      9],\n",
       "        [294448,      0,      8],\n",
       "        [295334,      0,      9],\n",
       "        [296070,      0,      8],\n",
       "        [297085,      0,      9],\n",
       "        [297818,      0,      8],\n",
       "        [298895,      0,      9],\n",
       "        [299628,      0,      8],\n",
       "        [300393,      0,      9],\n",
       "        [301075,      0,      8],\n",
       "        [302207,      0,      9],\n",
       "        [302844,      0,      8],\n",
       "        [303884,      0,      9],\n",
       "        [305121,      0,      8],\n",
       "        [306165,      0,      9],\n",
       "        [306852,      0,      8],\n",
       "        [308330,      0,      9],\n",
       "        [309025,      0,      8],\n",
       "        [310044,      0,      9],\n",
       "        [310731,      0,      8],\n",
       "        [311379,      0,      9],\n",
       "        [312370,      0,      7],\n",
       "        [312626,      0,      4],\n",
       "        [312635,      0,     11],\n",
       "        [315362,      0,     12],\n",
       "        [316120,      0,     11],\n",
       "        [318344,      0,     12],\n",
       "        [319206,      0,     11],\n",
       "        [321235,      0,     12],\n",
       "        [322935,      0,     11],\n",
       "        [324621,      0,     12],\n",
       "        [326480,      0,     11],\n",
       "        [328271,      0,     12],\n",
       "        [329621,      0,     11],\n",
       "        [331603,      0,     12],\n",
       "        [332332,      0,     11],\n",
       "        [334569,      0,     12],\n",
       "        [338893,      0,     11],\n",
       "        [341639,      0,     12],\n",
       "        [345662,      0,     11],\n",
       "        [347665,      0,     12],\n",
       "        [348498,      0,     11],\n",
       "        [350831,      0,     12],\n",
       "        [351601,      0,     11],\n",
       "        [354351,      0,     12],\n",
       "        [356056,      0,     11],\n",
       "        [358314,      0,     12],\n",
       "        [359096,      0,     11],\n",
       "        [360708,      0,     12],\n",
       "        [361453,      0,     11],\n",
       "        [363202,      0,     12],\n",
       "        [366162,      0,     11],\n",
       "        [367852,      0,     12],\n",
       "        [368785,      0,     11],\n",
       "        [371260,      0,     12],\n",
       "        [372885,      0,     11],\n",
       "        [375635,      0,     12],\n",
       "        [378253,      0,     11],\n",
       "        [380177,      0,     12],\n",
       "        [380985,      0,     11],\n",
       "        [383735,      0,     12],\n",
       "        [386245,      0,     11],\n",
       "        [388586,      0,     12],\n",
       "        [391775,      0,     10]]),\n",
       " {'S  4': 1,\n",
       "  'S  5': 2,\n",
       "  'S  6': 3,\n",
       "  'S  7': 4,\n",
       "  'S 40': 5,\n",
       "  'S 50': 6,\n",
       "  'S 60': 7,\n",
       "  'S 63': 8,\n",
       "  'S 69': 9,\n",
       "  'S 70': 10,\n",
       "  'S 73': 11,\n",
       "  'S 79': 12})"
      ]
     },
     "execution_count": 30,
     "metadata": {},
     "output_type": "execute_result"
    }
   ],
   "source": [
    "annotations"
   ]
  },
  {
   "cell_type": "code",
   "execution_count": 15,
   "id": "dbb85b39-4197-4798-8009-8320fc9dbd1f",
   "metadata": {
    "scrolled": true,
    "tags": []
   },
   "outputs": [
    {
     "name": "stdout",
     "output_type": "stream",
     "text": [
      "Extracting EDF parameters from /home/data/HSE_math_exp_2/raw/23_math-edf.edf...\n",
      "EDF file detected\n",
      "Setting channel info structure...\n",
      "Creating raw.info structure...\n",
      "Reading 0 ... 2620499  =      0.000 ...  5240.998 secs...\n",
      "Filtering raw data in 1 contiguous segment\n",
      "Setting up band-pass filter from 0.9 - 40 Hz\n",
      "\n",
      "FIR filter parameters\n",
      "---------------------\n",
      "Designing a one-pass, zero-phase, non-causal bandpass filter:\n",
      "- Windowed time-domain design (firwin) method\n",
      "- Hamming window with 0.0194 passband ripple and 53 dB stopband attenuation\n",
      "- Lower passband edge: 0.90\n",
      "- Lower transition bandwidth: 0.90 Hz (-6 dB cutoff frequency: 0.45 Hz)\n",
      "- Upper passband edge: 40.00 Hz\n",
      "- Upper transition bandwidth: 10.00 Hz (-6 dB cutoff frequency: 45.00 Hz)\n",
      "- Filter length: 1835 samples (3.670 s)\n",
      "\n"
     ]
    },
    {
     "name": "stderr",
     "output_type": "stream",
     "text": [
      "[Parallel(n_jobs=1)]: Using backend SequentialBackend with 1 concurrent workers.\n",
      "[Parallel(n_jobs=1)]: Done   1 out of   1 | elapsed:    0.1s remaining:    0.0s\n",
      "[Parallel(n_jobs=1)]: Done   2 out of   2 | elapsed:    0.1s remaining:    0.0s\n",
      "[Parallel(n_jobs=1)]: Done   3 out of   3 | elapsed:    0.2s remaining:    0.0s\n",
      "[Parallel(n_jobs=1)]: Done   4 out of   4 | elapsed:    0.3s remaining:    0.0s\n"
     ]
    },
    {
     "name": "stdout",
     "output_type": "stream",
     "text": [
      "Used Annotations descriptions: ['New Segment', 'S  4', 'S  5', 'S  6', 'S  7', 'S  8', 'S 44', 'S 50', 'S 60', 'S 63', 'S 66', 'S 69', 'S 70', 'S 73', 'S 77', 'S 79']\n"
     ]
    },
    {
     "name": "stderr",
     "output_type": "stream",
     "text": [
      "[Parallel(n_jobs=1)]: Done  37 out of  37 | elapsed:    2.3s finished\n"
     ]
    },
    {
     "name": "stdout",
     "output_type": "stream",
     "text": [
      "Extracting EDF parameters from /home/data/HSE_math_exp_2/raw/24_math-edf.edf...\n",
      "EDF file detected\n",
      "Setting channel info structure...\n",
      "Creating raw.info structure...\n",
      "Reading 0 ... 2307999  =      0.000 ...  4615.998 secs...\n",
      "Filtering raw data in 1 contiguous segment\n",
      "Setting up band-pass filter from 0.9 - 40 Hz\n",
      "\n",
      "FIR filter parameters\n",
      "---------------------\n",
      "Designing a one-pass, zero-phase, non-causal bandpass filter:\n",
      "- Windowed time-domain design (firwin) method\n",
      "- Hamming window with 0.0194 passband ripple and 53 dB stopband attenuation\n",
      "- Lower passband edge: 0.90\n",
      "- Lower transition bandwidth: 0.90 Hz (-6 dB cutoff frequency: 0.45 Hz)\n",
      "- Upper passband edge: 40.00 Hz\n",
      "- Upper transition bandwidth: 10.00 Hz (-6 dB cutoff frequency: 45.00 Hz)\n",
      "- Filter length: 1835 samples (3.670 s)\n",
      "\n"
     ]
    },
    {
     "name": "stderr",
     "output_type": "stream",
     "text": [
      "[Parallel(n_jobs=1)]: Using backend SequentialBackend with 1 concurrent workers.\n",
      "[Parallel(n_jobs=1)]: Done   1 out of   1 | elapsed:    0.1s remaining:    0.0s\n",
      "[Parallel(n_jobs=1)]: Done   2 out of   2 | elapsed:    0.1s remaining:    0.0s\n",
      "[Parallel(n_jobs=1)]: Done   3 out of   3 | elapsed:    0.2s remaining:    0.0s\n",
      "[Parallel(n_jobs=1)]: Done   4 out of   4 | elapsed:    0.2s remaining:    0.0s\n"
     ]
    },
    {
     "name": "stdout",
     "output_type": "stream",
     "text": [
      "Used Annotations descriptions: ['New Segment', 'S  4', 'S  5', 'S  6', 'S  7', 'S  8', 'S 44', 'S 50', 'S 60', 'S 63', 'S 66', 'S 69', 'S 70', 'S 73', 'S 77', 'S 79']\n"
     ]
    },
    {
     "name": "stderr",
     "output_type": "stream",
     "text": [
      "[Parallel(n_jobs=1)]: Done  37 out of  37 | elapsed:    2.0s finished\n"
     ]
    },
    {
     "name": "stdout",
     "output_type": "stream",
     "text": [
      "F7\n",
      "Fz\n",
      "W\n",
      "O2\n",
      "Extracting EDF parameters from /home/data/HSE_math_exp_2/raw/25_math-edf.edf...\n",
      "EDF file detected\n",
      "Setting channel info structure...\n",
      "Creating raw.info structure...\n",
      "Reading 0 ... 2182999  =      0.000 ...  4365.998 secs...\n",
      "Filtering raw data in 1 contiguous segment\n",
      "Setting up band-pass filter from 0.9 - 40 Hz\n",
      "\n",
      "FIR filter parameters\n",
      "---------------------\n",
      "Designing a one-pass, zero-phase, non-causal bandpass filter:\n",
      "- Windowed time-domain design (firwin) method\n",
      "- Hamming window with 0.0194 passband ripple and 53 dB stopband attenuation\n",
      "- Lower passband edge: 0.90\n",
      "- Lower transition bandwidth: 0.90 Hz (-6 dB cutoff frequency: 0.45 Hz)\n",
      "- Upper passband edge: 40.00 Hz\n",
      "- Upper transition bandwidth: 10.00 Hz (-6 dB cutoff frequency: 45.00 Hz)\n",
      "- Filter length: 1835 samples (3.670 s)\n",
      "\n"
     ]
    },
    {
     "name": "stderr",
     "output_type": "stream",
     "text": [
      "[Parallel(n_jobs=1)]: Using backend SequentialBackend with 1 concurrent workers.\n",
      "[Parallel(n_jobs=1)]: Done   1 out of   1 | elapsed:    0.1s remaining:    0.0s\n",
      "[Parallel(n_jobs=1)]: Done   2 out of   2 | elapsed:    0.1s remaining:    0.0s\n",
      "[Parallel(n_jobs=1)]: Done   3 out of   3 | elapsed:    0.2s remaining:    0.0s\n",
      "[Parallel(n_jobs=1)]: Done   4 out of   4 | elapsed:    0.2s remaining:    0.0s\n"
     ]
    },
    {
     "name": "stdout",
     "output_type": "stream",
     "text": [
      "Used Annotations descriptions: ['New Segment', 'S  4', 'S  5', 'S  6', 'S  7', 'S  8', 'S 44', 'S 50', 'S 60', 'S 63', 'S 66', 'S 69', 'S 70', 'S 73', 'S 77', 'S 79']\n"
     ]
    },
    {
     "name": "stderr",
     "output_type": "stream",
     "text": [
      "[Parallel(n_jobs=1)]: Done  37 out of  37 | elapsed:    1.9s finished\n"
     ]
    },
    {
     "name": "stdout",
     "output_type": "stream",
     "text": [
      "C3\n",
      "Extracting EDF parameters from /home/data/HSE_math_exp_2/raw/26_math-edf.edf...\n",
      "EDF file detected\n",
      "Setting channel info structure...\n",
      "Creating raw.info structure...\n",
      "Reading 0 ... 2161499  =      0.000 ...  4322.998 secs...\n",
      "Filtering raw data in 1 contiguous segment\n",
      "Setting up band-pass filter from 0.9 - 40 Hz\n",
      "\n",
      "FIR filter parameters\n",
      "---------------------\n",
      "Designing a one-pass, zero-phase, non-causal bandpass filter:\n",
      "- Windowed time-domain design (firwin) method\n",
      "- Hamming window with 0.0194 passband ripple and 53 dB stopband attenuation\n",
      "- Lower passband edge: 0.90\n",
      "- Lower transition bandwidth: 0.90 Hz (-6 dB cutoff frequency: 0.45 Hz)\n",
      "- Upper passband edge: 40.00 Hz\n",
      "- Upper transition bandwidth: 10.00 Hz (-6 dB cutoff frequency: 45.00 Hz)\n",
      "- Filter length: 1835 samples (3.670 s)\n",
      "\n"
     ]
    },
    {
     "name": "stderr",
     "output_type": "stream",
     "text": [
      "[Parallel(n_jobs=1)]: Using backend SequentialBackend with 1 concurrent workers.\n",
      "[Parallel(n_jobs=1)]: Done   1 out of   1 | elapsed:    0.1s remaining:    0.0s\n",
      "[Parallel(n_jobs=1)]: Done   2 out of   2 | elapsed:    0.1s remaining:    0.0s\n",
      "[Parallel(n_jobs=1)]: Done   3 out of   3 | elapsed:    0.2s remaining:    0.0s\n",
      "[Parallel(n_jobs=1)]: Done   4 out of   4 | elapsed:    0.2s remaining:    0.0s\n"
     ]
    },
    {
     "name": "stdout",
     "output_type": "stream",
     "text": [
      "Used Annotations descriptions: ['New Segment', 'S  4', 'S  5', 'S  6', 'S  7', 'S  8', 'S 44', 'S 50', 'S 60', 'S 63', 'S 66', 'S 69', 'S 70', 'S 73', 'S 77', 'S 79']\n"
     ]
    },
    {
     "name": "stderr",
     "output_type": "stream",
     "text": [
      "[Parallel(n_jobs=1)]: Done  37 out of  37 | elapsed:    1.8s finished\n"
     ]
    },
    {
     "name": "stdout",
     "output_type": "stream",
     "text": [
      "C3\n",
      "Extracting EDF parameters from /home/data/HSE_math_exp_2/raw/27_math-edf.edf...\n",
      "EDF file detected\n",
      "Setting channel info structure...\n",
      "Creating raw.info structure...\n",
      "Reading 0 ... 2179499  =      0.000 ...  4358.998 secs...\n",
      "Filtering raw data in 1 contiguous segment\n",
      "Setting up band-pass filter from 0.9 - 40 Hz\n",
      "\n",
      "FIR filter parameters\n",
      "---------------------\n",
      "Designing a one-pass, zero-phase, non-causal bandpass filter:\n",
      "- Windowed time-domain design (firwin) method\n",
      "- Hamming window with 0.0194 passband ripple and 53 dB stopband attenuation\n",
      "- Lower passband edge: 0.90\n",
      "- Lower transition bandwidth: 0.90 Hz (-6 dB cutoff frequency: 0.45 Hz)\n",
      "- Upper passband edge: 40.00 Hz\n",
      "- Upper transition bandwidth: 10.00 Hz (-6 dB cutoff frequency: 45.00 Hz)\n",
      "- Filter length: 1835 samples (3.670 s)\n",
      "\n"
     ]
    },
    {
     "name": "stderr",
     "output_type": "stream",
     "text": [
      "[Parallel(n_jobs=1)]: Using backend SequentialBackend with 1 concurrent workers.\n",
      "[Parallel(n_jobs=1)]: Done   1 out of   1 | elapsed:    0.1s remaining:    0.0s\n",
      "[Parallel(n_jobs=1)]: Done   2 out of   2 | elapsed:    0.1s remaining:    0.0s\n",
      "[Parallel(n_jobs=1)]: Done   3 out of   3 | elapsed:    0.2s remaining:    0.0s\n",
      "[Parallel(n_jobs=1)]: Done   4 out of   4 | elapsed:    0.2s remaining:    0.0s\n"
     ]
    },
    {
     "name": "stdout",
     "output_type": "stream",
     "text": [
      "Used Annotations descriptions: ['New Segment', 'S  4', 'S  5', 'S  6', 'S  7', 'S  8', 'S 44', 'S 50', 'S 60', 'S 63', 'S 66', 'S 69', 'S 70', 'S 73', 'S 77', 'S 79']\n"
     ]
    },
    {
     "name": "stderr",
     "output_type": "stream",
     "text": [
      "[Parallel(n_jobs=1)]: Done  37 out of  37 | elapsed:    1.9s finished\n"
     ]
    },
    {
     "name": "stdout",
     "output_type": "stream",
     "text": [
      "C3\n",
      "Extracting EDF parameters from /home/data/HSE_math_exp_2/raw/28_math-edf.edf...\n",
      "EDF file detected\n",
      "Setting channel info structure...\n",
      "Creating raw.info structure...\n",
      "Reading 0 ... 2170499  =      0.000 ...  4340.998 secs...\n",
      "Filtering raw data in 1 contiguous segment\n",
      "Setting up band-pass filter from 0.9 - 40 Hz\n",
      "\n",
      "FIR filter parameters\n",
      "---------------------\n",
      "Designing a one-pass, zero-phase, non-causal bandpass filter:\n",
      "- Windowed time-domain design (firwin) method\n",
      "- Hamming window with 0.0194 passband ripple and 53 dB stopband attenuation\n",
      "- Lower passband edge: 0.90\n",
      "- Lower transition bandwidth: 0.90 Hz (-6 dB cutoff frequency: 0.45 Hz)\n",
      "- Upper passband edge: 40.00 Hz\n",
      "- Upper transition bandwidth: 10.00 Hz (-6 dB cutoff frequency: 45.00 Hz)\n",
      "- Filter length: 1835 samples (3.670 s)\n",
      "\n"
     ]
    },
    {
     "name": "stderr",
     "output_type": "stream",
     "text": [
      "[Parallel(n_jobs=1)]: Using backend SequentialBackend with 1 concurrent workers.\n",
      "[Parallel(n_jobs=1)]: Done   1 out of   1 | elapsed:    0.1s remaining:    0.0s\n",
      "[Parallel(n_jobs=1)]: Done   2 out of   2 | elapsed:    0.1s remaining:    0.0s\n",
      "[Parallel(n_jobs=1)]: Done   3 out of   3 | elapsed:    0.2s remaining:    0.0s\n",
      "[Parallel(n_jobs=1)]: Done   4 out of   4 | elapsed:    0.2s remaining:    0.0s\n"
     ]
    },
    {
     "name": "stdout",
     "output_type": "stream",
     "text": [
      "Used Annotations descriptions: ['New Segment', 'S  4', 'S  5', 'S  6', 'S  7', 'S  8', 'S 44', 'S 50', 'S 60', 'S 63', 'S 66', 'S 69', 'S 70', 'S 73', 'S 77', 'S 79']\n"
     ]
    },
    {
     "name": "stderr",
     "output_type": "stream",
     "text": [
      "[Parallel(n_jobs=1)]: Done  37 out of  37 | elapsed:    1.9s finished\n"
     ]
    },
    {
     "name": "stdout",
     "output_type": "stream",
     "text": [
      "C3\n",
      "Extracting EDF parameters from /home/data/HSE_math_exp_2/raw/29_math-edf.edf...\n",
      "EDF file detected\n",
      "Setting channel info structure...\n",
      "Creating raw.info structure...\n",
      "Reading 0 ... 2152499  =      0.000 ...  4304.998 secs...\n",
      "Filtering raw data in 1 contiguous segment\n",
      "Setting up band-pass filter from 0.9 - 40 Hz\n",
      "\n",
      "FIR filter parameters\n",
      "---------------------\n",
      "Designing a one-pass, zero-phase, non-causal bandpass filter:\n",
      "- Windowed time-domain design (firwin) method\n",
      "- Hamming window with 0.0194 passband ripple and 53 dB stopband attenuation\n",
      "- Lower passband edge: 0.90\n",
      "- Lower transition bandwidth: 0.90 Hz (-6 dB cutoff frequency: 0.45 Hz)\n",
      "- Upper passband edge: 40.00 Hz\n",
      "- Upper transition bandwidth: 10.00 Hz (-6 dB cutoff frequency: 45.00 Hz)\n",
      "- Filter length: 1835 samples (3.670 s)\n",
      "\n"
     ]
    },
    {
     "name": "stderr",
     "output_type": "stream",
     "text": [
      "[Parallel(n_jobs=1)]: Using backend SequentialBackend with 1 concurrent workers.\n",
      "[Parallel(n_jobs=1)]: Done   1 out of   1 | elapsed:    0.1s remaining:    0.0s\n",
      "[Parallel(n_jobs=1)]: Done   2 out of   2 | elapsed:    0.1s remaining:    0.0s\n",
      "[Parallel(n_jobs=1)]: Done   3 out of   3 | elapsed:    0.2s remaining:    0.0s\n",
      "[Parallel(n_jobs=1)]: Done   4 out of   4 | elapsed:    0.2s remaining:    0.0s\n"
     ]
    },
    {
     "name": "stdout",
     "output_type": "stream",
     "text": [
      "Used Annotations descriptions: ['New Segment', 'S  4', 'S  5', 'S  6', 'S  7', 'S  8', 'S 44', 'S 50', 'S 60', 'S 63', 'S 66', 'S 69', 'S 70', 'S 73', 'S 77', 'S 79']\n"
     ]
    },
    {
     "name": "stderr",
     "output_type": "stream",
     "text": [
      "[Parallel(n_jobs=1)]: Done  37 out of  37 | elapsed:    1.8s finished\n"
     ]
    },
    {
     "name": "stdout",
     "output_type": "stream",
     "text": [
      "Extracting EDF parameters from /home/data/HSE_math_exp_2/raw/30_math-edf.edf...\n",
      "EDF file detected\n",
      "Setting channel info structure...\n",
      "Creating raw.info structure...\n",
      "Reading 0 ... 2102499  =      0.000 ...  4204.998 secs...\n",
      "Filtering raw data in 1 contiguous segment\n",
      "Setting up band-pass filter from 0.9 - 40 Hz\n",
      "\n",
      "FIR filter parameters\n",
      "---------------------\n",
      "Designing a one-pass, zero-phase, non-causal bandpass filter:\n",
      "- Windowed time-domain design (firwin) method\n",
      "- Hamming window with 0.0194 passband ripple and 53 dB stopband attenuation\n",
      "- Lower passband edge: 0.90\n",
      "- Lower transition bandwidth: 0.90 Hz (-6 dB cutoff frequency: 0.45 Hz)\n",
      "- Upper passband edge: 40.00 Hz\n",
      "- Upper transition bandwidth: 10.00 Hz (-6 dB cutoff frequency: 45.00 Hz)\n",
      "- Filter length: 1835 samples (3.670 s)\n",
      "\n"
     ]
    },
    {
     "name": "stderr",
     "output_type": "stream",
     "text": [
      "[Parallel(n_jobs=1)]: Using backend SequentialBackend with 1 concurrent workers.\n",
      "[Parallel(n_jobs=1)]: Done   1 out of   1 | elapsed:    0.0s remaining:    0.0s\n",
      "[Parallel(n_jobs=1)]: Done   2 out of   2 | elapsed:    0.1s remaining:    0.0s\n",
      "[Parallel(n_jobs=1)]: Done   3 out of   3 | elapsed:    0.1s remaining:    0.0s\n",
      "[Parallel(n_jobs=1)]: Done   4 out of   4 | elapsed:    0.2s remaining:    0.0s\n"
     ]
    },
    {
     "name": "stdout",
     "output_type": "stream",
     "text": [
      "Used Annotations descriptions: ['New Segment', 'S  4', 'S  5', 'S  6', 'S  7', 'S  8', 'S 44', 'S 50', 'S 60', 'S 63', 'S 66', 'S 69', 'S 70', 'S 73', 'S 77', 'S 79']\n"
     ]
    },
    {
     "name": "stderr",
     "output_type": "stream",
     "text": [
      "[Parallel(n_jobs=1)]: Done  37 out of  37 | elapsed:    1.8s finished\n"
     ]
    },
    {
     "name": "stdout",
     "output_type": "stream",
     "text": [
      "C3\n",
      "O2\n",
      "Extracting EDF parameters from /home/data/HSE_math_exp_2/raw/31_math-edf.edf...\n",
      "EDF file detected\n",
      "Setting channel info structure...\n",
      "Creating raw.info structure...\n",
      "Reading 0 ... 2121499  =      0.000 ...  4242.998 secs...\n",
      "Filtering raw data in 1 contiguous segment\n",
      "Setting up band-pass filter from 0.9 - 40 Hz\n",
      "\n",
      "FIR filter parameters\n",
      "---------------------\n",
      "Designing a one-pass, zero-phase, non-causal bandpass filter:\n",
      "- Windowed time-domain design (firwin) method\n",
      "- Hamming window with 0.0194 passband ripple and 53 dB stopband attenuation\n",
      "- Lower passband edge: 0.90\n",
      "- Lower transition bandwidth: 0.90 Hz (-6 dB cutoff frequency: 0.45 Hz)\n",
      "- Upper passband edge: 40.00 Hz\n",
      "- Upper transition bandwidth: 10.00 Hz (-6 dB cutoff frequency: 45.00 Hz)\n",
      "- Filter length: 1835 samples (3.670 s)\n",
      "\n"
     ]
    },
    {
     "name": "stderr",
     "output_type": "stream",
     "text": [
      "[Parallel(n_jobs=1)]: Using backend SequentialBackend with 1 concurrent workers.\n",
      "[Parallel(n_jobs=1)]: Done   1 out of   1 | elapsed:    0.1s remaining:    0.0s\n",
      "[Parallel(n_jobs=1)]: Done   2 out of   2 | elapsed:    0.1s remaining:    0.0s\n",
      "[Parallel(n_jobs=1)]: Done   3 out of   3 | elapsed:    0.1s remaining:    0.0s\n",
      "[Parallel(n_jobs=1)]: Done   4 out of   4 | elapsed:    0.2s remaining:    0.0s\n"
     ]
    },
    {
     "name": "stdout",
     "output_type": "stream",
     "text": [
      "Used Annotations descriptions: ['New Segment', 'S  4', 'S  5', 'S  6', 'S  7', 'S  8', 'S 44', 'S 50', 'S 60', 'S 63', 'S 66', 'S 69', 'S 70', 'S 73', 'S 77', 'S 79']\n"
     ]
    },
    {
     "name": "stderr",
     "output_type": "stream",
     "text": [
      "[Parallel(n_jobs=1)]: Done  37 out of  37 | elapsed:    1.8s finished\n"
     ]
    },
    {
     "name": "stdout",
     "output_type": "stream",
     "text": [
      "C3\n",
      "Extracting EDF parameters from /home/data/HSE_math_exp_2/raw/32_math-edf.edf...\n",
      "EDF file detected\n",
      "Setting channel info structure...\n",
      "Creating raw.info structure...\n",
      "Reading 0 ... 2135999  =      0.000 ...  4271.998 secs...\n",
      "Filtering raw data in 1 contiguous segment\n",
      "Setting up band-pass filter from 0.9 - 40 Hz\n",
      "\n",
      "FIR filter parameters\n",
      "---------------------\n",
      "Designing a one-pass, zero-phase, non-causal bandpass filter:\n",
      "- Windowed time-domain design (firwin) method\n",
      "- Hamming window with 0.0194 passband ripple and 53 dB stopband attenuation\n",
      "- Lower passband edge: 0.90\n",
      "- Lower transition bandwidth: 0.90 Hz (-6 dB cutoff frequency: 0.45 Hz)\n",
      "- Upper passband edge: 40.00 Hz\n",
      "- Upper transition bandwidth: 10.00 Hz (-6 dB cutoff frequency: 45.00 Hz)\n",
      "- Filter length: 1835 samples (3.670 s)\n",
      "\n"
     ]
    },
    {
     "name": "stderr",
     "output_type": "stream",
     "text": [
      "[Parallel(n_jobs=1)]: Using backend SequentialBackend with 1 concurrent workers.\n",
      "[Parallel(n_jobs=1)]: Done   1 out of   1 | elapsed:    0.1s remaining:    0.0s\n",
      "[Parallel(n_jobs=1)]: Done   2 out of   2 | elapsed:    0.1s remaining:    0.0s\n",
      "[Parallel(n_jobs=1)]: Done   3 out of   3 | elapsed:    0.2s remaining:    0.0s\n",
      "[Parallel(n_jobs=1)]: Done   4 out of   4 | elapsed:    0.2s remaining:    0.0s\n"
     ]
    },
    {
     "name": "stdout",
     "output_type": "stream",
     "text": [
      "Used Annotations descriptions: ['New Segment', 'S  4', 'S  5', 'S  6', 'S  7', 'S  8', 'S 44', 'S 50', 'S 60', 'S 63', 'S 66', 'S 69', 'S 70', 'S 73', 'S 77', 'S 79']\n"
     ]
    },
    {
     "name": "stderr",
     "output_type": "stream",
     "text": [
      "[Parallel(n_jobs=1)]: Done  37 out of  37 | elapsed:    1.8s finished\n"
     ]
    },
    {
     "name": "stdout",
     "output_type": "stream",
     "text": [
      "O2\n",
      "Extracting EDF parameters from /home/data/HSE_math_exp_2/raw/33_math-edf.edf...\n",
      "EDF file detected\n",
      "Setting channel info structure...\n",
      "Creating raw.info structure...\n",
      "Reading 0 ... 2105499  =      0.000 ...  4210.998 secs...\n",
      "Filtering raw data in 1 contiguous segment\n",
      "Setting up band-pass filter from 0.9 - 40 Hz\n",
      "\n",
      "FIR filter parameters\n",
      "---------------------\n",
      "Designing a one-pass, zero-phase, non-causal bandpass filter:\n",
      "- Windowed time-domain design (firwin) method\n",
      "- Hamming window with 0.0194 passband ripple and 53 dB stopband attenuation\n",
      "- Lower passband edge: 0.90\n",
      "- Lower transition bandwidth: 0.90 Hz (-6 dB cutoff frequency: 0.45 Hz)\n",
      "- Upper passband edge: 40.00 Hz\n",
      "- Upper transition bandwidth: 10.00 Hz (-6 dB cutoff frequency: 45.00 Hz)\n",
      "- Filter length: 1835 samples (3.670 s)\n",
      "\n"
     ]
    },
    {
     "name": "stderr",
     "output_type": "stream",
     "text": [
      "[Parallel(n_jobs=1)]: Using backend SequentialBackend with 1 concurrent workers.\n",
      "[Parallel(n_jobs=1)]: Done   1 out of   1 | elapsed:    0.0s remaining:    0.0s\n",
      "[Parallel(n_jobs=1)]: Done   2 out of   2 | elapsed:    0.1s remaining:    0.0s\n",
      "[Parallel(n_jobs=1)]: Done   3 out of   3 | elapsed:    0.1s remaining:    0.0s\n",
      "[Parallel(n_jobs=1)]: Done   4 out of   4 | elapsed:    0.2s remaining:    0.0s\n"
     ]
    },
    {
     "name": "stdout",
     "output_type": "stream",
     "text": [
      "Used Annotations descriptions: ['New Segment', 'S  4', 'S  5', 'S  6', 'S  7', 'S  8', 'S 44', 'S 50', 'S 60', 'S 63', 'S 66', 'S 69', 'S 70', 'S 73', 'S 77', 'S 79']\n"
     ]
    },
    {
     "name": "stderr",
     "output_type": "stream",
     "text": [
      "[Parallel(n_jobs=1)]: Done  37 out of  37 | elapsed:    1.8s finished\n"
     ]
    },
    {
     "name": "stdout",
     "output_type": "stream",
     "text": [
      "O2\n",
      "Extracting EDF parameters from /home/data/HSE_math_exp_2/raw/34_math-edf.edf...\n",
      "EDF file detected\n",
      "Setting channel info structure...\n",
      "Creating raw.info structure...\n",
      "Reading 0 ... 2533999  =      0.000 ...  5067.998 secs...\n",
      "Filtering raw data in 1 contiguous segment\n",
      "Setting up band-pass filter from 0.9 - 40 Hz\n",
      "\n",
      "FIR filter parameters\n",
      "---------------------\n",
      "Designing a one-pass, zero-phase, non-causal bandpass filter:\n",
      "- Windowed time-domain design (firwin) method\n",
      "- Hamming window with 0.0194 passband ripple and 53 dB stopband attenuation\n",
      "- Lower passband edge: 0.90\n",
      "- Lower transition bandwidth: 0.90 Hz (-6 dB cutoff frequency: 0.45 Hz)\n",
      "- Upper passband edge: 40.00 Hz\n",
      "- Upper transition bandwidth: 10.00 Hz (-6 dB cutoff frequency: 45.00 Hz)\n",
      "- Filter length: 1835 samples (3.670 s)\n",
      "\n"
     ]
    },
    {
     "name": "stderr",
     "output_type": "stream",
     "text": [
      "[Parallel(n_jobs=1)]: Using backend SequentialBackend with 1 concurrent workers.\n",
      "[Parallel(n_jobs=1)]: Done   1 out of   1 | elapsed:    0.1s remaining:    0.0s\n",
      "[Parallel(n_jobs=1)]: Done   2 out of   2 | elapsed:    0.1s remaining:    0.0s\n",
      "[Parallel(n_jobs=1)]: Done   3 out of   3 | elapsed:    0.2s remaining:    0.0s\n",
      "[Parallel(n_jobs=1)]: Done   4 out of   4 | elapsed:    0.2s remaining:    0.0s\n"
     ]
    },
    {
     "name": "stdout",
     "output_type": "stream",
     "text": [
      "Used Annotations descriptions: ['New Segment', 'S  4', 'S  5', 'S  6', 'S  7', 'S  8', 'S 44', 'S 50', 'S 60', 'S 63', 'S 66', 'S 69', 'S 70', 'S 73', 'S 77', 'S 79']\n"
     ]
    },
    {
     "name": "stderr",
     "output_type": "stream",
     "text": [
      "[Parallel(n_jobs=1)]: Done  37 out of  37 | elapsed:    2.2s finished\n"
     ]
    },
    {
     "name": "stdout",
     "output_type": "stream",
     "text": [
      "O2\n",
      "Extracting EDF parameters from /home/data/HSE_math_exp_2/raw/35_math-edf.edf...\n",
      "EDF file detected\n",
      "Setting channel info structure...\n",
      "Creating raw.info structure...\n",
      "Reading 0 ... 2277999  =      0.000 ...  4555.998 secs...\n",
      "Filtering raw data in 1 contiguous segment\n",
      "Setting up band-pass filter from 0.9 - 40 Hz\n",
      "\n",
      "FIR filter parameters\n",
      "---------------------\n",
      "Designing a one-pass, zero-phase, non-causal bandpass filter:\n",
      "- Windowed time-domain design (firwin) method\n",
      "- Hamming window with 0.0194 passband ripple and 53 dB stopband attenuation\n",
      "- Lower passband edge: 0.90\n",
      "- Lower transition bandwidth: 0.90 Hz (-6 dB cutoff frequency: 0.45 Hz)\n",
      "- Upper passband edge: 40.00 Hz\n",
      "- Upper transition bandwidth: 10.00 Hz (-6 dB cutoff frequency: 45.00 Hz)\n",
      "- Filter length: 1835 samples (3.670 s)\n",
      "\n"
     ]
    },
    {
     "name": "stderr",
     "output_type": "stream",
     "text": [
      "[Parallel(n_jobs=1)]: Using backend SequentialBackend with 1 concurrent workers.\n",
      "[Parallel(n_jobs=1)]: Done   1 out of   1 | elapsed:    0.1s remaining:    0.0s\n",
      "[Parallel(n_jobs=1)]: Done   2 out of   2 | elapsed:    0.1s remaining:    0.0s\n",
      "[Parallel(n_jobs=1)]: Done   3 out of   3 | elapsed:    0.2s remaining:    0.0s\n",
      "[Parallel(n_jobs=1)]: Done   4 out of   4 | elapsed:    0.2s remaining:    0.0s\n"
     ]
    },
    {
     "name": "stdout",
     "output_type": "stream",
     "text": [
      "Used Annotations descriptions: ['New Segment', 'S  4', 'S  5', 'S  6', 'S  7', 'S  8', 'S 44', 'S 50', 'S 60', 'S 63', 'S 66', 'S 69', 'S 70', 'S 73', 'S 77', 'S 79']\n"
     ]
    },
    {
     "name": "stderr",
     "output_type": "stream",
     "text": [
      "[Parallel(n_jobs=1)]: Done  37 out of  37 | elapsed:    2.0s finished\n"
     ]
    },
    {
     "name": "stdout",
     "output_type": "stream",
     "text": [
      "C3\n",
      "Extracting EDF parameters from /home/data/HSE_math_exp_2/raw/36_math-edf.edf...\n",
      "EDF file detected\n",
      "Setting channel info structure...\n",
      "Creating raw.info structure...\n",
      "Reading 0 ... 2207499  =      0.000 ...  4414.998 secs...\n",
      "Filtering raw data in 1 contiguous segment\n",
      "Setting up band-pass filter from 0.9 - 40 Hz\n",
      "\n",
      "FIR filter parameters\n",
      "---------------------\n",
      "Designing a one-pass, zero-phase, non-causal bandpass filter:\n",
      "- Windowed time-domain design (firwin) method\n",
      "- Hamming window with 0.0194 passband ripple and 53 dB stopband attenuation\n",
      "- Lower passband edge: 0.90\n",
      "- Lower transition bandwidth: 0.90 Hz (-6 dB cutoff frequency: 0.45 Hz)\n",
      "- Upper passband edge: 40.00 Hz\n",
      "- Upper transition bandwidth: 10.00 Hz (-6 dB cutoff frequency: 45.00 Hz)\n",
      "- Filter length: 1835 samples (3.670 s)\n",
      "\n"
     ]
    },
    {
     "name": "stderr",
     "output_type": "stream",
     "text": [
      "[Parallel(n_jobs=1)]: Using backend SequentialBackend with 1 concurrent workers.\n",
      "[Parallel(n_jobs=1)]: Done   1 out of   1 | elapsed:    0.1s remaining:    0.0s\n",
      "[Parallel(n_jobs=1)]: Done   2 out of   2 | elapsed:    0.1s remaining:    0.0s\n",
      "[Parallel(n_jobs=1)]: Done   3 out of   3 | elapsed:    0.2s remaining:    0.0s\n",
      "[Parallel(n_jobs=1)]: Done   4 out of   4 | elapsed:    0.2s remaining:    0.0s\n"
     ]
    },
    {
     "name": "stdout",
     "output_type": "stream",
     "text": [
      "Used Annotations descriptions: ['New Segment', 'S  4', 'S  5', 'S  6', 'S  7', 'S  8', 'S 44', 'S 50', 'S 60', 'S 63', 'S 66', 'S 69', 'S 70', 'S 73', 'S 77', 'S 79']\n"
     ]
    },
    {
     "name": "stderr",
     "output_type": "stream",
     "text": [
      "[Parallel(n_jobs=1)]: Done  37 out of  37 | elapsed:    1.9s finished\n"
     ]
    },
    {
     "name": "stdout",
     "output_type": "stream",
     "text": [
      "C3\n",
      "Extracting EDF parameters from /home/data/HSE_math_exp_2/raw/37_math-edf.edf...\n",
      "EDF file detected\n",
      "Setting channel info structure...\n",
      "Creating raw.info structure...\n",
      "Reading 0 ... 2194499  =      0.000 ...  4388.998 secs...\n",
      "Filtering raw data in 1 contiguous segment\n",
      "Setting up band-pass filter from 0.9 - 40 Hz\n",
      "\n",
      "FIR filter parameters\n",
      "---------------------\n",
      "Designing a one-pass, zero-phase, non-causal bandpass filter:\n",
      "- Windowed time-domain design (firwin) method\n",
      "- Hamming window with 0.0194 passband ripple and 53 dB stopband attenuation\n",
      "- Lower passband edge: 0.90\n",
      "- Lower transition bandwidth: 0.90 Hz (-6 dB cutoff frequency: 0.45 Hz)\n",
      "- Upper passband edge: 40.00 Hz\n",
      "- Upper transition bandwidth: 10.00 Hz (-6 dB cutoff frequency: 45.00 Hz)\n",
      "- Filter length: 1835 samples (3.670 s)\n",
      "\n"
     ]
    },
    {
     "name": "stderr",
     "output_type": "stream",
     "text": [
      "[Parallel(n_jobs=1)]: Using backend SequentialBackend with 1 concurrent workers.\n",
      "[Parallel(n_jobs=1)]: Done   1 out of   1 | elapsed:    0.1s remaining:    0.0s\n",
      "[Parallel(n_jobs=1)]: Done   2 out of   2 | elapsed:    0.1s remaining:    0.0s\n",
      "[Parallel(n_jobs=1)]: Done   3 out of   3 | elapsed:    0.2s remaining:    0.0s\n",
      "[Parallel(n_jobs=1)]: Done   4 out of   4 | elapsed:    0.2s remaining:    0.0s\n"
     ]
    },
    {
     "name": "stdout",
     "output_type": "stream",
     "text": [
      "Used Annotations descriptions: ['New Segment', 'S  4', 'S  5', 'S  6', 'S  7', 'S  8', 'S 44', 'S 50', 'S 60', 'S 63', 'S 66', 'S 69', 'S 70', 'S 73', 'S 77', 'S 79']\n"
     ]
    },
    {
     "name": "stderr",
     "output_type": "stream",
     "text": [
      "[Parallel(n_jobs=1)]: Done  37 out of  37 | elapsed:    1.9s finished\n"
     ]
    },
    {
     "name": "stdout",
     "output_type": "stream",
     "text": [
      "Extracting EDF parameters from /home/data/HSE_math_exp_2/raw/38_math-edf.edf...\n",
      "EDF file detected\n",
      "Setting channel info structure...\n",
      "Creating raw.info structure...\n",
      "Reading 0 ... 2156499  =      0.000 ...  4312.998 secs...\n",
      "Filtering raw data in 1 contiguous segment\n",
      "Setting up band-pass filter from 0.9 - 40 Hz\n",
      "\n",
      "FIR filter parameters\n",
      "---------------------\n",
      "Designing a one-pass, zero-phase, non-causal bandpass filter:\n",
      "- Windowed time-domain design (firwin) method\n",
      "- Hamming window with 0.0194 passband ripple and 53 dB stopband attenuation\n",
      "- Lower passband edge: 0.90\n",
      "- Lower transition bandwidth: 0.90 Hz (-6 dB cutoff frequency: 0.45 Hz)\n",
      "- Upper passband edge: 40.00 Hz\n",
      "- Upper transition bandwidth: 10.00 Hz (-6 dB cutoff frequency: 45.00 Hz)\n",
      "- Filter length: 1835 samples (3.670 s)\n",
      "\n"
     ]
    },
    {
     "name": "stderr",
     "output_type": "stream",
     "text": [
      "[Parallel(n_jobs=1)]: Using backend SequentialBackend with 1 concurrent workers.\n",
      "[Parallel(n_jobs=1)]: Done   1 out of   1 | elapsed:    0.1s remaining:    0.0s\n",
      "[Parallel(n_jobs=1)]: Done   2 out of   2 | elapsed:    0.1s remaining:    0.0s\n",
      "[Parallel(n_jobs=1)]: Done   3 out of   3 | elapsed:    0.2s remaining:    0.0s\n",
      "[Parallel(n_jobs=1)]: Done   4 out of   4 | elapsed:    0.2s remaining:    0.0s\n"
     ]
    },
    {
     "name": "stdout",
     "output_type": "stream",
     "text": [
      "Used Annotations descriptions: ['New Segment', 'S  4', 'S  5', 'S  6', 'S  7', 'S  8', 'S 44', 'S 50', 'S 60', 'S 63', 'S 66', 'S 69', 'S 70', 'S 73', 'S 77', 'S 79']\n"
     ]
    },
    {
     "name": "stderr",
     "output_type": "stream",
     "text": [
      "[Parallel(n_jobs=1)]: Done  37 out of  37 | elapsed:    1.9s finished\n"
     ]
    },
    {
     "name": "stdout",
     "output_type": "stream",
     "text": [
      "Fz\n",
      "W\n",
      "C3\n",
      "Extracting EDF parameters from /home/data/HSE_math_exp_2/raw/39_math-edf.edf...\n",
      "EDF file detected\n",
      "Setting channel info structure...\n",
      "Creating raw.info structure...\n",
      "Reading 0 ... 2902499  =      0.000 ...  5804.998 secs...\n",
      "Filtering raw data in 1 contiguous segment\n",
      "Setting up band-pass filter from 0.9 - 40 Hz\n",
      "\n",
      "FIR filter parameters\n",
      "---------------------\n",
      "Designing a one-pass, zero-phase, non-causal bandpass filter:\n",
      "- Windowed time-domain design (firwin) method\n",
      "- Hamming window with 0.0194 passband ripple and 53 dB stopband attenuation\n",
      "- Lower passband edge: 0.90\n",
      "- Lower transition bandwidth: 0.90 Hz (-6 dB cutoff frequency: 0.45 Hz)\n",
      "- Upper passband edge: 40.00 Hz\n",
      "- Upper transition bandwidth: 10.00 Hz (-6 dB cutoff frequency: 45.00 Hz)\n",
      "- Filter length: 1835 samples (3.670 s)\n",
      "\n"
     ]
    },
    {
     "name": "stderr",
     "output_type": "stream",
     "text": [
      "[Parallel(n_jobs=1)]: Using backend SequentialBackend with 1 concurrent workers.\n",
      "[Parallel(n_jobs=1)]: Done   1 out of   1 | elapsed:    0.1s remaining:    0.0s\n",
      "[Parallel(n_jobs=1)]: Done   2 out of   2 | elapsed:    0.1s remaining:    0.0s\n",
      "[Parallel(n_jobs=1)]: Done   3 out of   3 | elapsed:    0.2s remaining:    0.0s\n",
      "[Parallel(n_jobs=1)]: Done   4 out of   4 | elapsed:    0.3s remaining:    0.0s\n"
     ]
    },
    {
     "name": "stdout",
     "output_type": "stream",
     "text": [
      "Used Annotations descriptions: ['New Segment', 'S  4', 'S  5', 'S  6', 'S  7', 'S  8', 'S 44', 'S 50', 'S 60', 'S 63', 'S 66', 'S 69', 'S 70', 'S 73', 'S 77', 'S 79']\n"
     ]
    },
    {
     "name": "stderr",
     "output_type": "stream",
     "text": [
      "[Parallel(n_jobs=1)]: Done  37 out of  37 | elapsed:    2.6s finished\n"
     ]
    },
    {
     "name": "stdout",
     "output_type": "stream",
     "text": [
      "O2\n",
      "Extracting EDF parameters from /home/data/HSE_math_exp_2/raw/40_math-edf.edf...\n",
      "EDF file detected\n",
      "Setting channel info structure...\n",
      "Creating raw.info structure...\n",
      "Reading 0 ... 2589499  =      0.000 ...  5178.998 secs...\n",
      "Filtering raw data in 1 contiguous segment\n",
      "Setting up band-pass filter from 0.9 - 40 Hz\n",
      "\n",
      "FIR filter parameters\n",
      "---------------------\n",
      "Designing a one-pass, zero-phase, non-causal bandpass filter:\n",
      "- Windowed time-domain design (firwin) method\n",
      "- Hamming window with 0.0194 passband ripple and 53 dB stopband attenuation\n",
      "- Lower passband edge: 0.90\n",
      "- Lower transition bandwidth: 0.90 Hz (-6 dB cutoff frequency: 0.45 Hz)\n",
      "- Upper passband edge: 40.00 Hz\n",
      "- Upper transition bandwidth: 10.00 Hz (-6 dB cutoff frequency: 45.00 Hz)\n",
      "- Filter length: 1835 samples (3.670 s)\n",
      "\n"
     ]
    },
    {
     "name": "stderr",
     "output_type": "stream",
     "text": [
      "[Parallel(n_jobs=1)]: Using backend SequentialBackend with 1 concurrent workers.\n",
      "[Parallel(n_jobs=1)]: Done   1 out of   1 | elapsed:    0.1s remaining:    0.0s\n",
      "[Parallel(n_jobs=1)]: Done   2 out of   2 | elapsed:    0.1s remaining:    0.0s\n",
      "[Parallel(n_jobs=1)]: Done   3 out of   3 | elapsed:    0.2s remaining:    0.0s\n",
      "[Parallel(n_jobs=1)]: Done   4 out of   4 | elapsed:    0.2s remaining:    0.0s\n"
     ]
    },
    {
     "name": "stdout",
     "output_type": "stream",
     "text": [
      "Used Annotations descriptions: ['New Segment', 'S  4', 'S  5', 'S  6', 'S  7', 'S  8', 'S 44', 'S 50', 'S 60', 'S 63', 'S 66', 'S 69', 'S 70', 'S 73', 'S 77', 'S 79']\n"
     ]
    },
    {
     "name": "stderr",
     "output_type": "stream",
     "text": [
      "[Parallel(n_jobs=1)]: Done  37 out of  37 | elapsed:    2.3s finished\n"
     ]
    },
    {
     "name": "stdout",
     "output_type": "stream",
     "text": [
      "Extracting EDF parameters from /home/data/HSE_math_exp_2/raw/41_math-edf.edf...\n",
      "EDF file detected\n",
      "Setting channel info structure...\n",
      "Creating raw.info structure...\n",
      "Reading 0 ... 2199499  =      0.000 ...  4398.998 secs...\n",
      "Filtering raw data in 1 contiguous segment\n",
      "Setting up band-pass filter from 0.9 - 40 Hz\n",
      "\n",
      "FIR filter parameters\n",
      "---------------------\n",
      "Designing a one-pass, zero-phase, non-causal bandpass filter:\n",
      "- Windowed time-domain design (firwin) method\n",
      "- Hamming window with 0.0194 passband ripple and 53 dB stopband attenuation\n",
      "- Lower passband edge: 0.90\n",
      "- Lower transition bandwidth: 0.90 Hz (-6 dB cutoff frequency: 0.45 Hz)\n",
      "- Upper passband edge: 40.00 Hz\n",
      "- Upper transition bandwidth: 10.00 Hz (-6 dB cutoff frequency: 45.00 Hz)\n",
      "- Filter length: 1835 samples (3.670 s)\n",
      "\n"
     ]
    },
    {
     "name": "stderr",
     "output_type": "stream",
     "text": [
      "[Parallel(n_jobs=1)]: Using backend SequentialBackend with 1 concurrent workers.\n",
      "[Parallel(n_jobs=1)]: Done   1 out of   1 | elapsed:    0.1s remaining:    0.0s\n",
      "[Parallel(n_jobs=1)]: Done   2 out of   2 | elapsed:    0.1s remaining:    0.0s\n",
      "[Parallel(n_jobs=1)]: Done   3 out of   3 | elapsed:    0.2s remaining:    0.0s\n",
      "[Parallel(n_jobs=1)]: Done   4 out of   4 | elapsed:    0.2s remaining:    0.0s\n"
     ]
    },
    {
     "name": "stdout",
     "output_type": "stream",
     "text": [
      "Used Annotations descriptions: ['New Segment', 'S  4', 'S  5', 'S  6', 'S  7', 'S  8', 'S 44', 'S 50', 'S 60', 'S 63', 'S 66', 'S 69', 'S 70', 'S 73', 'S 77', 'S 79']\n"
     ]
    },
    {
     "name": "stderr",
     "output_type": "stream",
     "text": [
      "[Parallel(n_jobs=1)]: Done  37 out of  37 | elapsed:    1.9s finished\n"
     ]
    },
    {
     "name": "stdout",
     "output_type": "stream",
     "text": [
      "C3\n",
      "Extracting EDF parameters from /home/data/HSE_math_exp_2/raw/42_math-edf.edf...\n",
      "EDF file detected\n",
      "Setting channel info structure...\n",
      "Creating raw.info structure...\n",
      "Reading 0 ... 2309999  =      0.000 ...  4619.998 secs...\n",
      "Filtering raw data in 1 contiguous segment\n",
      "Setting up band-pass filter from 0.9 - 40 Hz\n",
      "\n",
      "FIR filter parameters\n",
      "---------------------\n",
      "Designing a one-pass, zero-phase, non-causal bandpass filter:\n",
      "- Windowed time-domain design (firwin) method\n",
      "- Hamming window with 0.0194 passband ripple and 53 dB stopband attenuation\n",
      "- Lower passband edge: 0.90\n",
      "- Lower transition bandwidth: 0.90 Hz (-6 dB cutoff frequency: 0.45 Hz)\n",
      "- Upper passband edge: 40.00 Hz\n",
      "- Upper transition bandwidth: 10.00 Hz (-6 dB cutoff frequency: 45.00 Hz)\n",
      "- Filter length: 1835 samples (3.670 s)\n",
      "\n"
     ]
    },
    {
     "name": "stderr",
     "output_type": "stream",
     "text": [
      "[Parallel(n_jobs=1)]: Using backend SequentialBackend with 1 concurrent workers.\n",
      "[Parallel(n_jobs=1)]: Done   1 out of   1 | elapsed:    0.1s remaining:    0.0s\n",
      "[Parallel(n_jobs=1)]: Done   2 out of   2 | elapsed:    0.1s remaining:    0.0s\n",
      "[Parallel(n_jobs=1)]: Done   3 out of   3 | elapsed:    0.2s remaining:    0.0s\n",
      "[Parallel(n_jobs=1)]: Done   4 out of   4 | elapsed:    0.2s remaining:    0.0s\n"
     ]
    },
    {
     "name": "stdout",
     "output_type": "stream",
     "text": [
      "Used Annotations descriptions: ['New Segment', 'S  4', 'S  5', 'S  6', 'S  7', 'S  8', 'S 44', 'S 50', 'S 60', 'S 63', 'S 66', 'S 69', 'S 70', 'S 73', 'S 77', 'S 79']\n"
     ]
    },
    {
     "name": "stderr",
     "output_type": "stream",
     "text": [
      "[Parallel(n_jobs=1)]: Done  37 out of  37 | elapsed:    2.0s finished\n"
     ]
    },
    {
     "name": "stdout",
     "output_type": "stream",
     "text": [
      "Fz\n",
      "W\n",
      "O2\n",
      "Extracting EDF parameters from /home/data/HSE_math_exp_2/raw/43_math-edf.edf...\n",
      "EDF file detected\n",
      "Setting channel info structure...\n",
      "Creating raw.info structure...\n",
      "Reading 0 ... 2176499  =      0.000 ...  4352.998 secs...\n",
      "Filtering raw data in 1 contiguous segment\n",
      "Setting up band-pass filter from 0.9 - 40 Hz\n",
      "\n",
      "FIR filter parameters\n",
      "---------------------\n",
      "Designing a one-pass, zero-phase, non-causal bandpass filter:\n",
      "- Windowed time-domain design (firwin) method\n",
      "- Hamming window with 0.0194 passband ripple and 53 dB stopband attenuation\n",
      "- Lower passband edge: 0.90\n",
      "- Lower transition bandwidth: 0.90 Hz (-6 dB cutoff frequency: 0.45 Hz)\n",
      "- Upper passband edge: 40.00 Hz\n",
      "- Upper transition bandwidth: 10.00 Hz (-6 dB cutoff frequency: 45.00 Hz)\n",
      "- Filter length: 1835 samples (3.670 s)\n",
      "\n"
     ]
    },
    {
     "name": "stderr",
     "output_type": "stream",
     "text": [
      "[Parallel(n_jobs=1)]: Using backend SequentialBackend with 1 concurrent workers.\n",
      "[Parallel(n_jobs=1)]: Done   1 out of   1 | elapsed:    0.1s remaining:    0.0s\n",
      "[Parallel(n_jobs=1)]: Done   2 out of   2 | elapsed:    0.1s remaining:    0.0s\n",
      "[Parallel(n_jobs=1)]: Done   3 out of   3 | elapsed:    0.2s remaining:    0.0s\n",
      "[Parallel(n_jobs=1)]: Done   4 out of   4 | elapsed:    0.2s remaining:    0.0s\n"
     ]
    },
    {
     "name": "stdout",
     "output_type": "stream",
     "text": [
      "Used Annotations descriptions: ['New Segment', 'S  4', 'S  5', 'S  6', 'S  7', 'S  8', 'S 44', 'S 50', 'S 60', 'S 63', 'S 66', 'S 69', 'S 70', 'S 73', 'S 77', 'S 79']\n"
     ]
    },
    {
     "name": "stderr",
     "output_type": "stream",
     "text": [
      "[Parallel(n_jobs=1)]: Done  37 out of  37 | elapsed:    1.9s finished\n"
     ]
    },
    {
     "name": "stdout",
     "output_type": "stream",
     "text": [
      "C3\n",
      "Extracting EDF parameters from /home/data/HSE_math_exp_2/raw/44_math-edf.edf...\n",
      "EDF file detected\n",
      "Setting channel info structure...\n",
      "Creating raw.info structure...\n",
      "Reading 0 ... 2342499  =      0.000 ...  4684.998 secs...\n",
      "Filtering raw data in 1 contiguous segment\n",
      "Setting up band-pass filter from 0.9 - 40 Hz\n",
      "\n",
      "FIR filter parameters\n",
      "---------------------\n",
      "Designing a one-pass, zero-phase, non-causal bandpass filter:\n",
      "- Windowed time-domain design (firwin) method\n",
      "- Hamming window with 0.0194 passband ripple and 53 dB stopband attenuation\n",
      "- Lower passband edge: 0.90\n",
      "- Lower transition bandwidth: 0.90 Hz (-6 dB cutoff frequency: 0.45 Hz)\n",
      "- Upper passband edge: 40.00 Hz\n",
      "- Upper transition bandwidth: 10.00 Hz (-6 dB cutoff frequency: 45.00 Hz)\n",
      "- Filter length: 1835 samples (3.670 s)\n",
      "\n"
     ]
    },
    {
     "name": "stderr",
     "output_type": "stream",
     "text": [
      "[Parallel(n_jobs=1)]: Using backend SequentialBackend with 1 concurrent workers.\n",
      "[Parallel(n_jobs=1)]: Done   1 out of   1 | elapsed:    0.1s remaining:    0.0s\n",
      "[Parallel(n_jobs=1)]: Done   2 out of   2 | elapsed:    0.1s remaining:    0.0s\n",
      "[Parallel(n_jobs=1)]: Done   3 out of   3 | elapsed:    0.2s remaining:    0.0s\n",
      "[Parallel(n_jobs=1)]: Done   4 out of   4 | elapsed:    0.2s remaining:    0.0s\n"
     ]
    },
    {
     "name": "stdout",
     "output_type": "stream",
     "text": [
      "Used Annotations descriptions: ['New Segment', 'S  4', 'S  5', 'S  6', 'S  7', 'S  8', 'S 44', 'S 50', 'S 60', 'S 63', 'S 66', 'S 69', 'S 70', 'S 73', 'S 77', 'S 79']\n"
     ]
    },
    {
     "name": "stderr",
     "output_type": "stream",
     "text": [
      "[Parallel(n_jobs=1)]: Done  37 out of  37 | elapsed:    2.1s finished\n"
     ]
    },
    {
     "name": "stdout",
     "output_type": "stream",
     "text": [
      "F8\n",
      "C4\n",
      "Extracting EDF parameters from /home/data/HSE_math_exp_2/raw/45_math-edf.edf...\n",
      "EDF file detected\n",
      "Setting channel info structure...\n",
      "Creating raw.info structure...\n",
      "Reading 0 ... 1464999  =      0.000 ...  2929.998 secs...\n",
      "Filtering raw data in 1 contiguous segment\n",
      "Setting up band-pass filter from 0.9 - 40 Hz\n",
      "\n",
      "FIR filter parameters\n",
      "---------------------\n",
      "Designing a one-pass, zero-phase, non-causal bandpass filter:\n",
      "- Windowed time-domain design (firwin) method\n",
      "- Hamming window with 0.0194 passband ripple and 53 dB stopband attenuation\n",
      "- Lower passband edge: 0.90\n",
      "- Lower transition bandwidth: 0.90 Hz (-6 dB cutoff frequency: 0.45 Hz)\n",
      "- Upper passband edge: 40.00 Hz\n",
      "- Upper transition bandwidth: 10.00 Hz (-6 dB cutoff frequency: 45.00 Hz)\n",
      "- Filter length: 1835 samples (3.670 s)\n",
      "\n"
     ]
    },
    {
     "name": "stderr",
     "output_type": "stream",
     "text": [
      "[Parallel(n_jobs=1)]: Using backend SequentialBackend with 1 concurrent workers.\n",
      "[Parallel(n_jobs=1)]: Done   1 out of   1 | elapsed:    0.0s remaining:    0.0s\n",
      "[Parallel(n_jobs=1)]: Done   2 out of   2 | elapsed:    0.1s remaining:    0.0s\n",
      "[Parallel(n_jobs=1)]: Done   3 out of   3 | elapsed:    0.1s remaining:    0.0s\n",
      "[Parallel(n_jobs=1)]: Done   4 out of   4 | elapsed:    0.1s remaining:    0.0s\n"
     ]
    },
    {
     "name": "stdout",
     "output_type": "stream",
     "text": [
      "Used Annotations descriptions: ['New Segment', 'S  4', 'S  5', 'S  6', 'S  7', 'S  8', 'S 44', 'S 50', 'S 60', 'S 63', 'S 66', 'S 69', 'S 70', 'S 73', 'S 77', 'S 79']\n"
     ]
    },
    {
     "name": "stderr",
     "output_type": "stream",
     "text": [
      "[Parallel(n_jobs=1)]: Done  37 out of  37 | elapsed:    1.3s finished\n"
     ]
    },
    {
     "name": "stdout",
     "output_type": "stream",
     "text": [
      "P4\n",
      "Extracting EDF parameters from /home/data/HSE_math_exp_2/raw/46_math-edf.edf...\n",
      "EDF file detected\n",
      "Setting channel info structure...\n",
      "Creating raw.info structure...\n",
      "Reading 0 ... 2145499  =      0.000 ...  4290.998 secs...\n",
      "Filtering raw data in 1 contiguous segment\n",
      "Setting up band-pass filter from 0.9 - 40 Hz\n",
      "\n",
      "FIR filter parameters\n",
      "---------------------\n",
      "Designing a one-pass, zero-phase, non-causal bandpass filter:\n",
      "- Windowed time-domain design (firwin) method\n",
      "- Hamming window with 0.0194 passband ripple and 53 dB stopband attenuation\n",
      "- Lower passband edge: 0.90\n",
      "- Lower transition bandwidth: 0.90 Hz (-6 dB cutoff frequency: 0.45 Hz)\n",
      "- Upper passband edge: 40.00 Hz\n",
      "- Upper transition bandwidth: 10.00 Hz (-6 dB cutoff frequency: 45.00 Hz)\n",
      "- Filter length: 1835 samples (3.670 s)\n",
      "\n"
     ]
    },
    {
     "name": "stderr",
     "output_type": "stream",
     "text": [
      "[Parallel(n_jobs=1)]: Using backend SequentialBackend with 1 concurrent workers.\n",
      "[Parallel(n_jobs=1)]: Done   1 out of   1 | elapsed:    0.1s remaining:    0.0s\n",
      "[Parallel(n_jobs=1)]: Done   2 out of   2 | elapsed:    0.1s remaining:    0.0s\n",
      "[Parallel(n_jobs=1)]: Done   3 out of   3 | elapsed:    0.2s remaining:    0.0s\n",
      "[Parallel(n_jobs=1)]: Done   4 out of   4 | elapsed:    0.2s remaining:    0.0s\n"
     ]
    },
    {
     "name": "stdout",
     "output_type": "stream",
     "text": [
      "Used Annotations descriptions: ['New Segment', 'S  4', 'S  5', 'S  6', 'S  7', 'S  8', 'S 44', 'S 50', 'S 60', 'S 63', 'S 66', 'S 69', 'S 70', 'S 73', 'S 77', 'S 79']\n"
     ]
    },
    {
     "name": "stderr",
     "output_type": "stream",
     "text": [
      "[Parallel(n_jobs=1)]: Done  37 out of  37 | elapsed:    1.9s finished\n"
     ]
    },
    {
     "name": "stdout",
     "output_type": "stream",
     "text": [
      "O2\n",
      "Extracting EDF parameters from /home/data/HSE_math_exp_2/raw/47_math-edf.edf...\n",
      "EDF file detected\n",
      "Setting channel info structure...\n",
      "Creating raw.info structure...\n",
      "Reading 0 ... 2389499  =      0.000 ...  4778.998 secs...\n",
      "Filtering raw data in 1 contiguous segment\n",
      "Setting up band-pass filter from 0.9 - 40 Hz\n",
      "\n",
      "FIR filter parameters\n",
      "---------------------\n",
      "Designing a one-pass, zero-phase, non-causal bandpass filter:\n",
      "- Windowed time-domain design (firwin) method\n",
      "- Hamming window with 0.0194 passband ripple and 53 dB stopband attenuation\n",
      "- Lower passband edge: 0.90\n",
      "- Lower transition bandwidth: 0.90 Hz (-6 dB cutoff frequency: 0.45 Hz)\n",
      "- Upper passband edge: 40.00 Hz\n",
      "- Upper transition bandwidth: 10.00 Hz (-6 dB cutoff frequency: 45.00 Hz)\n",
      "- Filter length: 1835 samples (3.670 s)\n",
      "\n"
     ]
    },
    {
     "name": "stderr",
     "output_type": "stream",
     "text": [
      "[Parallel(n_jobs=1)]: Using backend SequentialBackend with 1 concurrent workers.\n",
      "[Parallel(n_jobs=1)]: Done   1 out of   1 | elapsed:    0.1s remaining:    0.0s\n",
      "[Parallel(n_jobs=1)]: Done   2 out of   2 | elapsed:    0.1s remaining:    0.0s\n",
      "[Parallel(n_jobs=1)]: Done   3 out of   3 | elapsed:    0.2s remaining:    0.0s\n",
      "[Parallel(n_jobs=1)]: Done   4 out of   4 | elapsed:    0.2s remaining:    0.0s\n"
     ]
    },
    {
     "name": "stdout",
     "output_type": "stream",
     "text": [
      "Used Annotations descriptions: ['New Segment', 'S  4', 'S  5', 'S  6', 'S  7', 'S  8', 'S 44', 'S 50', 'S 60', 'S 63', 'S 66', 'S 69', 'S 70', 'S 73', 'S 77', 'S 79']\n"
     ]
    },
    {
     "name": "stderr",
     "output_type": "stream",
     "text": [
      "[Parallel(n_jobs=1)]: Done  37 out of  37 | elapsed:    2.1s finished\n"
     ]
    },
    {
     "name": "stdout",
     "output_type": "stream",
     "text": [
      "F7\n",
      "Fz\n",
      "W\n",
      "O2\n",
      "Extracting EDF parameters from /home/data/HSE_math_exp_2/raw/48_math-edf.edf...\n",
      "EDF file detected\n",
      "Setting channel info structure...\n",
      "Creating raw.info structure...\n",
      "Reading 0 ... 2154499  =      0.000 ...  4308.998 secs...\n",
      "Filtering raw data in 1 contiguous segment\n",
      "Setting up band-pass filter from 0.9 - 40 Hz\n",
      "\n",
      "FIR filter parameters\n",
      "---------------------\n",
      "Designing a one-pass, zero-phase, non-causal bandpass filter:\n",
      "- Windowed time-domain design (firwin) method\n",
      "- Hamming window with 0.0194 passband ripple and 53 dB stopband attenuation\n",
      "- Lower passband edge: 0.90\n",
      "- Lower transition bandwidth: 0.90 Hz (-6 dB cutoff frequency: 0.45 Hz)\n",
      "- Upper passband edge: 40.00 Hz\n",
      "- Upper transition bandwidth: 10.00 Hz (-6 dB cutoff frequency: 45.00 Hz)\n",
      "- Filter length: 1835 samples (3.670 s)\n",
      "\n"
     ]
    },
    {
     "name": "stderr",
     "output_type": "stream",
     "text": [
      "[Parallel(n_jobs=1)]: Using backend SequentialBackend with 1 concurrent workers.\n",
      "[Parallel(n_jobs=1)]: Done   1 out of   1 | elapsed:    0.1s remaining:    0.0s\n",
      "[Parallel(n_jobs=1)]: Done   2 out of   2 | elapsed:    0.1s remaining:    0.0s\n",
      "[Parallel(n_jobs=1)]: Done   3 out of   3 | elapsed:    0.2s remaining:    0.0s\n",
      "[Parallel(n_jobs=1)]: Done   4 out of   4 | elapsed:    0.2s remaining:    0.0s\n"
     ]
    },
    {
     "name": "stdout",
     "output_type": "stream",
     "text": [
      "Used Annotations descriptions: ['New Segment', 'S  4', 'S  5', 'S  6', 'S  7', 'S  8', 'S 44', 'S 50', 'S 60', 'S 63', 'S 66', 'S 69', 'S 70', 'S 73', 'S 77', 'S 79']\n"
     ]
    },
    {
     "name": "stderr",
     "output_type": "stream",
     "text": [
      "[Parallel(n_jobs=1)]: Done  37 out of  37 | elapsed:    1.9s finished\n"
     ]
    },
    {
     "name": "stdout",
     "output_type": "stream",
     "text": [
      "F7\n",
      "Fz\n",
      "W\n",
      "Extracting EDF parameters from /home/data/HSE_math_exp_2/raw/49_math-edf.edf...\n",
      "EDF file detected\n",
      "Setting channel info structure...\n",
      "Creating raw.info structure...\n",
      "Reading 0 ... 2787999  =      0.000 ...  5575.998 secs...\n",
      "Filtering raw data in 1 contiguous segment\n",
      "Setting up band-pass filter from 0.9 - 40 Hz\n",
      "\n",
      "FIR filter parameters\n",
      "---------------------\n",
      "Designing a one-pass, zero-phase, non-causal bandpass filter:\n",
      "- Windowed time-domain design (firwin) method\n",
      "- Hamming window with 0.0194 passband ripple and 53 dB stopband attenuation\n",
      "- Lower passband edge: 0.90\n",
      "- Lower transition bandwidth: 0.90 Hz (-6 dB cutoff frequency: 0.45 Hz)\n",
      "- Upper passband edge: 40.00 Hz\n",
      "- Upper transition bandwidth: 10.00 Hz (-6 dB cutoff frequency: 45.00 Hz)\n",
      "- Filter length: 1835 samples (3.670 s)\n",
      "\n"
     ]
    },
    {
     "name": "stderr",
     "output_type": "stream",
     "text": [
      "[Parallel(n_jobs=1)]: Using backend SequentialBackend with 1 concurrent workers.\n",
      "[Parallel(n_jobs=1)]: Done   1 out of   1 | elapsed:    0.1s remaining:    0.0s\n",
      "[Parallel(n_jobs=1)]: Done   2 out of   2 | elapsed:    0.1s remaining:    0.0s\n",
      "[Parallel(n_jobs=1)]: Done   3 out of   3 | elapsed:    0.2s remaining:    0.0s\n",
      "[Parallel(n_jobs=1)]: Done   4 out of   4 | elapsed:    0.3s remaining:    0.0s\n"
     ]
    },
    {
     "name": "stdout",
     "output_type": "stream",
     "text": [
      "Used Annotations descriptions: ['New Segment', 'S  4', 'S  5', 'S  6', 'S  7', 'S  8', 'S 44', 'S 50', 'S 60', 'S 63', 'S 66', 'S 69', 'S 70', 'S 73', 'S 77', 'S 79']\n"
     ]
    },
    {
     "name": "stderr",
     "output_type": "stream",
     "text": [
      "[Parallel(n_jobs=1)]: Done  37 out of  37 | elapsed:    2.5s finished\n"
     ]
    },
    {
     "name": "stdout",
     "output_type": "stream",
     "text": [
      "F7\n",
      "Fz\n",
      "W\n",
      "O2\n",
      "Extracting EDF parameters from /home/data/HSE_math_exp_2/raw/50_math-edf.edf...\n",
      "EDF file detected\n",
      "Setting channel info structure...\n",
      "Creating raw.info structure...\n",
      "Reading 0 ... 2673499  =      0.000 ...  5346.998 secs...\n",
      "Filtering raw data in 1 contiguous segment\n",
      "Setting up band-pass filter from 0.9 - 40 Hz\n",
      "\n",
      "FIR filter parameters\n",
      "---------------------\n",
      "Designing a one-pass, zero-phase, non-causal bandpass filter:\n",
      "- Windowed time-domain design (firwin) method\n",
      "- Hamming window with 0.0194 passband ripple and 53 dB stopband attenuation\n",
      "- Lower passband edge: 0.90\n",
      "- Lower transition bandwidth: 0.90 Hz (-6 dB cutoff frequency: 0.45 Hz)\n",
      "- Upper passband edge: 40.00 Hz\n",
      "- Upper transition bandwidth: 10.00 Hz (-6 dB cutoff frequency: 45.00 Hz)\n",
      "- Filter length: 1835 samples (3.670 s)\n",
      "\n"
     ]
    },
    {
     "name": "stderr",
     "output_type": "stream",
     "text": [
      "[Parallel(n_jobs=1)]: Using backend SequentialBackend with 1 concurrent workers.\n",
      "[Parallel(n_jobs=1)]: Done   1 out of   1 | elapsed:    0.1s remaining:    0.0s\n",
      "[Parallel(n_jobs=1)]: Done   2 out of   2 | elapsed:    0.1s remaining:    0.0s\n",
      "[Parallel(n_jobs=1)]: Done   3 out of   3 | elapsed:    0.2s remaining:    0.0s\n",
      "[Parallel(n_jobs=1)]: Done   4 out of   4 | elapsed:    0.3s remaining:    0.0s\n"
     ]
    },
    {
     "name": "stdout",
     "output_type": "stream",
     "text": [
      "Used Annotations descriptions: ['New Segment', 'S  4', 'S  5', 'S  6', 'S  7', 'S  8', 'S 44', 'S 50', 'S 60', 'S 63', 'S 66', 'S 69', 'S 70', 'S 73', 'S 77', 'S 79']\n"
     ]
    },
    {
     "name": "stderr",
     "output_type": "stream",
     "text": [
      "[Parallel(n_jobs=1)]: Done  37 out of  37 | elapsed:    2.4s finished\n"
     ]
    },
    {
     "name": "stdout",
     "output_type": "stream",
     "text": [
      "F7\n",
      "Fz\n",
      "W\n",
      "Extracting EDF parameters from /home/data/HSE_math_exp_2/raw/51_math-edf.edf...\n",
      "EDF file detected\n",
      "Setting channel info structure...\n",
      "Creating raw.info structure...\n",
      "Reading 0 ... 2123999  =      0.000 ...  4247.998 secs...\n",
      "Filtering raw data in 1 contiguous segment\n",
      "Setting up band-pass filter from 0.9 - 40 Hz\n",
      "\n",
      "FIR filter parameters\n",
      "---------------------\n",
      "Designing a one-pass, zero-phase, non-causal bandpass filter:\n",
      "- Windowed time-domain design (firwin) method\n",
      "- Hamming window with 0.0194 passband ripple and 53 dB stopband attenuation\n",
      "- Lower passband edge: 0.90\n",
      "- Lower transition bandwidth: 0.90 Hz (-6 dB cutoff frequency: 0.45 Hz)\n",
      "- Upper passband edge: 40.00 Hz\n",
      "- Upper transition bandwidth: 10.00 Hz (-6 dB cutoff frequency: 45.00 Hz)\n",
      "- Filter length: 1835 samples (3.670 s)\n",
      "\n"
     ]
    },
    {
     "name": "stderr",
     "output_type": "stream",
     "text": [
      "[Parallel(n_jobs=1)]: Using backend SequentialBackend with 1 concurrent workers.\n",
      "[Parallel(n_jobs=1)]: Done   1 out of   1 | elapsed:    0.1s remaining:    0.0s\n",
      "[Parallel(n_jobs=1)]: Done   2 out of   2 | elapsed:    0.1s remaining:    0.0s\n",
      "[Parallel(n_jobs=1)]: Done   3 out of   3 | elapsed:    0.2s remaining:    0.0s\n",
      "[Parallel(n_jobs=1)]: Done   4 out of   4 | elapsed:    0.2s remaining:    0.0s\n"
     ]
    },
    {
     "name": "stdout",
     "output_type": "stream",
     "text": [
      "Used Annotations descriptions: ['New Segment', 'S  4', 'S  5', 'S  6', 'S  7', 'S  8', 'S 44', 'S 50', 'S 60', 'S 63', 'S 66', 'S 69', 'S 70', 'S 73', 'S 77', 'S 79']\n"
     ]
    },
    {
     "name": "stderr",
     "output_type": "stream",
     "text": [
      "[Parallel(n_jobs=1)]: Done  37 out of  37 | elapsed:    1.9s finished\n"
     ]
    },
    {
     "name": "stdout",
     "output_type": "stream",
     "text": [
      "Extracting EDF parameters from /home/data/HSE_math_exp_2/raw/52_math-edf.edf...\n",
      "EDF file detected\n",
      "Setting channel info structure...\n",
      "Creating raw.info structure...\n",
      "Reading 0 ... 2168999  =      0.000 ...  4337.998 secs...\n",
      "Filtering raw data in 1 contiguous segment\n",
      "Setting up band-pass filter from 0.9 - 40 Hz\n",
      "\n",
      "FIR filter parameters\n",
      "---------------------\n",
      "Designing a one-pass, zero-phase, non-causal bandpass filter:\n",
      "- Windowed time-domain design (firwin) method\n",
      "- Hamming window with 0.0194 passband ripple and 53 dB stopband attenuation\n",
      "- Lower passband edge: 0.90\n",
      "- Lower transition bandwidth: 0.90 Hz (-6 dB cutoff frequency: 0.45 Hz)\n",
      "- Upper passband edge: 40.00 Hz\n",
      "- Upper transition bandwidth: 10.00 Hz (-6 dB cutoff frequency: 45.00 Hz)\n",
      "- Filter length: 1835 samples (3.670 s)\n",
      "\n"
     ]
    },
    {
     "name": "stderr",
     "output_type": "stream",
     "text": [
      "[Parallel(n_jobs=1)]: Using backend SequentialBackend with 1 concurrent workers.\n",
      "[Parallel(n_jobs=1)]: Done   1 out of   1 | elapsed:    0.1s remaining:    0.0s\n",
      "[Parallel(n_jobs=1)]: Done   2 out of   2 | elapsed:    0.1s remaining:    0.0s\n",
      "[Parallel(n_jobs=1)]: Done   3 out of   3 | elapsed:    0.2s remaining:    0.0s\n",
      "[Parallel(n_jobs=1)]: Done   4 out of   4 | elapsed:    0.2s remaining:    0.0s\n"
     ]
    },
    {
     "name": "stdout",
     "output_type": "stream",
     "text": [
      "Used Annotations descriptions: ['New Segment', 'S  4', 'S  5', 'S  6', 'S  7', 'S  8', 'S 44', 'S 50', 'S 60', 'S 63', 'S 66', 'S 69', 'S 70', 'S 73', 'S 77', 'S 79']\n"
     ]
    },
    {
     "name": "stderr",
     "output_type": "stream",
     "text": [
      "[Parallel(n_jobs=1)]: Done  37 out of  37 | elapsed:    1.9s finished\n"
     ]
    },
    {
     "name": "stdout",
     "output_type": "stream",
     "text": [
      "Fp1\n",
      "Extracting EDF parameters from /home/data/HSE_math_exp_2/raw/53_math-edf.edf...\n",
      "EDF file detected\n",
      "Setting channel info structure...\n",
      "Creating raw.info structure...\n",
      "Reading 0 ... 2169999  =      0.000 ...  4339.998 secs...\n",
      "Filtering raw data in 1 contiguous segment\n",
      "Setting up band-pass filter from 0.9 - 40 Hz\n",
      "\n",
      "FIR filter parameters\n",
      "---------------------\n",
      "Designing a one-pass, zero-phase, non-causal bandpass filter:\n",
      "- Windowed time-domain design (firwin) method\n",
      "- Hamming window with 0.0194 passband ripple and 53 dB stopband attenuation\n",
      "- Lower passband edge: 0.90\n",
      "- Lower transition bandwidth: 0.90 Hz (-6 dB cutoff frequency: 0.45 Hz)\n",
      "- Upper passband edge: 40.00 Hz\n",
      "- Upper transition bandwidth: 10.00 Hz (-6 dB cutoff frequency: 45.00 Hz)\n",
      "- Filter length: 1835 samples (3.670 s)\n",
      "\n"
     ]
    },
    {
     "name": "stderr",
     "output_type": "stream",
     "text": [
      "[Parallel(n_jobs=1)]: Using backend SequentialBackend with 1 concurrent workers.\n",
      "[Parallel(n_jobs=1)]: Done   1 out of   1 | elapsed:    0.1s remaining:    0.0s\n",
      "[Parallel(n_jobs=1)]: Done   2 out of   2 | elapsed:    0.1s remaining:    0.0s\n",
      "[Parallel(n_jobs=1)]: Done   3 out of   3 | elapsed:    0.2s remaining:    0.0s\n",
      "[Parallel(n_jobs=1)]: Done   4 out of   4 | elapsed:    0.2s remaining:    0.0s\n"
     ]
    },
    {
     "name": "stdout",
     "output_type": "stream",
     "text": [
      "Used Annotations descriptions: ['New Segment', 'S  4', 'S  5', 'S  6', 'S  7', 'S  8', 'S 44', 'S 50', 'S 60', 'S 63', 'S 66', 'S 69', 'S 70', 'S 73', 'S 77', 'S 79']\n"
     ]
    },
    {
     "name": "stderr",
     "output_type": "stream",
     "text": [
      "[Parallel(n_jobs=1)]: Done  37 out of  37 | elapsed:    2.0s finished\n"
     ]
    },
    {
     "name": "stdout",
     "output_type": "stream",
     "text": [
      "Extracting EDF parameters from /home/data/HSE_math_exp_2/raw/54_math-edf.edf...\n",
      "EDF file detected\n",
      "Setting channel info structure...\n",
      "Creating raw.info structure...\n",
      "Reading 0 ... 2107999  =      0.000 ...  4215.998 secs...\n",
      "Filtering raw data in 1 contiguous segment\n",
      "Setting up band-pass filter from 0.9 - 40 Hz\n",
      "\n",
      "FIR filter parameters\n",
      "---------------------\n",
      "Designing a one-pass, zero-phase, non-causal bandpass filter:\n",
      "- Windowed time-domain design (firwin) method\n",
      "- Hamming window with 0.0194 passband ripple and 53 dB stopband attenuation\n",
      "- Lower passband edge: 0.90\n",
      "- Lower transition bandwidth: 0.90 Hz (-6 dB cutoff frequency: 0.45 Hz)\n",
      "- Upper passband edge: 40.00 Hz\n",
      "- Upper transition bandwidth: 10.00 Hz (-6 dB cutoff frequency: 45.00 Hz)\n",
      "- Filter length: 1835 samples (3.670 s)\n",
      "\n"
     ]
    },
    {
     "name": "stderr",
     "output_type": "stream",
     "text": [
      "[Parallel(n_jobs=1)]: Using backend SequentialBackend with 1 concurrent workers.\n",
      "[Parallel(n_jobs=1)]: Done   1 out of   1 | elapsed:    0.0s remaining:    0.0s\n",
      "[Parallel(n_jobs=1)]: Done   2 out of   2 | elapsed:    0.1s remaining:    0.0s\n",
      "[Parallel(n_jobs=1)]: Done   3 out of   3 | elapsed:    0.1s remaining:    0.0s\n",
      "[Parallel(n_jobs=1)]: Done   4 out of   4 | elapsed:    0.2s remaining:    0.0s\n"
     ]
    },
    {
     "name": "stdout",
     "output_type": "stream",
     "text": [
      "Used Annotations descriptions: ['New Segment', 'S  4', 'S  5', 'S  6', 'S  7', 'S  8', 'S 44', 'S 50', 'S 60', 'S 63', 'S 66', 'S 69', 'S 70', 'S 73', 'S 77', 'S 79']\n"
     ]
    },
    {
     "name": "stderr",
     "output_type": "stream",
     "text": [
      "[Parallel(n_jobs=1)]: Done  37 out of  37 | elapsed:    1.8s finished\n"
     ]
    },
    {
     "name": "stdout",
     "output_type": "stream",
     "text": [
      "Extracting EDF parameters from /home/data/HSE_math_exp_2/raw/55_math-edf.edf...\n",
      "EDF file detected\n",
      "Setting channel info structure...\n",
      "Creating raw.info structure...\n",
      "Reading 0 ... 2193499  =      0.000 ...  4386.998 secs...\n",
      "Filtering raw data in 1 contiguous segment\n",
      "Setting up band-pass filter from 0.9 - 40 Hz\n",
      "\n",
      "FIR filter parameters\n",
      "---------------------\n",
      "Designing a one-pass, zero-phase, non-causal bandpass filter:\n",
      "- Windowed time-domain design (firwin) method\n",
      "- Hamming window with 0.0194 passband ripple and 53 dB stopband attenuation\n",
      "- Lower passband edge: 0.90\n",
      "- Lower transition bandwidth: 0.90 Hz (-6 dB cutoff frequency: 0.45 Hz)\n",
      "- Upper passband edge: 40.00 Hz\n",
      "- Upper transition bandwidth: 10.00 Hz (-6 dB cutoff frequency: 45.00 Hz)\n",
      "- Filter length: 1835 samples (3.670 s)\n",
      "\n"
     ]
    },
    {
     "name": "stderr",
     "output_type": "stream",
     "text": [
      "[Parallel(n_jobs=1)]: Using backend SequentialBackend with 1 concurrent workers.\n",
      "[Parallel(n_jobs=1)]: Done   1 out of   1 | elapsed:    0.1s remaining:    0.0s\n",
      "[Parallel(n_jobs=1)]: Done   2 out of   2 | elapsed:    0.1s remaining:    0.0s\n",
      "[Parallel(n_jobs=1)]: Done   3 out of   3 | elapsed:    0.2s remaining:    0.0s\n",
      "[Parallel(n_jobs=1)]: Done   4 out of   4 | elapsed:    0.2s remaining:    0.0s\n"
     ]
    },
    {
     "name": "stdout",
     "output_type": "stream",
     "text": [
      "Used Annotations descriptions: ['New Segment', 'S  4', 'S  5', 'S  6', 'S  7', 'S  8', 'S 44', 'S 50', 'S 60', 'S 63', 'S 66', 'S 69', 'S 70', 'S 73', 'S 77', 'S 79']\n"
     ]
    },
    {
     "name": "stderr",
     "output_type": "stream",
     "text": [
      "[Parallel(n_jobs=1)]: Done  37 out of  37 | elapsed:    1.9s finished\n"
     ]
    },
    {
     "name": "stdout",
     "output_type": "stream",
     "text": [
      "Extracting EDF parameters from /home/data/HSE_math_exp_2/raw/56_math-edf.edf...\n",
      "EDF file detected\n",
      "Setting channel info structure...\n",
      "Creating raw.info structure...\n",
      "Reading 0 ... 2222499  =      0.000 ...  4444.998 secs...\n",
      "Filtering raw data in 1 contiguous segment\n",
      "Setting up band-pass filter from 0.9 - 40 Hz\n",
      "\n",
      "FIR filter parameters\n",
      "---------------------\n",
      "Designing a one-pass, zero-phase, non-causal bandpass filter:\n",
      "- Windowed time-domain design (firwin) method\n",
      "- Hamming window with 0.0194 passband ripple and 53 dB stopband attenuation\n",
      "- Lower passband edge: 0.90\n",
      "- Lower transition bandwidth: 0.90 Hz (-6 dB cutoff frequency: 0.45 Hz)\n",
      "- Upper passband edge: 40.00 Hz\n",
      "- Upper transition bandwidth: 10.00 Hz (-6 dB cutoff frequency: 45.00 Hz)\n",
      "- Filter length: 1835 samples (3.670 s)\n",
      "\n"
     ]
    },
    {
     "name": "stderr",
     "output_type": "stream",
     "text": [
      "[Parallel(n_jobs=1)]: Using backend SequentialBackend with 1 concurrent workers.\n",
      "[Parallel(n_jobs=1)]: Done   1 out of   1 | elapsed:    0.1s remaining:    0.0s\n",
      "[Parallel(n_jobs=1)]: Done   2 out of   2 | elapsed:    0.1s remaining:    0.0s\n",
      "[Parallel(n_jobs=1)]: Done   3 out of   3 | elapsed:    0.2s remaining:    0.0s\n",
      "[Parallel(n_jobs=1)]: Done   4 out of   4 | elapsed:    0.2s remaining:    0.0s\n"
     ]
    },
    {
     "name": "stdout",
     "output_type": "stream",
     "text": [
      "Used Annotations descriptions: ['New Segment', 'S  4', 'S  5', 'S  6', 'S  7', 'S  8', 'S 44', 'S 50', 'S 60', 'S 63', 'S 66', 'S 69', 'S 70', 'S 73', 'S 77', 'S 79']\n"
     ]
    },
    {
     "name": "stderr",
     "output_type": "stream",
     "text": [
      "[Parallel(n_jobs=1)]: Done  37 out of  37 | elapsed:    2.0s finished\n"
     ]
    },
    {
     "name": "stdout",
     "output_type": "stream",
     "text": [
      "Extracting EDF parameters from /home/data/HSE_math_exp_2/raw/57_math-edf.edf...\n",
      "EDF file detected\n",
      "Setting channel info structure...\n",
      "Creating raw.info structure...\n",
      "Reading 0 ... 2147999  =      0.000 ...  4295.998 secs...\n",
      "Filtering raw data in 1 contiguous segment\n",
      "Setting up band-pass filter from 0.9 - 40 Hz\n",
      "\n",
      "FIR filter parameters\n",
      "---------------------\n",
      "Designing a one-pass, zero-phase, non-causal bandpass filter:\n",
      "- Windowed time-domain design (firwin) method\n",
      "- Hamming window with 0.0194 passband ripple and 53 dB stopband attenuation\n",
      "- Lower passband edge: 0.90\n",
      "- Lower transition bandwidth: 0.90 Hz (-6 dB cutoff frequency: 0.45 Hz)\n",
      "- Upper passband edge: 40.00 Hz\n",
      "- Upper transition bandwidth: 10.00 Hz (-6 dB cutoff frequency: 45.00 Hz)\n",
      "- Filter length: 1835 samples (3.670 s)\n",
      "\n"
     ]
    },
    {
     "name": "stderr",
     "output_type": "stream",
     "text": [
      "[Parallel(n_jobs=1)]: Using backend SequentialBackend with 1 concurrent workers.\n",
      "[Parallel(n_jobs=1)]: Done   1 out of   1 | elapsed:    0.1s remaining:    0.0s\n",
      "[Parallel(n_jobs=1)]: Done   2 out of   2 | elapsed:    0.1s remaining:    0.0s\n",
      "[Parallel(n_jobs=1)]: Done   3 out of   3 | elapsed:    0.2s remaining:    0.0s\n",
      "[Parallel(n_jobs=1)]: Done   4 out of   4 | elapsed:    0.2s remaining:    0.0s\n"
     ]
    },
    {
     "name": "stdout",
     "output_type": "stream",
     "text": [
      "Used Annotations descriptions: ['New Segment', 'S  4', 'S  5', 'S  6', 'S  7', 'S  8', 'S 44', 'S 50', 'S 60', 'S 63', 'S 66', 'S 69', 'S 70', 'S 73', 'S 77', 'S 79']\n"
     ]
    },
    {
     "name": "stderr",
     "output_type": "stream",
     "text": [
      "[Parallel(n_jobs=1)]: Done  37 out of  37 | elapsed:    1.9s finished\n"
     ]
    },
    {
     "name": "stdout",
     "output_type": "stream",
     "text": [
      "Extracting EDF parameters from /home/data/HSE_math_exp_2/raw/58_math-edf.edf...\n",
      "EDF file detected\n",
      "Setting channel info structure...\n",
      "Creating raw.info structure...\n",
      "Reading 0 ... 2381999  =      0.000 ...  4763.998 secs...\n",
      "Filtering raw data in 1 contiguous segment\n",
      "Setting up band-pass filter from 0.9 - 40 Hz\n",
      "\n",
      "FIR filter parameters\n",
      "---------------------\n",
      "Designing a one-pass, zero-phase, non-causal bandpass filter:\n",
      "- Windowed time-domain design (firwin) method\n",
      "- Hamming window with 0.0194 passband ripple and 53 dB stopband attenuation\n",
      "- Lower passband edge: 0.90\n",
      "- Lower transition bandwidth: 0.90 Hz (-6 dB cutoff frequency: 0.45 Hz)\n",
      "- Upper passband edge: 40.00 Hz\n",
      "- Upper transition bandwidth: 10.00 Hz (-6 dB cutoff frequency: 45.00 Hz)\n",
      "- Filter length: 1835 samples (3.670 s)\n",
      "\n"
     ]
    },
    {
     "name": "stderr",
     "output_type": "stream",
     "text": [
      "[Parallel(n_jobs=1)]: Using backend SequentialBackend with 1 concurrent workers.\n",
      "[Parallel(n_jobs=1)]: Done   1 out of   1 | elapsed:    0.1s remaining:    0.0s\n",
      "[Parallel(n_jobs=1)]: Done   2 out of   2 | elapsed:    0.1s remaining:    0.0s\n",
      "[Parallel(n_jobs=1)]: Done   3 out of   3 | elapsed:    0.2s remaining:    0.0s\n",
      "[Parallel(n_jobs=1)]: Done   4 out of   4 | elapsed:    0.2s remaining:    0.0s\n"
     ]
    },
    {
     "name": "stdout",
     "output_type": "stream",
     "text": [
      "Used Annotations descriptions: ['New Segment', 'S  4', 'S  5', 'S  6', 'S  7', 'S  8', 'S 44', 'S 50', 'S 60', 'S 63', 'S 66', 'S 69', 'S 70', 'S 73', 'S 77', 'S 79']\n"
     ]
    },
    {
     "name": "stderr",
     "output_type": "stream",
     "text": [
      "[Parallel(n_jobs=1)]: Done  37 out of  37 | elapsed:    2.1s finished\n"
     ]
    },
    {
     "name": "stdout",
     "output_type": "stream",
     "text": [
      "Extracting EDF parameters from /home/data/HSE_math_exp_2/raw/59_math-edf.edf...\n",
      "EDF file detected\n",
      "Setting channel info structure...\n",
      "Creating raw.info structure...\n",
      "Reading 0 ... 2324999  =      0.000 ...  4649.998 secs...\n",
      "Filtering raw data in 1 contiguous segment\n",
      "Setting up band-pass filter from 0.9 - 40 Hz\n",
      "\n",
      "FIR filter parameters\n",
      "---------------------\n",
      "Designing a one-pass, zero-phase, non-causal bandpass filter:\n",
      "- Windowed time-domain design (firwin) method\n",
      "- Hamming window with 0.0194 passband ripple and 53 dB stopband attenuation\n",
      "- Lower passband edge: 0.90\n",
      "- Lower transition bandwidth: 0.90 Hz (-6 dB cutoff frequency: 0.45 Hz)\n",
      "- Upper passband edge: 40.00 Hz\n",
      "- Upper transition bandwidth: 10.00 Hz (-6 dB cutoff frequency: 45.00 Hz)\n",
      "- Filter length: 1835 samples (3.670 s)\n",
      "\n"
     ]
    },
    {
     "name": "stderr",
     "output_type": "stream",
     "text": [
      "[Parallel(n_jobs=1)]: Using backend SequentialBackend with 1 concurrent workers.\n",
      "[Parallel(n_jobs=1)]: Done   1 out of   1 | elapsed:    0.1s remaining:    0.0s\n",
      "[Parallel(n_jobs=1)]: Done   2 out of   2 | elapsed:    0.1s remaining:    0.0s\n",
      "[Parallel(n_jobs=1)]: Done   3 out of   3 | elapsed:    0.2s remaining:    0.0s\n",
      "[Parallel(n_jobs=1)]: Done   4 out of   4 | elapsed:    0.2s remaining:    0.0s\n"
     ]
    },
    {
     "name": "stdout",
     "output_type": "stream",
     "text": [
      "Used Annotations descriptions: ['New Segment', 'S  4', 'S  5', 'S  6', 'S  7', 'S  8', 'S 44', 'S 50', 'S 60', 'S 63', 'S 66', 'S 69', 'S 70', 'S 73', 'S 77', 'S 79']\n"
     ]
    },
    {
     "name": "stderr",
     "output_type": "stream",
     "text": [
      "[Parallel(n_jobs=1)]: Done  37 out of  37 | elapsed:    2.0s finished\n"
     ]
    },
    {
     "name": "stdout",
     "output_type": "stream",
     "text": [
      "Extracting EDF parameters from /home/data/HSE_math_exp_2/raw/60_math-edf.edf...\n",
      "EDF file detected\n",
      "Setting channel info structure...\n",
      "Creating raw.info structure...\n",
      "Reading 0 ... 2237999  =      0.000 ...  4475.998 secs...\n",
      "Filtering raw data in 1 contiguous segment\n",
      "Setting up band-pass filter from 0.9 - 40 Hz\n",
      "\n",
      "FIR filter parameters\n",
      "---------------------\n",
      "Designing a one-pass, zero-phase, non-causal bandpass filter:\n",
      "- Windowed time-domain design (firwin) method\n",
      "- Hamming window with 0.0194 passband ripple and 53 dB stopband attenuation\n",
      "- Lower passband edge: 0.90\n",
      "- Lower transition bandwidth: 0.90 Hz (-6 dB cutoff frequency: 0.45 Hz)\n",
      "- Upper passband edge: 40.00 Hz\n",
      "- Upper transition bandwidth: 10.00 Hz (-6 dB cutoff frequency: 45.00 Hz)\n",
      "- Filter length: 1835 samples (3.670 s)\n",
      "\n"
     ]
    },
    {
     "name": "stderr",
     "output_type": "stream",
     "text": [
      "[Parallel(n_jobs=1)]: Using backend SequentialBackend with 1 concurrent workers.\n",
      "[Parallel(n_jobs=1)]: Done   1 out of   1 | elapsed:    0.1s remaining:    0.0s\n",
      "[Parallel(n_jobs=1)]: Done   2 out of   2 | elapsed:    0.1s remaining:    0.0s\n",
      "[Parallel(n_jobs=1)]: Done   3 out of   3 | elapsed:    0.2s remaining:    0.0s\n",
      "[Parallel(n_jobs=1)]: Done   4 out of   4 | elapsed:    0.2s remaining:    0.0s\n"
     ]
    },
    {
     "name": "stdout",
     "output_type": "stream",
     "text": [
      "Used Annotations descriptions: ['New Segment', 'S  4', 'S  5', 'S  6', 'S  7', 'S  8', 'S 44', 'S 50', 'S 60', 'S 63', 'S 66', 'S 69', 'S 70', 'S 73', 'S 77', 'S 79']\n"
     ]
    },
    {
     "name": "stderr",
     "output_type": "stream",
     "text": [
      "[Parallel(n_jobs=1)]: Done  37 out of  37 | elapsed:    2.0s finished\n"
     ]
    },
    {
     "name": "stdout",
     "output_type": "stream",
     "text": [
      "Extracting EDF parameters from /home/data/HSE_math_exp_2/raw/61_math-edf.edf...\n",
      "EDF file detected\n",
      "Setting channel info structure...\n",
      "Creating raw.info structure...\n",
      "Reading 0 ... 2232499  =      0.000 ...  4464.998 secs...\n",
      "Filtering raw data in 1 contiguous segment\n",
      "Setting up band-pass filter from 0.9 - 40 Hz\n",
      "\n",
      "FIR filter parameters\n",
      "---------------------\n",
      "Designing a one-pass, zero-phase, non-causal bandpass filter:\n",
      "- Windowed time-domain design (firwin) method\n",
      "- Hamming window with 0.0194 passband ripple and 53 dB stopband attenuation\n",
      "- Lower passband edge: 0.90\n",
      "- Lower transition bandwidth: 0.90 Hz (-6 dB cutoff frequency: 0.45 Hz)\n",
      "- Upper passband edge: 40.00 Hz\n",
      "- Upper transition bandwidth: 10.00 Hz (-6 dB cutoff frequency: 45.00 Hz)\n",
      "- Filter length: 1835 samples (3.670 s)\n",
      "\n"
     ]
    },
    {
     "name": "stderr",
     "output_type": "stream",
     "text": [
      "[Parallel(n_jobs=1)]: Using backend SequentialBackend with 1 concurrent workers.\n",
      "[Parallel(n_jobs=1)]: Done   1 out of   1 | elapsed:    0.1s remaining:    0.0s\n",
      "[Parallel(n_jobs=1)]: Done   2 out of   2 | elapsed:    0.1s remaining:    0.0s\n",
      "[Parallel(n_jobs=1)]: Done   3 out of   3 | elapsed:    0.2s remaining:    0.0s\n",
      "[Parallel(n_jobs=1)]: Done   4 out of   4 | elapsed:    0.2s remaining:    0.0s\n"
     ]
    },
    {
     "name": "stdout",
     "output_type": "stream",
     "text": [
      "Used Annotations descriptions: ['New Segment', 'S  4', 'S  5', 'S  6', 'S  7', 'S  8', 'S 44', 'S 50', 'S 60', 'S 63', 'S 66', 'S 69', 'S 70', 'S 73', 'S 77', 'S 79']\n"
     ]
    },
    {
     "name": "stderr",
     "output_type": "stream",
     "text": [
      "[Parallel(n_jobs=1)]: Done  37 out of  37 | elapsed:    2.0s finished\n"
     ]
    },
    {
     "name": "stdout",
     "output_type": "stream",
     "text": [
      "Extracting EDF parameters from /home/data/HSE_math_exp_2/raw/62_math-edf.edf...\n",
      "EDF file detected\n",
      "Setting channel info structure...\n",
      "Creating raw.info structure...\n",
      "Reading 0 ... 2140499  =      0.000 ...  4280.998 secs...\n",
      "Filtering raw data in 1 contiguous segment\n",
      "Setting up band-pass filter from 0.9 - 40 Hz\n",
      "\n",
      "FIR filter parameters\n",
      "---------------------\n",
      "Designing a one-pass, zero-phase, non-causal bandpass filter:\n",
      "- Windowed time-domain design (firwin) method\n",
      "- Hamming window with 0.0194 passband ripple and 53 dB stopband attenuation\n",
      "- Lower passband edge: 0.90\n",
      "- Lower transition bandwidth: 0.90 Hz (-6 dB cutoff frequency: 0.45 Hz)\n",
      "- Upper passband edge: 40.00 Hz\n",
      "- Upper transition bandwidth: 10.00 Hz (-6 dB cutoff frequency: 45.00 Hz)\n",
      "- Filter length: 1835 samples (3.670 s)\n",
      "\n"
     ]
    },
    {
     "name": "stderr",
     "output_type": "stream",
     "text": [
      "[Parallel(n_jobs=1)]: Using backend SequentialBackend with 1 concurrent workers.\n",
      "[Parallel(n_jobs=1)]: Done   1 out of   1 | elapsed:    0.1s remaining:    0.0s\n",
      "[Parallel(n_jobs=1)]: Done   2 out of   2 | elapsed:    0.1s remaining:    0.0s\n",
      "[Parallel(n_jobs=1)]: Done   3 out of   3 | elapsed:    0.2s remaining:    0.0s\n",
      "[Parallel(n_jobs=1)]: Done   4 out of   4 | elapsed:    0.2s remaining:    0.0s\n"
     ]
    },
    {
     "name": "stdout",
     "output_type": "stream",
     "text": [
      "Used Annotations descriptions: ['New Segment', 'S  4', 'S  5', 'S  6', 'S  7', 'S  8', 'S 44', 'S 50', 'S 60', 'S 63', 'S 66', 'S 69', 'S 70', 'S 73', 'S 77', 'S 79']\n"
     ]
    },
    {
     "name": "stderr",
     "output_type": "stream",
     "text": [
      "[Parallel(n_jobs=1)]: Done  37 out of  37 | elapsed:    1.9s finished\n"
     ]
    },
    {
     "name": "stdout",
     "output_type": "stream",
     "text": [
      "Extracting EDF parameters from /home/data/HSE_math_exp_2/raw/63_math-edf.edf...\n",
      "EDF file detected\n",
      "Setting channel info structure...\n",
      "Creating raw.info structure...\n",
      "Reading 0 ... 2185499  =      0.000 ...  4370.998 secs...\n",
      "Filtering raw data in 1 contiguous segment\n",
      "Setting up band-pass filter from 0.9 - 40 Hz\n",
      "\n",
      "FIR filter parameters\n",
      "---------------------\n",
      "Designing a one-pass, zero-phase, non-causal bandpass filter:\n",
      "- Windowed time-domain design (firwin) method\n",
      "- Hamming window with 0.0194 passband ripple and 53 dB stopband attenuation\n",
      "- Lower passband edge: 0.90\n",
      "- Lower transition bandwidth: 0.90 Hz (-6 dB cutoff frequency: 0.45 Hz)\n",
      "- Upper passband edge: 40.00 Hz\n",
      "- Upper transition bandwidth: 10.00 Hz (-6 dB cutoff frequency: 45.00 Hz)\n",
      "- Filter length: 1835 samples (3.670 s)\n",
      "\n"
     ]
    },
    {
     "name": "stderr",
     "output_type": "stream",
     "text": [
      "[Parallel(n_jobs=1)]: Using backend SequentialBackend with 1 concurrent workers.\n",
      "[Parallel(n_jobs=1)]: Done   1 out of   1 | elapsed:    0.1s remaining:    0.0s\n",
      "[Parallel(n_jobs=1)]: Done   2 out of   2 | elapsed:    0.1s remaining:    0.0s\n",
      "[Parallel(n_jobs=1)]: Done   3 out of   3 | elapsed:    0.2s remaining:    0.0s\n",
      "[Parallel(n_jobs=1)]: Done   4 out of   4 | elapsed:    0.2s remaining:    0.0s\n"
     ]
    },
    {
     "name": "stdout",
     "output_type": "stream",
     "text": [
      "Used Annotations descriptions: ['New Segment', 'S  4', 'S  5', 'S  6', 'S  7', 'S  8', 'S 44', 'S 50', 'S 60', 'S 63', 'S 66', 'S 69', 'S 70', 'S 73', 'S 77', 'S 79']\n"
     ]
    },
    {
     "name": "stderr",
     "output_type": "stream",
     "text": [
      "[Parallel(n_jobs=1)]: Done  37 out of  37 | elapsed:    1.9s finished\n"
     ]
    },
    {
     "name": "stdout",
     "output_type": "stream",
     "text": [
      "Extracting EDF parameters from /home/data/HSE_math_exp_2/raw/64_math-edf.edf...\n",
      "EDF file detected\n",
      "Setting channel info structure...\n",
      "Creating raw.info structure...\n",
      "Reading 0 ... 2229499  =      0.000 ...  4458.998 secs...\n",
      "Filtering raw data in 1 contiguous segment\n",
      "Setting up band-pass filter from 0.9 - 40 Hz\n",
      "\n",
      "FIR filter parameters\n",
      "---------------------\n",
      "Designing a one-pass, zero-phase, non-causal bandpass filter:\n",
      "- Windowed time-domain design (firwin) method\n",
      "- Hamming window with 0.0194 passband ripple and 53 dB stopband attenuation\n",
      "- Lower passband edge: 0.90\n",
      "- Lower transition bandwidth: 0.90 Hz (-6 dB cutoff frequency: 0.45 Hz)\n",
      "- Upper passband edge: 40.00 Hz\n",
      "- Upper transition bandwidth: 10.00 Hz (-6 dB cutoff frequency: 45.00 Hz)\n",
      "- Filter length: 1835 samples (3.670 s)\n",
      "\n"
     ]
    },
    {
     "name": "stderr",
     "output_type": "stream",
     "text": [
      "[Parallel(n_jobs=1)]: Using backend SequentialBackend with 1 concurrent workers.\n",
      "[Parallel(n_jobs=1)]: Done   1 out of   1 | elapsed:    0.1s remaining:    0.0s\n",
      "[Parallel(n_jobs=1)]: Done   2 out of   2 | elapsed:    0.1s remaining:    0.0s\n",
      "[Parallel(n_jobs=1)]: Done   3 out of   3 | elapsed:    0.2s remaining:    0.0s\n",
      "[Parallel(n_jobs=1)]: Done   4 out of   4 | elapsed:    0.2s remaining:    0.0s\n"
     ]
    },
    {
     "name": "stdout",
     "output_type": "stream",
     "text": [
      "Used Annotations descriptions: ['New Segment', 'S  4', 'S  5', 'S  6', 'S  7', 'S  8', 'S 44', 'S 50', 'S 60', 'S 63', 'S 66', 'S 69', 'S 70', 'S 73', 'S 77', 'S 79']\n"
     ]
    },
    {
     "name": "stderr",
     "output_type": "stream",
     "text": [
      "[Parallel(n_jobs=1)]: Done  37 out of  37 | elapsed:    2.0s finished\n"
     ]
    },
    {
     "name": "stdout",
     "output_type": "stream",
     "text": [
      "Extracting EDF parameters from /home/data/HSE_math_exp_2/raw/65_math-edf.edf...\n",
      "EDF file detected\n",
      "Setting channel info structure...\n",
      "Creating raw.info structure...\n",
      "Reading 0 ... 2173499  =      0.000 ...  4346.998 secs...\n",
      "Filtering raw data in 1 contiguous segment\n",
      "Setting up band-pass filter from 0.9 - 40 Hz\n",
      "\n",
      "FIR filter parameters\n",
      "---------------------\n",
      "Designing a one-pass, zero-phase, non-causal bandpass filter:\n",
      "- Windowed time-domain design (firwin) method\n",
      "- Hamming window with 0.0194 passband ripple and 53 dB stopband attenuation\n",
      "- Lower passband edge: 0.90\n",
      "- Lower transition bandwidth: 0.90 Hz (-6 dB cutoff frequency: 0.45 Hz)\n",
      "- Upper passband edge: 40.00 Hz\n",
      "- Upper transition bandwidth: 10.00 Hz (-6 dB cutoff frequency: 45.00 Hz)\n",
      "- Filter length: 1835 samples (3.670 s)\n",
      "\n"
     ]
    },
    {
     "name": "stderr",
     "output_type": "stream",
     "text": [
      "[Parallel(n_jobs=1)]: Using backend SequentialBackend with 1 concurrent workers.\n",
      "[Parallel(n_jobs=1)]: Done   1 out of   1 | elapsed:    0.1s remaining:    0.0s\n",
      "[Parallel(n_jobs=1)]: Done   2 out of   2 | elapsed:    0.1s remaining:    0.0s\n",
      "[Parallel(n_jobs=1)]: Done   3 out of   3 | elapsed:    0.2s remaining:    0.0s\n",
      "[Parallel(n_jobs=1)]: Done   4 out of   4 | elapsed:    0.2s remaining:    0.0s\n"
     ]
    },
    {
     "name": "stdout",
     "output_type": "stream",
     "text": [
      "Used Annotations descriptions: ['New Segment', 'S  4', 'S  5', 'S  6', 'S  7', 'S  8', 'S 44', 'S 50', 'S 60', 'S 63', 'S 66', 'S 69', 'S 70', 'S 73', 'S 77', 'S 79']\n"
     ]
    },
    {
     "name": "stderr",
     "output_type": "stream",
     "text": [
      "[Parallel(n_jobs=1)]: Done  37 out of  37 | elapsed:    2.0s finished\n"
     ]
    },
    {
     "name": "stdout",
     "output_type": "stream",
     "text": [
      "Extracting EDF parameters from /home/data/HSE_math_exp_2/raw/66_math-edf.edf...\n",
      "EDF file detected\n",
      "Setting channel info structure...\n",
      "Creating raw.info structure...\n",
      "Reading 0 ... 2195499  =      0.000 ...  4390.998 secs...\n",
      "Filtering raw data in 1 contiguous segment\n",
      "Setting up band-pass filter from 0.9 - 40 Hz\n",
      "\n",
      "FIR filter parameters\n",
      "---------------------\n",
      "Designing a one-pass, zero-phase, non-causal bandpass filter:\n",
      "- Windowed time-domain design (firwin) method\n",
      "- Hamming window with 0.0194 passband ripple and 53 dB stopband attenuation\n",
      "- Lower passband edge: 0.90\n",
      "- Lower transition bandwidth: 0.90 Hz (-6 dB cutoff frequency: 0.45 Hz)\n",
      "- Upper passband edge: 40.00 Hz\n",
      "- Upper transition bandwidth: 10.00 Hz (-6 dB cutoff frequency: 45.00 Hz)\n",
      "- Filter length: 1835 samples (3.670 s)\n",
      "\n"
     ]
    },
    {
     "name": "stderr",
     "output_type": "stream",
     "text": [
      "[Parallel(n_jobs=1)]: Using backend SequentialBackend with 1 concurrent workers.\n",
      "[Parallel(n_jobs=1)]: Done   1 out of   1 | elapsed:    0.1s remaining:    0.0s\n",
      "[Parallel(n_jobs=1)]: Done   2 out of   2 | elapsed:    0.1s remaining:    0.0s\n",
      "[Parallel(n_jobs=1)]: Done   3 out of   3 | elapsed:    0.2s remaining:    0.0s\n",
      "[Parallel(n_jobs=1)]: Done   4 out of   4 | elapsed:    0.2s remaining:    0.0s\n"
     ]
    },
    {
     "name": "stdout",
     "output_type": "stream",
     "text": [
      "Used Annotations descriptions: ['New Segment', 'S  4', 'S  5', 'S  6', 'S  7', 'S  8', 'S 44', 'S 50', 'S 60', 'S 63', 'S 66', 'S 69', 'S 70', 'S 73', 'S 77', 'S 79']\n"
     ]
    },
    {
     "name": "stderr",
     "output_type": "stream",
     "text": [
      "[Parallel(n_jobs=1)]: Done  37 out of  37 | elapsed:    2.0s finished\n"
     ]
    },
    {
     "name": "stdout",
     "output_type": "stream",
     "text": [
      "Extracting EDF parameters from /home/data/HSE_math_exp_2/raw/67_math-edf.edf...\n",
      "EDF file detected\n",
      "Setting channel info structure...\n",
      "Creating raw.info structure...\n",
      "Reading 0 ... 3246499  =      0.000 ...  6492.998 secs...\n",
      "Filtering raw data in 1 contiguous segment\n",
      "Setting up band-pass filter from 0.9 - 40 Hz\n",
      "\n",
      "FIR filter parameters\n",
      "---------------------\n",
      "Designing a one-pass, zero-phase, non-causal bandpass filter:\n",
      "- Windowed time-domain design (firwin) method\n",
      "- Hamming window with 0.0194 passband ripple and 53 dB stopband attenuation\n",
      "- Lower passband edge: 0.90\n",
      "- Lower transition bandwidth: 0.90 Hz (-6 dB cutoff frequency: 0.45 Hz)\n",
      "- Upper passband edge: 40.00 Hz\n",
      "- Upper transition bandwidth: 10.00 Hz (-6 dB cutoff frequency: 45.00 Hz)\n",
      "- Filter length: 1835 samples (3.670 s)\n",
      "\n"
     ]
    },
    {
     "name": "stderr",
     "output_type": "stream",
     "text": [
      "[Parallel(n_jobs=1)]: Using backend SequentialBackend with 1 concurrent workers.\n",
      "[Parallel(n_jobs=1)]: Done   1 out of   1 | elapsed:    0.1s remaining:    0.0s\n",
      "[Parallel(n_jobs=1)]: Done   2 out of   2 | elapsed:    0.2s remaining:    0.0s\n",
      "[Parallel(n_jobs=1)]: Done   3 out of   3 | elapsed:    0.2s remaining:    0.0s\n",
      "[Parallel(n_jobs=1)]: Done   4 out of   4 | elapsed:    0.3s remaining:    0.0s\n"
     ]
    },
    {
     "name": "stdout",
     "output_type": "stream",
     "text": [
      "Used Annotations descriptions: ['New Segment', 'S  4', 'S  5', 'S  6', 'S  7', 'S  8', 'S 44', 'S 50', 'S 60', 'S 63', 'S 66', 'S 69', 'S 70', 'S 73', 'S 77', 'S 79', 'S127']\n"
     ]
    },
    {
     "name": "stderr",
     "output_type": "stream",
     "text": [
      "[Parallel(n_jobs=1)]: Done  37 out of  37 | elapsed:    2.9s finished\n"
     ]
    },
    {
     "name": "stdout",
     "output_type": "stream",
     "text": [
      "Extracting EDF parameters from /home/data/HSE_math_exp_2/raw/68_math-edf.edf...\n",
      "EDF file detected\n",
      "Setting channel info structure...\n",
      "Creating raw.info structure...\n",
      "Reading 0 ... 2118999  =      0.000 ...  4237.998 secs...\n",
      "Filtering raw data in 1 contiguous segment\n",
      "Setting up band-pass filter from 0.9 - 40 Hz\n",
      "\n",
      "FIR filter parameters\n",
      "---------------------\n",
      "Designing a one-pass, zero-phase, non-causal bandpass filter:\n",
      "- Windowed time-domain design (firwin) method\n",
      "- Hamming window with 0.0194 passband ripple and 53 dB stopband attenuation\n",
      "- Lower passband edge: 0.90\n",
      "- Lower transition bandwidth: 0.90 Hz (-6 dB cutoff frequency: 0.45 Hz)\n",
      "- Upper passband edge: 40.00 Hz\n",
      "- Upper transition bandwidth: 10.00 Hz (-6 dB cutoff frequency: 45.00 Hz)\n",
      "- Filter length: 1835 samples (3.670 s)\n",
      "\n"
     ]
    },
    {
     "name": "stderr",
     "output_type": "stream",
     "text": [
      "[Parallel(n_jobs=1)]: Using backend SequentialBackend with 1 concurrent workers.\n",
      "[Parallel(n_jobs=1)]: Done   1 out of   1 | elapsed:    0.0s remaining:    0.0s\n",
      "[Parallel(n_jobs=1)]: Done   2 out of   2 | elapsed:    0.1s remaining:    0.0s\n",
      "[Parallel(n_jobs=1)]: Done   3 out of   3 | elapsed:    0.1s remaining:    0.0s\n",
      "[Parallel(n_jobs=1)]: Done   4 out of   4 | elapsed:    0.2s remaining:    0.0s\n"
     ]
    },
    {
     "name": "stdout",
     "output_type": "stream",
     "text": [
      "Used Annotations descriptions: ['New Segment', 'S  4', 'S  5', 'S  6', 'S  7', 'S  8', 'S 44', 'S 50', 'S 60', 'S 63', 'S 66', 'S 69', 'S 70', 'S 73', 'S 77', 'S 79']\n"
     ]
    },
    {
     "name": "stderr",
     "output_type": "stream",
     "text": [
      "[Parallel(n_jobs=1)]: Done  37 out of  37 | elapsed:    1.8s finished\n"
     ]
    },
    {
     "name": "stdout",
     "output_type": "stream",
     "text": [
      "Extracting EDF parameters from /home/data/HSE_math_exp_2/raw/69_math-edf.edf...\n",
      "EDF file detected\n",
      "Setting channel info structure...\n",
      "Creating raw.info structure...\n",
      "Reading 0 ... 2162499  =      0.000 ...  4324.998 secs...\n",
      "Filtering raw data in 1 contiguous segment\n",
      "Setting up band-pass filter from 0.9 - 40 Hz\n",
      "\n",
      "FIR filter parameters\n",
      "---------------------\n",
      "Designing a one-pass, zero-phase, non-causal bandpass filter:\n",
      "- Windowed time-domain design (firwin) method\n",
      "- Hamming window with 0.0194 passband ripple and 53 dB stopband attenuation\n",
      "- Lower passband edge: 0.90\n",
      "- Lower transition bandwidth: 0.90 Hz (-6 dB cutoff frequency: 0.45 Hz)\n",
      "- Upper passband edge: 40.00 Hz\n",
      "- Upper transition bandwidth: 10.00 Hz (-6 dB cutoff frequency: 45.00 Hz)\n",
      "- Filter length: 1835 samples (3.670 s)\n",
      "\n"
     ]
    },
    {
     "name": "stderr",
     "output_type": "stream",
     "text": [
      "[Parallel(n_jobs=1)]: Using backend SequentialBackend with 1 concurrent workers.\n",
      "[Parallel(n_jobs=1)]: Done   1 out of   1 | elapsed:    0.1s remaining:    0.0s\n",
      "[Parallel(n_jobs=1)]: Done   2 out of   2 | elapsed:    0.1s remaining:    0.0s\n",
      "[Parallel(n_jobs=1)]: Done   3 out of   3 | elapsed:    0.2s remaining:    0.0s\n",
      "[Parallel(n_jobs=1)]: Done   4 out of   4 | elapsed:    0.2s remaining:    0.0s\n"
     ]
    },
    {
     "name": "stdout",
     "output_type": "stream",
     "text": [
      "Used Annotations descriptions: ['New Segment', 'S  4', 'S  5', 'S  6', 'S  7', 'S  8', 'S 44', 'S 50', 'S 60', 'S 63', 'S 66', 'S 69', 'S 70', 'S 73', 'S 77', 'S 79']\n"
     ]
    },
    {
     "name": "stderr",
     "output_type": "stream",
     "text": [
      "[Parallel(n_jobs=1)]: Done  37 out of  37 | elapsed:    1.9s finished\n"
     ]
    },
    {
     "name": "stdout",
     "output_type": "stream",
     "text": [
      "Extracting EDF parameters from /home/data/HSE_math_exp_2/raw/70_math-edf.edf...\n",
      "EDF file detected\n",
      "Setting channel info structure...\n",
      "Creating raw.info structure...\n",
      "Reading 0 ... 2138499  =      0.000 ...  4276.998 secs...\n",
      "Filtering raw data in 1 contiguous segment\n",
      "Setting up band-pass filter from 0.9 - 40 Hz\n",
      "\n",
      "FIR filter parameters\n",
      "---------------------\n",
      "Designing a one-pass, zero-phase, non-causal bandpass filter:\n",
      "- Windowed time-domain design (firwin) method\n",
      "- Hamming window with 0.0194 passband ripple and 53 dB stopband attenuation\n",
      "- Lower passband edge: 0.90\n",
      "- Lower transition bandwidth: 0.90 Hz (-6 dB cutoff frequency: 0.45 Hz)\n",
      "- Upper passband edge: 40.00 Hz\n",
      "- Upper transition bandwidth: 10.00 Hz (-6 dB cutoff frequency: 45.00 Hz)\n",
      "- Filter length: 1835 samples (3.670 s)\n",
      "\n"
     ]
    },
    {
     "name": "stderr",
     "output_type": "stream",
     "text": [
      "[Parallel(n_jobs=1)]: Using backend SequentialBackend with 1 concurrent workers.\n",
      "[Parallel(n_jobs=1)]: Done   1 out of   1 | elapsed:    0.1s remaining:    0.0s\n",
      "[Parallel(n_jobs=1)]: Done   2 out of   2 | elapsed:    0.1s remaining:    0.0s\n",
      "[Parallel(n_jobs=1)]: Done   3 out of   3 | elapsed:    0.1s remaining:    0.0s\n",
      "[Parallel(n_jobs=1)]: Done   4 out of   4 | elapsed:    0.2s remaining:    0.0s\n"
     ]
    },
    {
     "name": "stdout",
     "output_type": "stream",
     "text": [
      "Used Annotations descriptions: ['New Segment', 'S  4', 'S  5', 'S  6', 'S  7', 'S  8', 'S 44', 'S 50', 'S 60', 'S 63', 'S 66', 'S 69', 'S 70', 'S 73', 'S 77', 'S 79']\n"
     ]
    },
    {
     "name": "stderr",
     "output_type": "stream",
     "text": [
      "[Parallel(n_jobs=1)]: Done  37 out of  37 | elapsed:    1.9s finished\n"
     ]
    },
    {
     "name": "stdout",
     "output_type": "stream",
     "text": [
      "Extracting EDF parameters from /home/data/HSE_math_exp_2/raw/71_math-edf.edf...\n",
      "EDF file detected\n",
      "Setting channel info structure...\n",
      "Creating raw.info structure...\n",
      "Reading 0 ... 2134999  =      0.000 ...  4269.998 secs...\n",
      "Filtering raw data in 1 contiguous segment\n",
      "Setting up band-pass filter from 0.9 - 40 Hz\n",
      "\n",
      "FIR filter parameters\n",
      "---------------------\n",
      "Designing a one-pass, zero-phase, non-causal bandpass filter:\n",
      "- Windowed time-domain design (firwin) method\n",
      "- Hamming window with 0.0194 passband ripple and 53 dB stopband attenuation\n",
      "- Lower passband edge: 0.90\n",
      "- Lower transition bandwidth: 0.90 Hz (-6 dB cutoff frequency: 0.45 Hz)\n",
      "- Upper passband edge: 40.00 Hz\n",
      "- Upper transition bandwidth: 10.00 Hz (-6 dB cutoff frequency: 45.00 Hz)\n",
      "- Filter length: 1835 samples (3.670 s)\n",
      "\n"
     ]
    },
    {
     "name": "stderr",
     "output_type": "stream",
     "text": [
      "[Parallel(n_jobs=1)]: Using backend SequentialBackend with 1 concurrent workers.\n",
      "[Parallel(n_jobs=1)]: Done   1 out of   1 | elapsed:    0.1s remaining:    0.0s\n",
      "[Parallel(n_jobs=1)]: Done   2 out of   2 | elapsed:    0.1s remaining:    0.0s\n",
      "[Parallel(n_jobs=1)]: Done   3 out of   3 | elapsed:    0.2s remaining:    0.0s\n",
      "[Parallel(n_jobs=1)]: Done   4 out of   4 | elapsed:    0.2s remaining:    0.0s\n"
     ]
    },
    {
     "name": "stdout",
     "output_type": "stream",
     "text": [
      "Used Annotations descriptions: ['New Segment', 'S  4', 'S  5', 'S  6', 'S  7', 'S  8', 'S 44', 'S 50', 'S 60', 'S 63', 'S 66', 'S 69', 'S 70', 'S 73', 'S 77', 'S 79']\n"
     ]
    },
    {
     "name": "stderr",
     "output_type": "stream",
     "text": [
      "[Parallel(n_jobs=1)]: Done  37 out of  37 | elapsed:    1.9s finished\n"
     ]
    },
    {
     "name": "stdout",
     "output_type": "stream",
     "text": [
      "Extracting EDF parameters from /home/data/HSE_math_exp_2/raw/72_math-edf.edf...\n",
      "EDF file detected\n",
      "Setting channel info structure...\n",
      "Creating raw.info structure...\n",
      "Reading 0 ... 2209999  =      0.000 ...  4419.998 secs...\n",
      "Filtering raw data in 1 contiguous segment\n",
      "Setting up band-pass filter from 0.9 - 40 Hz\n",
      "\n",
      "FIR filter parameters\n",
      "---------------------\n",
      "Designing a one-pass, zero-phase, non-causal bandpass filter:\n",
      "- Windowed time-domain design (firwin) method\n",
      "- Hamming window with 0.0194 passband ripple and 53 dB stopband attenuation\n",
      "- Lower passband edge: 0.90\n",
      "- Lower transition bandwidth: 0.90 Hz (-6 dB cutoff frequency: 0.45 Hz)\n",
      "- Upper passband edge: 40.00 Hz\n",
      "- Upper transition bandwidth: 10.00 Hz (-6 dB cutoff frequency: 45.00 Hz)\n",
      "- Filter length: 1835 samples (3.670 s)\n",
      "\n"
     ]
    },
    {
     "name": "stderr",
     "output_type": "stream",
     "text": [
      "[Parallel(n_jobs=1)]: Using backend SequentialBackend with 1 concurrent workers.\n",
      "[Parallel(n_jobs=1)]: Done   1 out of   1 | elapsed:    0.1s remaining:    0.0s\n",
      "[Parallel(n_jobs=1)]: Done   2 out of   2 | elapsed:    0.1s remaining:    0.0s\n",
      "[Parallel(n_jobs=1)]: Done   3 out of   3 | elapsed:    0.2s remaining:    0.0s\n",
      "[Parallel(n_jobs=1)]: Done   4 out of   4 | elapsed:    0.2s remaining:    0.0s\n"
     ]
    },
    {
     "name": "stdout",
     "output_type": "stream",
     "text": [
      "Used Annotations descriptions: ['New Segment', 'S  4', 'S  5', 'S  6', 'S  7', 'S  8', 'S 44', 'S 50', 'S 60', 'S 63', 'S 66', 'S 69', 'S 70', 'S 73', 'S 77', 'S 79']\n"
     ]
    },
    {
     "name": "stderr",
     "output_type": "stream",
     "text": [
      "[Parallel(n_jobs=1)]: Done  37 out of  37 | elapsed:    2.0s finished\n"
     ]
    },
    {
     "name": "stdout",
     "output_type": "stream",
     "text": [
      "Extracting EDF parameters from /home/data/HSE_math_exp_2/raw/73_math-edf.edf...\n",
      "EDF file detected\n",
      "Setting channel info structure...\n",
      "Creating raw.info structure...\n",
      "Reading 0 ... 2279999  =      0.000 ...  4559.998 secs...\n",
      "Filtering raw data in 1 contiguous segment\n",
      "Setting up band-pass filter from 0.9 - 40 Hz\n",
      "\n",
      "FIR filter parameters\n",
      "---------------------\n",
      "Designing a one-pass, zero-phase, non-causal bandpass filter:\n",
      "- Windowed time-domain design (firwin) method\n",
      "- Hamming window with 0.0194 passband ripple and 53 dB stopband attenuation\n",
      "- Lower passband edge: 0.90\n",
      "- Lower transition bandwidth: 0.90 Hz (-6 dB cutoff frequency: 0.45 Hz)\n",
      "- Upper passband edge: 40.00 Hz\n",
      "- Upper transition bandwidth: 10.00 Hz (-6 dB cutoff frequency: 45.00 Hz)\n",
      "- Filter length: 1835 samples (3.670 s)\n",
      "\n"
     ]
    },
    {
     "name": "stderr",
     "output_type": "stream",
     "text": [
      "[Parallel(n_jobs=1)]: Using backend SequentialBackend with 1 concurrent workers.\n",
      "[Parallel(n_jobs=1)]: Done   1 out of   1 | elapsed:    0.1s remaining:    0.0s\n",
      "[Parallel(n_jobs=1)]: Done   2 out of   2 | elapsed:    0.1s remaining:    0.0s\n",
      "[Parallel(n_jobs=1)]: Done   3 out of   3 | elapsed:    0.2s remaining:    0.0s\n",
      "[Parallel(n_jobs=1)]: Done   4 out of   4 | elapsed:    0.2s remaining:    0.0s\n"
     ]
    },
    {
     "name": "stdout",
     "output_type": "stream",
     "text": [
      "Used Annotations descriptions: ['New Segment', 'S  4', 'S  5', 'S  6', 'S  7', 'S  8', 'S 44', 'S 50', 'S 60', 'S 63', 'S 66', 'S 69', 'S 70', 'S 73', 'S 77', 'S 79']\n"
     ]
    },
    {
     "name": "stderr",
     "output_type": "stream",
     "text": [
      "[Parallel(n_jobs=1)]: Done  37 out of  37 | elapsed:    2.0s finished\n"
     ]
    },
    {
     "name": "stdout",
     "output_type": "stream",
     "text": [
      "Extracting EDF parameters from /home/data/HSE_math_exp_2/raw/74_math-edf.edf...\n",
      "EDF file detected\n",
      "Setting channel info structure...\n",
      "Creating raw.info structure...\n",
      "Reading 0 ... 2826999  =      0.000 ...  5653.998 secs...\n",
      "Filtering raw data in 1 contiguous segment\n",
      "Setting up band-pass filter from 0.9 - 40 Hz\n",
      "\n",
      "FIR filter parameters\n",
      "---------------------\n",
      "Designing a one-pass, zero-phase, non-causal bandpass filter:\n",
      "- Windowed time-domain design (firwin) method\n",
      "- Hamming window with 0.0194 passband ripple and 53 dB stopband attenuation\n",
      "- Lower passband edge: 0.90\n",
      "- Lower transition bandwidth: 0.90 Hz (-6 dB cutoff frequency: 0.45 Hz)\n",
      "- Upper passband edge: 40.00 Hz\n",
      "- Upper transition bandwidth: 10.00 Hz (-6 dB cutoff frequency: 45.00 Hz)\n",
      "- Filter length: 1835 samples (3.670 s)\n",
      "\n"
     ]
    },
    {
     "name": "stderr",
     "output_type": "stream",
     "text": [
      "[Parallel(n_jobs=1)]: Using backend SequentialBackend with 1 concurrent workers.\n",
      "[Parallel(n_jobs=1)]: Done   1 out of   1 | elapsed:    0.1s remaining:    0.0s\n",
      "[Parallel(n_jobs=1)]: Done   2 out of   2 | elapsed:    0.1s remaining:    0.0s\n",
      "[Parallel(n_jobs=1)]: Done   3 out of   3 | elapsed:    0.2s remaining:    0.0s\n",
      "[Parallel(n_jobs=1)]: Done   4 out of   4 | elapsed:    0.3s remaining:    0.0s\n"
     ]
    },
    {
     "name": "stdout",
     "output_type": "stream",
     "text": [
      "Used Annotations descriptions: ['New Segment', 'S  1', 'S  2', 'S  3', 'S  4', 'S  5', 'S  7', 'S  9', 'S 10', 'S 20', 'S 30', 'S 40', 'S 50', 'S 99']\n"
     ]
    },
    {
     "name": "stderr",
     "output_type": "stream",
     "text": [
      "[Parallel(n_jobs=1)]: Done  37 out of  37 | elapsed:    2.5s finished\n"
     ]
    },
    {
     "name": "stdout",
     "output_type": "stream",
     "text": [
      "Extracting EDF parameters from /home/data/HSE_math_exp_2/raw/75_math-edf.edf...\n",
      "EDF file detected\n",
      "Setting channel info structure...\n",
      "Creating raw.info structure...\n",
      "Reading 0 ... 2408999  =      0.000 ...  4817.998 secs...\n",
      "Filtering raw data in 1 contiguous segment\n",
      "Setting up band-pass filter from 0.9 - 40 Hz\n",
      "\n",
      "FIR filter parameters\n",
      "---------------------\n",
      "Designing a one-pass, zero-phase, non-causal bandpass filter:\n",
      "- Windowed time-domain design (firwin) method\n",
      "- Hamming window with 0.0194 passband ripple and 53 dB stopband attenuation\n",
      "- Lower passband edge: 0.90\n",
      "- Lower transition bandwidth: 0.90 Hz (-6 dB cutoff frequency: 0.45 Hz)\n",
      "- Upper passband edge: 40.00 Hz\n",
      "- Upper transition bandwidth: 10.00 Hz (-6 dB cutoff frequency: 45.00 Hz)\n",
      "- Filter length: 1835 samples (3.670 s)\n",
      "\n"
     ]
    },
    {
     "name": "stderr",
     "output_type": "stream",
     "text": [
      "[Parallel(n_jobs=1)]: Using backend SequentialBackend with 1 concurrent workers.\n",
      "[Parallel(n_jobs=1)]: Done   1 out of   1 | elapsed:    0.1s remaining:    0.0s\n",
      "[Parallel(n_jobs=1)]: Done   2 out of   2 | elapsed:    0.2s remaining:    0.0s\n",
      "[Parallel(n_jobs=1)]: Done   3 out of   3 | elapsed:    0.2s remaining:    0.0s\n",
      "[Parallel(n_jobs=1)]: Done   4 out of   4 | elapsed:    0.3s remaining:    0.0s\n"
     ]
    },
    {
     "name": "stdout",
     "output_type": "stream",
     "text": [
      "Used Annotations descriptions: ['New Segment', 'S  4', 'S  5', 'S  6', 'S  7', 'S  8', 'S 44', 'S 50', 'S 60', 'S 63', 'S 66', 'S 69', 'S 70', 'S 73', 'S 77', 'S 79']\n"
     ]
    },
    {
     "name": "stderr",
     "output_type": "stream",
     "text": [
      "[Parallel(n_jobs=1)]: Done  37 out of  37 | elapsed:    2.2s finished\n"
     ]
    },
    {
     "name": "stdout",
     "output_type": "stream",
     "text": [
      "Extracting EDF parameters from /home/data/HSE_math_exp_2/raw/76_math-edf.edf...\n",
      "EDF file detected\n",
      "Setting channel info structure...\n",
      "Creating raw.info structure...\n",
      "Reading 0 ... 2150499  =      0.000 ...  4300.998 secs...\n",
      "Filtering raw data in 1 contiguous segment\n",
      "Setting up band-pass filter from 0.9 - 40 Hz\n",
      "\n",
      "FIR filter parameters\n",
      "---------------------\n",
      "Designing a one-pass, zero-phase, non-causal bandpass filter:\n",
      "- Windowed time-domain design (firwin) method\n",
      "- Hamming window with 0.0194 passband ripple and 53 dB stopband attenuation\n",
      "- Lower passband edge: 0.90\n",
      "- Lower transition bandwidth: 0.90 Hz (-6 dB cutoff frequency: 0.45 Hz)\n",
      "- Upper passband edge: 40.00 Hz\n",
      "- Upper transition bandwidth: 10.00 Hz (-6 dB cutoff frequency: 45.00 Hz)\n",
      "- Filter length: 1835 samples (3.670 s)\n",
      "\n"
     ]
    },
    {
     "name": "stderr",
     "output_type": "stream",
     "text": [
      "[Parallel(n_jobs=1)]: Using backend SequentialBackend with 1 concurrent workers.\n",
      "[Parallel(n_jobs=1)]: Done   1 out of   1 | elapsed:    0.0s remaining:    0.0s\n",
      "[Parallel(n_jobs=1)]: Done   2 out of   2 | elapsed:    0.1s remaining:    0.0s\n",
      "[Parallel(n_jobs=1)]: Done   3 out of   3 | elapsed:    0.2s remaining:    0.0s\n",
      "[Parallel(n_jobs=1)]: Done   4 out of   4 | elapsed:    0.2s remaining:    0.0s\n"
     ]
    },
    {
     "name": "stdout",
     "output_type": "stream",
     "text": [
      "Used Annotations descriptions: ['New Segment', 'S  4', 'S  5', 'S  6', 'S  7', 'S  8', 'S 44', 'S 50', 'S 60', 'S 63', 'S 66', 'S 69', 'S 70', 'S 73', 'S 77', 'S 79']\n"
     ]
    },
    {
     "name": "stderr",
     "output_type": "stream",
     "text": [
      "[Parallel(n_jobs=1)]: Done  37 out of  37 | elapsed:    1.9s finished\n"
     ]
    },
    {
     "name": "stdout",
     "output_type": "stream",
     "text": [
      "Extracting EDF parameters from /home/data/HSE_math_exp_2/raw/77_math-edf.edf...\n",
      "EDF file detected\n",
      "Setting channel info structure...\n",
      "Creating raw.info structure...\n",
      "Reading 0 ... 2149499  =      0.000 ...  4298.998 secs...\n",
      "Filtering raw data in 1 contiguous segment\n",
      "Setting up band-pass filter from 0.9 - 40 Hz\n",
      "\n",
      "FIR filter parameters\n",
      "---------------------\n",
      "Designing a one-pass, zero-phase, non-causal bandpass filter:\n",
      "- Windowed time-domain design (firwin) method\n",
      "- Hamming window with 0.0194 passband ripple and 53 dB stopband attenuation\n",
      "- Lower passband edge: 0.90\n",
      "- Lower transition bandwidth: 0.90 Hz (-6 dB cutoff frequency: 0.45 Hz)\n",
      "- Upper passband edge: 40.00 Hz\n",
      "- Upper transition bandwidth: 10.00 Hz (-6 dB cutoff frequency: 45.00 Hz)\n",
      "- Filter length: 1835 samples (3.670 s)\n",
      "\n"
     ]
    },
    {
     "name": "stderr",
     "output_type": "stream",
     "text": [
      "[Parallel(n_jobs=1)]: Using backend SequentialBackend with 1 concurrent workers.\n",
      "[Parallel(n_jobs=1)]: Done   1 out of   1 | elapsed:    0.0s remaining:    0.0s\n",
      "[Parallel(n_jobs=1)]: Done   2 out of   2 | elapsed:    0.1s remaining:    0.0s\n",
      "[Parallel(n_jobs=1)]: Done   3 out of   3 | elapsed:    0.1s remaining:    0.0s\n",
      "[Parallel(n_jobs=1)]: Done   4 out of   4 | elapsed:    0.2s remaining:    0.0s\n"
     ]
    },
    {
     "name": "stdout",
     "output_type": "stream",
     "text": [
      "Used Annotations descriptions: ['New Segment', 'S  4', 'S  5', 'S  6', 'S  7', 'S  8', 'S 44', 'S 50', 'S 60', 'S 63', 'S 66', 'S 69', 'S 70', 'S 73', 'S 77', 'S 79']\n"
     ]
    },
    {
     "name": "stderr",
     "output_type": "stream",
     "text": [
      "[Parallel(n_jobs=1)]: Done  37 out of  37 | elapsed:    1.9s finished\n"
     ]
    },
    {
     "name": "stdout",
     "output_type": "stream",
     "text": [
      "Extracting EDF parameters from /home/data/HSE_math_exp_2/raw/78_math-edf.edf...\n",
      "EDF file detected\n",
      "Setting channel info structure...\n",
      "Creating raw.info structure...\n",
      "Reading 0 ... 2122499  =      0.000 ...  4244.998 secs...\n",
      "Filtering raw data in 1 contiguous segment\n",
      "Setting up band-pass filter from 0.9 - 40 Hz\n",
      "\n",
      "FIR filter parameters\n",
      "---------------------\n",
      "Designing a one-pass, zero-phase, non-causal bandpass filter:\n",
      "- Windowed time-domain design (firwin) method\n",
      "- Hamming window with 0.0194 passband ripple and 53 dB stopband attenuation\n",
      "- Lower passband edge: 0.90\n",
      "- Lower transition bandwidth: 0.90 Hz (-6 dB cutoff frequency: 0.45 Hz)\n",
      "- Upper passband edge: 40.00 Hz\n",
      "- Upper transition bandwidth: 10.00 Hz (-6 dB cutoff frequency: 45.00 Hz)\n",
      "- Filter length: 1835 samples (3.670 s)\n",
      "\n"
     ]
    },
    {
     "name": "stderr",
     "output_type": "stream",
     "text": [
      "[Parallel(n_jobs=1)]: Using backend SequentialBackend with 1 concurrent workers.\n",
      "[Parallel(n_jobs=1)]: Done   1 out of   1 | elapsed:    0.1s remaining:    0.0s\n",
      "[Parallel(n_jobs=1)]: Done   2 out of   2 | elapsed:    0.1s remaining:    0.0s\n",
      "[Parallel(n_jobs=1)]: Done   3 out of   3 | elapsed:    0.1s remaining:    0.0s\n",
      "[Parallel(n_jobs=1)]: Done   4 out of   4 | elapsed:    0.2s remaining:    0.0s\n"
     ]
    },
    {
     "name": "stdout",
     "output_type": "stream",
     "text": [
      "Used Annotations descriptions: ['New Segment', 'S  4', 'S  5', 'S  6', 'S  7', 'S  8', 'S 44', 'S 50', 'S 60', 'S 63', 'S 66', 'S 69', 'S 70', 'S 73', 'S 77', 'S 79']\n"
     ]
    },
    {
     "name": "stderr",
     "output_type": "stream",
     "text": [
      "[Parallel(n_jobs=1)]: Done  37 out of  37 | elapsed:    1.9s finished\n"
     ]
    },
    {
     "name": "stdout",
     "output_type": "stream",
     "text": [
      "Extracting EDF parameters from /home/data/HSE_math_exp_2/raw/79_math-edf.edf...\n",
      "EDF file detected\n",
      "Setting channel info structure...\n",
      "Creating raw.info structure...\n",
      "Reading 0 ... 2117499  =      0.000 ...  4234.998 secs...\n",
      "Filtering raw data in 1 contiguous segment\n",
      "Setting up band-pass filter from 0.9 - 40 Hz\n",
      "\n",
      "FIR filter parameters\n",
      "---------------------\n",
      "Designing a one-pass, zero-phase, non-causal bandpass filter:\n",
      "- Windowed time-domain design (firwin) method\n",
      "- Hamming window with 0.0194 passband ripple and 53 dB stopband attenuation\n",
      "- Lower passband edge: 0.90\n",
      "- Lower transition bandwidth: 0.90 Hz (-6 dB cutoff frequency: 0.45 Hz)\n",
      "- Upper passband edge: 40.00 Hz\n",
      "- Upper transition bandwidth: 10.00 Hz (-6 dB cutoff frequency: 45.00 Hz)\n",
      "- Filter length: 1835 samples (3.670 s)\n",
      "\n"
     ]
    },
    {
     "name": "stderr",
     "output_type": "stream",
     "text": [
      "[Parallel(n_jobs=1)]: Using backend SequentialBackend with 1 concurrent workers.\n",
      "[Parallel(n_jobs=1)]: Done   1 out of   1 | elapsed:    0.0s remaining:    0.0s\n",
      "[Parallel(n_jobs=1)]: Done   2 out of   2 | elapsed:    0.1s remaining:    0.0s\n",
      "[Parallel(n_jobs=1)]: Done   3 out of   3 | elapsed:    0.1s remaining:    0.0s\n",
      "[Parallel(n_jobs=1)]: Done   4 out of   4 | elapsed:    0.2s remaining:    0.0s\n"
     ]
    },
    {
     "name": "stdout",
     "output_type": "stream",
     "text": [
      "Used Annotations descriptions: ['New Segment', 'S  4', 'S  5', 'S  6', 'S  7', 'S  8', 'S 44', 'S 50', 'S 60', 'S 63', 'S 66', 'S 69', 'S 70', 'S 73', 'S 77', 'S 79']\n"
     ]
    },
    {
     "name": "stderr",
     "output_type": "stream",
     "text": [
      "[Parallel(n_jobs=1)]: Done  37 out of  37 | elapsed:    1.9s finished\n"
     ]
    },
    {
     "name": "stdout",
     "output_type": "stream",
     "text": [
      "Extracting EDF parameters from /home/data/HSE_math_exp_2/raw/80_math-edf.edf...\n",
      "EDF file detected\n",
      "Setting channel info structure...\n",
      "Creating raw.info structure...\n",
      "Reading 0 ... 2118499  =      0.000 ...  4236.998 secs...\n",
      "Filtering raw data in 1 contiguous segment\n",
      "Setting up band-pass filter from 0.9 - 40 Hz\n",
      "\n",
      "FIR filter parameters\n",
      "---------------------\n",
      "Designing a one-pass, zero-phase, non-causal bandpass filter:\n",
      "- Windowed time-domain design (firwin) method\n",
      "- Hamming window with 0.0194 passband ripple and 53 dB stopband attenuation\n",
      "- Lower passband edge: 0.90\n",
      "- Lower transition bandwidth: 0.90 Hz (-6 dB cutoff frequency: 0.45 Hz)\n",
      "- Upper passband edge: 40.00 Hz\n",
      "- Upper transition bandwidth: 10.00 Hz (-6 dB cutoff frequency: 45.00 Hz)\n",
      "- Filter length: 1835 samples (3.670 s)\n",
      "\n"
     ]
    },
    {
     "name": "stderr",
     "output_type": "stream",
     "text": [
      "[Parallel(n_jobs=1)]: Using backend SequentialBackend with 1 concurrent workers.\n",
      "[Parallel(n_jobs=1)]: Done   1 out of   1 | elapsed:    0.0s remaining:    0.0s\n",
      "[Parallel(n_jobs=1)]: Done   2 out of   2 | elapsed:    0.1s remaining:    0.0s\n",
      "[Parallel(n_jobs=1)]: Done   3 out of   3 | elapsed:    0.1s remaining:    0.0s\n",
      "[Parallel(n_jobs=1)]: Done   4 out of   4 | elapsed:    0.2s remaining:    0.0s\n"
     ]
    },
    {
     "name": "stdout",
     "output_type": "stream",
     "text": [
      "Used Annotations descriptions: ['New Segment', 'S  4', 'S  5', 'S  6', 'S  7', 'S  8', 'S 44', 'S 50', 'S 60', 'S 63', 'S 66', 'S 69', 'S 70', 'S 73', 'S 77', 'S 79']\n"
     ]
    },
    {
     "name": "stderr",
     "output_type": "stream",
     "text": [
      "[Parallel(n_jobs=1)]: Done  37 out of  37 | elapsed:    1.8s finished\n"
     ]
    },
    {
     "name": "stdout",
     "output_type": "stream",
     "text": [
      "Extracting EDF parameters from /home/data/HSE_math_exp_2/raw/81_math-edf.edf...\n",
      "EDF file detected\n",
      "Setting channel info structure...\n",
      "Creating raw.info structure...\n",
      "Reading 0 ... 2211999  =      0.000 ...  4423.998 secs...\n",
      "Filtering raw data in 1 contiguous segment\n",
      "Setting up band-pass filter from 0.9 - 40 Hz\n",
      "\n",
      "FIR filter parameters\n",
      "---------------------\n",
      "Designing a one-pass, zero-phase, non-causal bandpass filter:\n",
      "- Windowed time-domain design (firwin) method\n",
      "- Hamming window with 0.0194 passband ripple and 53 dB stopband attenuation\n",
      "- Lower passband edge: 0.90\n",
      "- Lower transition bandwidth: 0.90 Hz (-6 dB cutoff frequency: 0.45 Hz)\n",
      "- Upper passband edge: 40.00 Hz\n",
      "- Upper transition bandwidth: 10.00 Hz (-6 dB cutoff frequency: 45.00 Hz)\n",
      "- Filter length: 1835 samples (3.670 s)\n",
      "\n"
     ]
    },
    {
     "name": "stderr",
     "output_type": "stream",
     "text": [
      "[Parallel(n_jobs=1)]: Using backend SequentialBackend with 1 concurrent workers.\n",
      "[Parallel(n_jobs=1)]: Done   1 out of   1 | elapsed:    0.1s remaining:    0.0s\n",
      "[Parallel(n_jobs=1)]: Done   2 out of   2 | elapsed:    0.1s remaining:    0.0s\n",
      "[Parallel(n_jobs=1)]: Done   3 out of   3 | elapsed:    0.2s remaining:    0.0s\n",
      "[Parallel(n_jobs=1)]: Done   4 out of   4 | elapsed:    0.2s remaining:    0.0s\n"
     ]
    },
    {
     "name": "stdout",
     "output_type": "stream",
     "text": [
      "Used Annotations descriptions: ['New Segment', 'S  4', 'S  5', 'S  6', 'S  7', 'S  8', 'S 44', 'S 50', 'S 60', 'S 63', 'S 66', 'S 69', 'S 70', 'S 73', 'S 77', 'S 79']\n"
     ]
    },
    {
     "name": "stderr",
     "output_type": "stream",
     "text": [
      "[Parallel(n_jobs=1)]: Done  37 out of  37 | elapsed:    1.9s finished\n"
     ]
    },
    {
     "name": "stdout",
     "output_type": "stream",
     "text": [
      "Extracting EDF parameters from /home/data/HSE_math_exp_2/raw/82_math-edf.edf...\n",
      "EDF file detected\n",
      "Setting channel info structure...\n",
      "Creating raw.info structure...\n",
      "Reading 0 ... 2124499  =      0.000 ...  4248.998 secs...\n",
      "Filtering raw data in 1 contiguous segment\n",
      "Setting up band-pass filter from 0.9 - 40 Hz\n",
      "\n",
      "FIR filter parameters\n",
      "---------------------\n",
      "Designing a one-pass, zero-phase, non-causal bandpass filter:\n",
      "- Windowed time-domain design (firwin) method\n",
      "- Hamming window with 0.0194 passband ripple and 53 dB stopband attenuation\n",
      "- Lower passband edge: 0.90\n",
      "- Lower transition bandwidth: 0.90 Hz (-6 dB cutoff frequency: 0.45 Hz)\n",
      "- Upper passband edge: 40.00 Hz\n",
      "- Upper transition bandwidth: 10.00 Hz (-6 dB cutoff frequency: 45.00 Hz)\n",
      "- Filter length: 1835 samples (3.670 s)\n",
      "\n"
     ]
    },
    {
     "name": "stderr",
     "output_type": "stream",
     "text": [
      "[Parallel(n_jobs=1)]: Using backend SequentialBackend with 1 concurrent workers.\n",
      "[Parallel(n_jobs=1)]: Done   1 out of   1 | elapsed:    0.0s remaining:    0.0s\n",
      "[Parallel(n_jobs=1)]: Done   2 out of   2 | elapsed:    0.1s remaining:    0.0s\n",
      "[Parallel(n_jobs=1)]: Done   3 out of   3 | elapsed:    0.1s remaining:    0.0s\n",
      "[Parallel(n_jobs=1)]: Done   4 out of   4 | elapsed:    0.2s remaining:    0.0s\n"
     ]
    },
    {
     "name": "stdout",
     "output_type": "stream",
     "text": [
      "Used Annotations descriptions: ['New Segment', 'S  4', 'S  5', 'S  6', 'S  7', 'S  8', 'S 44', 'S 50', 'S 60', 'S 63', 'S 66', 'S 69', 'S 70', 'S 73', 'S 77', 'S 79']\n"
     ]
    },
    {
     "name": "stderr",
     "output_type": "stream",
     "text": [
      "[Parallel(n_jobs=1)]: Done  37 out of  37 | elapsed:    1.9s finished\n"
     ]
    },
    {
     "name": "stdout",
     "output_type": "stream",
     "text": [
      "Extracting EDF parameters from /home/data/HSE_math_exp_2/raw/83_math-edf.edf...\n",
      "EDF file detected\n",
      "Setting channel info structure...\n",
      "Creating raw.info structure...\n",
      "Reading 0 ... 2139499  =      0.000 ...  4278.998 secs...\n",
      "Filtering raw data in 1 contiguous segment\n",
      "Setting up band-pass filter from 0.9 - 40 Hz\n",
      "\n",
      "FIR filter parameters\n",
      "---------------------\n",
      "Designing a one-pass, zero-phase, non-causal bandpass filter:\n",
      "- Windowed time-domain design (firwin) method\n",
      "- Hamming window with 0.0194 passband ripple and 53 dB stopband attenuation\n",
      "- Lower passband edge: 0.90\n",
      "- Lower transition bandwidth: 0.90 Hz (-6 dB cutoff frequency: 0.45 Hz)\n",
      "- Upper passband edge: 40.00 Hz\n",
      "- Upper transition bandwidth: 10.00 Hz (-6 dB cutoff frequency: 45.00 Hz)\n",
      "- Filter length: 1835 samples (3.670 s)\n",
      "\n"
     ]
    },
    {
     "name": "stderr",
     "output_type": "stream",
     "text": [
      "[Parallel(n_jobs=1)]: Using backend SequentialBackend with 1 concurrent workers.\n",
      "[Parallel(n_jobs=1)]: Done   1 out of   1 | elapsed:    0.0s remaining:    0.0s\n",
      "[Parallel(n_jobs=1)]: Done   2 out of   2 | elapsed:    0.1s remaining:    0.0s\n",
      "[Parallel(n_jobs=1)]: Done   3 out of   3 | elapsed:    0.2s remaining:    0.0s\n",
      "[Parallel(n_jobs=1)]: Done   4 out of   4 | elapsed:    0.2s remaining:    0.0s\n"
     ]
    },
    {
     "name": "stdout",
     "output_type": "stream",
     "text": [
      "Used Annotations descriptions: ['New Segment', 'S  4', 'S  5', 'S  6', 'S  7', 'S  8', 'S 44', 'S 50', 'S 60', 'S 63', 'S 66', 'S 69', 'S 70', 'S 73', 'S 77', 'S 79']\n"
     ]
    },
    {
     "name": "stderr",
     "output_type": "stream",
     "text": [
      "[Parallel(n_jobs=1)]: Done  37 out of  37 | elapsed:    1.9s finished\n"
     ]
    },
    {
     "name": "stdout",
     "output_type": "stream",
     "text": [
      "Extracting EDF parameters from /home/data/HSE_math_exp_2/raw/84_math-edf.edf...\n",
      "EDF file detected\n",
      "Setting channel info structure...\n",
      "Creating raw.info structure...\n",
      "Reading 0 ... 2316999  =      0.000 ...  4633.998 secs...\n",
      "Filtering raw data in 1 contiguous segment\n",
      "Setting up band-pass filter from 0.9 - 40 Hz\n",
      "\n",
      "FIR filter parameters\n",
      "---------------------\n",
      "Designing a one-pass, zero-phase, non-causal bandpass filter:\n",
      "- Windowed time-domain design (firwin) method\n",
      "- Hamming window with 0.0194 passband ripple and 53 dB stopband attenuation\n",
      "- Lower passband edge: 0.90\n",
      "- Lower transition bandwidth: 0.90 Hz (-6 dB cutoff frequency: 0.45 Hz)\n",
      "- Upper passband edge: 40.00 Hz\n",
      "- Upper transition bandwidth: 10.00 Hz (-6 dB cutoff frequency: 45.00 Hz)\n",
      "- Filter length: 1835 samples (3.670 s)\n",
      "\n"
     ]
    },
    {
     "name": "stderr",
     "output_type": "stream",
     "text": [
      "[Parallel(n_jobs=1)]: Using backend SequentialBackend with 1 concurrent workers.\n",
      "[Parallel(n_jobs=1)]: Done   1 out of   1 | elapsed:    0.1s remaining:    0.0s\n",
      "[Parallel(n_jobs=1)]: Done   2 out of   2 | elapsed:    0.1s remaining:    0.0s\n",
      "[Parallel(n_jobs=1)]: Done   3 out of   3 | elapsed:    0.2s remaining:    0.0s\n",
      "[Parallel(n_jobs=1)]: Done   4 out of   4 | elapsed:    0.2s remaining:    0.0s\n"
     ]
    },
    {
     "name": "stdout",
     "output_type": "stream",
     "text": [
      "Used Annotations descriptions: ['New Segment', 'S  4', 'S  5', 'S  6', 'S  7', 'S  8', 'S 44', 'S 50', 'S 60', 'S 63', 'S 66', 'S 69', 'S 70', 'S 73', 'S 77', 'S 79']\n"
     ]
    },
    {
     "name": "stderr",
     "output_type": "stream",
     "text": [
      "[Parallel(n_jobs=1)]: Done  37 out of  37 | elapsed:    2.1s finished\n"
     ]
    },
    {
     "name": "stdout",
     "output_type": "stream",
     "text": [
      "Extracting EDF parameters from /home/data/HSE_math_exp_2/raw/85_math-edf.edf...\n",
      "EDF file detected\n",
      "Setting channel info structure...\n",
      "Creating raw.info structure...\n",
      "Reading 0 ... 2267499  =      0.000 ...  4534.998 secs...\n",
      "Filtering raw data in 1 contiguous segment\n",
      "Setting up band-pass filter from 0.9 - 40 Hz\n",
      "\n",
      "FIR filter parameters\n",
      "---------------------\n",
      "Designing a one-pass, zero-phase, non-causal bandpass filter:\n",
      "- Windowed time-domain design (firwin) method\n",
      "- Hamming window with 0.0194 passband ripple and 53 dB stopband attenuation\n",
      "- Lower passband edge: 0.90\n",
      "- Lower transition bandwidth: 0.90 Hz (-6 dB cutoff frequency: 0.45 Hz)\n",
      "- Upper passband edge: 40.00 Hz\n",
      "- Upper transition bandwidth: 10.00 Hz (-6 dB cutoff frequency: 45.00 Hz)\n",
      "- Filter length: 1835 samples (3.670 s)\n",
      "\n"
     ]
    },
    {
     "name": "stderr",
     "output_type": "stream",
     "text": [
      "[Parallel(n_jobs=1)]: Using backend SequentialBackend with 1 concurrent workers.\n",
      "[Parallel(n_jobs=1)]: Done   1 out of   1 | elapsed:    0.1s remaining:    0.0s\n",
      "[Parallel(n_jobs=1)]: Done   2 out of   2 | elapsed:    0.1s remaining:    0.0s\n",
      "[Parallel(n_jobs=1)]: Done   3 out of   3 | elapsed:    0.2s remaining:    0.0s\n",
      "[Parallel(n_jobs=1)]: Done   4 out of   4 | elapsed:    0.2s remaining:    0.0s\n"
     ]
    },
    {
     "name": "stdout",
     "output_type": "stream",
     "text": [
      "Used Annotations descriptions: ['New Segment', 'S  4', 'S  5', 'S  6', 'S  7', 'S  8', 'S 44', 'S 50', 'S 60', 'S 63', 'S 66', 'S 69', 'S 70', 'S 73', 'S 77', 'S 79']\n"
     ]
    },
    {
     "name": "stderr",
     "output_type": "stream",
     "text": [
      "[Parallel(n_jobs=1)]: Done  37 out of  37 | elapsed:    2.0s finished\n"
     ]
    },
    {
     "name": "stdout",
     "output_type": "stream",
     "text": [
      "Extracting EDF parameters from /home/data/HSE_math_exp_2/raw/86_math-edf.edf...\n",
      "EDF file detected\n",
      "Setting channel info structure...\n",
      "Creating raw.info structure...\n",
      "Reading 0 ... 2270499  =      0.000 ...  4540.998 secs...\n",
      "Filtering raw data in 1 contiguous segment\n",
      "Setting up band-pass filter from 0.9 - 40 Hz\n",
      "\n",
      "FIR filter parameters\n",
      "---------------------\n",
      "Designing a one-pass, zero-phase, non-causal bandpass filter:\n",
      "- Windowed time-domain design (firwin) method\n",
      "- Hamming window with 0.0194 passband ripple and 53 dB stopband attenuation\n",
      "- Lower passband edge: 0.90\n",
      "- Lower transition bandwidth: 0.90 Hz (-6 dB cutoff frequency: 0.45 Hz)\n",
      "- Upper passband edge: 40.00 Hz\n",
      "- Upper transition bandwidth: 10.00 Hz (-6 dB cutoff frequency: 45.00 Hz)\n",
      "- Filter length: 1835 samples (3.670 s)\n",
      "\n"
     ]
    },
    {
     "name": "stderr",
     "output_type": "stream",
     "text": [
      "[Parallel(n_jobs=1)]: Using backend SequentialBackend with 1 concurrent workers.\n",
      "[Parallel(n_jobs=1)]: Done   1 out of   1 | elapsed:    0.1s remaining:    0.0s\n",
      "[Parallel(n_jobs=1)]: Done   2 out of   2 | elapsed:    0.1s remaining:    0.0s\n",
      "[Parallel(n_jobs=1)]: Done   3 out of   3 | elapsed:    0.2s remaining:    0.0s\n",
      "[Parallel(n_jobs=1)]: Done   4 out of   4 | elapsed:    0.2s remaining:    0.0s\n"
     ]
    },
    {
     "name": "stdout",
     "output_type": "stream",
     "text": [
      "Used Annotations descriptions: ['New Segment', 'S  4', 'S  5', 'S  6', 'S  7', 'S  8', 'S 44', 'S 50', 'S 60', 'S 63', 'S 66', 'S 69', 'S 70', 'S 73', 'S 77', 'S 79']\n"
     ]
    },
    {
     "name": "stderr",
     "output_type": "stream",
     "text": [
      "[Parallel(n_jobs=1)]: Done  37 out of  37 | elapsed:    2.0s finished\n"
     ]
    },
    {
     "name": "stdout",
     "output_type": "stream",
     "text": [
      "Extracting EDF parameters from /home/data/HSE_math_exp_2/raw/87_math-edf.edf...\n",
      "EDF file detected\n",
      "Setting channel info structure...\n",
      "Creating raw.info structure...\n",
      "Reading 0 ... 2108499  =      0.000 ...  4216.998 secs...\n",
      "Filtering raw data in 1 contiguous segment\n",
      "Setting up band-pass filter from 0.9 - 40 Hz\n",
      "\n",
      "FIR filter parameters\n",
      "---------------------\n",
      "Designing a one-pass, zero-phase, non-causal bandpass filter:\n",
      "- Windowed time-domain design (firwin) method\n",
      "- Hamming window with 0.0194 passband ripple and 53 dB stopband attenuation\n",
      "- Lower passband edge: 0.90\n",
      "- Lower transition bandwidth: 0.90 Hz (-6 dB cutoff frequency: 0.45 Hz)\n",
      "- Upper passband edge: 40.00 Hz\n",
      "- Upper transition bandwidth: 10.00 Hz (-6 dB cutoff frequency: 45.00 Hz)\n",
      "- Filter length: 1835 samples (3.670 s)\n",
      "\n"
     ]
    },
    {
     "name": "stderr",
     "output_type": "stream",
     "text": [
      "[Parallel(n_jobs=1)]: Using backend SequentialBackend with 1 concurrent workers.\n",
      "[Parallel(n_jobs=1)]: Done   1 out of   1 | elapsed:    0.0s remaining:    0.0s\n",
      "[Parallel(n_jobs=1)]: Done   2 out of   2 | elapsed:    0.1s remaining:    0.0s\n",
      "[Parallel(n_jobs=1)]: Done   3 out of   3 | elapsed:    0.1s remaining:    0.0s\n",
      "[Parallel(n_jobs=1)]: Done   4 out of   4 | elapsed:    0.2s remaining:    0.0s\n"
     ]
    },
    {
     "name": "stdout",
     "output_type": "stream",
     "text": [
      "Used Annotations descriptions: ['New Segment', 'S  4', 'S  5', 'S  6', 'S  7', 'S  8', 'S 44', 'S 50', 'S 60', 'S 63', 'S 66', 'S 69', 'S 70', 'S 73', 'S 77', 'S 79']\n"
     ]
    },
    {
     "name": "stderr",
     "output_type": "stream",
     "text": [
      "[Parallel(n_jobs=1)]: Done  37 out of  37 | elapsed:    1.9s finished\n"
     ]
    },
    {
     "name": "stdout",
     "output_type": "stream",
     "text": [
      "Extracting EDF parameters from /home/data/HSE_math_exp_2/raw/88_math-edf.edf...\n",
      "EDF file detected\n",
      "Setting channel info structure...\n",
      "Creating raw.info structure...\n",
      "Reading 0 ... 2226499  =      0.000 ...  4452.998 secs...\n",
      "Filtering raw data in 1 contiguous segment\n",
      "Setting up band-pass filter from 0.9 - 40 Hz\n",
      "\n",
      "FIR filter parameters\n",
      "---------------------\n",
      "Designing a one-pass, zero-phase, non-causal bandpass filter:\n",
      "- Windowed time-domain design (firwin) method\n",
      "- Hamming window with 0.0194 passband ripple and 53 dB stopband attenuation\n",
      "- Lower passband edge: 0.90\n",
      "- Lower transition bandwidth: 0.90 Hz (-6 dB cutoff frequency: 0.45 Hz)\n",
      "- Upper passband edge: 40.00 Hz\n",
      "- Upper transition bandwidth: 10.00 Hz (-6 dB cutoff frequency: 45.00 Hz)\n",
      "- Filter length: 1835 samples (3.670 s)\n",
      "\n"
     ]
    },
    {
     "name": "stderr",
     "output_type": "stream",
     "text": [
      "[Parallel(n_jobs=1)]: Using backend SequentialBackend with 1 concurrent workers.\n",
      "[Parallel(n_jobs=1)]: Done   1 out of   1 | elapsed:    0.1s remaining:    0.0s\n",
      "[Parallel(n_jobs=1)]: Done   2 out of   2 | elapsed:    0.1s remaining:    0.0s\n",
      "[Parallel(n_jobs=1)]: Done   3 out of   3 | elapsed:    0.2s remaining:    0.0s\n",
      "[Parallel(n_jobs=1)]: Done   4 out of   4 | elapsed:    0.2s remaining:    0.0s\n"
     ]
    },
    {
     "name": "stdout",
     "output_type": "stream",
     "text": [
      "Used Annotations descriptions: ['New Segment', 'S  4', 'S  5', 'S  6', 'S  7', 'S  8', 'S 44', 'S 50', 'S 60', 'S 63', 'S 66', 'S 69', 'S 70', 'S 73', 'S 77', 'S 79']\n"
     ]
    },
    {
     "name": "stderr",
     "output_type": "stream",
     "text": [
      "[Parallel(n_jobs=1)]: Done  37 out of  37 | elapsed:    2.0s finished\n"
     ]
    },
    {
     "name": "stdout",
     "output_type": "stream",
     "text": [
      "Extracting EDF parameters from /home/data/HSE_math_exp_2/raw/89_math-edf.edf...\n",
      "EDF file detected\n",
      "Setting channel info structure...\n",
      "Creating raw.info structure...\n",
      "Reading 0 ... 2178499  =      0.000 ...  4356.998 secs...\n",
      "Filtering raw data in 1 contiguous segment\n",
      "Setting up band-pass filter from 0.9 - 40 Hz\n",
      "\n",
      "FIR filter parameters\n",
      "---------------------\n",
      "Designing a one-pass, zero-phase, non-causal bandpass filter:\n",
      "- Windowed time-domain design (firwin) method\n",
      "- Hamming window with 0.0194 passband ripple and 53 dB stopband attenuation\n",
      "- Lower passband edge: 0.90\n",
      "- Lower transition bandwidth: 0.90 Hz (-6 dB cutoff frequency: 0.45 Hz)\n",
      "- Upper passband edge: 40.00 Hz\n",
      "- Upper transition bandwidth: 10.00 Hz (-6 dB cutoff frequency: 45.00 Hz)\n",
      "- Filter length: 1835 samples (3.670 s)\n",
      "\n"
     ]
    },
    {
     "name": "stderr",
     "output_type": "stream",
     "text": [
      "[Parallel(n_jobs=1)]: Using backend SequentialBackend with 1 concurrent workers.\n",
      "[Parallel(n_jobs=1)]: Done   1 out of   1 | elapsed:    0.1s remaining:    0.0s\n",
      "[Parallel(n_jobs=1)]: Done   2 out of   2 | elapsed:    0.1s remaining:    0.0s\n",
      "[Parallel(n_jobs=1)]: Done   3 out of   3 | elapsed:    0.2s remaining:    0.0s\n",
      "[Parallel(n_jobs=1)]: Done   4 out of   4 | elapsed:    0.2s remaining:    0.0s\n"
     ]
    },
    {
     "name": "stdout",
     "output_type": "stream",
     "text": [
      "Used Annotations descriptions: ['New Segment', 'S  4', 'S  5', 'S  6', 'S  7', 'S  8', 'S 44', 'S 50', 'S 60', 'S 63', 'S 66', 'S 69', 'S 70', 'S 73', 'S 77', 'S 79']\n"
     ]
    },
    {
     "name": "stderr",
     "output_type": "stream",
     "text": [
      "[Parallel(n_jobs=1)]: Done  37 out of  37 | elapsed:    1.9s finished\n"
     ]
    },
    {
     "name": "stdout",
     "output_type": "stream",
     "text": [
      "Extracting EDF parameters from /home/data/HSE_math_exp_2/raw/90_math-edf.edf...\n",
      "EDF file detected\n",
      "Setting channel info structure...\n",
      "Creating raw.info structure...\n",
      "Reading 0 ... 2128999  =      0.000 ...  4257.998 secs...\n",
      "Filtering raw data in 1 contiguous segment\n",
      "Setting up band-pass filter from 0.9 - 40 Hz\n",
      "\n",
      "FIR filter parameters\n",
      "---------------------\n",
      "Designing a one-pass, zero-phase, non-causal bandpass filter:\n",
      "- Windowed time-domain design (firwin) method\n",
      "- Hamming window with 0.0194 passband ripple and 53 dB stopband attenuation\n",
      "- Lower passband edge: 0.90\n",
      "- Lower transition bandwidth: 0.90 Hz (-6 dB cutoff frequency: 0.45 Hz)\n",
      "- Upper passband edge: 40.00 Hz\n",
      "- Upper transition bandwidth: 10.00 Hz (-6 dB cutoff frequency: 45.00 Hz)\n",
      "- Filter length: 1835 samples (3.670 s)\n",
      "\n"
     ]
    },
    {
     "name": "stderr",
     "output_type": "stream",
     "text": [
      "[Parallel(n_jobs=1)]: Using backend SequentialBackend with 1 concurrent workers.\n",
      "[Parallel(n_jobs=1)]: Done   1 out of   1 | elapsed:    0.0s remaining:    0.0s\n",
      "[Parallel(n_jobs=1)]: Done   2 out of   2 | elapsed:    0.1s remaining:    0.0s\n",
      "[Parallel(n_jobs=1)]: Done   3 out of   3 | elapsed:    0.2s remaining:    0.0s\n",
      "[Parallel(n_jobs=1)]: Done   4 out of   4 | elapsed:    0.2s remaining:    0.0s\n"
     ]
    },
    {
     "name": "stdout",
     "output_type": "stream",
     "text": [
      "Used Annotations descriptions: ['New Segment', 'S  4', 'S  5', 'S  6', 'S  7', 'S  8', 'S 44', 'S 50', 'S 60', 'S 63', 'S 66', 'S 69', 'S 70', 'S 73', 'S 77', 'S 79']\n"
     ]
    },
    {
     "name": "stderr",
     "output_type": "stream",
     "text": [
      "[Parallel(n_jobs=1)]: Done  37 out of  37 | elapsed:    1.9s finished\n"
     ]
    },
    {
     "name": "stdout",
     "output_type": "stream",
     "text": [
      "Extracting EDF parameters from /home/data/HSE_math_exp_2/raw/91_math-edf.edf...\n",
      "EDF file detected\n",
      "Setting channel info structure...\n",
      "Creating raw.info structure...\n",
      "Reading 0 ... 2223999  =      0.000 ...  4447.998 secs...\n",
      "Filtering raw data in 1 contiguous segment\n",
      "Setting up band-pass filter from 0.9 - 40 Hz\n",
      "\n",
      "FIR filter parameters\n",
      "---------------------\n",
      "Designing a one-pass, zero-phase, non-causal bandpass filter:\n",
      "- Windowed time-domain design (firwin) method\n",
      "- Hamming window with 0.0194 passband ripple and 53 dB stopband attenuation\n",
      "- Lower passband edge: 0.90\n",
      "- Lower transition bandwidth: 0.90 Hz (-6 dB cutoff frequency: 0.45 Hz)\n",
      "- Upper passband edge: 40.00 Hz\n",
      "- Upper transition bandwidth: 10.00 Hz (-6 dB cutoff frequency: 45.00 Hz)\n",
      "- Filter length: 1835 samples (3.670 s)\n",
      "\n"
     ]
    },
    {
     "name": "stderr",
     "output_type": "stream",
     "text": [
      "[Parallel(n_jobs=1)]: Using backend SequentialBackend with 1 concurrent workers.\n",
      "[Parallel(n_jobs=1)]: Done   1 out of   1 | elapsed:    0.1s remaining:    0.0s\n",
      "[Parallel(n_jobs=1)]: Done   2 out of   2 | elapsed:    0.1s remaining:    0.0s\n",
      "[Parallel(n_jobs=1)]: Done   3 out of   3 | elapsed:    0.2s remaining:    0.0s\n",
      "[Parallel(n_jobs=1)]: Done   4 out of   4 | elapsed:    0.2s remaining:    0.0s\n"
     ]
    },
    {
     "name": "stdout",
     "output_type": "stream",
     "text": [
      "Used Annotations descriptions: ['New Segment', 'S  4', 'S  5', 'S  6', 'S  7', 'S  8', 'S 44', 'S 50', 'S 60', 'S 63', 'S 66', 'S 69', 'S 70', 'S 73', 'S 77', 'S 79']\n"
     ]
    },
    {
     "name": "stderr",
     "output_type": "stream",
     "text": [
      "[Parallel(n_jobs=1)]: Done  37 out of  37 | elapsed:    2.0s finished\n"
     ]
    },
    {
     "name": "stdout",
     "output_type": "stream",
     "text": [
      "Extracting EDF parameters from /home/data/HSE_math_exp_2/raw/92_math-edf.edf...\n",
      "EDF file detected\n",
      "Setting channel info structure...\n",
      "Creating raw.info structure...\n",
      "Reading 0 ... 2200999  =      0.000 ...  4401.998 secs...\n",
      "Filtering raw data in 1 contiguous segment\n",
      "Setting up band-pass filter from 0.9 - 40 Hz\n",
      "\n",
      "FIR filter parameters\n",
      "---------------------\n",
      "Designing a one-pass, zero-phase, non-causal bandpass filter:\n",
      "- Windowed time-domain design (firwin) method\n",
      "- Hamming window with 0.0194 passband ripple and 53 dB stopband attenuation\n",
      "- Lower passband edge: 0.90\n",
      "- Lower transition bandwidth: 0.90 Hz (-6 dB cutoff frequency: 0.45 Hz)\n",
      "- Upper passband edge: 40.00 Hz\n",
      "- Upper transition bandwidth: 10.00 Hz (-6 dB cutoff frequency: 45.00 Hz)\n",
      "- Filter length: 1835 samples (3.670 s)\n",
      "\n"
     ]
    },
    {
     "name": "stderr",
     "output_type": "stream",
     "text": [
      "[Parallel(n_jobs=1)]: Using backend SequentialBackend with 1 concurrent workers.\n",
      "[Parallel(n_jobs=1)]: Done   1 out of   1 | elapsed:    0.1s remaining:    0.0s\n",
      "[Parallel(n_jobs=1)]: Done   2 out of   2 | elapsed:    0.2s remaining:    0.0s\n",
      "[Parallel(n_jobs=1)]: Done   3 out of   3 | elapsed:    0.2s remaining:    0.0s\n",
      "[Parallel(n_jobs=1)]: Done   4 out of   4 | elapsed:    0.3s remaining:    0.0s\n"
     ]
    },
    {
     "name": "stdout",
     "output_type": "stream",
     "text": [
      "Used Annotations descriptions: ['New Segment', 'S  4', 'S  5', 'S  6', 'S  7', 'S  8', 'S 44', 'S 50', 'S 60', 'S 63', 'S 66', 'S 69', 'S 70', 'S 73', 'S 77', 'S 79']\n"
     ]
    },
    {
     "name": "stderr",
     "output_type": "stream",
     "text": [
      "[Parallel(n_jobs=1)]: Done  37 out of  37 | elapsed:    2.1s finished\n"
     ]
    },
    {
     "name": "stdout",
     "output_type": "stream",
     "text": [
      "Extracting EDF parameters from /home/data/HSE_math_exp_2/raw/93_math-edf.edf...\n",
      "EDF file detected\n",
      "Setting channel info structure...\n",
      "Creating raw.info structure...\n",
      "Reading 0 ... 2288999  =      0.000 ...  4577.998 secs...\n",
      "Filtering raw data in 1 contiguous segment\n",
      "Setting up band-pass filter from 0.9 - 40 Hz\n",
      "\n",
      "FIR filter parameters\n",
      "---------------------\n",
      "Designing a one-pass, zero-phase, non-causal bandpass filter:\n",
      "- Windowed time-domain design (firwin) method\n",
      "- Hamming window with 0.0194 passband ripple and 53 dB stopband attenuation\n",
      "- Lower passband edge: 0.90\n",
      "- Lower transition bandwidth: 0.90 Hz (-6 dB cutoff frequency: 0.45 Hz)\n",
      "- Upper passband edge: 40.00 Hz\n",
      "- Upper transition bandwidth: 10.00 Hz (-6 dB cutoff frequency: 45.00 Hz)\n",
      "- Filter length: 1835 samples (3.670 s)\n",
      "\n"
     ]
    },
    {
     "name": "stderr",
     "output_type": "stream",
     "text": [
      "[Parallel(n_jobs=1)]: Using backend SequentialBackend with 1 concurrent workers.\n",
      "[Parallel(n_jobs=1)]: Done   1 out of   1 | elapsed:    0.1s remaining:    0.0s\n",
      "[Parallel(n_jobs=1)]: Done   2 out of   2 | elapsed:    0.1s remaining:    0.0s\n",
      "[Parallel(n_jobs=1)]: Done   3 out of   3 | elapsed:    0.2s remaining:    0.0s\n",
      "[Parallel(n_jobs=1)]: Done   4 out of   4 | elapsed:    0.2s remaining:    0.0s\n"
     ]
    },
    {
     "name": "stdout",
     "output_type": "stream",
     "text": [
      "Used Annotations descriptions: ['New Segment', 'S  4', 'S  5', 'S  6', 'S  7', 'S  8', 'S 44', 'S 50', 'S 60', 'S 63', 'S 66', 'S 69', 'S 70', 'S 73', 'S 77', 'S 79']\n"
     ]
    },
    {
     "name": "stderr",
     "output_type": "stream",
     "text": [
      "[Parallel(n_jobs=1)]: Done  37 out of  37 | elapsed:    2.0s finished\n"
     ]
    },
    {
     "name": "stdout",
     "output_type": "stream",
     "text": [
      "Extracting EDF parameters from /home/data/HSE_math_exp_2/raw/94_math-edf.edf...\n",
      "EDF file detected\n",
      "Setting channel info structure...\n",
      "Creating raw.info structure...\n",
      "Reading 0 ... 2133999  =      0.000 ...  4267.998 secs...\n",
      "Filtering raw data in 1 contiguous segment\n",
      "Setting up band-pass filter from 0.9 - 40 Hz\n",
      "\n",
      "FIR filter parameters\n",
      "---------------------\n",
      "Designing a one-pass, zero-phase, non-causal bandpass filter:\n",
      "- Windowed time-domain design (firwin) method\n",
      "- Hamming window with 0.0194 passband ripple and 53 dB stopband attenuation\n",
      "- Lower passband edge: 0.90\n",
      "- Lower transition bandwidth: 0.90 Hz (-6 dB cutoff frequency: 0.45 Hz)\n",
      "- Upper passband edge: 40.00 Hz\n",
      "- Upper transition bandwidth: 10.00 Hz (-6 dB cutoff frequency: 45.00 Hz)\n",
      "- Filter length: 1835 samples (3.670 s)\n",
      "\n"
     ]
    },
    {
     "name": "stderr",
     "output_type": "stream",
     "text": [
      "[Parallel(n_jobs=1)]: Using backend SequentialBackend with 1 concurrent workers.\n",
      "[Parallel(n_jobs=1)]: Done   1 out of   1 | elapsed:    0.1s remaining:    0.0s\n",
      "[Parallel(n_jobs=1)]: Done   2 out of   2 | elapsed:    0.1s remaining:    0.0s\n",
      "[Parallel(n_jobs=1)]: Done   3 out of   3 | elapsed:    0.2s remaining:    0.0s\n",
      "[Parallel(n_jobs=1)]: Done   4 out of   4 | elapsed:    0.2s remaining:    0.0s\n"
     ]
    },
    {
     "name": "stdout",
     "output_type": "stream",
     "text": [
      "Used Annotations descriptions: ['New Segment', 'S  4', 'S  5', 'S  6', 'S  7', 'S  8', 'S 44', 'S 50', 'S 60', 'S 63', 'S 66', 'S 69', 'S 70', 'S 73', 'S 77', 'S 79']\n"
     ]
    },
    {
     "name": "stderr",
     "output_type": "stream",
     "text": [
      "[Parallel(n_jobs=1)]: Done  37 out of  37 | elapsed:    1.9s finished\n"
     ]
    },
    {
     "name": "stdout",
     "output_type": "stream",
     "text": [
      "Extracting EDF parameters from /home/data/HSE_math_exp_2/raw/95_math-edf.edf...\n",
      "EDF file detected\n",
      "Setting channel info structure...\n",
      "Creating raw.info structure...\n",
      "Reading 0 ... 2143499  =      0.000 ...  4286.998 secs...\n",
      "Filtering raw data in 1 contiguous segment\n",
      "Setting up band-pass filter from 0.9 - 40 Hz\n",
      "\n",
      "FIR filter parameters\n",
      "---------------------\n",
      "Designing a one-pass, zero-phase, non-causal bandpass filter:\n",
      "- Windowed time-domain design (firwin) method\n",
      "- Hamming window with 0.0194 passband ripple and 53 dB stopband attenuation\n",
      "- Lower passband edge: 0.90\n",
      "- Lower transition bandwidth: 0.90 Hz (-6 dB cutoff frequency: 0.45 Hz)\n",
      "- Upper passband edge: 40.00 Hz\n",
      "- Upper transition bandwidth: 10.00 Hz (-6 dB cutoff frequency: 45.00 Hz)\n",
      "- Filter length: 1835 samples (3.670 s)\n",
      "\n"
     ]
    },
    {
     "name": "stderr",
     "output_type": "stream",
     "text": [
      "[Parallel(n_jobs=1)]: Using backend SequentialBackend with 1 concurrent workers.\n",
      "[Parallel(n_jobs=1)]: Done   1 out of   1 | elapsed:    0.1s remaining:    0.0s\n",
      "[Parallel(n_jobs=1)]: Done   2 out of   2 | elapsed:    0.1s remaining:    0.0s\n",
      "[Parallel(n_jobs=1)]: Done   3 out of   3 | elapsed:    0.2s remaining:    0.0s\n",
      "[Parallel(n_jobs=1)]: Done   4 out of   4 | elapsed:    0.2s remaining:    0.0s\n"
     ]
    },
    {
     "name": "stdout",
     "output_type": "stream",
     "text": [
      "Used Annotations descriptions: ['New Segment', 'S  4', 'S  5', 'S  6', 'S  7', 'S  8', 'S 44', 'S 50', 'S 60', 'S 63', 'S 66', 'S 69', 'S 70', 'S 73', 'S 77', 'S 79']\n"
     ]
    },
    {
     "name": "stderr",
     "output_type": "stream",
     "text": [
      "[Parallel(n_jobs=1)]: Done  37 out of  37 | elapsed:    1.9s finished\n"
     ]
    },
    {
     "name": "stdout",
     "output_type": "stream",
     "text": [
      "Extracting EDF parameters from /home/data/HSE_math_exp_2/raw/96_math-edf.edf...\n",
      "EDF file detected\n",
      "Setting channel info structure...\n",
      "Creating raw.info structure...\n",
      "Reading 0 ... 2308999  =      0.000 ...  4617.998 secs...\n",
      "Filtering raw data in 1 contiguous segment\n",
      "Setting up band-pass filter from 0.9 - 40 Hz\n",
      "\n",
      "FIR filter parameters\n",
      "---------------------\n",
      "Designing a one-pass, zero-phase, non-causal bandpass filter:\n",
      "- Windowed time-domain design (firwin) method\n",
      "- Hamming window with 0.0194 passband ripple and 53 dB stopband attenuation\n",
      "- Lower passband edge: 0.90\n",
      "- Lower transition bandwidth: 0.90 Hz (-6 dB cutoff frequency: 0.45 Hz)\n",
      "- Upper passband edge: 40.00 Hz\n",
      "- Upper transition bandwidth: 10.00 Hz (-6 dB cutoff frequency: 45.00 Hz)\n",
      "- Filter length: 1835 samples (3.670 s)\n",
      "\n"
     ]
    },
    {
     "name": "stderr",
     "output_type": "stream",
     "text": [
      "[Parallel(n_jobs=1)]: Using backend SequentialBackend with 1 concurrent workers.\n",
      "[Parallel(n_jobs=1)]: Done   1 out of   1 | elapsed:    0.1s remaining:    0.0s\n",
      "[Parallel(n_jobs=1)]: Done   2 out of   2 | elapsed:    0.1s remaining:    0.0s\n",
      "[Parallel(n_jobs=1)]: Done   3 out of   3 | elapsed:    0.2s remaining:    0.0s\n",
      "[Parallel(n_jobs=1)]: Done   4 out of   4 | elapsed:    0.2s remaining:    0.0s\n"
     ]
    },
    {
     "name": "stdout",
     "output_type": "stream",
     "text": [
      "Used Annotations descriptions: ['New Segment', 'S  4', 'S  5', 'S  6', 'S  7', 'S  8', 'S 44', 'S 50', 'S 60', 'S 63', 'S 66', 'S 69', 'S 70', 'S 73', 'S 77', 'S 79']\n"
     ]
    },
    {
     "name": "stderr",
     "output_type": "stream",
     "text": [
      "[Parallel(n_jobs=1)]: Done  37 out of  37 | elapsed:    2.1s finished\n"
     ]
    },
    {
     "name": "stdout",
     "output_type": "stream",
     "text": [
      "Extracting EDF parameters from /home/data/HSE_math_exp_2/raw/97_math-edf.edf...\n",
      "EDF file detected\n",
      "Setting channel info structure...\n",
      "Creating raw.info structure...\n",
      "Reading 0 ... 2162499  =      0.000 ...  4324.998 secs...\n",
      "Filtering raw data in 1 contiguous segment\n",
      "Setting up band-pass filter from 0.9 - 40 Hz\n",
      "\n",
      "FIR filter parameters\n",
      "---------------------\n",
      "Designing a one-pass, zero-phase, non-causal bandpass filter:\n",
      "- Windowed time-domain design (firwin) method\n",
      "- Hamming window with 0.0194 passband ripple and 53 dB stopband attenuation\n",
      "- Lower passband edge: 0.90\n",
      "- Lower transition bandwidth: 0.90 Hz (-6 dB cutoff frequency: 0.45 Hz)\n",
      "- Upper passband edge: 40.00 Hz\n",
      "- Upper transition bandwidth: 10.00 Hz (-6 dB cutoff frequency: 45.00 Hz)\n",
      "- Filter length: 1835 samples (3.670 s)\n",
      "\n"
     ]
    },
    {
     "name": "stderr",
     "output_type": "stream",
     "text": [
      "[Parallel(n_jobs=1)]: Using backend SequentialBackend with 1 concurrent workers.\n",
      "[Parallel(n_jobs=1)]: Done   1 out of   1 | elapsed:    0.1s remaining:    0.0s\n",
      "[Parallel(n_jobs=1)]: Done   2 out of   2 | elapsed:    0.1s remaining:    0.0s\n",
      "[Parallel(n_jobs=1)]: Done   3 out of   3 | elapsed:    0.2s remaining:    0.0s\n",
      "[Parallel(n_jobs=1)]: Done   4 out of   4 | elapsed:    0.2s remaining:    0.0s\n"
     ]
    },
    {
     "name": "stdout",
     "output_type": "stream",
     "text": [
      "Used Annotations descriptions: ['New Segment', 'S  4', 'S  5', 'S  6', 'S  7', 'S  8', 'S 44', 'S 50', 'S 60', 'S 63', 'S 66', 'S 69', 'S 70', 'S 73', 'S 77', 'S 79']\n"
     ]
    },
    {
     "name": "stderr",
     "output_type": "stream",
     "text": [
      "[Parallel(n_jobs=1)]: Done  37 out of  37 | elapsed:    1.9s finished\n"
     ]
    },
    {
     "name": "stdout",
     "output_type": "stream",
     "text": [
      "Extracting EDF parameters from /home/data/HSE_math_exp_2/raw/98_math-edf.edf...\n",
      "EDF file detected\n",
      "Setting channel info structure...\n",
      "Creating raw.info structure...\n",
      "Reading 0 ... 2148999  =      0.000 ...  4297.998 secs...\n",
      "Filtering raw data in 1 contiguous segment\n",
      "Setting up band-pass filter from 0.9 - 40 Hz\n",
      "\n",
      "FIR filter parameters\n",
      "---------------------\n",
      "Designing a one-pass, zero-phase, non-causal bandpass filter:\n",
      "- Windowed time-domain design (firwin) method\n",
      "- Hamming window with 0.0194 passband ripple and 53 dB stopband attenuation\n",
      "- Lower passband edge: 0.90\n",
      "- Lower transition bandwidth: 0.90 Hz (-6 dB cutoff frequency: 0.45 Hz)\n",
      "- Upper passband edge: 40.00 Hz\n",
      "- Upper transition bandwidth: 10.00 Hz (-6 dB cutoff frequency: 45.00 Hz)\n",
      "- Filter length: 1835 samples (3.670 s)\n",
      "\n"
     ]
    },
    {
     "name": "stderr",
     "output_type": "stream",
     "text": [
      "[Parallel(n_jobs=1)]: Using backend SequentialBackend with 1 concurrent workers.\n",
      "[Parallel(n_jobs=1)]: Done   1 out of   1 | elapsed:    0.1s remaining:    0.0s\n",
      "[Parallel(n_jobs=1)]: Done   2 out of   2 | elapsed:    0.1s remaining:    0.0s\n",
      "[Parallel(n_jobs=1)]: Done   3 out of   3 | elapsed:    0.2s remaining:    0.0s\n",
      "[Parallel(n_jobs=1)]: Done   4 out of   4 | elapsed:    0.2s remaining:    0.0s\n"
     ]
    },
    {
     "name": "stdout",
     "output_type": "stream",
     "text": [
      "Used Annotations descriptions: ['New Segment', 'S  4', 'S  5', 'S  6', 'S  7', 'S  8', 'S 44', 'S 50', 'S 60', 'S 63', 'S 66', 'S 69', 'S 70', 'S 73', 'S 77', 'S 79']\n"
     ]
    },
    {
     "name": "stderr",
     "output_type": "stream",
     "text": [
      "[Parallel(n_jobs=1)]: Done  37 out of  37 | elapsed:    1.9s finished\n"
     ]
    },
    {
     "name": "stdout",
     "output_type": "stream",
     "text": [
      "Extracting EDF parameters from /home/data/HSE_math_exp_2/raw/99_math-edf.edf...\n",
      "EDF file detected\n",
      "Setting channel info structure...\n",
      "Creating raw.info structure...\n",
      "Reading 0 ... 2149499  =      0.000 ...  4298.998 secs...\n",
      "Filtering raw data in 1 contiguous segment\n",
      "Setting up band-pass filter from 0.9 - 40 Hz\n",
      "\n",
      "FIR filter parameters\n",
      "---------------------\n",
      "Designing a one-pass, zero-phase, non-causal bandpass filter:\n",
      "- Windowed time-domain design (firwin) method\n",
      "- Hamming window with 0.0194 passband ripple and 53 dB stopband attenuation\n",
      "- Lower passband edge: 0.90\n",
      "- Lower transition bandwidth: 0.90 Hz (-6 dB cutoff frequency: 0.45 Hz)\n",
      "- Upper passband edge: 40.00 Hz\n",
      "- Upper transition bandwidth: 10.00 Hz (-6 dB cutoff frequency: 45.00 Hz)\n",
      "- Filter length: 1835 samples (3.670 s)\n",
      "\n"
     ]
    },
    {
     "name": "stderr",
     "output_type": "stream",
     "text": [
      "[Parallel(n_jobs=1)]: Using backend SequentialBackend with 1 concurrent workers.\n",
      "[Parallel(n_jobs=1)]: Done   1 out of   1 | elapsed:    0.1s remaining:    0.0s\n",
      "[Parallel(n_jobs=1)]: Done   2 out of   2 | elapsed:    0.1s remaining:    0.0s\n",
      "[Parallel(n_jobs=1)]: Done   3 out of   3 | elapsed:    0.2s remaining:    0.0s\n",
      "[Parallel(n_jobs=1)]: Done   4 out of   4 | elapsed:    0.2s remaining:    0.0s\n"
     ]
    },
    {
     "name": "stdout",
     "output_type": "stream",
     "text": [
      "Used Annotations descriptions: ['New Segment', 'S  4', 'S  5', 'S  6', 'S  7', 'S  8', 'S 44', 'S 50', 'S 60', 'S 63', 'S 66', 'S 69', 'S 70', 'S 73', 'S 77', 'S 79']\n"
     ]
    },
    {
     "name": "stderr",
     "output_type": "stream",
     "text": [
      "[Parallel(n_jobs=1)]: Done  37 out of  37 | elapsed:    1.9s finished\n"
     ]
    },
    {
     "name": "stdout",
     "output_type": "stream",
     "text": [
      "Extracting EDF parameters from /home/data/HSE_math_exp_2/raw/100_math-edf.edf...\n",
      "EDF file detected\n",
      "Setting channel info structure...\n",
      "Creating raw.info structure...\n",
      "Reading 0 ... 2184499  =      0.000 ...  4368.998 secs...\n",
      "Filtering raw data in 1 contiguous segment\n",
      "Setting up band-pass filter from 0.9 - 40 Hz\n",
      "\n",
      "FIR filter parameters\n",
      "---------------------\n",
      "Designing a one-pass, zero-phase, non-causal bandpass filter:\n",
      "- Windowed time-domain design (firwin) method\n",
      "- Hamming window with 0.0194 passband ripple and 53 dB stopband attenuation\n",
      "- Lower passband edge: 0.90\n",
      "- Lower transition bandwidth: 0.90 Hz (-6 dB cutoff frequency: 0.45 Hz)\n",
      "- Upper passband edge: 40.00 Hz\n",
      "- Upper transition bandwidth: 10.00 Hz (-6 dB cutoff frequency: 45.00 Hz)\n",
      "- Filter length: 1835 samples (3.670 s)\n",
      "\n"
     ]
    },
    {
     "name": "stderr",
     "output_type": "stream",
     "text": [
      "[Parallel(n_jobs=1)]: Using backend SequentialBackend with 1 concurrent workers.\n",
      "[Parallel(n_jobs=1)]: Done   1 out of   1 | elapsed:    0.1s remaining:    0.0s\n",
      "[Parallel(n_jobs=1)]: Done   2 out of   2 | elapsed:    0.1s remaining:    0.0s\n",
      "[Parallel(n_jobs=1)]: Done   3 out of   3 | elapsed:    0.2s remaining:    0.0s\n",
      "[Parallel(n_jobs=1)]: Done   4 out of   4 | elapsed:    0.2s remaining:    0.0s\n"
     ]
    },
    {
     "name": "stdout",
     "output_type": "stream",
     "text": [
      "Used Annotations descriptions: ['New Segment', 'S  4', 'S  5', 'S  6', 'S  7', 'S  8', 'S 44', 'S 50', 'S 60', 'S 63', 'S 66', 'S 69', 'S 70', 'S 73', 'S 77', 'S 79']\n"
     ]
    },
    {
     "name": "stderr",
     "output_type": "stream",
     "text": [
      "[Parallel(n_jobs=1)]: Done  37 out of  37 | elapsed:    2.0s finished\n"
     ]
    },
    {
     "name": "stdout",
     "output_type": "stream",
     "text": [
      "Extracting EDF parameters from /home/data/HSE_math_exp_2/raw/101_math-edf.edf...\n",
      "EDF file detected\n",
      "Setting channel info structure...\n",
      "Creating raw.info structure...\n",
      "Reading 0 ... 2185999  =      0.000 ...  4371.998 secs...\n",
      "Filtering raw data in 1 contiguous segment\n",
      "Setting up band-pass filter from 0.9 - 40 Hz\n",
      "\n",
      "FIR filter parameters\n",
      "---------------------\n",
      "Designing a one-pass, zero-phase, non-causal bandpass filter:\n",
      "- Windowed time-domain design (firwin) method\n",
      "- Hamming window with 0.0194 passband ripple and 53 dB stopband attenuation\n",
      "- Lower passband edge: 0.90\n",
      "- Lower transition bandwidth: 0.90 Hz (-6 dB cutoff frequency: 0.45 Hz)\n",
      "- Upper passband edge: 40.00 Hz\n",
      "- Upper transition bandwidth: 10.00 Hz (-6 dB cutoff frequency: 45.00 Hz)\n",
      "- Filter length: 1835 samples (3.670 s)\n",
      "\n"
     ]
    },
    {
     "name": "stderr",
     "output_type": "stream",
     "text": [
      "[Parallel(n_jobs=1)]: Using backend SequentialBackend with 1 concurrent workers.\n",
      "[Parallel(n_jobs=1)]: Done   1 out of   1 | elapsed:    0.1s remaining:    0.0s\n",
      "[Parallel(n_jobs=1)]: Done   2 out of   2 | elapsed:    0.1s remaining:    0.0s\n",
      "[Parallel(n_jobs=1)]: Done   3 out of   3 | elapsed:    0.2s remaining:    0.0s\n",
      "[Parallel(n_jobs=1)]: Done   4 out of   4 | elapsed:    0.2s remaining:    0.0s\n"
     ]
    },
    {
     "name": "stdout",
     "output_type": "stream",
     "text": [
      "Used Annotations descriptions: ['New Segment', 'S  4', 'S  5', 'S  6', 'S  7', 'S  8', 'S 44', 'S 50', 'S 60', 'S 63', 'S 66', 'S 69', 'S 70', 'S 73', 'S 77', 'S 79']\n"
     ]
    },
    {
     "name": "stderr",
     "output_type": "stream",
     "text": [
      "[Parallel(n_jobs=1)]: Done  37 out of  37 | elapsed:    1.9s finished\n"
     ]
    },
    {
     "name": "stdout",
     "output_type": "stream",
     "text": [
      "Extracting EDF parameters from /home/data/HSE_math_exp_2/raw/102_math-edf.edf...\n",
      "EDF file detected\n",
      "Setting channel info structure...\n",
      "Creating raw.info structure...\n",
      "Reading 0 ... 2181499  =      0.000 ...  4362.998 secs...\n",
      "Filtering raw data in 1 contiguous segment\n",
      "Setting up band-pass filter from 0.9 - 40 Hz\n",
      "\n",
      "FIR filter parameters\n",
      "---------------------\n",
      "Designing a one-pass, zero-phase, non-causal bandpass filter:\n",
      "- Windowed time-domain design (firwin) method\n",
      "- Hamming window with 0.0194 passband ripple and 53 dB stopband attenuation\n",
      "- Lower passband edge: 0.90\n",
      "- Lower transition bandwidth: 0.90 Hz (-6 dB cutoff frequency: 0.45 Hz)\n",
      "- Upper passband edge: 40.00 Hz\n",
      "- Upper transition bandwidth: 10.00 Hz (-6 dB cutoff frequency: 45.00 Hz)\n",
      "- Filter length: 1835 samples (3.670 s)\n",
      "\n"
     ]
    },
    {
     "name": "stderr",
     "output_type": "stream",
     "text": [
      "[Parallel(n_jobs=1)]: Using backend SequentialBackend with 1 concurrent workers.\n",
      "[Parallel(n_jobs=1)]: Done   1 out of   1 | elapsed:    0.1s remaining:    0.0s\n",
      "[Parallel(n_jobs=1)]: Done   2 out of   2 | elapsed:    0.1s remaining:    0.0s\n",
      "[Parallel(n_jobs=1)]: Done   3 out of   3 | elapsed:    0.2s remaining:    0.0s\n",
      "[Parallel(n_jobs=1)]: Done   4 out of   4 | elapsed:    0.2s remaining:    0.0s\n"
     ]
    },
    {
     "name": "stdout",
     "output_type": "stream",
     "text": [
      "Used Annotations descriptions: ['New Segment', 'S  4', 'S  5', 'S  6', 'S  7', 'S  8', 'S 44', 'S 50', 'S 60', 'S 63', 'S 66', 'S 69', 'S 70', 'S 73', 'S 77', 'S 79']\n"
     ]
    },
    {
     "name": "stderr",
     "output_type": "stream",
     "text": [
      "[Parallel(n_jobs=1)]: Done  37 out of  37 | elapsed:    2.0s finished\n"
     ]
    },
    {
     "name": "stdout",
     "output_type": "stream",
     "text": [
      "Extracting EDF parameters from /home/data/HSE_math_exp_2/raw/103_math-edf.edf...\n",
      "EDF file detected\n",
      "Setting channel info structure...\n",
      "Creating raw.info structure...\n",
      "Reading 0 ... 2128499  =      0.000 ...  4256.998 secs...\n",
      "Filtering raw data in 1 contiguous segment\n",
      "Setting up band-pass filter from 0.9 - 40 Hz\n",
      "\n",
      "FIR filter parameters\n",
      "---------------------\n",
      "Designing a one-pass, zero-phase, non-causal bandpass filter:\n",
      "- Windowed time-domain design (firwin) method\n",
      "- Hamming window with 0.0194 passband ripple and 53 dB stopband attenuation\n",
      "- Lower passband edge: 0.90\n",
      "- Lower transition bandwidth: 0.90 Hz (-6 dB cutoff frequency: 0.45 Hz)\n",
      "- Upper passband edge: 40.00 Hz\n",
      "- Upper transition bandwidth: 10.00 Hz (-6 dB cutoff frequency: 45.00 Hz)\n",
      "- Filter length: 1835 samples (3.670 s)\n",
      "\n"
     ]
    },
    {
     "name": "stderr",
     "output_type": "stream",
     "text": [
      "[Parallel(n_jobs=1)]: Using backend SequentialBackend with 1 concurrent workers.\n",
      "[Parallel(n_jobs=1)]: Done   1 out of   1 | elapsed:    0.1s remaining:    0.0s\n",
      "[Parallel(n_jobs=1)]: Done   2 out of   2 | elapsed:    0.1s remaining:    0.0s\n",
      "[Parallel(n_jobs=1)]: Done   3 out of   3 | elapsed:    0.2s remaining:    0.0s\n",
      "[Parallel(n_jobs=1)]: Done   4 out of   4 | elapsed:    0.2s remaining:    0.0s\n"
     ]
    },
    {
     "name": "stdout",
     "output_type": "stream",
     "text": [
      "Used Annotations descriptions: ['New Segment', 'S  4', 'S  5', 'S  6', 'S  7', 'S  8', 'S 44', 'S 50', 'S 60', 'S 63', 'S 66', 'S 69', 'S 70', 'S 73', 'S 77', 'S 79']\n"
     ]
    },
    {
     "name": "stderr",
     "output_type": "stream",
     "text": [
      "[Parallel(n_jobs=1)]: Done  37 out of  37 | elapsed:    1.9s finished\n"
     ]
    },
    {
     "name": "stdout",
     "output_type": "stream",
     "text": [
      "Extracting EDF parameters from /home/data/HSE_math_exp_2/raw/104_math-edf.edf...\n",
      "EDF file detected\n",
      "Setting channel info structure...\n",
      "Creating raw.info structure...\n",
      "Reading 0 ... 2203499  =      0.000 ...  4406.998 secs...\n",
      "Filtering raw data in 1 contiguous segment\n",
      "Setting up band-pass filter from 0.9 - 40 Hz\n",
      "\n",
      "FIR filter parameters\n",
      "---------------------\n",
      "Designing a one-pass, zero-phase, non-causal bandpass filter:\n",
      "- Windowed time-domain design (firwin) method\n",
      "- Hamming window with 0.0194 passband ripple and 53 dB stopband attenuation\n",
      "- Lower passband edge: 0.90\n",
      "- Lower transition bandwidth: 0.90 Hz (-6 dB cutoff frequency: 0.45 Hz)\n",
      "- Upper passband edge: 40.00 Hz\n",
      "- Upper transition bandwidth: 10.00 Hz (-6 dB cutoff frequency: 45.00 Hz)\n",
      "- Filter length: 1835 samples (3.670 s)\n",
      "\n"
     ]
    },
    {
     "name": "stderr",
     "output_type": "stream",
     "text": [
      "[Parallel(n_jobs=1)]: Using backend SequentialBackend with 1 concurrent workers.\n",
      "[Parallel(n_jobs=1)]: Done   1 out of   1 | elapsed:    0.1s remaining:    0.0s\n",
      "[Parallel(n_jobs=1)]: Done   2 out of   2 | elapsed:    0.1s remaining:    0.0s\n",
      "[Parallel(n_jobs=1)]: Done   3 out of   3 | elapsed:    0.2s remaining:    0.0s\n",
      "[Parallel(n_jobs=1)]: Done   4 out of   4 | elapsed:    0.2s remaining:    0.0s\n"
     ]
    },
    {
     "name": "stdout",
     "output_type": "stream",
     "text": [
      "Used Annotations descriptions: ['New Segment', 'S  4', 'S  5', 'S  6', 'S  7', 'S  8', 'S 44', 'S 50', 'S 60', 'S 63', 'S 66', 'S 69', 'S 70', 'S 73', 'S 77', 'S 79']\n"
     ]
    },
    {
     "name": "stderr",
     "output_type": "stream",
     "text": [
      "[Parallel(n_jobs=1)]: Done  37 out of  37 | elapsed:    2.0s finished\n"
     ]
    }
   ],
   "source": [
    "signal_data = []\n",
    "\n",
    "for user in users:\n",
    "    try:\n",
    "        data_test = mne.io.read_raw_edf('/home/data/HSE_math_exp_2/raw/{}_math-edf.edf'.format(user), preload=True)\n",
    "        data_test = data_test.filter(0.9, 40)\n",
    "        annotations = mne.events_from_annotations(data_test)\n",
    "        remap = {v: k for k, v in annotations[1].items()}\n",
    "        annotations_remaped = []\n",
    "        for i in annotations[0]:\n",
    "            annotations_remaped.append((i[0], i[1], remap.get(i[2])))\n",
    "\n",
    "        annotations_remaped = [i for i in annotations_remaped if i[2] in ['S  7', 'S 70', 'S  6', 'S 60', 'S  5', 'S 50']]\n",
    "        data_eeg = data_test.to_data_frame()[channels]\n",
    "        ch_names = data_eeg.columns\n",
    "        if user in channels_to_interpolate:\n",
    "            for ch_name in ch_names:\n",
    "                if ch_name in channels_to_interpolate[user]:\n",
    "                    print(ch_name)\n",
    "                    ch_for_interpol = [i for i in channels_groups[ch_name] if i not in channels_to_interpolate[user]]\n",
    "\n",
    "                    if len(ch_for_interpol) == 0:\n",
    "                        print('W')\n",
    "                        ch_for_interpol = [i for i in channels_groups if i not in channels_to_interpolate[user]]\n",
    "\n",
    "                    chs_vals = data_eeg[ch_for_interpol].values.mean(-1)\n",
    "\n",
    "                    data_eeg[ch_name] = chs_vals\n",
    "\n",
    "        data_sliced = []\n",
    "        for i, _ in enumerate(annotations_remaped):\n",
    "            if annotations_remaped[i][2] == 'S 50':\n",
    "                start = annotations_remaped[i-1][0]\n",
    "                end = annotations_remaped[i][0]\n",
    "                label = 0\n",
    "                dur = (end - start) / 1000\n",
    "                data_sliced.append((start, end, label, dur))\n",
    "\n",
    "            if annotations_remaped[i][2] == 'S 60':\n",
    "                start = annotations_remaped[i-1][0]\n",
    "                end = annotations_remaped[i][0]\n",
    "                label = 1\n",
    "                dur = (end - start) / 1000\n",
    "                data_sliced.append((start, end, label, dur))\n",
    "\n",
    "            if annotations_remaped[i][2] == 'S 70':\n",
    "                start = annotations_remaped[i-1][0]\n",
    "                end = annotations_remaped[i][0]\n",
    "                label = 2\n",
    "                dur = (end - start) / 1000\n",
    "                data_sliced.append((start, end, label, dur))\n",
    "\n",
    "            # if annotations_remaped[i][2] == 'S 44':\n",
    "            #     start = annotations_remaped[i-1][0]\n",
    "            #     end = annotations_remaped[i][0]\n",
    "            #     label = -1\n",
    "            #     dur = (end - start) / 1000\n",
    "            #     data_sliced.append((start, end, label, dur))\n",
    "\n",
    "        data_sliced_window = []\n",
    "        for s in data_sliced:\n",
    "            if s[2] == 0:\n",
    "                counter = 0\n",
    "                for i in range(1500, int(s[3] * 1000), 1500):\n",
    "                    data_sliced_window.append((s[0] + i - 1500, s[0] + i, s[2], 1.5))\n",
    "                    counter += 1\n",
    "                    # if counter > 50:\n",
    "                    #     break\n",
    "\n",
    "            else:\n",
    "                counter = 0\n",
    "                for i in range(1500, int(s[3] * 1000), 1500):\n",
    "                    data_sliced_window.append((s[0] + i - 1500, s[0] + i, s[2], 1.5))\n",
    "                    counter += 1\n",
    "                    # for i in range(3000, int(s[3] * 1000), 1000):\n",
    "    #                 i = 1500 # fix to only one fragment from each sample\n",
    "    #                 data_sliced_window.append((s[0] + i - 1500, s[0] + i, s[2], 1.5))\n",
    "\n",
    "\n",
    "        for j, (start, end, label, dur) in enumerate(data_sliced_window):\n",
    "            signal_data.append({\n",
    "                'data': data_eeg.iloc[start:end].values,\n",
    "                'label': label,\n",
    "                'data_names': data_eeg.columns,\n",
    "                'user': user,\n",
    "                'seq_id': j\n",
    "            })\n",
    "    except:\n",
    "        raise"
   ]
  },
  {
   "cell_type": "code",
   "execution_count": 16,
   "id": "5b42f14f-f74c-41ac-a0c2-4e3435ddf7a5",
   "metadata": {},
   "outputs": [
    {
     "data": {
      "text/plain": [
       "104"
      ]
     },
     "execution_count": 16,
     "metadata": {},
     "output_type": "execute_result"
    }
   ],
   "source": [
    "user"
   ]
  },
  {
   "cell_type": "code",
   "execution_count": 17,
   "id": "57034f0b-cac0-4f09-b408-772088985db3",
   "metadata": {},
   "outputs": [
    {
     "data": {
      "text/plain": [
       "89563"
      ]
     },
     "execution_count": 17,
     "metadata": {},
     "output_type": "execute_result"
    }
   ],
   "source": [
    "len(signal_data)"
   ]
  },
  {
   "cell_type": "code",
   "execution_count": 18,
   "id": "75023d9f-cead-4aa5-b231-3efb463317f5",
   "metadata": {},
   "outputs": [
    {
     "data": {
      "text/plain": [
       "1126"
      ]
     },
     "execution_count": 18,
     "metadata": {},
     "output_type": "execute_result"
    }
   ],
   "source": [
    "len([i for i in signal_data if i['user'] == 23])"
   ]
  },
  {
   "cell_type": "code",
   "execution_count": 19,
   "id": "c81f7985-74c1-4ee5-9f89-c81e90414b5c",
   "metadata": {
    "scrolled": true,
    "tags": []
   },
   "outputs": [
    {
     "data": {
      "text/plain": [
       "[{'data': array([[ 45.46062804,  41.29250618,  26.08463208, ...,  23.0980014 ,\n",
       "           19.51918328,  23.65399856],\n",
       "         [ 54.34388565,  48.39412519,  29.92511675, ...,  24.98553584,\n",
       "           19.46156251,  24.99460616],\n",
       "         [ 64.04373965,  56.57542362,  34.72641646, ...,  27.18678447,\n",
       "           20.39335659,  26.8197511 ],\n",
       "         ...,\n",
       "         [-62.87811417, -61.888331  , -23.95848737, ...,  -6.39115395,\n",
       "           -9.43721376,  -4.81246541],\n",
       "         [-62.82275947, -62.75187442, -25.3389503 , ...,  -8.37036553,\n",
       "           -9.658329  ,  -5.30323422],\n",
       "         [-62.63288673, -63.65175425, -26.28869278, ..., -10.14261874,\n",
       "           -9.63153987,  -5.61342532]]),\n",
       "  'label': 0,\n",
       "  'data_names': Index(['Fp1', 'FP2', 'F7', 'F3', 'Fz', 'F4', 'F8', 'C3', 'Cz', 'C4', 'P3',\n",
       "         'Pz', 'P4', 'O1', 'O2'],\n",
       "        dtype='object'),\n",
       "  'user': 26,\n",
       "  'seq_id': 1084},\n",
       " {'data': array([[-62.46630002, -64.39399223, -26.58835358, ..., -11.38867243,\n",
       "           -9.26315632,  -5.61012243],\n",
       "         [-62.45843321, -64.79327911, -26.15956974, ..., -11.90277518,\n",
       "           -8.55116293,  -5.23071307],\n",
       "         [-62.68568302, -64.71084433, -25.0956953 , ..., -11.63799582,\n",
       "           -7.6106924 ,  -4.51559685],\n",
       "         ...,\n",
       "         [-97.15539904, -65.0827123 , -48.21960179, ..., -17.34553057,\n",
       "          -14.58860351,  -6.19143797],\n",
       "         [-93.16941118, -60.85701284, -46.95764954, ..., -17.44027823,\n",
       "          -14.15708161,  -6.01753305],\n",
       "         [-88.9905355 , -56.25751767, -45.55452809, ..., -17.38868999,\n",
       "          -13.24710315,  -5.74216041]]),\n",
       "  'label': 0,\n",
       "  'data_names': Index(['Fp1', 'FP2', 'F7', 'F3', 'Fz', 'F4', 'F8', 'C3', 'Cz', 'C4', 'P3',\n",
       "         'Pz', 'P4', 'O1', 'O2'],\n",
       "        dtype='object'),\n",
       "  'user': 26,\n",
       "  'seq_id': 1085},\n",
       " {'data': array([[-84.52166174, -51.30020452, -43.83219481, ..., -16.96600574,\n",
       "          -11.80036263,  -5.22859274],\n",
       "         [-79.66727021, -46.03396641, -41.6333231 , ..., -15.97725288,\n",
       "           -9.8246359 ,  -4.35003525],\n",
       "         [-74.37322389, -40.53923586, -38.87558582, ..., -14.31808841,\n",
       "           -7.42663529,  -3.04787438],\n",
       "         ...,\n",
       "         [ 32.20075732,  13.95700773,  20.53593398, ...,  -1.34774028,\n",
       "           -3.38740368,  -3.98559483],\n",
       "         [ 34.29261343,  12.94870469,  20.83453003, ...,  -1.57794499,\n",
       "           -2.7815378 ,  -4.25515649],\n",
       "         [ 34.98458278,  12.5443801 ,  20.46218296, ...,  -1.61220034,\n",
       "           -1.66417795,  -4.47666252]]),\n",
       "  'label': 0,\n",
       "  'data_names': Index(['Fp1', 'FP2', 'F7', 'F3', 'Fz', 'F4', 'F8', 'C3', 'Cz', 'C4', 'P3',\n",
       "         'Pz', 'P4', 'O1', 'O2'],\n",
       "        dtype='object'),\n",
       "  'user': 26,\n",
       "  'seq_id': 1086},\n",
       " {'data': array([[ 34.17912316,  12.92330703,  19.3943509 , ...,  -1.38489189,\n",
       "           -0.19127986,  -4.59158822],\n",
       "         [ 32.09816654,  14.11838288,  17.73769754, ...,  -0.91485921,\n",
       "            1.41600901,  -4.5822839 ],\n",
       "         [ 29.20839592,  16.00326008,  15.71437849, ...,  -0.29524665,\n",
       "            2.91709001,  -4.47097974],\n",
       "         ...,\n",
       "         [-11.82623069, -10.71382358,   2.62520234, ...,  -6.50065695,\n",
       "           -5.80696017,  -2.09462598],\n",
       "         [-11.1361298 ,  -8.77708332,   3.64349936, ...,  -7.13447536,\n",
       "           -6.15663477,  -2.34248431],\n",
       "         [-10.71188087,  -7.20905715,   4.60726204, ...,  -7.35803865,\n",
       "           -6.33438558,  -2.3962311 ]]),\n",
       "  'label': 0,\n",
       "  'data_names': Index(['Fp1', 'FP2', 'F7', 'F3', 'Fz', 'F4', 'F8', 'C3', 'Cz', 'C4', 'P3',\n",
       "         'Pz', 'P4', 'O1', 'O2'],\n",
       "        dtype='object'),\n",
       "  'user': 26,\n",
       "  'seq_id': 1087},\n",
       " {'data': array([[-10.37607243,  -6.12685935,   5.38885072, ...,  -7.04904505,\n",
       "           -6.20484877,  -2.15663365],\n",
       "         [ -9.93618132,  -5.58128481,   5.86995291, ...,  -6.25638439,\n",
       "           -5.76748392,  -1.64526068],\n",
       "         [ -9.2338789 ,  -5.54508455,   5.97879357, ...,  -5.18438166,\n",
       "           -5.13729183,  -0.98999265],\n",
       "         ...,\n",
       "         [-37.42526536, -29.18499293, -14.06496693, ...,  -3.00719683,\n",
       "          -20.87776295,  -9.0384722 ],\n",
       "         [-40.25566032, -31.2072674 , -16.21669835, ...,  -1.98815445,\n",
       "          -21.57960891,  -8.65700956],\n",
       "         [-43.09450607, -32.88362417, -18.5478478 , ...,  -1.02372587,\n",
       "          -21.98066766,  -8.1580847 ]]),\n",
       "  'label': 0,\n",
       "  'data_names': Index(['Fp1', 'FP2', 'F7', 'F3', 'Fz', 'F4', 'F8', 'C3', 'Cz', 'C4', 'P3',\n",
       "         'Pz', 'P4', 'O1', 'O2'],\n",
       "        dtype='object'),\n",
       "  'user': 26,\n",
       "  'seq_id': 1088}]"
      ]
     },
     "execution_count": 19,
     "metadata": {},
     "output_type": "execute_result"
    }
   ],
   "source": [
    "([i for i in signal_data if i['user'] == 26])[-5:]"
   ]
  },
  {
   "cell_type": "code",
   "execution_count": 20,
   "id": "5d10899f-a224-4f28-8acf-9bbd5800dad5",
   "metadata": {},
   "outputs": [],
   "source": [
    "# np.save('/home/data/HSE_math_exp_2/processing_internal/processed_data.3s.npy', signal_data)"
   ]
  },
  {
   "cell_type": "code",
   "execution_count": 21,
   "id": "a5e343aa-4042-43c2-935a-9a725ab48b40",
   "metadata": {},
   "outputs": [],
   "source": [
    "ppp = []\n",
    "\n",
    "for sample in signal_data:\n",
    "    user_id = sample['user']\n",
    "    # path = '/home/data/HSE_math_exp_2/processing_internal.v2/sliced.limited_ch'.format(user_id)\n",
    "    path_file = '/home/data/HSE_math_exp_2/processing_internal.v2/sliced.limited_ch/x_{}_{}.npy'.format(user_id, sample['seq_id'])\n",
    "\n",
    "    # os.makedirs(path, exist_ok=True)\n",
    "    \n",
    "    np.save(path_file, sample['data'])"
   ]
  },
  {
   "cell_type": "code",
   "execution_count": 22,
   "id": "abd95cb4-52f6-448e-8c27-fd2466140b96",
   "metadata": {},
   "outputs": [],
   "source": [
    "ys = {}\n",
    "\n",
    "for sample in signal_data:\n",
    "    if ys.get(sample['user']) is None:\n",
    "        ys[sample['user']] = []\n",
    "        \n",
    "    ys[sample['user']].append(sample['label'])"
   ]
  },
  {
   "cell_type": "code",
   "execution_count": 23,
   "id": "954836e3-81e9-44f8-8c1b-2bc853e9d51d",
   "metadata": {},
   "outputs": [],
   "source": [
    "for user_id in ys:\n",
    "    path = '/home/data/HSE_math_exp_2/processing_internal.v2/sliced.limited_ch/{}_y.npy'.format(user_id)\n",
    "    np.save(path, ys[user_id])"
   ]
  },
  {
   "cell_type": "code",
   "execution_count": null,
   "id": "a66b4d69-eda6-4cc6-b8de-dc78085c3914",
   "metadata": {},
   "outputs": [],
   "source": []
  },
  {
   "cell_type": "code",
   "execution_count": 56,
   "id": "21274d0e-b4d6-4498-928b-d4cec74f27de",
   "metadata": {},
   "outputs": [],
   "source": [
    "ttt = os.listdir('/home/data/HSE_math_exp_2/processing_internal.v2/sliced.limited_ch')"
   ]
  },
  {
   "cell_type": "code",
   "execution_count": 57,
   "id": "214295bc-e9b1-405f-8dea-c0ef084ec05a",
   "metadata": {},
   "outputs": [
    {
     "data": {
      "text/plain": [
       "89646"
      ]
     },
     "execution_count": 57,
     "metadata": {},
     "output_type": "execute_result"
    }
   ],
   "source": [
    "len(ttt)"
   ]
  },
  {
   "cell_type": "code",
   "execution_count": null,
   "id": "1e152473-7b0e-43c9-90e0-99adff5f0fb3",
   "metadata": {},
   "outputs": [],
   "source": []
  },
  {
   "cell_type": "code",
   "execution_count": null,
   "id": "4951237e-d9d0-4ce9-b69d-ac8d73e0bfcb",
   "metadata": {},
   "outputs": [],
   "source": []
  },
  {
   "cell_type": "code",
   "execution_count": 16,
   "id": "2e9dbf29-f23a-4972-9f57-ecf932820505",
   "metadata": {},
   "outputs": [
    {
     "name": "stdout",
     "output_type": "stream",
     "text": [
      "1  10  11  2  3  4  5  6  7  8\t9  raw.7z\n"
     ]
    }
   ],
   "source": [
    "!ls /home/data/HSE_VALIDATION/1/raw"
   ]
  },
  {
   "cell_type": "code",
   "execution_count": 20,
   "id": "73229c4f-9cd5-47c5-92d1-de933680c66b",
   "metadata": {},
   "outputs": [
    {
     "name": "stdout",
     "output_type": "stream",
     "text": [
      " 116\n",
      " 230703_0155_EEG.csv\n",
      " debug_E046_20230703175400_null.zip\n",
      " debug_R_E046_20230703175400_null.csv\n",
      "'_numbers_pilot_3.2 (1-2-3)_2023-07-03_17h54.46.864.csv'\n",
      "'_numbers_pilot_3.2 (1-2-3)_2023-07-03_17h54.46.864.psydat'\n",
      " Subject_events.csv\n",
      " Subject_output.xlsx\n"
     ]
    }
   ],
   "source": [
    "!ls /home/data/HSE_VALIDATION/1/raw/11/maths/"
   ]
  },
  {
   "cell_type": "code",
   "execution_count": 21,
   "id": "aaad6530-9ee5-4784-a1c4-af9684dd4c19",
   "metadata": {},
   "outputs": [],
   "source": [
    "paths = [\n",
    "    '/home/data/HSE_VALIDATION/1/raw/1/maths/230609_0144_EEG.csv',\n",
    "    '/home/data/HSE_VALIDATION/1/raw/2/maths/230614_0143_EEG.csv',\n",
    "    '/home/data/HSE_VALIDATION/1/raw/3/maths/230615_0145_EEG.csv',\n",
    "    '/home/data/HSE_VALIDATION/1/raw/4/maths/230615_0146_EEG.csv',\n",
    "    '/home/data/HSE_VALIDATION/1/raw/5/maths/230616_0146_EEG.csv',\n",
    "    '/home/data/HSE_VALIDATION/1/raw/6/maths/230620_0147_EEG.csv',\n",
    "    '/home/data/HSE_VALIDATION/1/raw/7/maths/230623_0149_EEG.csv',\n",
    "    '/home/data/HSE_VALIDATION/1/raw/8/maths/230630_0150_EEG.csv',\n",
    "    '/home/data/HSE_VALIDATION/1/raw/9/maths/230701_0152_EEG.csv',\n",
    "    '/home/data/HSE_VALIDATION/1/raw/10/maths/230703_0153_EEG.csv',\n",
    "    '/home/data/HSE_VALIDATION/1/raw/11/maths/230703_0155_EEG.csv',\n",
    "]"
   ]
  },
  {
   "cell_type": "code",
   "execution_count": 22,
   "id": "a8063346-82dc-44e1-a255-67f9c03f186d",
   "metadata": {},
   "outputs": [],
   "source": [
    "signal_data_inner = []"
   ]
  },
  {
   "cell_type": "code",
   "execution_count": 23,
   "id": "b0432758-ed06-4e6c-a869-9319083c1ddf",
   "metadata": {
    "scrolled": true,
    "tags": []
   },
   "outputs": [
    {
     "name": "stderr",
     "output_type": "stream",
     "text": [
      "/tmp/ipykernel_3742159/1502586669.py:33: DtypeWarning: Columns (27) have mixed types. Specify dtype option on import or set low_memory=False.\n",
      "  _data_raw = pd.read_csv(path, sep=';', index_col=False)\n"
     ]
    },
    {
     "name": "stdout",
     "output_type": "stream",
     "text": [
      "Creating RawArray with float64 data, n_channels=23, n_times=378331\n",
      "    Range : 0 ... 378330 =      0.000 ...  1477.852 secs\n",
      "Ready.\n",
      "Filtering raw data in 1 contiguous segment\n",
      "Setting up band-pass filter from 0.9 - 40 Hz\n",
      "\n",
      "FIR filter parameters\n",
      "---------------------\n",
      "Designing a one-pass, zero-phase, non-causal bandpass filter:\n",
      "- Windowed time-domain design (firwin) method\n",
      "- Hamming window with 0.0194 passband ripple and 53 dB stopband attenuation\n",
      "- Lower passband edge: 0.90\n",
      "- Lower transition bandwidth: 0.90 Hz (-6 dB cutoff frequency: 0.45 Hz)\n",
      "- Upper passband edge: 40.00 Hz\n",
      "- Upper transition bandwidth: 10.00 Hz (-6 dB cutoff frequency: 45.00 Hz)\n",
      "- Filter length: 939 samples (3.668 s)\n",
      "\n"
     ]
    },
    {
     "name": "stderr",
     "output_type": "stream",
     "text": [
      "/tmp/ipykernel_3742159/1502586669.py:41: RuntimeWarning: The unit for channel(s) A1, A2, C3, C4, Cz, ECG_l, ECG_r, F3, F4, F7, F8, FP2, Fp1, Fz, HEOG, O1, O2, P3, P4, Pz, T5, T6, VEOG has changed from NA to V.\n",
      "  data_raw.set_channel_types(dict(zip(ch_names, ch_types)))\n",
      "[Parallel(n_jobs=1)]: Using backend SequentialBackend with 1 concurrent workers.\n",
      "[Parallel(n_jobs=1)]: Done   1 out of   1 | elapsed:    0.0s remaining:    0.0s\n",
      "[Parallel(n_jobs=1)]: Done   2 out of   2 | elapsed:    0.0s remaining:    0.0s\n",
      "[Parallel(n_jobs=1)]: Done   3 out of   3 | elapsed:    0.0s remaining:    0.0s\n",
      "[Parallel(n_jobs=1)]: Done   4 out of   4 | elapsed:    0.0s remaining:    0.0s\n"
     ]
    },
    {
     "name": "stdout",
     "output_type": "stream",
     "text": [
      "Used Annotations descriptions: ['S  4', 'S  5', 'S  6', 'S  7', 'S 40', 'S 50', 'S 60', 'S 63', 'S 69', 'S 70', 'S 73', 'S 79']\n"
     ]
    },
    {
     "name": "stderr",
     "output_type": "stream",
     "text": [
      "[Parallel(n_jobs=1)]: Done  19 out of  19 | elapsed:    0.2s finished\n",
      "/tmp/ipykernel_3742159/1502586669.py:33: DtypeWarning: Columns (27) have mixed types. Specify dtype option on import or set low_memory=False.\n",
      "  _data_raw = pd.read_csv(path, sep=';', index_col=False)\n"
     ]
    },
    {
     "name": "stdout",
     "output_type": "stream",
     "text": [
      "Creating RawArray with float64 data, n_channels=23, n_times=388994\n",
      "    Range : 0 ... 388993 =      0.000 ...  1519.504 secs\n",
      "Ready.\n",
      "Filtering raw data in 1 contiguous segment\n",
      "Setting up band-pass filter from 0.9 - 40 Hz\n",
      "\n",
      "FIR filter parameters\n",
      "---------------------\n",
      "Designing a one-pass, zero-phase, non-causal bandpass filter:\n",
      "- Windowed time-domain design (firwin) method\n",
      "- Hamming window with 0.0194 passband ripple and 53 dB stopband attenuation\n",
      "- Lower passband edge: 0.90\n",
      "- Lower transition bandwidth: 0.90 Hz (-6 dB cutoff frequency: 0.45 Hz)\n",
      "- Upper passband edge: 40.00 Hz\n",
      "- Upper transition bandwidth: 10.00 Hz (-6 dB cutoff frequency: 45.00 Hz)\n",
      "- Filter length: 939 samples (3.668 s)\n",
      "\n",
      "Used Annotations descriptions: ['S  4', 'S  5', 'S  6', 'S  7', 'S 40', 'S 50', 'S 60', 'S 63', 'S 69', 'S 70', 'S 73', 'S 79']\n"
     ]
    },
    {
     "name": "stderr",
     "output_type": "stream",
     "text": [
      "/tmp/ipykernel_3742159/1502586669.py:41: RuntimeWarning: The unit for channel(s) A1, A2, C3, C4, Cz, ECG_l, ECG_r, F3, F4, F7, F8, FP2, Fp1, Fz, HEOG, O1, O2, P3, P4, Pz, T5, T6, VEOG has changed from NA to V.\n",
      "  data_raw.set_channel_types(dict(zip(ch_names, ch_types)))\n",
      "[Parallel(n_jobs=1)]: Using backend SequentialBackend with 1 concurrent workers.\n",
      "[Parallel(n_jobs=1)]: Done   1 out of   1 | elapsed:    0.0s remaining:    0.0s\n",
      "[Parallel(n_jobs=1)]: Done   2 out of   2 | elapsed:    0.0s remaining:    0.0s\n",
      "[Parallel(n_jobs=1)]: Done   3 out of   3 | elapsed:    0.0s remaining:    0.0s\n",
      "[Parallel(n_jobs=1)]: Done   4 out of   4 | elapsed:    0.0s remaining:    0.0s\n",
      "[Parallel(n_jobs=1)]: Done  19 out of  19 | elapsed:    0.2s finished\n",
      "/tmp/ipykernel_3742159/1502586669.py:33: DtypeWarning: Columns (27) have mixed types. Specify dtype option on import or set low_memory=False.\n",
      "  _data_raw = pd.read_csv(path, sep=';', index_col=False)\n"
     ]
    },
    {
     "name": "stdout",
     "output_type": "stream",
     "text": [
      "Creating RawArray with float64 data, n_channels=23, n_times=388351\n",
      "    Range : 0 ... 388350 =      0.000 ...  1516.992 secs\n",
      "Ready.\n",
      "Filtering raw data in 1 contiguous segment\n",
      "Setting up band-pass filter from 0.9 - 40 Hz\n",
      "\n",
      "FIR filter parameters\n",
      "---------------------\n",
      "Designing a one-pass, zero-phase, non-causal bandpass filter:\n",
      "- Windowed time-domain design (firwin) method\n",
      "- Hamming window with 0.0194 passband ripple and 53 dB stopband attenuation\n",
      "- Lower passband edge: 0.90\n",
      "- Lower transition bandwidth: 0.90 Hz (-6 dB cutoff frequency: 0.45 Hz)\n",
      "- Upper passband edge: 40.00 Hz\n",
      "- Upper transition bandwidth: 10.00 Hz (-6 dB cutoff frequency: 45.00 Hz)\n",
      "- Filter length: 939 samples (3.668 s)\n",
      "\n",
      "Used Annotations descriptions: ['S  4', 'S  5', 'S  6', 'S  7', 'S 40', 'S 50', 'S 60', 'S 63', 'S 69', 'S 70', 'S 73', 'S 79']\n"
     ]
    },
    {
     "name": "stderr",
     "output_type": "stream",
     "text": [
      "/tmp/ipykernel_3742159/1502586669.py:41: RuntimeWarning: The unit for channel(s) A1, A2, C3, C4, Cz, ECG_l, ECG_r, F3, F4, F7, F8, FP2, Fp1, Fz, HEOG, O1, O2, P3, P4, Pz, T5, T6, VEOG has changed from NA to V.\n",
      "  data_raw.set_channel_types(dict(zip(ch_names, ch_types)))\n",
      "[Parallel(n_jobs=1)]: Using backend SequentialBackend with 1 concurrent workers.\n",
      "[Parallel(n_jobs=1)]: Done   1 out of   1 | elapsed:    0.0s remaining:    0.0s\n",
      "[Parallel(n_jobs=1)]: Done   2 out of   2 | elapsed:    0.0s remaining:    0.0s\n",
      "[Parallel(n_jobs=1)]: Done   3 out of   3 | elapsed:    0.0s remaining:    0.0s\n",
      "[Parallel(n_jobs=1)]: Done   4 out of   4 | elapsed:    0.0s remaining:    0.0s\n",
      "[Parallel(n_jobs=1)]: Done  19 out of  19 | elapsed:    0.2s finished\n",
      "/tmp/ipykernel_3742159/1502586669.py:33: DtypeWarning: Columns (27) have mixed types. Specify dtype option on import or set low_memory=False.\n",
      "  _data_raw = pd.read_csv(path, sep=';', index_col=False)\n"
     ]
    },
    {
     "name": "stdout",
     "output_type": "stream",
     "text": [
      "Creating RawArray with float64 data, n_channels=23, n_times=401991\n",
      "    Range : 0 ... 401990 =      0.000 ...  1570.273 secs\n",
      "Ready.\n",
      "Filtering raw data in 1 contiguous segment\n",
      "Setting up band-pass filter from 0.9 - 40 Hz\n",
      "\n",
      "FIR filter parameters\n",
      "---------------------\n",
      "Designing a one-pass, zero-phase, non-causal bandpass filter:\n",
      "- Windowed time-domain design (firwin) method\n",
      "- Hamming window with 0.0194 passband ripple and 53 dB stopband attenuation\n",
      "- Lower passband edge: 0.90\n",
      "- Lower transition bandwidth: 0.90 Hz (-6 dB cutoff frequency: 0.45 Hz)\n",
      "- Upper passband edge: 40.00 Hz\n",
      "- Upper transition bandwidth: 10.00 Hz (-6 dB cutoff frequency: 45.00 Hz)\n",
      "- Filter length: 939 samples (3.668 s)\n",
      "\n"
     ]
    },
    {
     "name": "stderr",
     "output_type": "stream",
     "text": [
      "/tmp/ipykernel_3742159/1502586669.py:41: RuntimeWarning: The unit for channel(s) A1, A2, C3, C4, Cz, ECG_l, ECG_r, F3, F4, F7, F8, FP2, Fp1, Fz, HEOG, O1, O2, P3, P4, Pz, T5, T6, VEOG has changed from NA to V.\n",
      "  data_raw.set_channel_types(dict(zip(ch_names, ch_types)))\n",
      "[Parallel(n_jobs=1)]: Using backend SequentialBackend with 1 concurrent workers.\n",
      "[Parallel(n_jobs=1)]: Done   1 out of   1 | elapsed:    0.0s remaining:    0.0s\n",
      "[Parallel(n_jobs=1)]: Done   2 out of   2 | elapsed:    0.0s remaining:    0.0s\n",
      "[Parallel(n_jobs=1)]: Done   3 out of   3 | elapsed:    0.0s remaining:    0.0s\n",
      "[Parallel(n_jobs=1)]: Done   4 out of   4 | elapsed:    0.0s remaining:    0.0s\n",
      "[Parallel(n_jobs=1)]: Done  19 out of  19 | elapsed:    0.2s finished\n"
     ]
    },
    {
     "name": "stdout",
     "output_type": "stream",
     "text": [
      "Used Annotations descriptions: ['S  4', 'S  5', 'S  6', 'S  7', 'S 40', 'S 50', 'S 60', 'S 63', 'S 69', 'S 70', 'S 73', 'S 79']\n"
     ]
    },
    {
     "name": "stderr",
     "output_type": "stream",
     "text": [
      "/tmp/ipykernel_3742159/1502586669.py:33: DtypeWarning: Columns (27) have mixed types. Specify dtype option on import or set low_memory=False.\n",
      "  _data_raw = pd.read_csv(path, sep=';', index_col=False)\n"
     ]
    },
    {
     "name": "stdout",
     "output_type": "stream",
     "text": [
      "Creating RawArray with float64 data, n_channels=23, n_times=388437\n",
      "    Range : 0 ... 388436 =      0.000 ...  1517.328 secs\n",
      "Ready.\n",
      "Filtering raw data in 1 contiguous segment\n",
      "Setting up band-pass filter from 0.9 - 40 Hz\n",
      "\n",
      "FIR filter parameters\n",
      "---------------------\n",
      "Designing a one-pass, zero-phase, non-causal bandpass filter:\n",
      "- Windowed time-domain design (firwin) method\n",
      "- Hamming window with 0.0194 passband ripple and 53 dB stopband attenuation\n",
      "- Lower passband edge: 0.90\n",
      "- Lower transition bandwidth: 0.90 Hz (-6 dB cutoff frequency: 0.45 Hz)\n",
      "- Upper passband edge: 40.00 Hz\n",
      "- Upper transition bandwidth: 10.00 Hz (-6 dB cutoff frequency: 45.00 Hz)\n",
      "- Filter length: 939 samples (3.668 s)\n",
      "\n",
      "Used Annotations descriptions: ['S  4', 'S  5', 'S  6', 'S  7', 'S 40', 'S 50', 'S 60', 'S 63', 'S 69', 'S 70', 'S 73', 'S 79']\n"
     ]
    },
    {
     "name": "stderr",
     "output_type": "stream",
     "text": [
      "/tmp/ipykernel_3742159/1502586669.py:41: RuntimeWarning: The unit for channel(s) A1, A2, C3, C4, Cz, ECG_l, ECG_r, F3, F4, F7, F8, FP2, Fp1, Fz, HEOG, O1, O2, P3, P4, Pz, T5, T6, VEOG has changed from NA to V.\n",
      "  data_raw.set_channel_types(dict(zip(ch_names, ch_types)))\n",
      "[Parallel(n_jobs=1)]: Using backend SequentialBackend with 1 concurrent workers.\n",
      "[Parallel(n_jobs=1)]: Done   1 out of   1 | elapsed:    0.0s remaining:    0.0s\n",
      "[Parallel(n_jobs=1)]: Done   2 out of   2 | elapsed:    0.0s remaining:    0.0s\n",
      "[Parallel(n_jobs=1)]: Done   3 out of   3 | elapsed:    0.0s remaining:    0.0s\n",
      "[Parallel(n_jobs=1)]: Done   4 out of   4 | elapsed:    0.0s remaining:    0.0s\n",
      "[Parallel(n_jobs=1)]: Done  19 out of  19 | elapsed:    0.2s finished\n",
      "/tmp/ipykernel_3742159/1502586669.py:33: DtypeWarning: Columns (27) have mixed types. Specify dtype option on import or set low_memory=False.\n",
      "  _data_raw = pd.read_csv(path, sep=';', index_col=False)\n"
     ]
    },
    {
     "name": "stdout",
     "output_type": "stream",
     "text": [
      "Creating RawArray with float64 data, n_channels=23, n_times=391811\n",
      "    Range : 0 ... 391810 =      0.000 ...  1530.508 secs\n",
      "Ready.\n",
      "Filtering raw data in 1 contiguous segment\n",
      "Setting up band-pass filter from 0.9 - 40 Hz\n",
      "\n",
      "FIR filter parameters\n",
      "---------------------\n",
      "Designing a one-pass, zero-phase, non-causal bandpass filter:\n",
      "- Windowed time-domain design (firwin) method\n",
      "- Hamming window with 0.0194 passband ripple and 53 dB stopband attenuation\n",
      "- Lower passband edge: 0.90\n",
      "- Lower transition bandwidth: 0.90 Hz (-6 dB cutoff frequency: 0.45 Hz)\n",
      "- Upper passband edge: 40.00 Hz\n",
      "- Upper transition bandwidth: 10.00 Hz (-6 dB cutoff frequency: 45.00 Hz)\n",
      "- Filter length: 939 samples (3.668 s)\n",
      "\n",
      "Used Annotations descriptions: ['S  4', 'S  5', 'S  6', 'S  7', 'S 40', 'S 50', 'S 60', 'S 63', 'S 69', 'S 70', 'S 73', 'S 79']\n"
     ]
    },
    {
     "name": "stderr",
     "output_type": "stream",
     "text": [
      "/tmp/ipykernel_3742159/1502586669.py:41: RuntimeWarning: The unit for channel(s) A1, A2, C3, C4, Cz, ECG_l, ECG_r, F3, F4, F7, F8, FP2, Fp1, Fz, HEOG, O1, O2, P3, P4, Pz, T5, T6, VEOG has changed from NA to V.\n",
      "  data_raw.set_channel_types(dict(zip(ch_names, ch_types)))\n",
      "[Parallel(n_jobs=1)]: Using backend SequentialBackend with 1 concurrent workers.\n",
      "[Parallel(n_jobs=1)]: Done   1 out of   1 | elapsed:    0.0s remaining:    0.0s\n",
      "[Parallel(n_jobs=1)]: Done   2 out of   2 | elapsed:    0.0s remaining:    0.0s\n",
      "[Parallel(n_jobs=1)]: Done   3 out of   3 | elapsed:    0.0s remaining:    0.0s\n",
      "[Parallel(n_jobs=1)]: Done   4 out of   4 | elapsed:    0.0s remaining:    0.0s\n",
      "[Parallel(n_jobs=1)]: Done  19 out of  19 | elapsed:    0.2s finished\n",
      "/tmp/ipykernel_3742159/1502586669.py:33: DtypeWarning: Columns (27) have mixed types. Specify dtype option on import or set low_memory=False.\n",
      "  _data_raw = pd.read_csv(path, sep=';', index_col=False)\n"
     ]
    },
    {
     "name": "stdout",
     "output_type": "stream",
     "text": [
      "Creating RawArray with float64 data, n_channels=23, n_times=396592\n",
      "    Range : 0 ... 396591 =      0.000 ...  1549.184 secs\n",
      "Ready.\n",
      "Filtering raw data in 1 contiguous segment\n",
      "Setting up band-pass filter from 0.9 - 40 Hz\n",
      "\n",
      "FIR filter parameters\n",
      "---------------------\n",
      "Designing a one-pass, zero-phase, non-causal bandpass filter:\n",
      "- Windowed time-domain design (firwin) method\n",
      "- Hamming window with 0.0194 passband ripple and 53 dB stopband attenuation\n",
      "- Lower passband edge: 0.90\n",
      "- Lower transition bandwidth: 0.90 Hz (-6 dB cutoff frequency: 0.45 Hz)\n",
      "- Upper passband edge: 40.00 Hz\n",
      "- Upper transition bandwidth: 10.00 Hz (-6 dB cutoff frequency: 45.00 Hz)\n",
      "- Filter length: 939 samples (3.668 s)\n",
      "\n",
      "Used Annotations descriptions: ['S  4', 'S  5', 'S  6', 'S  7', 'S 40', 'S 50', 'S 60', 'S 63', 'S 69', 'S 70', 'S 73', 'S 79']\n"
     ]
    },
    {
     "name": "stderr",
     "output_type": "stream",
     "text": [
      "/tmp/ipykernel_3742159/1502586669.py:41: RuntimeWarning: The unit for channel(s) A1, A2, C3, C4, Cz, ECG_l, ECG_r, F3, F4, F7, F8, FP2, Fp1, Fz, HEOG, O1, O2, P3, P4, Pz, T5, T6, VEOG has changed from NA to V.\n",
      "  data_raw.set_channel_types(dict(zip(ch_names, ch_types)))\n",
      "[Parallel(n_jobs=1)]: Using backend SequentialBackend with 1 concurrent workers.\n",
      "[Parallel(n_jobs=1)]: Done   1 out of   1 | elapsed:    0.0s remaining:    0.0s\n",
      "[Parallel(n_jobs=1)]: Done   2 out of   2 | elapsed:    0.0s remaining:    0.0s\n",
      "[Parallel(n_jobs=1)]: Done   3 out of   3 | elapsed:    0.0s remaining:    0.0s\n",
      "[Parallel(n_jobs=1)]: Done   4 out of   4 | elapsed:    0.0s remaining:    0.0s\n",
      "[Parallel(n_jobs=1)]: Done  19 out of  19 | elapsed:    0.2s finished\n",
      "/tmp/ipykernel_3742159/1502586669.py:33: DtypeWarning: Columns (27) have mixed types. Specify dtype option on import or set low_memory=False.\n",
      "  _data_raw = pd.read_csv(path, sep=';', index_col=False)\n"
     ]
    },
    {
     "name": "stdout",
     "output_type": "stream",
     "text": [
      "Creating RawArray with float64 data, n_channels=23, n_times=381446\n",
      "    Range : 0 ... 381445 =      0.000 ...  1490.020 secs\n",
      "Ready.\n",
      "Filtering raw data in 1 contiguous segment\n",
      "Setting up band-pass filter from 0.9 - 40 Hz\n",
      "\n",
      "FIR filter parameters\n",
      "---------------------\n",
      "Designing a one-pass, zero-phase, non-causal bandpass filter:\n",
      "- Windowed time-domain design (firwin) method\n",
      "- Hamming window with 0.0194 passband ripple and 53 dB stopband attenuation\n",
      "- Lower passband edge: 0.90\n",
      "- Lower transition bandwidth: 0.90 Hz (-6 dB cutoff frequency: 0.45 Hz)\n",
      "- Upper passband edge: 40.00 Hz\n",
      "- Upper transition bandwidth: 10.00 Hz (-6 dB cutoff frequency: 45.00 Hz)\n",
      "- Filter length: 939 samples (3.668 s)\n",
      "\n",
      "Used Annotations descriptions: ['S  4', 'S  5', 'S  6', 'S  7', 'S 40', 'S 50', 'S 60', 'S 63', 'S 69', 'S 70', 'S 73', 'S 79']\n"
     ]
    },
    {
     "name": "stderr",
     "output_type": "stream",
     "text": [
      "/tmp/ipykernel_3742159/1502586669.py:41: RuntimeWarning: The unit for channel(s) A1, A2, C3, C4, Cz, ECG_l, ECG_r, F3, F4, F7, F8, FP2, Fp1, Fz, HEOG, O1, O2, P3, P4, Pz, T5, T6, VEOG has changed from NA to V.\n",
      "  data_raw.set_channel_types(dict(zip(ch_names, ch_types)))\n",
      "[Parallel(n_jobs=1)]: Using backend SequentialBackend with 1 concurrent workers.\n",
      "[Parallel(n_jobs=1)]: Done   1 out of   1 | elapsed:    0.0s remaining:    0.0s\n",
      "[Parallel(n_jobs=1)]: Done   2 out of   2 | elapsed:    0.0s remaining:    0.0s\n",
      "[Parallel(n_jobs=1)]: Done   3 out of   3 | elapsed:    0.0s remaining:    0.0s\n",
      "[Parallel(n_jobs=1)]: Done   4 out of   4 | elapsed:    0.0s remaining:    0.0s\n",
      "[Parallel(n_jobs=1)]: Done  19 out of  19 | elapsed:    0.2s finished\n",
      "/tmp/ipykernel_3742159/1502586669.py:33: DtypeWarning: Columns (27) have mixed types. Specify dtype option on import or set low_memory=False.\n",
      "  _data_raw = pd.read_csv(path, sep=';', index_col=False)\n"
     ]
    },
    {
     "name": "stdout",
     "output_type": "stream",
     "text": [
      "Creating RawArray with float64 data, n_channels=23, n_times=389300\n",
      "    Range : 0 ... 389299 =      0.000 ...  1520.699 secs\n",
      "Ready.\n",
      "Filtering raw data in 1 contiguous segment\n",
      "Setting up band-pass filter from 0.9 - 40 Hz\n",
      "\n",
      "FIR filter parameters\n",
      "---------------------\n",
      "Designing a one-pass, zero-phase, non-causal bandpass filter:\n",
      "- Windowed time-domain design (firwin) method\n",
      "- Hamming window with 0.0194 passband ripple and 53 dB stopband attenuation\n",
      "- Lower passband edge: 0.90\n",
      "- Lower transition bandwidth: 0.90 Hz (-6 dB cutoff frequency: 0.45 Hz)\n",
      "- Upper passband edge: 40.00 Hz\n",
      "- Upper transition bandwidth: 10.00 Hz (-6 dB cutoff frequency: 45.00 Hz)\n",
      "- Filter length: 939 samples (3.668 s)\n",
      "\n",
      "Used Annotations descriptions: ['S  4', 'S  5', 'S  6', 'S  7', 'S 40', 'S 50', 'S 60', 'S 63', 'S 69', 'S 70', 'S 73', 'S 79']\n"
     ]
    },
    {
     "name": "stderr",
     "output_type": "stream",
     "text": [
      "/tmp/ipykernel_3742159/1502586669.py:41: RuntimeWarning: The unit for channel(s) A1, A2, C3, C4, Cz, ECG_l, ECG_r, F3, F4, F7, F8, FP2, Fp1, Fz, HEOG, O1, O2, P3, P4, Pz, T5, T6, VEOG has changed from NA to V.\n",
      "  data_raw.set_channel_types(dict(zip(ch_names, ch_types)))\n",
      "[Parallel(n_jobs=1)]: Using backend SequentialBackend with 1 concurrent workers.\n",
      "[Parallel(n_jobs=1)]: Done   1 out of   1 | elapsed:    0.0s remaining:    0.0s\n",
      "[Parallel(n_jobs=1)]: Done   2 out of   2 | elapsed:    0.0s remaining:    0.0s\n",
      "[Parallel(n_jobs=1)]: Done   3 out of   3 | elapsed:    0.0s remaining:    0.0s\n",
      "[Parallel(n_jobs=1)]: Done   4 out of   4 | elapsed:    0.0s remaining:    0.0s\n",
      "[Parallel(n_jobs=1)]: Done  19 out of  19 | elapsed:    0.2s finished\n",
      "/tmp/ipykernel_3742159/1502586669.py:33: DtypeWarning: Columns (27) have mixed types. Specify dtype option on import or set low_memory=False.\n",
      "  _data_raw = pd.read_csv(path, sep=';', index_col=False)\n"
     ]
    },
    {
     "name": "stdout",
     "output_type": "stream",
     "text": [
      "Creating RawArray with float64 data, n_channels=23, n_times=382414\n",
      "    Range : 0 ... 382413 =      0.000 ...  1493.801 secs\n",
      "Ready.\n",
      "Filtering raw data in 1 contiguous segment\n",
      "Setting up band-pass filter from 0.9 - 40 Hz\n",
      "\n",
      "FIR filter parameters\n",
      "---------------------\n",
      "Designing a one-pass, zero-phase, non-causal bandpass filter:\n",
      "- Windowed time-domain design (firwin) method\n",
      "- Hamming window with 0.0194 passband ripple and 53 dB stopband attenuation\n",
      "- Lower passband edge: 0.90\n",
      "- Lower transition bandwidth: 0.90 Hz (-6 dB cutoff frequency: 0.45 Hz)\n",
      "- Upper passband edge: 40.00 Hz\n",
      "- Upper transition bandwidth: 10.00 Hz (-6 dB cutoff frequency: 45.00 Hz)\n",
      "- Filter length: 939 samples (3.668 s)\n",
      "\n",
      "Used Annotations descriptions: ['S  4', 'S  5', 'S  6', 'S  7', 'S 40', 'S 50', 'S 60', 'S 63', 'S 69', 'S 70', 'S 73', 'S 79']\n"
     ]
    },
    {
     "name": "stderr",
     "output_type": "stream",
     "text": [
      "/tmp/ipykernel_3742159/1502586669.py:41: RuntimeWarning: The unit for channel(s) A1, A2, C3, C4, Cz, ECG_l, ECG_r, F3, F4, F7, F8, FP2, Fp1, Fz, HEOG, O1, O2, P3, P4, Pz, T5, T6, VEOG has changed from NA to V.\n",
      "  data_raw.set_channel_types(dict(zip(ch_names, ch_types)))\n",
      "[Parallel(n_jobs=1)]: Using backend SequentialBackend with 1 concurrent workers.\n",
      "[Parallel(n_jobs=1)]: Done   1 out of   1 | elapsed:    0.0s remaining:    0.0s\n",
      "[Parallel(n_jobs=1)]: Done   2 out of   2 | elapsed:    0.0s remaining:    0.0s\n",
      "[Parallel(n_jobs=1)]: Done   3 out of   3 | elapsed:    0.0s remaining:    0.0s\n",
      "[Parallel(n_jobs=1)]: Done   4 out of   4 | elapsed:    0.0s remaining:    0.0s\n",
      "[Parallel(n_jobs=1)]: Done  19 out of  19 | elapsed:    0.2s finished\n",
      "/tmp/ipykernel_3742159/1502586669.py:33: DtypeWarning: Columns (27) have mixed types. Specify dtype option on import or set low_memory=False.\n",
      "  _data_raw = pd.read_csv(path, sep=';', index_col=False)\n"
     ]
    },
    {
     "name": "stdout",
     "output_type": "stream",
     "text": [
      "Creating RawArray with float64 data, n_channels=23, n_times=402210\n",
      "    Range : 0 ... 402209 =      0.000 ...  1571.129 secs\n",
      "Ready.\n",
      "Filtering raw data in 1 contiguous segment\n",
      "Setting up band-pass filter from 0.9 - 40 Hz\n",
      "\n",
      "FIR filter parameters\n",
      "---------------------\n",
      "Designing a one-pass, zero-phase, non-causal bandpass filter:\n",
      "- Windowed time-domain design (firwin) method\n",
      "- Hamming window with 0.0194 passband ripple and 53 dB stopband attenuation\n",
      "- Lower passband edge: 0.90\n",
      "- Lower transition bandwidth: 0.90 Hz (-6 dB cutoff frequency: 0.45 Hz)\n",
      "- Upper passband edge: 40.00 Hz\n",
      "- Upper transition bandwidth: 10.00 Hz (-6 dB cutoff frequency: 45.00 Hz)\n",
      "- Filter length: 939 samples (3.668 s)\n",
      "\n"
     ]
    },
    {
     "name": "stderr",
     "output_type": "stream",
     "text": [
      "/tmp/ipykernel_3742159/1502586669.py:41: RuntimeWarning: The unit for channel(s) A1, A2, C3, C4, Cz, ECG_l, ECG_r, F3, F4, F7, F8, FP2, Fp1, Fz, HEOG, O1, O2, P3, P4, Pz, T5, T6, VEOG has changed from NA to V.\n",
      "  data_raw.set_channel_types(dict(zip(ch_names, ch_types)))\n",
      "[Parallel(n_jobs=1)]: Using backend SequentialBackend with 1 concurrent workers.\n",
      "[Parallel(n_jobs=1)]: Done   1 out of   1 | elapsed:    0.0s remaining:    0.0s\n",
      "[Parallel(n_jobs=1)]: Done   2 out of   2 | elapsed:    0.0s remaining:    0.0s\n",
      "[Parallel(n_jobs=1)]: Done   3 out of   3 | elapsed:    0.0s remaining:    0.0s\n",
      "[Parallel(n_jobs=1)]: Done   4 out of   4 | elapsed:    0.0s remaining:    0.0s\n",
      "[Parallel(n_jobs=1)]: Done  19 out of  19 | elapsed:    0.2s finished\n"
     ]
    },
    {
     "name": "stdout",
     "output_type": "stream",
     "text": [
      "Used Annotations descriptions: ['S  4', 'S  5', 'S  6', 'S  7', 'S 40', 'S 50', 'S 60', 'S 63', 'S 69', 'S 70', 'S 73', 'S 79']\n"
     ]
    }
   ],
   "source": [
    "for count, path in enumerate(paths):\n",
    "    count = count+1\n",
    "    ch_names = ['Fp1', 'FP2', 'F7', 'F3', 'Fz', 'F4', 'F8', 'VEOG', 'C3', 'Cz', 'C4', \\\n",
    "                'HEOG', 'T5', 'P3', 'Pz', 'P4', 'T6', 'O1', 'O2', 'A1', 'A2', \\\n",
    "                'ECG_l', 'ECG_r']\n",
    "\n",
    "    ch_types = ['eeg', 'eeg', 'eeg', 'eeg', 'eeg', 'eeg', 'eeg', 'eog', 'eeg', 'eeg', 'eeg', \\\n",
    "               'eog', 'eeg', 'eeg', 'eeg', 'eeg', 'eeg', 'eeg', 'eeg', 'eeg', 'eeg', 'ecg', 'ecg', ]\n",
    "\n",
    "    evt = pd.read_csv('/home/data/HSE_VALIDATION/1/processed/{}/events_maths_{}.csv'.format(count, count))\n",
    "    annot = mne.annotations_from_events(evt.values[:, :3], sfreq=256)\n",
    "    annot.to_data_frame()['description'][0]\n",
    "\n",
    "    event_id = {\n",
    "        '4':'S  4',\n",
    "        '44':'S 40',\n",
    "        '1':'S  5',\n",
    "        '10':'S 50',\n",
    "        '3':'S  7',\n",
    "        '30':'S 70',\n",
    "        '2':'S  6',\n",
    "        '20':'S 60',\n",
    "        '22':'S 63',\n",
    "        '33':'S 73',\n",
    "        '29':'S 69',\n",
    "        '39':'S 79'\n",
    "    }\n",
    "\n",
    "    annot.rename(event_id)\n",
    "\n",
    "\n",
    "    # Load data\n",
    "    _data_raw = pd.read_csv(path, sep=';', index_col=False)\n",
    "    _data_raw = _data_raw.drop(columns=['REF'])\n",
    "    sfreq = 256 \n",
    "    info = mne.create_info(ch_names = ch_names, sfreq = sfreq)\n",
    "    data_raw = mne.io.RawArray(_data_raw.values[:, :-4].T, info)\n",
    "    #data_raw = mne.io.read_raw(os.path.join(init_dir_path, edf_fname), preload=True)\n",
    "    samp_rate = data_raw.info['sfreq']\n",
    "    data_raw.set_annotations(annot)\n",
    "    data_raw.set_channel_types(dict(zip(ch_names, ch_types)))\n",
    "    data_test = data_raw\n",
    "\n",
    "    user = count + 9\n",
    "\n",
    "    data_test = data_test.filter(0.9, 40)\n",
    "    annotations = mne.events_from_annotations(data_test)\n",
    "    remap = {v: k for k, v in annotations[1].items()}\n",
    "    annotations_remaped = []\n",
    "    for i in annotations[0]:\n",
    "        annotations_remaped.append((i[0], i[1], remap.get(i[2])))\n",
    "\n",
    "    annotations_remaped = [i for i in annotations_remaped if i[2] in ['S  7', 'S 70', 'S  6', 'S 60', 'S  5', 'S 50']]\n",
    "    data_eeg = data_test.to_data_frame()[channels]\n",
    "    ch_names = data_eeg.columns\n",
    "    # for ch_name in ch_names:\n",
    "    #     if ch_name in channels_to_interpolate[user]:\n",
    "    #         print(ch_name)\n",
    "    #         ch_for_interpol = [i for i in channels_groups[ch_name] if i not in channels_to_interpolate[user]]\n",
    "\n",
    "    #         if len(ch_for_interpol) == 0:\n",
    "    #             print('W')\n",
    "    #             ch_for_interpol = [i for i in channels_groups if i not in channels_to_interpolate[user]]\n",
    "\n",
    "    #         chs_vals = data_eeg[ch_for_interpol].values.mean(-1)\n",
    "\n",
    "    #         data_eeg[ch_name] = chs_vals\n",
    "\n",
    "    data_sliced = []\n",
    "    for i, _ in enumerate(annotations_remaped):\n",
    "        if annotations_remaped[i][2] == 'S 50':\n",
    "            start = annotations_remaped[i-1][0]\n",
    "            end = annotations_remaped[i][0]\n",
    "            label = 0\n",
    "            dur = (end - start) / 1000\n",
    "            data_sliced.append((start, end, label, dur))\n",
    "\n",
    "        if annotations_remaped[i][2] == 'S 60':\n",
    "            start = annotations_remaped[i-1][0]\n",
    "            end = annotations_remaped[i][0]\n",
    "            label = 1\n",
    "            dur = (end - start) / 1000\n",
    "            data_sliced.append((start, end, label, dur))\n",
    "\n",
    "        if annotations_remaped[i][2] == 'S 70':\n",
    "            start = annotations_remaped[i-1][0]\n",
    "            end = annotations_remaped[i][0]\n",
    "            label = 2\n",
    "            dur = (end - start) / 1000\n",
    "            data_sliced.append((start, end, label, dur))\n",
    "\n",
    "        # if annotations_remaped[i][2] == 'S 44':\n",
    "        #     start = annotations_remaped[i-1][0]\n",
    "        #     end = annotations_remaped[i][0]\n",
    "        #     label = -1\n",
    "        #     dur = (end - start) / 1000\n",
    "        #     data_sliced.append((start, end, label, dur))\n",
    "\n",
    "    data_sliced_window = []\n",
    "    for s in data_sliced:\n",
    "        if s[2] == 0:\n",
    "            counter = 0\n",
    "            for i in range(1500, int(s[3] * 1000), 1500):\n",
    "                data_sliced_window.append((s[0] + i - 1500, s[0] + i, s[2], 1.5))\n",
    "                counter += 1\n",
    "                # if counter > 50:\n",
    "                #     break\n",
    "\n",
    "        else:\n",
    "            counter = 0\n",
    "            for i in range(1500, int(s[3] * 1000), 1500):\n",
    "                data_sliced_window.append((s[0] + i - 1500, s[0] + i, s[2], 1.5))\n",
    "                counter += 1\n",
    "                # for i in range(3000, int(s[3] * 1000), 1000):\n",
    "    #                 i = 1500 # fix to only one fragment from each sample\n",
    "    #                 data_sliced_window.append((s[0] + i - 1500, s[0] + i, s[2], 1.5))\n",
    "\n",
    "\n",
    "    for j, (start, end, label, dur) in enumerate(data_sliced_window):\n",
    "        signal_data_inner.append({\n",
    "            'data': data_eeg.iloc[start:end].values,\n",
    "            'label': label,\n",
    "            'data_names': data_eeg.columns,\n",
    "            'user': user,\n",
    "            'seq_id': j\n",
    "        })"
   ]
  },
  {
   "cell_type": "code",
   "execution_count": 24,
   "id": "9030093c-22ae-4099-963b-2e0b103459e9",
   "metadata": {},
   "outputs": [
    {
     "data": {
      "text/plain": [
       "{'data': array([[ 1.12646887e+07,  2.02655342e+07, -4.29387460e+07, ...,\n",
       "          2.98799132e+06,  3.67979723e+05, -7.68434059e+05],\n",
       "        [ 8.22057176e+06,  1.79300361e+07, -4.52540289e+07, ...,\n",
       "          1.47723531e+06,  2.19553885e+06,  1.33342516e+06],\n",
       "        [ 6.06715095e+06,  1.92788749e+07, -4.84247353e+07, ...,\n",
       "          8.59716611e+05,  4.13128396e+06,  2.82721812e+06],\n",
       "        ...,\n",
       "        [-9.45479507e+07, -9.96031074e+07, -5.08141147e+07, ...,\n",
       "         -1.69322541e+07, -1.04194646e+07, -9.80647846e+06],\n",
       "        [-9.87040152e+07, -9.84688990e+07, -4.76863256e+07, ...,\n",
       "         -1.33277044e+07, -6.76279282e+06, -5.97610820e+06],\n",
       "        [-1.01444081e+08, -9.71823775e+07, -4.45014545e+07, ...,\n",
       "         -1.00536404e+07, -2.44043061e+06, -1.27188261e+06]]),\n",
       " 'label': 2,\n",
       " 'data_names': Index(['Fp1', 'FP2', 'F7', 'F3', 'Fz', 'F4', 'F8', 'C3', 'Cz', 'C4', 'P3',\n",
       "        'Pz', 'P4', 'O1', 'O2'],\n",
       "       dtype='object'),\n",
       " 'user': 10,\n",
       " 'seq_id': 243}"
      ]
     },
     "execution_count": 24,
     "metadata": {},
     "output_type": "execute_result"
    }
   ],
   "source": [
    "signal_data_inner[243]"
   ]
  },
  {
   "cell_type": "code",
   "execution_count": null,
   "id": "5f910d45-4fd1-4171-9222-a4238cc11528",
   "metadata": {},
   "outputs": [],
   "source": []
  },
  {
   "cell_type": "code",
   "execution_count": null,
   "id": "38d07140-6b58-4fa2-a8bd-501860720164",
   "metadata": {},
   "outputs": [],
   "source": []
  },
  {
   "cell_type": "code",
   "execution_count": null,
   "id": "2a7b3b64-e8a5-47b3-b2ec-a4363647bf77",
   "metadata": {},
   "outputs": [],
   "source": []
  },
  {
   "cell_type": "code",
   "execution_count": 26,
   "id": "6f340390-1fb1-4d63-975a-6c7de262489b",
   "metadata": {},
   "outputs": [],
   "source": [
    "for sample in signal_data_inner:\n",
    "    user_id = sample['user']\n",
    "    path_file = '/home/data/HSE_math_exp_2/processing_internal.v2/sliced.limited_ch/x_{}_{}.npy'.format(user_id, sample['seq_id'])\n",
    "    \n",
    "    np.save(path_file, sample['data'])"
   ]
  },
  {
   "cell_type": "code",
   "execution_count": 27,
   "id": "dec498c3-ccda-4222-a157-b8d2d20a3ecf",
   "metadata": {},
   "outputs": [
    {
     "data": {
      "text/plain": [
       "15"
      ]
     },
     "execution_count": 27,
     "metadata": {},
     "output_type": "execute_result"
    }
   ],
   "source": [
    "len(signal_data_inner[0]['data_names'])"
   ]
  },
  {
   "cell_type": "code",
   "execution_count": 28,
   "id": "5954e26b-88d2-4abe-8cc7-6af1e005f415",
   "metadata": {},
   "outputs": [],
   "source": [
    "ys = {}\n",
    "\n",
    "for sample in signal_data_inner:\n",
    "    if ys.get(sample['user']) is None:\n",
    "        ys[sample['user']] = []\n",
    "        \n",
    "    ys[sample['user']].append(sample['label'])"
   ]
  },
  {
   "cell_type": "code",
   "execution_count": 29,
   "id": "6b2b86a1-157d-40a4-8bb8-ca12004b8772",
   "metadata": {},
   "outputs": [],
   "source": [
    "for user_id in ys:\n",
    "    path = '/home/data/HSE_math_exp_2/processing_internal.v2/sliced.limited_ch/{}_y.npy'.format(user_id)\n",
    "    np.save(path, ys[user_id])\n"
   ]
  },
  {
   "cell_type": "code",
   "execution_count": null,
   "id": "d7009ee6-1733-47ce-9f50-161e89258105",
   "metadata": {},
   "outputs": [],
   "source": []
  },
  {
   "cell_type": "code",
   "execution_count": 84,
   "id": "a8c5e228-b44c-449f-8007-13f611c6fe9b",
   "metadata": {},
   "outputs": [],
   "source": [
    "tmp = os.listdir('/home/data/HSE_math_exp_2/processing_internal.v2/sliced.limited_ch/')"
   ]
  },
  {
   "cell_type": "code",
   "execution_count": 89,
   "id": "1e243b42-34ee-4b98-835e-24b269af1053",
   "metadata": {
    "scrolled": true,
    "tags": []
   },
   "outputs": [
    {
     "data": {
      "text/plain": [
       "['x_210_272.npy',\n",
       " 'x_210_97.npy',\n",
       " 'x_210_74.npy',\n",
       " 'x_210_201.npy',\n",
       " 'x_210_343.npy',\n",
       " 'x_210_23.npy',\n",
       " 'x_210_45.npy',\n",
       " 'x_210_260.npy',\n",
       " 'x_210_168.npy',\n",
       " 'x_210_216.npy',\n",
       " 'x_210_351.npy',\n",
       " 'x_210_84.npy',\n",
       " 'x_210_215.npy',\n",
       " 'x_210_181.npy',\n",
       " 'x_210_81.npy',\n",
       " 'x_210_190.npy',\n",
       " 'x_210_58.npy',\n",
       " 'x_210_34.npy',\n",
       " 'x_210_61.npy',\n",
       " 'x_210_121.npy',\n",
       " 'x_210_198.npy',\n",
       " 'x_210_278.npy',\n",
       " 'x_210_1.npy',\n",
       " 'x_210_264.npy',\n",
       " 'x_210_239.npy',\n",
       " 'x_210_219.npy',\n",
       " 'x_210_318.npy',\n",
       " 'x_210_83.npy',\n",
       " 'x_210_169.npy',\n",
       " 'x_210_141.npy',\n",
       " 'x_210_325.npy',\n",
       " 'x_210_54.npy',\n",
       " 'x_210_104.npy',\n",
       " 'x_210_120.npy',\n",
       " 'x_210_269.npy',\n",
       " 'x_210_151.npy',\n",
       " 'x_210_240.npy',\n",
       " 'x_210_26.npy',\n",
       " 'x_210_248.npy',\n",
       " 'x_210_86.npy',\n",
       " 'x_210_59.npy',\n",
       " 'x_210_134.npy',\n",
       " 'x_210_35.npy',\n",
       " 'x_210_130.npy',\n",
       " 'x_210_46.npy',\n",
       " 'x_210_3.npy',\n",
       " 'x_210_251.npy',\n",
       " 'x_210_51.npy',\n",
       " 'x_210_301.npy',\n",
       " 'x_210_308.npy',\n",
       " 'x_210_156.npy',\n",
       " 'x_210_312.npy',\n",
       " 'x_210_71.npy',\n",
       " 'x_210_78.npy',\n",
       " 'x_210_317.npy',\n",
       " 'x_210_170.npy',\n",
       " 'x_210_92.npy',\n",
       " 'x_210_210.npy',\n",
       " 'x_210_338.npy',\n",
       " 'x_210_14.npy',\n",
       " 'x_210_56.npy',\n",
       " 'x_210_205.npy',\n",
       " 'x_210_297.npy',\n",
       " 'x_210_147.npy',\n",
       " 'x_210_184.npy',\n",
       " 'x_210_5.npy',\n",
       " 'x_210_286.npy',\n",
       " 'x_210_309.npy',\n",
       " 'x_210_139.npy',\n",
       " 'x_210_77.npy',\n",
       " 'x_210_193.npy',\n",
       " 'x_210_311.npy',\n",
       " 'x_210_8.npy',\n",
       " 'x_210_53.npy',\n",
       " 'x_210_69.npy',\n",
       " 'x_210_350.npy',\n",
       " 'x_210_115.npy',\n",
       " 'x_210_70.npy',\n",
       " 'x_210_165.npy',\n",
       " 'x_210_307.npy',\n",
       " 'x_210_218.npy',\n",
       " 'x_210_111.npy',\n",
       " 'x_210_163.npy',\n",
       " 'x_210_281.npy',\n",
       " 'x_210_152.npy',\n",
       " 'x_210_113.npy',\n",
       " 'x_210_57.npy',\n",
       " 'x_210_263.npy',\n",
       " 'x_210_79.npy',\n",
       " 'x_210_243.npy',\n",
       " 'x_210_159.npy',\n",
       " 'x_210_283.npy',\n",
       " 'x_210_275.npy',\n",
       " 'x_210_47.npy',\n",
       " 'x_210_153.npy',\n",
       " 'x_210_131.npy',\n",
       " 'x_210_337.npy',\n",
       " 'x_210_262.npy',\n",
       " 'x_210_253.npy',\n",
       " 'x_210_207.npy',\n",
       " 'x_210_10.npy',\n",
       " 'x_210_39.npy',\n",
       " 'x_210_234.npy',\n",
       " 'x_210_226.npy',\n",
       " 'x_210_284.npy',\n",
       " 'x_210_324.npy',\n",
       " 'x_210_199.npy',\n",
       " 'x_210_247.npy',\n",
       " 'x_210_302.npy',\n",
       " 'x_210_145.npy',\n",
       " 'x_210_119.npy',\n",
       " 'x_210_232.npy',\n",
       " 'x_210_93.npy',\n",
       " 'x_210_279.npy',\n",
       " 'x_210_24.npy',\n",
       " 'x_210_48.npy',\n",
       " 'x_210_197.npy',\n",
       " 'x_210_326.npy',\n",
       " 'x_210_42.npy',\n",
       " 'x_210_155.npy',\n",
       " 'x_210_11.npy',\n",
       " 'x_210_266.npy',\n",
       " 'x_210_88.npy',\n",
       " 'x_210_101.npy',\n",
       " 'x_210_114.npy',\n",
       " 'x_210_68.npy',\n",
       " 'x_210_223.npy',\n",
       " 'x_210_161.npy',\n",
       " 'x_210_182.npy',\n",
       " 'x_210_258.npy',\n",
       " 'x_210_96.npy',\n",
       " 'x_210_183.npy',\n",
       " 'x_210_329.npy',\n",
       " 'x_210_118.npy',\n",
       " 'x_210_19.npy',\n",
       " 'x_210_245.npy',\n",
       " 'x_210_237.npy',\n",
       " 'x_210_228.npy',\n",
       " 'x_210_267.npy',\n",
       " 'x_210_270.npy',\n",
       " 'x_210_127.npy',\n",
       " 'x_210_166.npy',\n",
       " 'x_210_91.npy',\n",
       " 'x_210_126.npy',\n",
       " 'x_210_191.npy',\n",
       " 'x_210_250.npy',\n",
       " 'x_210_213.npy',\n",
       " 'x_210_0.npy',\n",
       " 'x_210_15.npy',\n",
       " 'x_210_85.npy',\n",
       " 'x_210_212.npy',\n",
       " 'x_210_209.npy',\n",
       " 'x_210_295.npy',\n",
       " 'x_210_230.npy',\n",
       " 'x_210_107.npy',\n",
       " 'x_210_13.npy',\n",
       " 'x_210_333.npy',\n",
       " 'x_210_316.npy',\n",
       " 'x_210_89.npy',\n",
       " 'x_210_148.npy',\n",
       " 'x_210_257.npy',\n",
       " 'x_210_196.npy',\n",
       " 'x_210_300.npy',\n",
       " 'x_210_98.npy',\n",
       " 'x_210_112.npy',\n",
       " 'x_210_76.npy',\n",
       " 'x_210_149.npy',\n",
       " 'x_210_186.npy',\n",
       " 'x_210_189.npy',\n",
       " 'x_210_321.npy',\n",
       " 'x_210_276.npy',\n",
       " 'x_210_43.npy',\n",
       " 'x_210_146.npy',\n",
       " 'x_210_180.npy',\n",
       " 'x_210_339.npy',\n",
       " 'x_210_287.npy',\n",
       " 'x_210_249.npy',\n",
       " 'x_210_342.npy',\n",
       " 'x_210_348.npy',\n",
       " 'x_210_30.npy',\n",
       " 'x_210_124.npy',\n",
       " 'x_210_236.npy',\n",
       " 'x_210_331.npy',\n",
       " 'x_210_217.npy',\n",
       " 'x_210_220.npy',\n",
       " 'x_210_62.npy',\n",
       " 'x_210_73.npy',\n",
       " 'x_210_242.npy',\n",
       " 'x_210_206.npy',\n",
       " 'x_210_344.npy',\n",
       " 'x_210_280.npy',\n",
       " 'x_210_135.npy',\n",
       " 'x_210_4.npy',\n",
       " 'x_210_25.npy',\n",
       " 'x_210_313.npy',\n",
       " 'x_210_157.npy',\n",
       " 'x_210_158.npy',\n",
       " 'x_210_109.npy',\n",
       " 'x_210_36.npy',\n",
       " 'x_210_195.npy',\n",
       " 'x_210_241.npy',\n",
       " 'x_210_154.npy',\n",
       " 'x_210_235.npy',\n",
       " 'x_210_233.npy',\n",
       " 'x_210_310.npy',\n",
       " 'x_210_72.npy',\n",
       " 'x_210_37.npy',\n",
       " 'x_210_27.npy',\n",
       " 'x_210_244.npy',\n",
       " 'x_210_327.npy',\n",
       " 'x_210_298.npy',\n",
       " 'x_210_171.npy',\n",
       " 'x_210_246.npy',\n",
       " 'x_210_256.npy',\n",
       " 'x_210_110.npy',\n",
       " 'x_210_164.npy',\n",
       " 'x_210_322.npy',\n",
       " 'x_210_314.npy',\n",
       " 'x_210_179.npy',\n",
       " 'x_210_274.npy',\n",
       " 'x_210_106.npy',\n",
       " 'x_210_176.npy',\n",
       " 'x_210_265.npy',\n",
       " 'x_210_192.npy',\n",
       " 'x_210_177.npy',\n",
       " 'x_210_347.npy',\n",
       " 'x_210_224.npy',\n",
       " 'x_210_7.npy',\n",
       " 'x_210_142.npy',\n",
       " 'x_210_340.npy',\n",
       " 'x_210_238.npy',\n",
       " 'x_210_49.npy',\n",
       " 'x_210_6.npy',\n",
       " 'x_210_33.npy',\n",
       " 'x_210_28.npy',\n",
       " 'x_210_138.npy',\n",
       " 'x_210_12.npy',\n",
       " 'x_210_80.npy',\n",
       " 'x_210_288.npy',\n",
       " 'x_210_305.npy',\n",
       " 'x_210_178.npy',\n",
       " 'x_210_293.npy',\n",
       " 'x_210_294.npy',\n",
       " 'x_210_296.npy',\n",
       " 'x_210_167.npy',\n",
       " 'x_210_17.npy',\n",
       " 'x_210_144.npy',\n",
       " 'x_210_211.npy',\n",
       " 'x_210_273.npy',\n",
       " 'x_210_9.npy',\n",
       " 'x_210_60.npy',\n",
       " 'x_210_87.npy',\n",
       " 'x_210_336.npy',\n",
       " 'x_210_203.npy',\n",
       " 'x_210_117.npy',\n",
       " 'x_210_116.npy',\n",
       " 'x_210_108.npy',\n",
       " 'x_210_129.npy',\n",
       " 'x_210_291.npy',\n",
       " 'x_210_187.npy',\n",
       " 'x_210_2.npy',\n",
       " 'x_210_174.npy',\n",
       " 'x_210_194.npy',\n",
       " 'x_210_328.npy',\n",
       " 'x_210_227.npy',\n",
       " 'x_210_289.npy',\n",
       " 'x_210_175.npy',\n",
       " 'x_210_50.npy',\n",
       " 'x_210_38.npy',\n",
       " 'x_210_254.npy',\n",
       " 'x_210_140.npy',\n",
       " 'x_210_31.npy',\n",
       " 'x_210_21.npy',\n",
       " 'x_210_271.npy',\n",
       " 'x_210_252.npy',\n",
       " 'x_210_319.npy',\n",
       " 'x_210_137.npy',\n",
       " 'x_210_349.npy',\n",
       " 'x_210_345.npy',\n",
       " 'x_210_277.npy',\n",
       " 'x_210_304.npy',\n",
       " 'x_210_64.npy',\n",
       " 'x_210_29.npy',\n",
       " 'x_210_188.npy',\n",
       " 'x_210_222.npy',\n",
       " 'x_210_221.npy',\n",
       " 'x_210_66.npy',\n",
       " 'x_210_285.npy',\n",
       " 'x_210_292.npy',\n",
       " 'x_210_63.npy',\n",
       " 'x_210_16.npy',\n",
       " 'x_210_143.npy',\n",
       " 'x_210_225.npy',\n",
       " 'x_210_255.npy',\n",
       " 'x_210_315.npy',\n",
       " 'x_210_133.npy',\n",
       " 'x_210_94.npy',\n",
       " 'x_210_102.npy',\n",
       " 'x_210_282.npy',\n",
       " 'x_210_128.npy',\n",
       " 'x_210_150.npy',\n",
       " 'x_210_32.npy',\n",
       " 'x_210_332.npy',\n",
       " 'x_210_162.npy',\n",
       " 'x_210_334.npy',\n",
       " 'x_210_136.npy',\n",
       " 'x_210_123.npy',\n",
       " 'x_210_330.npy',\n",
       " 'x_210_172.npy',\n",
       " 'x_210_214.npy',\n",
       " 'x_210_185.npy',\n",
       " 'x_210_100.npy',\n",
       " 'x_210_323.npy',\n",
       " 'x_210_229.npy',\n",
       " 'x_210_320.npy',\n",
       " 'x_210_67.npy',\n",
       " 'x_210_125.npy',\n",
       " 'x_210_202.npy',\n",
       " 'x_210_261.npy',\n",
       " 'x_210_204.npy',\n",
       " 'x_210_132.npy',\n",
       " 'x_210_122.npy',\n",
       " 'x_210_95.npy',\n",
       " 'x_210_341.npy',\n",
       " 'x_210_99.npy',\n",
       " 'x_210_160.npy',\n",
       " 'x_210_306.npy',\n",
       " 'x_210_346.npy',\n",
       " 'x_210_335.npy',\n",
       " 'x_210_173.npy',\n",
       " 'x_210_303.npy',\n",
       " 'x_210_40.npy',\n",
       " 'x_210_268.npy',\n",
       " 'x_210_20.npy',\n",
       " 'x_210_44.npy',\n",
       " 'x_210_105.npy',\n",
       " 'x_210_231.npy',\n",
       " 'x_210_22.npy',\n",
       " 'x_210_18.npy',\n",
       " 'x_210_200.npy',\n",
       " 'x_210_103.npy',\n",
       " 'x_210_259.npy',\n",
       " 'x_210_55.npy',\n",
       " 'x_210_90.npy',\n",
       " 'x_210_65.npy',\n",
       " 'x_210_290.npy',\n",
       " 'x_210_75.npy',\n",
       " 'x_210_208.npy',\n",
       " 'x_210_299.npy',\n",
       " 'x_210_82.npy',\n",
       " 'x_210_52.npy',\n",
       " 'x_210_41.npy']"
      ]
     },
     "execution_count": 89,
     "metadata": {},
     "output_type": "execute_result"
    }
   ],
   "source": [
    "[i for i in tmp if '_210_' in i]"
   ]
  }
 ],
 "metadata": {
  "kernelspec": {
   "display_name": "Python 3 (ipykernel)",
   "language": "python",
   "name": "python3"
  },
  "language_info": {
   "codemirror_mode": {
    "name": "ipython",
    "version": 3
   },
   "file_extension": ".py",
   "mimetype": "text/x-python",
   "name": "python",
   "nbconvert_exporter": "python",
   "pygments_lexer": "ipython3",
   "version": "3.8.10"
  }
 },
 "nbformat": 4,
 "nbformat_minor": 5
}
